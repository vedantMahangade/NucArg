{
 "cells": [
  {
   "cell_type": "code",
   "execution_count": 1,
   "id": "98940817-e21b-4e9a-ac5f-70203a8f6ba0",
   "metadata": {},
   "outputs": [],
   "source": [
    "import pandas as pd\n",
    "from Bio import SeqIO"
   ]
  },
  {
   "cell_type": "code",
   "execution_count": 2,
   "id": "35ca424b-a5ac-4469-aff5-d0382e543e16",
   "metadata": {},
   "outputs": [],
   "source": [
    "def fasta_to_dataframe(fasta_file):\n",
    "    records = []\n",
    "    for record in SeqIO.parse(fasta_file, \"fasta\"):\n",
    "        records.append({\"id\": record.id.split('|')[0]\n",
    "                        , \"db\": record.id.split('|')[2]\n",
    "                        , \"type\": record.id.split('|')[3]\n",
    "                        , \"sequence\": str(record.seq)})\n",
    "    return pd.DataFrame(records)"
   ]
  },
  {
   "cell_type": "code",
   "execution_count": 14,
   "id": "0605c09d-4eea-474e-aa51-c2dddd4798c8",
   "metadata": {},
   "outputs": [
    {
     "data": {
      "text/html": [
       "<div>\n",
       "<style scoped>\n",
       "    .dataframe tbody tr th:only-of-type {\n",
       "        vertical-align: middle;\n",
       "    }\n",
       "\n",
       "    .dataframe tbody tr th {\n",
       "        vertical-align: top;\n",
       "    }\n",
       "\n",
       "    .dataframe thead th {\n",
       "        text-align: right;\n",
       "    }\n",
       "</style>\n",
       "<table border=\"1\" class=\"dataframe\">\n",
       "  <thead>\n",
       "    <tr style=\"text-align: right;\">\n",
       "      <th></th>\n",
       "      <th>srno</th>\n",
       "      <th>id</th>\n",
       "      <th>db</th>\n",
       "      <th>type</th>\n",
       "      <th>sequence</th>\n",
       "      <th>dna_seq</th>\n",
       "    </tr>\n",
       "  </thead>\n",
       "  <tbody>\n",
       "    <tr>\n",
       "      <th>0</th>\n",
       "      <td>0</td>\n",
       "      <td>B9J113</td>\n",
       "      <td>UNIPROT</td>\n",
       "      <td>beta_lactam</td>\n",
       "      <td>MKHKNQATHKEFSQLEKKFDARLGLYAIDTGTNQTIAYRPNERFAF...</td>\n",
       "      <td>GTGAAACATAAAAATCAGGCGACGCATAAAGAGTTCTCTCAACTTG...</td>\n",
       "    </tr>\n",
       "    <tr>\n",
       "      <th>1</th>\n",
       "      <td>1</td>\n",
       "      <td>A0A147H3Q5</td>\n",
       "      <td>UNIPROT</td>\n",
       "      <td>bacitracin</td>\n",
       "      <td>MDLWSALQALILGIVEGITEFLPISSTGHQIIVADLIGFGGERAIA...</td>\n",
       "      <td>ATGAATTGGTGGGAGCTGTTTGTTGCTTTAATTCTTGGTCTAGTGG...</td>\n",
       "    </tr>\n",
       "    <tr>\n",
       "      <th>2</th>\n",
       "      <td>2</td>\n",
       "      <td>A0A133N6E2</td>\n",
       "      <td>UNIPROT</td>\n",
       "      <td>bacitracin</td>\n",
       "      <td>MGIDFLFILKALIIAVVEGLTEFVPVSSTGHMILVGDLIHFNTQSG...</td>\n",
       "      <td>ATGGGAATTGATTTTTTATTCATACTTAAGGCCTTAATAATCGCAG...</td>\n",
       "    </tr>\n",
       "    <tr>\n",
       "      <th>3</th>\n",
       "      <td>3</td>\n",
       "      <td>A0A024P8A8</td>\n",
       "      <td>UNIPROT</td>\n",
       "      <td>beta_lactam</td>\n",
       "      <td>MKKIYESKFSMRQVKMFMSLLVLITLAACFDSTNSTNVSSKEGNEV...</td>\n",
       "      <td>TCACTTTAGGGCATTAAGAGCGACCTTGGCAGCCTGCGCAATTAGC...</td>\n",
       "    </tr>\n",
       "    <tr>\n",
       "      <th>4</th>\n",
       "      <td>4</td>\n",
       "      <td>A0A0Q3WM94</td>\n",
       "      <td>UNIPROT</td>\n",
       "      <td>chloramphenicol</td>\n",
       "      <td>MFKQIDENYPRKEHFHHYMTVTRCTYSLVIDLDITKLYAILKEKRL...</td>\n",
       "      <td>ATGAATGCAATTATGTTAGTTATCATTCTTGCACTAGTTGAAGGTA...</td>\n",
       "    </tr>\n",
       "  </tbody>\n",
       "</table>\n",
       "</div>"
      ],
      "text/plain": [
       "   srno          id       db             type  \\\n",
       "0     0      B9J113  UNIPROT      beta_lactam   \n",
       "1     1  A0A147H3Q5  UNIPROT       bacitracin   \n",
       "2     2  A0A133N6E2  UNIPROT       bacitracin   \n",
       "3     3  A0A024P8A8  UNIPROT      beta_lactam   \n",
       "4     4  A0A0Q3WM94  UNIPROT  chloramphenicol   \n",
       "\n",
       "                                            sequence  \\\n",
       "0  MKHKNQATHKEFSQLEKKFDARLGLYAIDTGTNQTIAYRPNERFAF...   \n",
       "1  MDLWSALQALILGIVEGITEFLPISSTGHQIIVADLIGFGGERAIA...   \n",
       "2  MGIDFLFILKALIIAVVEGLTEFVPVSSTGHMILVGDLIHFNTQSG...   \n",
       "3  MKKIYESKFSMRQVKMFMSLLVLITLAACFDSTNSTNVSSKEGNEV...   \n",
       "4  MFKQIDENYPRKEHFHHYMTVTRCTYSLVIDLDITKLYAILKEKRL...   \n",
       "\n",
       "                                             dna_seq  \n",
       "0  GTGAAACATAAAAATCAGGCGACGCATAAAGAGTTCTCTCAACTTG...  \n",
       "1  ATGAATTGGTGGGAGCTGTTTGTTGCTTTAATTCTTGGTCTAGTGG...  \n",
       "2  ATGGGAATTGATTTTTTATTCATACTTAAGGCCTTAATAATCGCAG...  \n",
       "3  TCACTTTAGGGCATTAAGAGCGACCTTGGCAGCCTGCGCAATTAGC...  \n",
       "4  ATGAATGCAATTATGTTAGTTATCATTCTTGCACTAGTTGAAGGTA...  "
      ]
     },
     "execution_count": 14,
     "metadata": {},
     "output_type": "execute_result"
    }
   ],
   "source": [
    "ds_arg = pd.read_csv('/Users/vedantmahangade/Projects/BioInfo/compbio_project/data/all_df_v2.csv')\n",
    "ds_arg.head()"
   ]
  },
  {
   "cell_type": "code",
   "execution_count": 21,
   "id": "a3fa1c28-2e53-43d6-8c78-42a7ea97e98e",
   "metadata": {},
   "outputs": [],
   "source": [
    "short_read_data = []"
   ]
  },
  {
   "cell_type": "code",
   "execution_count": 22,
   "id": "28dd7b9e-79dd-4474-9511-490b8f8adca4",
   "metadata": {},
   "outputs": [],
   "source": [
    "for record in SeqIO.parse(fasta_file, \"fasta\"):\n",
    "    fasta_id = record.id.split('_')[0]\n",
    "    sequence = str(record.seq)\n",
    "\n",
    "    matching_row = ds_arg[ds_arg['id'] == fasta_id]\n",
    "    if not matching_row.empty:\n",
    "        # Extract the 'Type' from the matched row\n",
    "        antibiotic_type = matching_row['type'].values[0]\n",
    "        \n",
    "        # Append to the new dataset list\n",
    "        short_read_data.append({\n",
    "            'id': fasta_id,\n",
    "            'type': antibiotic_type,\n",
    "            'Sequence': sequence\n",
    "        })"
   ]
  },
  {
   "cell_type": "code",
   "execution_count": 23,
   "id": "189f5fb7-0276-4a6d-b0b8-9fb762bfcb21",
   "metadata": {},
   "outputs": [],
   "source": [
    "short_read_df = pd.DataFrame(short_read_data)"
   ]
  },
  {
   "cell_type": "code",
   "execution_count": 24,
   "id": "f651f4a0-1e13-4fd4-8e95-56dd0f0440c5",
   "metadata": {},
   "outputs": [
    {
     "name": "stdout",
     "output_type": "stream",
     "text": [
      "       id         type                                           Sequence\n",
      "0  B9J113  beta_lactam  GTGAAACATAAAAATCAGGCGACGCATAAAGAGTTCTCTCAACTTG...\n",
      "1  B9J113  beta_lactam  AAACAATCGCTTATCGACCTAACGAAAGGTTTGCCTTTGCATCAAC...\n",
      "2  B9J113  beta_lactam  AGATGAAGTTATTACTTATACGAAAGAAGACTTAGTGGATTATTCA...\n",
      "3  B9J113  beta_lactam  GCTGCTGTTCGTTACAGTGATAATACTGCAGGGAACATTTTATTTC...\n",
      "4  B9J113  beta_lactam  GGGTTACTATGTCTGATCGCTTTGAAACAGAGTTAAACGAAGCTAT...\n"
     ]
    }
   ],
   "source": [
    "print(short_read_df.head())"
   ]
  },
  {
   "cell_type": "code",
   "execution_count": 25,
   "id": "20b2150b-13da-4b94-8a03-d778328d50c3",
   "metadata": {},
   "outputs": [],
   "source": [
    "short_read_df.to_csv('short_reads_with_type.csv', index=False)"
   ]
  }
 ],
 "metadata": {
  "kernelspec": {
   "display_name": "Python 3 (ipykernel)",
   "language": "python",
   "name": "python3"
  },
  "language_info": {
   "codemirror_mode": {
    "name": "ipython",
    "version": 3
   },
   "file_extension": ".py",
   "mimetype": "text/x-python",
   "name": "python",
   "nbconvert_exporter": "python",
   "pygments_lexer": "ipython3",
   "version": "3.12.7"
  }
 },
 "nbformat": 4,
 "nbformat_minor": 5
}
