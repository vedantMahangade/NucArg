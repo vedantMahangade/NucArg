{
 "cells": [
  {
   "cell_type": "code",
   "execution_count": null,
   "metadata": {
    "colab": {
     "base_uri": "https://localhost:8080/"
    },
    "id": "buMF-tJfkF5x",
    "outputId": "b46c50f3-d8e9-488b-edc2-5909753722c2"
   },
   "outputs": [
    {
     "name": "stdout",
     "output_type": "stream",
     "text": [
      "Mounted at /content/drive\n"
     ]
    }
   ],
   "source": [
    "from google.colab import drive\n",
    "drive.mount('/content/drive')"
   ]
  },
  {
   "cell_type": "code",
   "execution_count": null,
   "metadata": {
    "colab": {
     "base_uri": "https://localhost:8080/"
    },
    "id": "kq_Axsg4kWvm",
    "outputId": "07e51abf-6a54-4a0a-90c1-cc344765a56d"
   },
   "outputs": [
    {
     "name": "stdout",
     "output_type": "stream",
     "text": [
      "Collecting datasets\n",
      "  Downloading datasets-3.1.0-py3-none-any.whl.metadata (20 kB)\n",
      "Requirement already satisfied: filelock in /usr/local/lib/python3.10/dist-packages (from datasets) (3.16.1)\n",
      "Requirement already satisfied: numpy>=1.17 in /usr/local/lib/python3.10/dist-packages (from datasets) (1.26.4)\n",
      "Requirement already satisfied: pyarrow>=15.0.0 in /usr/local/lib/python3.10/dist-packages (from datasets) (17.0.0)\n",
      "Collecting dill<0.3.9,>=0.3.0 (from datasets)\n",
      "  Downloading dill-0.3.8-py3-none-any.whl.metadata (10 kB)\n",
      "Requirement already satisfied: pandas in /usr/local/lib/python3.10/dist-packages (from datasets) (2.2.2)\n",
      "Requirement already satisfied: requests>=2.32.2 in /usr/local/lib/python3.10/dist-packages (from datasets) (2.32.3)\n",
      "Requirement already satisfied: tqdm>=4.66.3 in /usr/local/lib/python3.10/dist-packages (from datasets) (4.66.6)\n",
      "Collecting xxhash (from datasets)\n",
      "  Downloading xxhash-3.5.0-cp310-cp310-manylinux_2_17_x86_64.manylinux2014_x86_64.whl.metadata (12 kB)\n",
      "Collecting multiprocess<0.70.17 (from datasets)\n",
      "  Downloading multiprocess-0.70.16-py310-none-any.whl.metadata (7.2 kB)\n",
      "Collecting fsspec<=2024.9.0,>=2023.1.0 (from fsspec[http]<=2024.9.0,>=2023.1.0->datasets)\n",
      "  Downloading fsspec-2024.9.0-py3-none-any.whl.metadata (11 kB)\n",
      "Requirement already satisfied: aiohttp in /usr/local/lib/python3.10/dist-packages (from datasets) (3.11.2)\n",
      "Requirement already satisfied: huggingface-hub>=0.23.0 in /usr/local/lib/python3.10/dist-packages (from datasets) (0.26.2)\n",
      "Requirement already satisfied: packaging in /usr/local/lib/python3.10/dist-packages (from datasets) (24.2)\n",
      "Requirement already satisfied: pyyaml>=5.1 in /usr/local/lib/python3.10/dist-packages (from datasets) (6.0.2)\n",
      "Requirement already satisfied: aiohappyeyeballs>=2.3.0 in /usr/local/lib/python3.10/dist-packages (from aiohttp->datasets) (2.4.3)\n",
      "Requirement already satisfied: aiosignal>=1.1.2 in /usr/local/lib/python3.10/dist-packages (from aiohttp->datasets) (1.3.1)\n",
      "Requirement already satisfied: attrs>=17.3.0 in /usr/local/lib/python3.10/dist-packages (from aiohttp->datasets) (24.2.0)\n",
      "Requirement already satisfied: frozenlist>=1.1.1 in /usr/local/lib/python3.10/dist-packages (from aiohttp->datasets) (1.5.0)\n",
      "Requirement already satisfied: multidict<7.0,>=4.5 in /usr/local/lib/python3.10/dist-packages (from aiohttp->datasets) (6.1.0)\n",
      "Requirement already satisfied: propcache>=0.2.0 in /usr/local/lib/python3.10/dist-packages (from aiohttp->datasets) (0.2.0)\n",
      "Requirement already satisfied: yarl<2.0,>=1.17.0 in /usr/local/lib/python3.10/dist-packages (from aiohttp->datasets) (1.17.2)\n",
      "Requirement already satisfied: async-timeout<6.0,>=4.0 in /usr/local/lib/python3.10/dist-packages (from aiohttp->datasets) (4.0.3)\n",
      "Requirement already satisfied: typing-extensions>=3.7.4.3 in /usr/local/lib/python3.10/dist-packages (from huggingface-hub>=0.23.0->datasets) (4.12.2)\n",
      "Requirement already satisfied: charset-normalizer<4,>=2 in /usr/local/lib/python3.10/dist-packages (from requests>=2.32.2->datasets) (3.4.0)\n",
      "Requirement already satisfied: idna<4,>=2.5 in /usr/local/lib/python3.10/dist-packages (from requests>=2.32.2->datasets) (3.10)\n",
      "Requirement already satisfied: urllib3<3,>=1.21.1 in /usr/local/lib/python3.10/dist-packages (from requests>=2.32.2->datasets) (2.2.3)\n",
      "Requirement already satisfied: certifi>=2017.4.17 in /usr/local/lib/python3.10/dist-packages (from requests>=2.32.2->datasets) (2024.8.30)\n",
      "Requirement already satisfied: python-dateutil>=2.8.2 in /usr/local/lib/python3.10/dist-packages (from pandas->datasets) (2.8.2)\n",
      "Requirement already satisfied: pytz>=2020.1 in /usr/local/lib/python3.10/dist-packages (from pandas->datasets) (2024.2)\n",
      "Requirement already satisfied: tzdata>=2022.7 in /usr/local/lib/python3.10/dist-packages (from pandas->datasets) (2024.2)\n",
      "Requirement already satisfied: six>=1.5 in /usr/local/lib/python3.10/dist-packages (from python-dateutil>=2.8.2->pandas->datasets) (1.16.0)\n",
      "Downloading datasets-3.1.0-py3-none-any.whl (480 kB)\n",
      "\u001b[2K   \u001b[90m━━━━━━━━━━━━━━━━━━━━━━━━━━━━━━━━━━━━━━━━\u001b[0m \u001b[32m480.6/480.6 kB\u001b[0m \u001b[31m11.1 MB/s\u001b[0m eta \u001b[36m0:00:00\u001b[0m\n",
      "\u001b[?25hDownloading dill-0.3.8-py3-none-any.whl (116 kB)\n",
      "\u001b[2K   \u001b[90m━━━━━━━━━━━━━━━━━━━━━━━━━━━━━━━━━━━━━━━━\u001b[0m \u001b[32m116.3/116.3 kB\u001b[0m \u001b[31m11.9 MB/s\u001b[0m eta \u001b[36m0:00:00\u001b[0m\n",
      "\u001b[?25hDownloading fsspec-2024.9.0-py3-none-any.whl (179 kB)\n",
      "\u001b[2K   \u001b[90m━━━━━━━━━━━━━━━━━━━━━━━━━━━━━━━━━━━━━━━━\u001b[0m \u001b[32m179.3/179.3 kB\u001b[0m \u001b[31m18.4 MB/s\u001b[0m eta \u001b[36m0:00:00\u001b[0m\n",
      "\u001b[?25hDownloading multiprocess-0.70.16-py310-none-any.whl (134 kB)\n",
      "\u001b[2K   \u001b[90m━━━━━━━━━━━━━━━━━━━━━━━━━━━━━━━━━━━━━━━━\u001b[0m \u001b[32m134.8/134.8 kB\u001b[0m \u001b[31m12.5 MB/s\u001b[0m eta \u001b[36m0:00:00\u001b[0m\n",
      "\u001b[?25hDownloading xxhash-3.5.0-cp310-cp310-manylinux_2_17_x86_64.manylinux2014_x86_64.whl (194 kB)\n",
      "\u001b[2K   \u001b[90m━━━━━━━━━━━━━━━━━━━━━━━━━━━━━━━━━━━━━━━━\u001b[0m \u001b[32m194.1/194.1 kB\u001b[0m \u001b[31m18.0 MB/s\u001b[0m eta \u001b[36m0:00:00\u001b[0m\n",
      "\u001b[?25hInstalling collected packages: xxhash, fsspec, dill, multiprocess, datasets\n",
      "  Attempting uninstall: fsspec\n",
      "    Found existing installation: fsspec 2024.10.0\n",
      "    Uninstalling fsspec-2024.10.0:\n",
      "      Successfully uninstalled fsspec-2024.10.0\n",
      "\u001b[31mERROR: pip's dependency resolver does not currently take into account all the packages that are installed. This behaviour is the source of the following dependency conflicts.\n",
      "gcsfs 2024.10.0 requires fsspec==2024.10.0, but you have fsspec 2024.9.0 which is incompatible.\u001b[0m\u001b[31m\n",
      "\u001b[0mSuccessfully installed datasets-3.1.0 dill-0.3.8 fsspec-2024.9.0 multiprocess-0.70.16 xxhash-3.5.0\n"
     ]
    }
   ],
   "source": [
    "!pip install datasets\n",
    "# !pip install accelerate"
   ]
  },
  {
   "cell_type": "code",
   "execution_count": null,
   "metadata": {
    "id": "dFt-zKrmkXE3"
   },
   "outputs": [],
   "source": [
    "import os\n",
    "import torch\n",
    "import warnings\n",
    "import numpy as np\n",
    "import pandas as pd\n",
    "import matplotlib.pyplot as plt\n",
    "from torch.optim import AdamW\n",
    "from datasets import Dataset\n",
    "from accelerate import Accelerator\n",
    "from torch.utils.data import DataLoader\n",
    "from sklearn.preprocessing import LabelEncoder\n",
    "from sklearn.metrics import f1_score, precision_recall_fscore_support, accuracy_score, precision_score\n",
    "from sklearn.model_selection import train_test_split\n",
    "from transformers import AutoTokenizer, AutoModelForSequenceClassification, EsmForSequenceClassification\n",
    "from transformers import AutoConfig\n",
    "from transformers import TrainingArguments, Trainer, TrainingArguments, DataCollatorWithPadding\n",
    "from sklearn.metrics import confusion_matrix, ConfusionMatrixDisplay\n",
    "import seaborn as sns\n",
    "from sklearn.metrics import roc_curve, auc"
   ]
  },
  {
   "cell_type": "code",
   "execution_count": null,
   "metadata": {
    "id": "8JqD5w20kaN3"
   },
   "outputs": [],
   "source": [
    "os.environ[\"CUDA_LAUNCH_BLOCKING\"] = \"1\"\n",
    "os.environ[\"PYTORCH_CUDA_ALLOC_CONF\"] = \"expandable_segments:True\"\n",
    "device = torch.device('cuda')\n",
    "# torch.cuda.is_available()"
   ]
  },
  {
   "cell_type": "code",
   "execution_count": null,
   "metadata": {
    "colab": {
     "base_uri": "https://localhost:8080/"
    },
    "id": "RN7i8sijlo4m",
    "outputId": "20a2924d-0b65-4425-9a48-ebc293eabf51"
   },
   "outputs": [
    {
     "name": "stdout",
     "output_type": "stream",
     "text": [
      "Fri Nov 29 15:33:07 2024       \n",
      "+---------------------------------------------------------------------------------------+\n",
      "| NVIDIA-SMI 535.104.05             Driver Version: 535.104.05   CUDA Version: 12.2     |\n",
      "|-----------------------------------------+----------------------+----------------------+\n",
      "| GPU  Name                 Persistence-M | Bus-Id        Disp.A | Volatile Uncorr. ECC |\n",
      "| Fan  Temp   Perf          Pwr:Usage/Cap |         Memory-Usage | GPU-Util  Compute M. |\n",
      "|                                         |                      |               MIG M. |\n",
      "|=========================================+======================+======================|\n",
      "|   0  NVIDIA A100-SXM4-40GB          Off | 00000000:00:04.0 Off |                    0 |\n",
      "| N/A   28C    P0              46W / 400W |      2MiB / 40960MiB |      0%      Default |\n",
      "|                                         |                      |             Disabled |\n",
      "+-----------------------------------------+----------------------+----------------------+\n",
      "                                                                                         \n",
      "+---------------------------------------------------------------------------------------+\n",
      "| Processes:                                                                            |\n",
      "|  GPU   GI   CI        PID   Type   Process name                            GPU Memory |\n",
      "|        ID   ID                                                             Usage      |\n",
      "|=======================================================================================|\n",
      "|  No running processes found                                                           |\n",
      "+---------------------------------------------------------------------------------------+\n"
     ]
    }
   ],
   "source": [
    "gpu_info = !nvidia-smi\n",
    "gpu_info = '\\n'.join(gpu_info)\n",
    "if gpu_info.find('failed') >= 0:\n",
    "  print('Not connected to a GPU')\n",
    "else:\n",
    "  print(gpu_info)"
   ]
  },
  {
   "cell_type": "code",
   "execution_count": null,
   "metadata": {
    "colab": {
     "base_uri": "https://localhost:8080/",
     "height": 226
    },
    "id": "noL_0nlIkeLc",
    "outputId": "01c83b86-ef77-4b08-f35a-82a6dd8c36de"
   },
   "outputs": [
    {
     "data": {
      "application/vnd.google.colaboratory.intrinsic+json": {
       "summary": "{\n  \"name\": \"ds_arg\",\n  \"rows\": 13362,\n  \"fields\": [\n    {\n      \"column\": \"id\",\n      \"properties\": {\n        \"dtype\": \"string\",\n        \"num_unique_values\": 13362,\n        \"samples\": [\n          \"A0A109BKN4\",\n          \"A0A0R2AGR4\",\n          \"A0A089G7P8\"\n        ],\n        \"semantic_type\": \"\",\n        \"description\": \"\"\n      }\n    },\n    {\n      \"column\": \"db\",\n      \"properties\": {\n        \"dtype\": \"category\",\n        \"num_unique_values\": 4,\n        \"samples\": [\n          \"CARD\",\n          \"NCBI\",\n          \"UNIPROT\"\n        ],\n        \"semantic_type\": \"\",\n        \"description\": \"\"\n      }\n    },\n    {\n      \"column\": \"type\",\n      \"properties\": {\n        \"dtype\": \"category\",\n        \"num_unique_values\": 26,\n        \"samples\": [\n          \"sulfonamide\",\n          \"peptide\",\n          \"beta_lactam\"\n        ],\n        \"semantic_type\": \"\",\n        \"description\": \"\"\n      }\n    },\n    {\n      \"column\": \"sequence\",\n      \"properties\": {\n        \"dtype\": \"string\",\n        \"num_unique_values\": 12907,\n        \"samples\": [\n          \"MNIKALLLITSAIFISACSPYIVTANPNHSASKSDEKAEKIKNLFNEAHTTGVLVIQQGQTQQSYGNDLARASTEYVPASTFKMLNALIGLEHHKTTTTEVFKWDGQKRLFPEWEKDMTLGDAMKASALPVYQDLARRIGLELMSKEVKRVGYGNADIGTQVDNFWLVGPLKITPQQEAQFAYKLANKTLPFSPKVQDEVQSMLFIEEKNGNKIYAKSGWGWDVDPQVGWLTGWVVQPQGNIVAFSLNLEMKKGIPSSVRKEITYKSLEQLGIL\",\n          \"MRKEPGLPVATVRGCADHLREWSRLRAALWPSHSSGYHADELDTMIARNSDEMFGIVAPLPDGVLAGFAEACLRHDYVNGCSSSPVLFLEGIYVEPAYRRQGIGRALFDAVRSAGKALGCVEFASDASIDNIESHLFHRALGFEEAERVVFFRQSL\",\n          \"MKAVVFAYHDMGCQGVQALLDAGYDIAAIFTHADNPGEKAFFGSVSRLAASAGIPVYAPDEVNHPLWIERIGQLAPDMIFSFYYRHLLSDEILRLAPAGAFNLHGSLLPKYRGRAPLNWVLVNGETETGVTLHRMVKRADAGAIVAQQRITISPDDVALTLHHKLCQSAREVLAQALPAIKAGDFQEYPQQEADATCFGRRTPEDSFLDWNNPCAQLHNMVRAVSDPWPGAFSYAGTQKFTIWSSRQSANTSAALPGTVISVSPLLIACADGALEIITGQAGDGITMQGSQLAQVLGLVAGSRLNSQPVSASKRRTRVLILGVNGFIGNHLTERLLREDNYEIYGLDIGSDAIERFLQHPRFHFVEGDISIHSEWIEYHVKKCDVVLPLVAIATPIEYTRNPLRVFELDFEENLKIIRYCVKYRKRIIFPSTSEVYGMCTDKDFDEDSSNLIVGPVNKPRWIYSVSKQLLDRVIWAYGEKEGLRFTLFRPFNWMGPRLDSLNAARIGSSRAITQLILNLVEGSPIKLIEGGKQKRCFTDIRDGIEALFRIIENEGGRCDGEIINIGNPDNEASIQELAEMLLSCFEKHPLRQHFPPFAGFRDVESSSYYGKGYQDVEHRKPSIRNAKRCLNWEPTIEMQETVEETLDFFLRSVDITEHTS\"\n        ],\n        \"semantic_type\": \"\",\n        \"description\": \"\"\n      }\n    },\n    {\n      \"column\": \"dna_seq\",\n      \"properties\": {\n        \"dtype\": \"string\",\n        \"num_unique_values\": 13186,\n        \"samples\": [\n          \"TCATCCCTGCGCGGTGCTCCAGTCGATCAGTTGCAGTTGCCAGGTGGCGAGGATCAGCAGACCGAAGCCAATGCGGTACCAGGCGAACAGAGCGTAGCTGTGGTTGGCGATGAACTTGAGCAATGCCCGCACGGTGAACATCGCCACGATAAAGGTGGTGACGAAGCCAATGGCAAAGGTGGGCAGGTCGCTCAGTTGCAGGATGTCGCGATACTTGAACAGGGAGTAGACGGTCGCGGCGACCATGGTCGGCATGGCCAGGAAGAAGGAAAACTCGGTGGCCGCCTTGCGTGACAGGCCGAACACCAGTCCACCGATGATGGTGGCGCCGGAGCGGGAAGTGCCGGGAATCAGCGCCAGGCATTGGGCGAAGCCGACCTTGAGGGCCAGGCTCCAGGTCATGTCGTCGACCGTTTCGGCCTTGATCTCGTGCTCGCGCTTCTCTGCCCAGATCATCACGATGCCGCCTACTATCAAGGCAGTGGCCACGGTGATGGGGTTGAACAGCCAGTGCTCGATGAGATCGGCGAAGGCCAGACCGAGGATCACCGCCGGAATGAAGGCCAGCAGCAGGTTGAAGGTGAAGCGTTGCGCCTGCGGCTCGCTCGGCAGCCCGCACACCACGTCGAAGATCCTCTGGCGAAACTCCCACATCACCGCGAGGATGGCGCCCAACTGGATGATGATCTTGAACGCGGTGGCGGTCTCGCCGTTGAAGTCCAGCAGGTCGCCGACCACGATCAGGTGTCCGGTACTGGAAATCGGCAGGAACTCGGTCAGCCCTTCCACTATGCCCAGAATCAAGGCCTTCATGGCCGTCCAGATGTCCAT\",\n          \"ATGAACGTCAAAACCGTTGTCTTTGCCTATCACGATATCGGTTGCACCGGCATCGAATCACTTCTCGAGGCCGGCTACGATATTTGCGCGGTCTTCACCCACATCGATCAGCCTCAGGAACGGATCTTCTTCGGCTCCGTAGCGCGTCTGTGCGCTGAGCGTGGCATCCCGGTTTACGCCCCCGAAGACGTCAATCATCCCCTGTGGGTGCAGCGCATTCGCGAGCTCGAGCCGGACTTCCTGTTTTCCTTCTATTACCGCCAGCTCTTGGGCGAGTGTATCCTCGCCTGCGCCAAGCGCGGCGCATTCAACCTGCACGGGTCCCTGCTGCCACGCTACCGAGGCAGAGCCCCAGCGAACTGGGCCATCATCAACGGCGAGACGCAGACCGGCGTCACCCTGCACCGAATGGTCGGACGCGCCGATGCCGGACCGATCCTTGCTCAAGTTCCGGTAGCCATCGCCGAGACCGATACTGGTCTGAGGCTTCAACAGAAACTGCGCGCAGCAACCATTGGCTTGCTGCGCGAAAAGCTACCACTACTGGCGGCCGGTGGTCTCTCAGAGGTGCGGCAGGATGAAGCCCAGGCCAGCTACTACGGCCGCCGTACGGCCGCCGATGGCCTGATCGACTGGCAGCACCCGGCCAAACGACTCTACGACCTGATCCGCGCGTTGACCCATCCCTACCCTAGCGCCTATTGCCAGACCAGTGAGCACAAGTTGTTGATCTGGGACGCCGATGTCATCCTGGGCAACCTCGGTCAGCCGCCTGGCACGGTGCTGTGCGCCGATCCGTTGCGCATCGCCTGCGGGGAAGATTCGCTGGTGGTGCGCCATGCACAGCGCGGCGACCATGGTCTGTATCTCTGCGGTGCGGGCTTGGCCCGTGAGCTGGGCCTTGTGGAGGGAGCGTCGCTGAACGCGGCGCACCCGCCTGCAAAACGCCCGACGCGGGTGCTGATCCTCGGCGTCAATGGCTTCATCGGCAATCACCTGTCCGAGCGACTGTTGAGTGACGGCAACTACGAAATCCATGGCATGGACATTGGCTCGGATGCCATCGAACGGTTGAAGGACAATCCACAGTTCCACTTCGTCGAGGGCGACATCAGCATCCACAGCGAATGGATCGAATACCACGTCAAGAAATGCGACGTCGTACTGCCGCTGGTCGCCATCGCCACCCCCATCGAGTACACCCGCAACCCGTTGCGCGTCTTCGAACTGGACTTCGAAGAAAACCTCAAGATCATCCGCTACTGCGTGAAGTACGGAAAACGCGTGATATTCCCTTCCACTTCGGAAGTCTATGGCATGTGCCAGGATCCGGAGTTCGACGAGGACAGGTCGAACCTGGTCGTAGGCCCCATCAACAAACAGCGCTGGATCTACTCGGTTTCCAAGCAACTGCTGGACCGAGTCATCTGGGCCTACGGGAAGCAAGGTCTGCGTTTTACTTTGTTCCGTCCGTTCAACTGGGTAGGCCCGCGCCTGGATCGCCTGGACTCGGCGCGCATTGGCAGCTCGCGAGCGATCACCCAGCTGATCCTGCACCTGGTGGAAGGCACCCCCATACGCCTGGTCGACGGTGGCGAACAGAAGCGCTGCTTCACCGATGTCGCCGACGGCATCGAAGCGCTGGCGCGCATTATCGACAACGAAGGAAGTTGTTGCGATGGGCAGATCATCAATATAGGCAACCCCGAGAACGAGGCGAGCATCCGCGAGTTGGGCGAAGCCTTGCTGCGTCAGTTCGATGCGCACCCGCTACGCGGCGAGTTCCCGCCCTTTGCCGGGTTTCAGTTGGTGGAGAACCGCACGTTCTACGGCGACGGCTACCAGGATGTCAGCCACCGCAAACCGCGCATCGCCAATGCACGGCGCTTGCTGCACTGGCAGCCGACCGTCGATCTGGAACAGACCATCGCCAAGACCCTGGACTTTTTCCTCAACGAAGCGCTCCGCGAGCGCGGGAGAGGCCAATGA\",\n          \"TTAATGTACGAACACCATATAGACGGCGAAGGCGATGACGAATCGATAGATGGCAAAAGGCACGAAATCGAGACGACGGATCAGCGCCAGGAAGGTGCGGATGGCGAACATGGCCACCACGAAGGCGGTGACAAAACCAACCGCAAACATGGGGAAGTCGGCCATGGAGAGGAAATCCCGGCTCTTGTAGAGATCCAGGCCACTCGCCGCGATCATCATGGGTACCGCCAGAATGAAGGAGAACTCGGCCGCCGCCTGACGACTGATACCCATCAGCATGCCGCCACTGATGGTGGCCCCCGAGCGGGAGAAACCGGGCCAGAGTGCCAGACATTGGAACAGACCTATGCCAAACGCCTGCTTGTAGCTGATGTCATCCAGGGTTTCGGAGCGTACCGCGGGGCGCTTCCATTCGGCTATCAACAGCAAGATGCCGCCGGCGACCAAGGCATACATCACCGTCTGGGGACCGAACAGGTTGGCCTTTATCCAGCTGTGAATGGCGAGGCCTATCACTACGGCGGGTAGCATGCCGAGGATGATGTGCACCAGGGAGAGGGTGGCGTGATCCTGGGATGGCTTCTGACCGAAATGTATGCCGATAAGGCCGAACAGGCGGCGCCAGAACACCACGACCACGGCCAGTATGGAGCCGAGCTGGATCACCACCTCGAAGGTGGCGGCCTTGGGACCTTCGAAGCCCAGCAGATGGCCGACGATGATCAGGTGACCTGTGGAGGAAACGGGCAGAAACTCGGTCAGGCCTTCCACTACGCCTAACACGAATGCGACAAACAGGGTGTAGTACTCTGTCAT\"\n        ],\n        \"semantic_type\": \"\",\n        \"description\": \"\"\n      }\n    }\n  ]\n}",
       "type": "dataframe",
       "variable_name": "ds_arg"
      },
      "text/html": [
       "\n",
       "  <div id=\"df-90bc6351-4f53-4185-8a16-1a52ce3da97c\" class=\"colab-df-container\">\n",
       "    <div>\n",
       "<style scoped>\n",
       "    .dataframe tbody tr th:only-of-type {\n",
       "        vertical-align: middle;\n",
       "    }\n",
       "\n",
       "    .dataframe tbody tr th {\n",
       "        vertical-align: top;\n",
       "    }\n",
       "\n",
       "    .dataframe thead th {\n",
       "        text-align: right;\n",
       "    }\n",
       "</style>\n",
       "<table border=\"1\" class=\"dataframe\">\n",
       "  <thead>\n",
       "    <tr style=\"text-align: right;\">\n",
       "      <th></th>\n",
       "      <th>id</th>\n",
       "      <th>db</th>\n",
       "      <th>type</th>\n",
       "      <th>sequence</th>\n",
       "      <th>dna_seq</th>\n",
       "    </tr>\n",
       "  </thead>\n",
       "  <tbody>\n",
       "    <tr>\n",
       "      <th>0</th>\n",
       "      <td>B9J113</td>\n",
       "      <td>UNIPROT</td>\n",
       "      <td>beta_lactam</td>\n",
       "      <td>MKHKNQATHKEFSQLEKKFDARLGLYAIDTGTNQTIAYRPNERFAF...</td>\n",
       "      <td>GTGAAACATAAAAATCAGGCGACGCATAAAGAGTTCTCTCAACTTG...</td>\n",
       "    </tr>\n",
       "    <tr>\n",
       "      <th>1</th>\n",
       "      <td>A0A147H3Q5</td>\n",
       "      <td>UNIPROT</td>\n",
       "      <td>bacitracin</td>\n",
       "      <td>MDLWSALQALILGIVEGITEFLPISSTGHQIIVADLIGFGGERAIA...</td>\n",
       "      <td>ATGAATTGGTGGGAGCTGTTTGTTGCTTTAATTCTTGGTCTAGTGG...</td>\n",
       "    </tr>\n",
       "    <tr>\n",
       "      <th>2</th>\n",
       "      <td>A0A133N6E2</td>\n",
       "      <td>UNIPROT</td>\n",
       "      <td>bacitracin</td>\n",
       "      <td>MGIDFLFILKALIIAVVEGLTEFVPVSSTGHMILVGDLIHFNTQSG...</td>\n",
       "      <td>ATGGGAATTGATTTTTTATTCATACTTAAGGCCTTAATAATCGCAG...</td>\n",
       "    </tr>\n",
       "    <tr>\n",
       "      <th>3</th>\n",
       "      <td>A0A024P8A8</td>\n",
       "      <td>UNIPROT</td>\n",
       "      <td>beta_lactam</td>\n",
       "      <td>MKKIYESKFSMRQVKMFMSLLVLITLAACFDSTNSTNVSSKEGNEV...</td>\n",
       "      <td>TCACTTTAGGGCATTAAGAGCGACCTTGGCAGCCTGCGCAATTAGC...</td>\n",
       "    </tr>\n",
       "    <tr>\n",
       "      <th>4</th>\n",
       "      <td>A0A0Q3WM94</td>\n",
       "      <td>UNIPROT</td>\n",
       "      <td>chloramphenicol</td>\n",
       "      <td>MFKQIDENYPRKEHFHHYMTVTRCTYSLVIDLDITKLYAILKEKRL...</td>\n",
       "      <td>ATGAATGCAATTATGTTAGTTATCATTCTTGCACTAGTTGAAGGTA...</td>\n",
       "    </tr>\n",
       "  </tbody>\n",
       "</table>\n",
       "</div>\n",
       "    <div class=\"colab-df-buttons\">\n",
       "\n",
       "  <div class=\"colab-df-container\">\n",
       "    <button class=\"colab-df-convert\" onclick=\"convertToInteractive('df-90bc6351-4f53-4185-8a16-1a52ce3da97c')\"\n",
       "            title=\"Convert this dataframe to an interactive table.\"\n",
       "            style=\"display:none;\">\n",
       "\n",
       "  <svg xmlns=\"http://www.w3.org/2000/svg\" height=\"24px\" viewBox=\"0 -960 960 960\">\n",
       "    <path d=\"M120-120v-720h720v720H120Zm60-500h600v-160H180v160Zm220 220h160v-160H400v160Zm0 220h160v-160H400v160ZM180-400h160v-160H180v160Zm440 0h160v-160H620v160ZM180-180h160v-160H180v160Zm440 0h160v-160H620v160Z\"/>\n",
       "  </svg>\n",
       "    </button>\n",
       "\n",
       "  <style>\n",
       "    .colab-df-container {\n",
       "      display:flex;\n",
       "      gap: 12px;\n",
       "    }\n",
       "\n",
       "    .colab-df-convert {\n",
       "      background-color: #E8F0FE;\n",
       "      border: none;\n",
       "      border-radius: 50%;\n",
       "      cursor: pointer;\n",
       "      display: none;\n",
       "      fill: #1967D2;\n",
       "      height: 32px;\n",
       "      padding: 0 0 0 0;\n",
       "      width: 32px;\n",
       "    }\n",
       "\n",
       "    .colab-df-convert:hover {\n",
       "      background-color: #E2EBFA;\n",
       "      box-shadow: 0px 1px 2px rgba(60, 64, 67, 0.3), 0px 1px 3px 1px rgba(60, 64, 67, 0.15);\n",
       "      fill: #174EA6;\n",
       "    }\n",
       "\n",
       "    .colab-df-buttons div {\n",
       "      margin-bottom: 4px;\n",
       "    }\n",
       "\n",
       "    [theme=dark] .colab-df-convert {\n",
       "      background-color: #3B4455;\n",
       "      fill: #D2E3FC;\n",
       "    }\n",
       "\n",
       "    [theme=dark] .colab-df-convert:hover {\n",
       "      background-color: #434B5C;\n",
       "      box-shadow: 0px 1px 3px 1px rgba(0, 0, 0, 0.15);\n",
       "      filter: drop-shadow(0px 1px 2px rgba(0, 0, 0, 0.3));\n",
       "      fill: #FFFFFF;\n",
       "    }\n",
       "  </style>\n",
       "\n",
       "    <script>\n",
       "      const buttonEl =\n",
       "        document.querySelector('#df-90bc6351-4f53-4185-8a16-1a52ce3da97c button.colab-df-convert');\n",
       "      buttonEl.style.display =\n",
       "        google.colab.kernel.accessAllowed ? 'block' : 'none';\n",
       "\n",
       "      async function convertToInteractive(key) {\n",
       "        const element = document.querySelector('#df-90bc6351-4f53-4185-8a16-1a52ce3da97c');\n",
       "        const dataTable =\n",
       "          await google.colab.kernel.invokeFunction('convertToInteractive',\n",
       "                                                    [key], {});\n",
       "        if (!dataTable) return;\n",
       "\n",
       "        const docLinkHtml = 'Like what you see? Visit the ' +\n",
       "          '<a target=\"_blank\" href=https://colab.research.google.com/notebooks/data_table.ipynb>data table notebook</a>'\n",
       "          + ' to learn more about interactive tables.';\n",
       "        element.innerHTML = '';\n",
       "        dataTable['output_type'] = 'display_data';\n",
       "        await google.colab.output.renderOutput(dataTable, element);\n",
       "        const docLink = document.createElement('div');\n",
       "        docLink.innerHTML = docLinkHtml;\n",
       "        element.appendChild(docLink);\n",
       "      }\n",
       "    </script>\n",
       "  </div>\n",
       "\n",
       "\n",
       "<div id=\"df-f9d253ee-ba05-4c81-8b7c-696359317e5e\">\n",
       "  <button class=\"colab-df-quickchart\" onclick=\"quickchart('df-f9d253ee-ba05-4c81-8b7c-696359317e5e')\"\n",
       "            title=\"Suggest charts\"\n",
       "            style=\"display:none;\">\n",
       "\n",
       "<svg xmlns=\"http://www.w3.org/2000/svg\" height=\"24px\"viewBox=\"0 0 24 24\"\n",
       "     width=\"24px\">\n",
       "    <g>\n",
       "        <path d=\"M19 3H5c-1.1 0-2 .9-2 2v14c0 1.1.9 2 2 2h14c1.1 0 2-.9 2-2V5c0-1.1-.9-2-2-2zM9 17H7v-7h2v7zm4 0h-2V7h2v10zm4 0h-2v-4h2v4z\"/>\n",
       "    </g>\n",
       "</svg>\n",
       "  </button>\n",
       "\n",
       "<style>\n",
       "  .colab-df-quickchart {\n",
       "      --bg-color: #E8F0FE;\n",
       "      --fill-color: #1967D2;\n",
       "      --hover-bg-color: #E2EBFA;\n",
       "      --hover-fill-color: #174EA6;\n",
       "      --disabled-fill-color: #AAA;\n",
       "      --disabled-bg-color: #DDD;\n",
       "  }\n",
       "\n",
       "  [theme=dark] .colab-df-quickchart {\n",
       "      --bg-color: #3B4455;\n",
       "      --fill-color: #D2E3FC;\n",
       "      --hover-bg-color: #434B5C;\n",
       "      --hover-fill-color: #FFFFFF;\n",
       "      --disabled-bg-color: #3B4455;\n",
       "      --disabled-fill-color: #666;\n",
       "  }\n",
       "\n",
       "  .colab-df-quickchart {\n",
       "    background-color: var(--bg-color);\n",
       "    border: none;\n",
       "    border-radius: 50%;\n",
       "    cursor: pointer;\n",
       "    display: none;\n",
       "    fill: var(--fill-color);\n",
       "    height: 32px;\n",
       "    padding: 0;\n",
       "    width: 32px;\n",
       "  }\n",
       "\n",
       "  .colab-df-quickchart:hover {\n",
       "    background-color: var(--hover-bg-color);\n",
       "    box-shadow: 0 1px 2px rgba(60, 64, 67, 0.3), 0 1px 3px 1px rgba(60, 64, 67, 0.15);\n",
       "    fill: var(--button-hover-fill-color);\n",
       "  }\n",
       "\n",
       "  .colab-df-quickchart-complete:disabled,\n",
       "  .colab-df-quickchart-complete:disabled:hover {\n",
       "    background-color: var(--disabled-bg-color);\n",
       "    fill: var(--disabled-fill-color);\n",
       "    box-shadow: none;\n",
       "  }\n",
       "\n",
       "  .colab-df-spinner {\n",
       "    border: 2px solid var(--fill-color);\n",
       "    border-color: transparent;\n",
       "    border-bottom-color: var(--fill-color);\n",
       "    animation:\n",
       "      spin 1s steps(1) infinite;\n",
       "  }\n",
       "\n",
       "  @keyframes spin {\n",
       "    0% {\n",
       "      border-color: transparent;\n",
       "      border-bottom-color: var(--fill-color);\n",
       "      border-left-color: var(--fill-color);\n",
       "    }\n",
       "    20% {\n",
       "      border-color: transparent;\n",
       "      border-left-color: var(--fill-color);\n",
       "      border-top-color: var(--fill-color);\n",
       "    }\n",
       "    30% {\n",
       "      border-color: transparent;\n",
       "      border-left-color: var(--fill-color);\n",
       "      border-top-color: var(--fill-color);\n",
       "      border-right-color: var(--fill-color);\n",
       "    }\n",
       "    40% {\n",
       "      border-color: transparent;\n",
       "      border-right-color: var(--fill-color);\n",
       "      border-top-color: var(--fill-color);\n",
       "    }\n",
       "    60% {\n",
       "      border-color: transparent;\n",
       "      border-right-color: var(--fill-color);\n",
       "    }\n",
       "    80% {\n",
       "      border-color: transparent;\n",
       "      border-right-color: var(--fill-color);\n",
       "      border-bottom-color: var(--fill-color);\n",
       "    }\n",
       "    90% {\n",
       "      border-color: transparent;\n",
       "      border-bottom-color: var(--fill-color);\n",
       "    }\n",
       "  }\n",
       "</style>\n",
       "\n",
       "  <script>\n",
       "    async function quickchart(key) {\n",
       "      const quickchartButtonEl =\n",
       "        document.querySelector('#' + key + ' button');\n",
       "      quickchartButtonEl.disabled = true;  // To prevent multiple clicks.\n",
       "      quickchartButtonEl.classList.add('colab-df-spinner');\n",
       "      try {\n",
       "        const charts = await google.colab.kernel.invokeFunction(\n",
       "            'suggestCharts', [key], {});\n",
       "      } catch (error) {\n",
       "        console.error('Error during call to suggestCharts:', error);\n",
       "      }\n",
       "      quickchartButtonEl.classList.remove('colab-df-spinner');\n",
       "      quickchartButtonEl.classList.add('colab-df-quickchart-complete');\n",
       "    }\n",
       "    (() => {\n",
       "      let quickchartButtonEl =\n",
       "        document.querySelector('#df-f9d253ee-ba05-4c81-8b7c-696359317e5e button');\n",
       "      quickchartButtonEl.style.display =\n",
       "        google.colab.kernel.accessAllowed ? 'block' : 'none';\n",
       "    })();\n",
       "  </script>\n",
       "</div>\n",
       "\n",
       "    </div>\n",
       "  </div>\n"
      ],
      "text/plain": [
       "           id       db             type  \\\n",
       "0      B9J113  UNIPROT      beta_lactam   \n",
       "1  A0A147H3Q5  UNIPROT       bacitracin   \n",
       "2  A0A133N6E2  UNIPROT       bacitracin   \n",
       "3  A0A024P8A8  UNIPROT      beta_lactam   \n",
       "4  A0A0Q3WM94  UNIPROT  chloramphenicol   \n",
       "\n",
       "                                            sequence  \\\n",
       "0  MKHKNQATHKEFSQLEKKFDARLGLYAIDTGTNQTIAYRPNERFAF...   \n",
       "1  MDLWSALQALILGIVEGITEFLPISSTGHQIIVADLIGFGGERAIA...   \n",
       "2  MGIDFLFILKALIIAVVEGLTEFVPVSSTGHMILVGDLIHFNTQSG...   \n",
       "3  MKKIYESKFSMRQVKMFMSLLVLITLAACFDSTNSTNVSSKEGNEV...   \n",
       "4  MFKQIDENYPRKEHFHHYMTVTRCTYSLVIDLDITKLYAILKEKRL...   \n",
       "\n",
       "                                             dna_seq  \n",
       "0  GTGAAACATAAAAATCAGGCGACGCATAAAGAGTTCTCTCAACTTG...  \n",
       "1  ATGAATTGGTGGGAGCTGTTTGTTGCTTTAATTCTTGGTCTAGTGG...  \n",
       "2  ATGGGAATTGATTTTTTATTCATACTTAAGGCCTTAATAATCGCAG...  \n",
       "3  TCACTTTAGGGCATTAAGAGCGACCTTGGCAGCCTGCGCAATTAGC...  \n",
       "4  ATGAATGCAATTATGTTAGTTATCATTCTTGCACTAGTTGAAGGTA...  "
      ]
     },
     "execution_count": 6,
     "metadata": {},
     "output_type": "execute_result"
    }
   ],
   "source": [
    "ds_arg = pd.read_csv('/content/drive/MyDrive/PUBH 8885 CB/long_read_arg_dataset.csv')\n",
    "ds_arg.head()"
   ]
  },
  {
   "cell_type": "code",
   "execution_count": null,
   "metadata": {
    "colab": {
     "base_uri": "https://localhost:8080/"
    },
    "id": "6tCj-o33kmgJ",
    "outputId": "3e04d559-f419-41d7-fc14-a2cf3010765b"
   },
   "outputs": [
    {
     "name": "stdout",
     "output_type": "stream",
     "text": [
      "# Unique Resistance Types: 26 \n",
      "\n",
      "Unique Resistance Types: ['beta_lactam' 'bacitracin' 'chloramphenicol' 'aminoglycoside'\n",
      " 'macrolide-lincosamide-streptogramin' 'multidrug' 'polymyxin'\n",
      " 'fosfomycin' 'sulfonamide' 'glycopeptide' 'mupirocin' 'trimethoprim'\n",
      " 'quinolone' 'fosmidomycin' 'tetracycline' 'rifampin' 'peptide'\n",
      " 'kasugamycin' 'qa_compound' 'fusidic_acid' 'tunicamycin' 'tetracenomycin'\n",
      " 'streptothricin' 'thiostrepton' 'aminocoumarin' 'non_resistant']\n"
     ]
    }
   ],
   "source": [
    "# number of unique drug resistance type\n",
    "print(\"# Unique Resistance Types:\", len(set(ds_arg['type'])),\"\\n\\nUnique Resistance Types:\", ds_arg['type'].unique())"
   ]
  },
  {
   "cell_type": "code",
   "execution_count": null,
   "metadata": {
    "colab": {
     "base_uri": "https://localhost:8080/"
    },
    "id": "PDyAHZwZkoeD",
    "outputId": "7a712a71-2ca5-4c80-9cf0-12a3a6eefe51"
   },
   "outputs": [
    {
     "data": {
      "text/plain": [
       "3594"
      ]
     },
     "execution_count": 8,
     "metadata": {},
     "output_type": "execute_result"
    }
   ],
   "source": [
    "max_length = ds_arg['dna_seq'].str.len().max()\n",
    "max_length"
   ]
  },
  {
   "cell_type": "code",
   "execution_count": null,
   "metadata": {
    "colab": {
     "base_uri": "https://localhost:8080/"
    },
    "id": "hJa9pmjmkpuH",
    "outputId": "059579fa-a81b-4f9e-aab2-bd93b2d86230"
   },
   "outputs": [
    {
     "data": {
      "text/plain": [
       "Index(['id', 'db', 'type', 'sequence', 'dna_seq'], dtype='object')"
      ]
     },
     "execution_count": 9,
     "metadata": {},
     "output_type": "execute_result"
    }
   ],
   "source": [
    "ds_arg.columns"
   ]
  },
  {
   "cell_type": "code",
   "execution_count": null,
   "metadata": {
    "colab": {
     "base_uri": "https://localhost:8080/",
     "height": 931
    },
    "id": "n7KXIPG4WvB1",
    "outputId": "9c7738aa-5cb0-412a-bc93-483353fc482b"
   },
   "outputs": [
    {
     "data": {
      "text/html": [
       "<div>\n",
       "<style scoped>\n",
       "    .dataframe tbody tr th:only-of-type {\n",
       "        vertical-align: middle;\n",
       "    }\n",
       "\n",
       "    .dataframe tbody tr th {\n",
       "        vertical-align: top;\n",
       "    }\n",
       "\n",
       "    .dataframe thead th {\n",
       "        text-align: right;\n",
       "    }\n",
       "</style>\n",
       "<table border=\"1\" class=\"dataframe\">\n",
       "  <thead>\n",
       "    <tr style=\"text-align: right;\">\n",
       "      <th></th>\n",
       "      <th>count</th>\n",
       "    </tr>\n",
       "    <tr>\n",
       "      <th>type</th>\n",
       "      <th></th>\n",
       "    </tr>\n",
       "  </thead>\n",
       "  <tbody>\n",
       "    <tr>\n",
       "      <th>beta_lactam</th>\n",
       "      <td>4754</td>\n",
       "    </tr>\n",
       "    <tr>\n",
       "      <th>bacitracin</th>\n",
       "      <td>3932</td>\n",
       "    </tr>\n",
       "    <tr>\n",
       "      <th>macrolide-lincosamide-streptogramin</th>\n",
       "      <td>982</td>\n",
       "    </tr>\n",
       "    <tr>\n",
       "      <th>polymyxin</th>\n",
       "      <td>859</td>\n",
       "    </tr>\n",
       "    <tr>\n",
       "      <th>aminoglycoside</th>\n",
       "      <td>767</td>\n",
       "    </tr>\n",
       "    <tr>\n",
       "      <th>non_resistant</th>\n",
       "      <td>447</td>\n",
       "    </tr>\n",
       "    <tr>\n",
       "      <th>chloramphenicol</th>\n",
       "      <td>436</td>\n",
       "    </tr>\n",
       "    <tr>\n",
       "      <th>multidrug</th>\n",
       "      <td>403</td>\n",
       "    </tr>\n",
       "    <tr>\n",
       "      <th>fosfomycin</th>\n",
       "      <td>240</td>\n",
       "    </tr>\n",
       "    <tr>\n",
       "      <th>glycopeptide</th>\n",
       "      <td>171</td>\n",
       "    </tr>\n",
       "    <tr>\n",
       "      <th>tetracycline</th>\n",
       "      <td>153</td>\n",
       "    </tr>\n",
       "    <tr>\n",
       "      <th>quinolone</th>\n",
       "      <td>88</td>\n",
       "    </tr>\n",
       "    <tr>\n",
       "      <th>trimethoprim</th>\n",
       "      <td>72</td>\n",
       "    </tr>\n",
       "    <tr>\n",
       "      <th>rifampin</th>\n",
       "      <td>22</td>\n",
       "    </tr>\n",
       "    <tr>\n",
       "      <th>sulfonamide</th>\n",
       "      <td>9</td>\n",
       "    </tr>\n",
       "    <tr>\n",
       "      <th>peptide</th>\n",
       "      <td>6</td>\n",
       "    </tr>\n",
       "    <tr>\n",
       "      <th>kasugamycin</th>\n",
       "      <td>4</td>\n",
       "    </tr>\n",
       "    <tr>\n",
       "      <th>mupirocin</th>\n",
       "      <td>3</td>\n",
       "    </tr>\n",
       "    <tr>\n",
       "      <th>fusidic_acid</th>\n",
       "      <td>3</td>\n",
       "    </tr>\n",
       "    <tr>\n",
       "      <th>fosmidomycin</th>\n",
       "      <td>2</td>\n",
       "    </tr>\n",
       "    <tr>\n",
       "      <th>tunicamycin</th>\n",
       "      <td>2</td>\n",
       "    </tr>\n",
       "    <tr>\n",
       "      <th>qa_compound</th>\n",
       "      <td>2</td>\n",
       "    </tr>\n",
       "    <tr>\n",
       "      <th>tetracenomycin</th>\n",
       "      <td>2</td>\n",
       "    </tr>\n",
       "    <tr>\n",
       "      <th>streptothricin</th>\n",
       "      <td>1</td>\n",
       "    </tr>\n",
       "    <tr>\n",
       "      <th>thiostrepton</th>\n",
       "      <td>1</td>\n",
       "    </tr>\n",
       "    <tr>\n",
       "      <th>aminocoumarin</th>\n",
       "      <td>1</td>\n",
       "    </tr>\n",
       "  </tbody>\n",
       "</table>\n",
       "</div><br><label><b>dtype:</b> int64</label>"
      ],
      "text/plain": [
       "type\n",
       "beta_lactam                            4754\n",
       "bacitracin                             3932\n",
       "macrolide-lincosamide-streptogramin     982\n",
       "polymyxin                               859\n",
       "aminoglycoside                          767\n",
       "non_resistant                           447\n",
       "chloramphenicol                         436\n",
       "multidrug                               403\n",
       "fosfomycin                              240\n",
       "glycopeptide                            171\n",
       "tetracycline                            153\n",
       "quinolone                                88\n",
       "trimethoprim                             72\n",
       "rifampin                                 22\n",
       "sulfonamide                               9\n",
       "peptide                                   6\n",
       "kasugamycin                               4\n",
       "mupirocin                                 3\n",
       "fusidic_acid                              3\n",
       "fosmidomycin                              2\n",
       "tunicamycin                               2\n",
       "qa_compound                               2\n",
       "tetracenomycin                            2\n",
       "streptothricin                            1\n",
       "thiostrepton                              1\n",
       "aminocoumarin                             1\n",
       "Name: count, dtype: int64"
      ]
     },
     "execution_count": 10,
     "metadata": {},
     "output_type": "execute_result"
    }
   ],
   "source": [
    "type_counts = ds_arg['type'].value_counts()\n",
    "type_counts"
   ]
  },
  {
   "cell_type": "code",
   "execution_count": null,
   "metadata": {
    "id": "xBVYtm3DWzWH"
   },
   "outputs": [],
   "source": [
    "# Filter to keep only types with more than one occurrence\n",
    "ds_arg = ds_arg[ds_arg['type'].isin(type_counts[type_counts > 1].index)]"
   ]
  },
  {
   "cell_type": "code",
   "execution_count": null,
   "metadata": {
    "id": "mTDJprsmwYld"
   },
   "outputs": [],
   "source": [
    "# Create label encoder for drug resistance types\n",
    "label_encoder = LabelEncoder()\n",
    "labels = label_encoder.fit_transform(ds_arg['type'])"
   ]
  },
  {
   "cell_type": "code",
   "execution_count": null,
   "metadata": {
    "colab": {
     "base_uri": "https://localhost:8080/"
    },
    "id": "knG4NNN9kxM3",
    "outputId": "b82fcc14-40b4-48a2-ca9e-1edadee1cf1d"
   },
   "outputs": [
    {
     "data": {
      "text/plain": [
       "array([ 2,  1,  1, ..., 12, 12, 12])"
      ]
     },
     "execution_count": 13,
     "metadata": {},
     "output_type": "execute_result"
    }
   ],
   "source": [
    "labels"
   ]
  },
  {
   "cell_type": "code",
   "execution_count": null,
   "metadata": {
    "id": "7nCKEO7ckyZT"
   },
   "outputs": [],
   "source": [
    "# Split data\n",
    "sequences = ds_arg['dna_seq'].values\n",
    "\n",
    "# Get class counts\n",
    "class_counts = np.bincount(labels)\n",
    "\n",
    "# Find classes with only one sample\n",
    "single_sample_classes = np.where(class_counts == 1)[0]"
   ]
  },
  {
   "cell_type": "code",
   "execution_count": null,
   "metadata": {
    "id": "Qbhyu6Ymk063"
   },
   "outputs": [],
   "source": [
    "#If there are classes with only one sample remove them from the dataset\n",
    "if len(single_sample_classes) > 0:\n",
    "  print(f\"Removing classes with only one sample: {single_sample_classes}\")\n",
    "  # Create a mask to select samples not belonging to single-sample classes\n",
    "  mask = ~np.isin(labels, single_sample_classes)\n",
    "  sequences = sequences[mask]\n",
    "  labels = labels[mask]"
   ]
  },
  {
   "cell_type": "code",
   "execution_count": null,
   "metadata": {
    "colab": {
     "base_uri": "https://localhost:8080/"
    },
    "id": "QxOxpRu0sX4x",
    "outputId": "ed807d12-9fe2-491f-a799-f35b0b385d37"
   },
   "outputs": [
    {
     "name": "stdout",
     "output_type": "stream",
     "text": [
      "number of classes: 23\n"
     ]
    }
   ],
   "source": [
    "print(\"number of classes:\",len(set(labels)))"
   ]
  },
  {
   "cell_type": "code",
   "execution_count": null,
   "metadata": {
    "colab": {
     "base_uri": "https://localhost:8080/"
    },
    "id": "DXdKMHyIk2KD",
    "outputId": "210a20dd-e3aa-44a0-a9a1-96fbd796d2bd"
   },
   "outputs": [
    {
     "name": "stdout",
     "output_type": "stream",
     "text": [
      "                                                sequence  label\n",
      "0      GTGAAACATAAAAATCAGGCGACGCATAAAGAGTTCTCTCAACTTG...      2\n",
      "1      ATGAATTGGTGGGAGCTGTTTGTTGCTTTAATTCTTGGTCTAGTGG...      1\n",
      "2      ATGGGAATTGATTTTTTATTCATACTTAAGGCCTTAATAATCGCAG...      1\n",
      "3      TCACTTTAGGGCATTAAGAGCGACCTTGGCAGCCTGCGCAATTAGC...      2\n",
      "4      ATGAATGCAATTATGTTAGTTATCATTCTTGCACTAGTTGAAGGTA...      3\n",
      "...                                                  ...    ...\n",
      "13354  TAACGAATTTATGATGGAATTCCATCATCGACATAGTGCTTGTCAA...     12\n",
      "13355  TAACGAATTTATGATGGAATTCCATCATCGACATAGTGCTTGTCAA...     12\n",
      "13356  ATCGAATTGATGATGGAATTCCATCATCAATAAATTGCTTGTCAAA...     12\n",
      "13357  ATCGAATTGATGATGGAATTCCATCATCAATAAATTGCTTGTCAAA...     12\n",
      "13358  ATCGAATTGATGATGGAATTCCATCATCAATAAATTGCTTGTCAAA...     12\n",
      "\n",
      "[13359 rows x 2 columns]\n"
     ]
    }
   ],
   "source": [
    "dataset = pd.DataFrame({\n",
    "    'sequence': sequences,\n",
    "    'label': labels\n",
    "})\n",
    "print(dataset)"
   ]
  },
  {
   "cell_type": "code",
   "execution_count": null,
   "metadata": {
    "colab": {
     "base_uri": "https://localhost:8080/"
    },
    "id": "nxJJYHqmk4j1",
    "outputId": "17a6c099-454c-475b-a7f5-f2da3f3a8c7f"
   },
   "outputs": [
    {
     "name": "stdout",
     "output_type": "stream",
     "text": [
      "Train Size: 11306 \n",
      "Validation Size: 984 \n",
      "Test Size: 1069\n"
     ]
    }
   ],
   "source": [
    "# Create Train Test split\n",
    "train_sequences, test_sequences, train_labels, test_labels = train_test_split(dataset['sequence'], dataset['label'], test_size=0.08, random_state=42,stratify=labels)\n",
    "\n",
    "train_sequences, validation_sequences, train_labels, validation_labels = train_test_split(train_sequences, train_labels, test_size=0.08, random_state=42)\n",
    "\n",
    "print(\"Train Size:\",len(train_sequences), \"\\nValidation Size:\", len(validation_sequences), \"\\nTest Size:\", len(test_sequences))"
   ]
  },
  {
   "cell_type": "code",
   "execution_count": null,
   "metadata": {
    "id": "AmJcsRfJvUXW"
   },
   "outputs": [],
   "source": [
    "model_name = \"InstaDeepAI/nucleotide-transformer-v2-100m-multi-species\""
   ]
  },
  {
   "cell_type": "code",
   "execution_count": null,
   "metadata": {
    "colab": {
     "base_uri": "https://localhost:8080/",
     "height": 240,
     "referenced_widgets": [
      "eaad4bc8593a4b279e7a42d270bd1510",
      "f50be7239d0c468c832bf643cdeeb789",
      "d7e3e57678fc47169c5b70cae34e91eb",
      "962495a069a04a62bebe4de50cc86ebe",
      "f8b53d8bcbbe44a88c944aa79b5ea5ad",
      "f7841ab322b049d2b3e5edca48385882",
      "17b2db48e7f5423e9aff144f39089fe8",
      "9aab771e3fd845d4bf403336cfbaef12",
      "f156608c04ed42fc9b7b0bce700d60b4",
      "dc1dd77338b74d3c9d3e9f91579e032b",
      "f421e1a4a54a4764b7325d75ec95c4c9",
      "861dffa5293a48189c1a1cd887a48d95",
      "5bb32ab9e2f7468ba458522eb12ec35f",
      "98477aedaf6b4ff69c7e1bfb75fd14d5",
      "b4f9a1f9aa064bb9a70c46554ec694a3",
      "82380e3a8d2f4eb5884c06a549bf8d35",
      "9d925efaaee948f7ba4305b4ea394132",
      "38f575de152846ad862002b571539bf6",
      "9fdcf2314d064ef89555fb65060aa7bf",
      "4de7236ff7a448f79ea9431671172b66",
      "51e324aa2ae54a898c4893ee2e53e40e",
      "6bcd3ab81ea549f28c32cc71c00d61e9",
      "c6d7c1b4f45044ef937f1ffcc2f09412",
      "66117373df994fe598c82a7fa1fc3bcf",
      "a15bb0e0792442788c64303968783c13",
      "65b49b61b4a74bb6aba6303a2c854f99",
      "7acec29f4727479dbd65a638a980a4bb",
      "46c5981273374f928db093d3547dfb44",
      "a5ca266c082a499abda40c03d11ed777",
      "4a85a2e82a5e4064a23e0c890b41d055",
      "8be869d3281e49fc8bb4a6a0efdc4d00",
      "16a8087f05794f009946af5bb837c331",
      "575a4a34d4f4478e880543ff7bd37054"
     ]
    },
    "id": "2dRzNKs_p46x",
    "outputId": "8e6c45c4-984c-4314-eda4-637ac2181cd4"
   },
   "outputs": [
    {
     "name": "stderr",
     "output_type": "stream",
     "text": [
      "/usr/local/lib/python3.10/dist-packages/huggingface_hub/utils/_auth.py:94: UserWarning: \n",
      "The secret `HF_TOKEN` does not exist in your Colab secrets.\n",
      "To authenticate with the Hugging Face Hub, create a token in your settings tab (https://huggingface.co/settings/tokens), set it as secret in your Google Colab and restart your session.\n",
      "You will be able to reuse this secret in all of your notebooks.\n",
      "Please note that authentication is recommended but still optional to access public models or datasets.\n",
      "  warnings.warn(\n"
     ]
    },
    {
     "data": {
      "application/vnd.jupyter.widget-view+json": {
       "model_id": "eaad4bc8593a4b279e7a42d270bd1510",
       "version_major": 2,
       "version_minor": 0
      },
      "text/plain": [
       "tokenizer_config.json:   0%|          | 0.00/129 [00:00<?, ?B/s]"
      ]
     },
     "metadata": {},
     "output_type": "display_data"
    },
    {
     "data": {
      "application/vnd.jupyter.widget-view+json": {
       "model_id": "861dffa5293a48189c1a1cd887a48d95",
       "version_major": 2,
       "version_minor": 0
      },
      "text/plain": [
       "vocab.txt:   0%|          | 0.00/28.7k [00:00<?, ?B/s]"
      ]
     },
     "metadata": {},
     "output_type": "display_data"
    },
    {
     "data": {
      "application/vnd.jupyter.widget-view+json": {
       "model_id": "c6d7c1b4f45044ef937f1ffcc2f09412",
       "version_major": 2,
       "version_minor": 0
      },
      "text/plain": [
       "special_tokens_map.json:   0%|          | 0.00/101 [00:00<?, ?B/s]"
      ]
     },
     "metadata": {},
     "output_type": "display_data"
    }
   ],
   "source": [
    "tokenizer = AutoTokenizer.from_pretrained(model_name)"
   ]
  },
  {
   "cell_type": "code",
   "execution_count": null,
   "metadata": {
    "id": "Hyoe7CiEvVTM"
   },
   "outputs": [],
   "source": [
    "# Sequence splitting function\n",
    "def split_sequence(sequence, max_len=1024, overlap=512):\n",
    "    chunks = []\n",
    "    for i in range(0, len(sequence), max_len - overlap):\n",
    "        chunk = sequence[i:i + max_len]\n",
    "        if len(chunk) > 0:\n",
    "            chunks.append(chunk)\n",
    "    return chunks"
   ]
  },
  {
   "cell_type": "code",
   "execution_count": null,
   "metadata": {
    "id": "hVpEkfIdvYH1"
   },
   "outputs": [],
   "source": [
    "# Preprocess data (split and label encoding)\n",
    "def preprocess_data(sequences, labels, max_len=1024, overlap=512):\n",
    "    split_sequences = []\n",
    "    split_labels = []\n",
    "    for seq, label in zip(sequences, labels):\n",
    "        chunks = split_sequence(seq, max_len=max_len, overlap=overlap)\n",
    "        split_sequences.extend(chunks)\n",
    "        split_labels.extend([label] * len(chunks))\n",
    "    return split_sequences, split_labels"
   ]
  },
  {
   "cell_type": "code",
   "execution_count": null,
   "metadata": {
    "id": "nv8rBkcUvYFP"
   },
   "outputs": [],
   "source": [
    "# Tokenization and Dataset class\n",
    "class ArgDataset(Dataset):\n",
    "    def __init__(self, sequences, labels, tokenizer, max_len=1024):\n",
    "        self.encodings = tokenizer(\n",
    "            sequences,\n",
    "            truncation=True,\n",
    "            padding=True,\n",
    "            max_length=max_len,\n",
    "            return_tensors=\"pt\",\n",
    "        )\n",
    "        self.labels = torch.tensor(labels)\n",
    "\n",
    "    def __len__(self):\n",
    "        return len(self.labels)\n",
    "\n",
    "    def __getitem__(self, idx):\n",
    "        item = {key: val[idx] for key, val in self.encodings.items()}\n",
    "        item[\"labels\"] = self.labels[idx]\n",
    "        return item"
   ]
  },
  {
   "cell_type": "code",
   "execution_count": null,
   "metadata": {
    "id": "wser-xMdvYCY"
   },
   "outputs": [],
   "source": [
    "# Split and preprocess the sequences\n",
    "train_sequences, train_labels = preprocess_data(train_sequences, train_labels)\n",
    "validation_sequences, validation_labels = preprocess_data(validation_sequences, validation_labels)\n",
    "test_sequences, test_labels = preprocess_data(test_sequences, test_labels)"
   ]
  },
  {
   "cell_type": "code",
   "execution_count": null,
   "metadata": {
    "id": "aFw-KLGNvX_0"
   },
   "outputs": [],
   "source": [
    "# Create datasets\n",
    "train_dataset = ArgDataset(train_sequences, train_labels, tokenizer)\n",
    "validation_dataset = ArgDataset(validation_sequences, validation_labels, tokenizer)\n",
    "test_dataset = ArgDataset(test_sequences, test_labels, tokenizer)"
   ]
  },
  {
   "cell_type": "code",
   "execution_count": null,
   "metadata": {
    "colab": {
     "base_uri": "https://localhost:8080/"
    },
    "id": "_yvRfTGxsZet",
    "outputId": "f922ba6c-0ac4-496b-ea06-94df837b3dc6"
   },
   "outputs": [
    {
     "data": {
      "text/plain": [
       "1024"
      ]
     },
     "execution_count": 26,
     "metadata": {},
     "output_type": "execute_result"
    }
   ],
   "source": [
    "len(train_dataset.__getitem__(0)['input_ids'])"
   ]
  },
  {
   "cell_type": "code",
   "execution_count": null,
   "metadata": {
    "colab": {
     "base_uri": "https://localhost:8080/"
    },
    "id": "a-wXznIAvQSe",
    "outputId": "52d9df17-77cc-44aa-fe25-4555ca3f0bbc"
   },
   "outputs": [
    {
     "name": "stdout",
     "output_type": "stream",
     "text": [
      "26204 26204\n",
      "2296 2296\n",
      "2512 2512\n"
     ]
    }
   ],
   "source": [
    "print(len(train_sequences), len(train_labels))\n",
    "print(len(validation_sequences), len(validation_labels))\n",
    "print(len(test_sequences), len(test_labels))"
   ]
  },
  {
   "cell_type": "code",
   "execution_count": null,
   "metadata": {
    "colab": {
     "base_uri": "https://localhost:8080/"
    },
    "id": "wWUuRkkYwBsw",
    "outputId": "e9f0cd9d-b04d-4d0d-bfde-7588b181078a"
   },
   "outputs": [
    {
     "name": "stdout",
     "output_type": "stream",
     "text": [
      "{0, 1, 2, 3, 4, 5, 6, 7, 8, 9, 10, 11, 12, 13, 14, 15, 16, 17, 18, 19, 20, 21, 22}\n"
     ]
    }
   ],
   "source": [
    "n_labels = len(set(dataset['label']))\n",
    "print(set(dataset['label']))"
   ]
  },
  {
   "cell_type": "code",
   "execution_count": null,
   "metadata": {
    "colab": {
     "base_uri": "https://localhost:8080/",
     "height": 851,
     "referenced_widgets": [
      "421da93df6d54975a4b1d5d2d6f0739e",
      "62d4c5db0ea249e5b5defc646f3a36b6",
      "087a1d58955f4316b43260b56f7d1988",
      "54fd02446f684432be538ef7d3cc97bc",
      "5cecf88bb55644238ba697f33b05c165",
      "7012c44b293941e08fa44f1d291cd945",
      "8f0b498a8bae4c5baf9388db4798216d",
      "2bf6a4637fd249a5b5b08288989862e1",
      "d65b1f25d9014c74b04434218ba9bf99",
      "c0696016555542aa8757cb08060b0eeb",
      "fa5d8c03066a49259af6a913a58898d2",
      "d818730f2bc5406e912c0174c58ed5b1",
      "b5ffe6c45ab14914a6b5d074d0d34b5f",
      "a4d1b19ab69e46998f1855a16cb5ca47",
      "5d3508192a2646c8bebf7edc23d86d57",
      "83e1df40d79d4da9a304be2e7e9f7fa8",
      "6f05ae98d28f4d2e867c9e3502d2691f",
      "713c8a5ffe2346428d1191f71b9610fb",
      "230b825fc7784f98846e3f476876faa2",
      "d75e53b7b10045cea589e0ce9006f09d",
      "3f2ab4bf0807428b9949970cf6806fb5",
      "8830119703ee4ffba4f720b67aa16ba0"
     ]
    },
    "id": "VM6nkUrr6XI5",
    "outputId": "f3a53b2b-2397-44fa-d70b-c6770cfeaccc"
   },
   "outputs": [
    {
     "data": {
      "application/vnd.jupyter.widget-view+json": {
       "model_id": "421da93df6d54975a4b1d5d2d6f0739e",
       "version_major": 2,
       "version_minor": 0
      },
      "text/plain": [
       "config.json:   0%|          | 0.00/1.06k [00:00<?, ?B/s]"
      ]
     },
     "metadata": {},
     "output_type": "display_data"
    },
    {
     "data": {
      "application/vnd.jupyter.widget-view+json": {
       "model_id": "d818730f2bc5406e912c0174c58ed5b1",
       "version_major": 2,
       "version_minor": 0
      },
      "text/plain": [
       "esm_config.py:   0%|          | 0.00/14.9k [00:00<?, ?B/s]"
      ]
     },
     "metadata": {},
     "output_type": "display_data"
    },
    {
     "name": "stderr",
     "output_type": "stream",
     "text": [
      "A new version of the following files was downloaded from https://huggingface.co/InstaDeepAI/nucleotide-transformer-v2-100m-multi-species:\n",
      "- esm_config.py\n",
      ". Make sure to double-check they do not contain any added malicious code. To avoid downloading new versions of the code file, you can pin a revision.\n"
     ]
    },
    {
     "name": "stdout",
     "output_type": "stream",
     "text": [
      "EsmConfig {\n",
      "  \"_name_or_path\": \"InstaDeepAI/nucleotide-transformer-v2-100m-multi-species\",\n",
      "  \"add_bias_fnn\": false,\n",
      "  \"architectures\": [\n",
      "    \"EsmForMaskedLM\",\n",
      "    \"EsmForTokenClassification\",\n",
      "    \"EsmForSequenceClassification\"\n",
      "  ],\n",
      "  \"attention_probs_dropout_prob\": 0.0,\n",
      "  \"auto_map\": {\n",
      "    \"AutoConfig\": \"InstaDeepAI/nucleotide-transformer-v2-100m-multi-species--esm_config.EsmConfig\",\n",
      "    \"AutoModelForMaskedLM\": \"InstaDeepAI/nucleotide-transformer-v2-100m-multi-species--modeling_esm.EsmForMaskedLM\",\n",
      "    \"AutoModelForSequenceClassification\": \"InstaDeepAI/nucleotide-transformer-v2-100m-multi-species--modeling_esm.EsmForSequenceClassification\",\n",
      "    \"AutoModelForTokenClassification\": \"InstaDeepAI/nucleotide-transformer-v2-100m-multi-species--modeling_esm.EsmForTokenClassification\"\n",
      "  },\n",
      "  \"emb_layer_norm_before\": false,\n",
      "  \"esmfold_config\": null,\n",
      "  \"hidden_dropout_prob\": 0.0,\n",
      "  \"hidden_size\": 512,\n",
      "  \"initializer_range\": 0.02,\n",
      "  \"intermediate_size\": 2048,\n",
      "  \"is_folding_model\": false,\n",
      "  \"layer_norm_eps\": 1e-12,\n",
      "  \"mask_token_id\": 2,\n",
      "  \"max_position_embeddings\": 2050,\n",
      "  \"model_type\": \"esm\",\n",
      "  \"num_attention_heads\": 16,\n",
      "  \"num_hidden_layers\": 22,\n",
      "  \"pad_token_id\": 1,\n",
      "  \"position_embedding_type\": \"rotary\",\n",
      "  \"tie_word_embeddings\": false,\n",
      "  \"token_dropout\": false,\n",
      "  \"torch_dtype\": \"float32\",\n",
      "  \"transformers_version\": \"4.46.2\",\n",
      "  \"use_cache\": false,\n",
      "  \"vocab_list\": null,\n",
      "  \"vocab_size\": 4107\n",
      "}\n",
      "\n"
     ]
    }
   ],
   "source": [
    "config = AutoConfig.from_pretrained(model_name, trust_remote_code=True)\n",
    "print(config)"
   ]
  },
  {
   "cell_type": "code",
   "execution_count": null,
   "metadata": {
    "colab": {
     "base_uri": "https://localhost:8080/",
     "height": 244,
     "referenced_widgets": [
      "547f14a6d6d14dd5975673cbfe0d0957",
      "47cf21b6b112455793b668d38dafa3f0",
      "2ddfff50c380482a922c41cb57b8a4fe",
      "08e6de1e96f24064900c00088aa3cbf8",
      "4995055d989e4fa8a375d7b80c75a4aa",
      "9faea05eb7334072a347cecefe01bbae",
      "3941c112f8114b239dfd3e16cf8f40b5",
      "327a21d761c8451fa35bd17295bc1414",
      "cd0a3531b0fa49ef8f76ea2488d614dd",
      "f0d49875dbf5411ea74d91628d02bc2e",
      "afba50ae453548e294e7d2d4e064462e",
      "bd0c0dd4f0de444cabd606acce40eeaa",
      "ccfed85d5d8e49ee9a456b10c84b722d",
      "6a33cd956fce452aa50c14b8103918de",
      "f1b0151ea6b4405eb879d91b49f478f3",
      "255bcefa53a54aa28c58abecf018ee7d",
      "86eaac0d5f164b82accb0185ec094108",
      "8506bc51df1d4884a1ee94436b9a48bc",
      "d4fb91c6ff3e4ed8a2bed678a7d1a8bb",
      "1ba1c933f99c4808ba09db7deaeb624a",
      "5a43225646d446b487b2c83b2bafcf4e",
      "687466284c02473fa7ece2c977e9ea3d"
     ]
    },
    "id": "M4KvyYK8vX9s",
    "outputId": "78776471-5d7d-4229-a6e4-53c46b67df6d"
   },
   "outputs": [
    {
     "data": {
      "application/vnd.jupyter.widget-view+json": {
       "model_id": "547f14a6d6d14dd5975673cbfe0d0957",
       "version_major": 2,
       "version_minor": 0
      },
      "text/plain": [
       "modeling_esm.py:   0%|          | 0.00/58.2k [00:00<?, ?B/s]"
      ]
     },
     "metadata": {},
     "output_type": "display_data"
    },
    {
     "name": "stderr",
     "output_type": "stream",
     "text": [
      "A new version of the following files was downloaded from https://huggingface.co/InstaDeepAI/nucleotide-transformer-v2-100m-multi-species:\n",
      "- modeling_esm.py\n",
      ". Make sure to double-check they do not contain any added malicious code. To avoid downloading new versions of the code file, you can pin a revision.\n"
     ]
    },
    {
     "data": {
      "application/vnd.jupyter.widget-view+json": {
       "model_id": "bd0c0dd4f0de444cabd606acce40eeaa",
       "version_major": 2,
       "version_minor": 0
      },
      "text/plain": [
       "model.safetensors:   0%|          | 0.00/392M [00:00<?, ?B/s]"
      ]
     },
     "metadata": {},
     "output_type": "display_data"
    },
    {
     "name": "stderr",
     "output_type": "stream",
     "text": [
      "Some weights of the model checkpoint at InstaDeepAI/nucleotide-transformer-v2-100m-multi-species were not used when initializing EsmForSequenceClassification: ['lm_head.bias', 'lm_head.decoder.weight', 'lm_head.dense.bias', 'lm_head.dense.weight', 'lm_head.layer_norm.bias', 'lm_head.layer_norm.weight']\n",
      "- This IS expected if you are initializing EsmForSequenceClassification from the checkpoint of a model trained on another task or with another architecture (e.g. initializing a BertForSequenceClassification model from a BertForPreTraining model).\n",
      "- This IS NOT expected if you are initializing EsmForSequenceClassification from the checkpoint of a model that you expect to be exactly identical (initializing a BertForSequenceClassification model from a BertForSequenceClassification model).\n",
      "Some weights of EsmForSequenceClassification were not initialized from the model checkpoint at InstaDeepAI/nucleotide-transformer-v2-100m-multi-species and are newly initialized: ['classifier.dense.bias', 'classifier.dense.weight', 'classifier.out_proj.bias', 'classifier.out_proj.weight']\n",
      "You should probably TRAIN this model on a down-stream task to be able to use it for predictions and inference.\n"
     ]
    }
   ],
   "source": [
    "model = AutoModelForSequenceClassification.from_pretrained(\n",
    "    model_name,\n",
    "    num_labels=len(set(labels)),\n",
    "    trust_remote_code=True,\n",
    "    ignore_mismatched_sizes=True\n",
    ")"
   ]
  },
  {
   "cell_type": "code",
   "execution_count": null,
   "metadata": {
    "id": "aALB_iFhvX7W"
   },
   "outputs": [],
   "source": [
    "# Define the metric for the evaluation using the f1 score\n",
    "# def compute_metrics(eval_pred):\n",
    "#     \"\"\"Computes F1 score for multi-class classification\"\"\"\n",
    "#     predictions = np.argmax(eval_pred.predictions, axis=-1)\n",
    "#     references = eval_pred.label_ids\n",
    "\n",
    "#     # Compute weighted F1 score to account for class imbalance\n",
    "#     f1 = f1_score(references, predictions, average='weighted')\n",
    "\n",
    "#     macro_f1 = f1_score(references, predictions, average='macro')\n",
    "#     micro_f1 = f1_score(references, predictions, average='micro')\n",
    "\n",
    "#     return {\n",
    "#         'weighted_f1_score': f1,\n",
    "#         'macro_f1_score': macro_f1,\n",
    "#         'micro_f1_score': micro_f1\n",
    "#     }\n",
    "def compute_metrics(eval_pred):\n",
    "    \"\"\"Computes F1 score for multi-class classification\"\"\"\n",
    "    labels = eval_pred.label_ids\n",
    "    predictions = np.argmax(eval_pred.predictions, axis=-1)\n",
    "\n",
    "#    precision, recall, f1, support = precision_recall_fscore_support(labels, predictions, average=None, labels=range(n_labels))\n",
    "\n",
    "    micro_precision, micro_recall, micro_f1, micro_support = precision_recall_fscore_support(labels, predictions, average='micro')\n",
    "\n",
    "    macro_precision, macro_recall, macro_f1, _ = precision_recall_fscore_support(labels, predictions, average='macro')\n",
    "\n",
    "    weighted_precision, weighted_recall, weighted_f1, weighted_support = precision_recall_fscore_support(labels, predictions, average='weighted')\n",
    "\n",
    "    return {\n",
    "        # 'precision': precision,\n",
    "        # 'recall': recall,\n",
    "        # 'f1': f1,\n",
    "        'micro_precision': micro_precision,\n",
    "        'macro_precision': macro_precision,\n",
    "        'weighted_precision': weighted_precision,\n",
    "        'micro_recall': micro_recall,\n",
    "        'macro_recall': macro_recall,\n",
    "        'weighted_recall': weighted_recall,\n",
    "        'micro_f1': micro_f1,\n",
    "        'macro_f1': macro_f1,\n",
    "        'weighted_f1': weighted_f1\n",
    "    }"
   ]
  },
  {
   "cell_type": "code",
   "execution_count": null,
   "metadata": {
    "colab": {
     "base_uri": "https://localhost:8080/"
    },
    "id": "ZAUKYmd6vX5A",
    "outputId": "d5d3adf6-6725-49f1-e183-5f8446122cd4"
   },
   "outputs": [
    {
     "name": "stderr",
     "output_type": "stream",
     "text": [
      "/usr/local/lib/python3.10/dist-packages/transformers/training_args.py:1568: FutureWarning: `evaluation_strategy` is deprecated and will be removed in version 4.46 of 🤗 Transformers. Use `eval_strategy` instead\n",
      "  warnings.warn(\n"
     ]
    }
   ],
   "source": [
    "training_args = TrainingArguments(\n",
    "    \"/content/drive/MyDrive/PUBH 8885 CB/nuc_arg_long_readv4\",\n",
    "    remove_unused_columns=False,\n",
    "    report_to=\"none\",\n",
    "    evaluation_strategy=\"steps\",\n",
    "    save_strategy=\"steps\",\n",
    "    learning_rate=2.5e-5,\n",
    "    lr_scheduler_type=\"cosine\",\n",
    "    warmup_steps=500,\n",
    "    per_device_train_batch_size=8,\n",
    "    gradient_accumulation_steps=8,\n",
    "    per_device_eval_batch_size=64,\n",
    "    num_train_epochs=5,\n",
    "    logging_steps=100,\n",
    "    load_best_model_at_end=True,\n",
    "    metric_for_best_model=\"eval_weighted_f1\",\n",
    "    fp16=True,\n",
    ")"
   ]
  },
  {
   "cell_type": "code",
   "execution_count": null,
   "metadata": {
    "colab": {
     "base_uri": "https://localhost:8080/"
    },
    "id": "WgWwjdYMvX2p",
    "outputId": "d4ef9e2b-131c-4bf5-882a-3994bf3b6982"
   },
   "outputs": [
    {
     "name": "stderr",
     "output_type": "stream",
     "text": [
      "<ipython-input-33-ba2400f7b8a9>:1: FutureWarning: `tokenizer` is deprecated and will be removed in version 5.0.0 for `Trainer.__init__`. Use `processing_class` instead.\n",
      "  trainer = Trainer(\n"
     ]
    }
   ],
   "source": [
    "trainer = Trainer(\n",
    "    model=model,\n",
    "    args=training_args,\n",
    "    train_dataset=train_dataset,\n",
    "    eval_dataset=validation_dataset,\n",
    "    tokenizer=tokenizer,\n",
    "    compute_metrics=compute_metrics,\n",
    ")"
   ]
  },
  {
   "cell_type": "code",
   "execution_count": null,
   "metadata": {
    "colab": {
     "base_uri": "https://localhost:8080/",
     "height": 1000
    },
    "id": "CsSSRQ6pvX0U",
    "outputId": "86f33c68-ee0f-4541-a4c8-b13216f19cfe"
   },
   "outputs": [
    {
     "data": {
      "text/html": [
       "\n",
       "    <div>\n",
       "      \n",
       "      <progress value='2045' max='2045' style='width:300px; height:20px; vertical-align: middle;'></progress>\n",
       "      [2045/2045 1:52:44, Epoch 4/5]\n",
       "    </div>\n",
       "    <table border=\"1\" class=\"dataframe\">\n",
       "  <thead>\n",
       " <tr style=\"text-align: left;\">\n",
       "      <th>Step</th>\n",
       "      <th>Training Loss</th>\n",
       "      <th>Validation Loss</th>\n",
       "      <th>Micro Precision</th>\n",
       "      <th>Macro Precision</th>\n",
       "      <th>Weighted Precision</th>\n",
       "      <th>Micro Recall</th>\n",
       "      <th>Macro Recall</th>\n",
       "      <th>Weighted Recall</th>\n",
       "      <th>Micro F1</th>\n",
       "      <th>Macro F1</th>\n",
       "      <th>Weighted F1</th>\n",
       "    </tr>\n",
       "  </thead>\n",
       "  <tbody>\n",
       "    <tr>\n",
       "      <td>100</td>\n",
       "      <td>2.872200</td>\n",
       "      <td>2.381986</td>\n",
       "      <td>0.484756</td>\n",
       "      <td>0.065909</td>\n",
       "      <td>0.300099</td>\n",
       "      <td>0.484756</td>\n",
       "      <td>0.102633</td>\n",
       "      <td>0.484756</td>\n",
       "      <td>0.484756</td>\n",
       "      <td>0.079161</td>\n",
       "      <td>0.365809</td>\n",
       "    </tr>\n",
       "    <tr>\n",
       "      <td>200</td>\n",
       "      <td>1.946700</td>\n",
       "      <td>1.618881</td>\n",
       "      <td>0.603223</td>\n",
       "      <td>0.172963</td>\n",
       "      <td>0.510242</td>\n",
       "      <td>0.603223</td>\n",
       "      <td>0.145199</td>\n",
       "      <td>0.603223</td>\n",
       "      <td>0.603223</td>\n",
       "      <td>0.123528</td>\n",
       "      <td>0.502828</td>\n",
       "    </tr>\n",
       "    <tr>\n",
       "      <td>300</td>\n",
       "      <td>1.501900</td>\n",
       "      <td>1.327062</td>\n",
       "      <td>0.687282</td>\n",
       "      <td>0.163916</td>\n",
       "      <td>0.582133</td>\n",
       "      <td>0.687282</td>\n",
       "      <td>0.206067</td>\n",
       "      <td>0.687282</td>\n",
       "      <td>0.687282</td>\n",
       "      <td>0.180952</td>\n",
       "      <td>0.626703</td>\n",
       "    </tr>\n",
       "    <tr>\n",
       "      <td>400</td>\n",
       "      <td>1.260200</td>\n",
       "      <td>1.157090</td>\n",
       "      <td>0.715157</td>\n",
       "      <td>0.250395</td>\n",
       "      <td>0.652352</td>\n",
       "      <td>0.715157</td>\n",
       "      <td>0.260231</td>\n",
       "      <td>0.715157</td>\n",
       "      <td>0.715157</td>\n",
       "      <td>0.247962</td>\n",
       "      <td>0.674291</td>\n",
       "    </tr>\n",
       "    <tr>\n",
       "      <td>500</td>\n",
       "      <td>1.011600</td>\n",
       "      <td>0.875945</td>\n",
       "      <td>0.801829</td>\n",
       "      <td>0.427055</td>\n",
       "      <td>0.778678</td>\n",
       "      <td>0.801829</td>\n",
       "      <td>0.405225</td>\n",
       "      <td>0.801829</td>\n",
       "      <td>0.801829</td>\n",
       "      <td>0.406623</td>\n",
       "      <td>0.785608</td>\n",
       "    </tr>\n",
       "    <tr>\n",
       "      <td>600</td>\n",
       "      <td>0.853900</td>\n",
       "      <td>0.763539</td>\n",
       "      <td>0.834059</td>\n",
       "      <td>0.498583</td>\n",
       "      <td>0.826341</td>\n",
       "      <td>0.834059</td>\n",
       "      <td>0.492674</td>\n",
       "      <td>0.834059</td>\n",
       "      <td>0.834059</td>\n",
       "      <td>0.472495</td>\n",
       "      <td>0.826035</td>\n",
       "    </tr>\n",
       "    <tr>\n",
       "      <td>700</td>\n",
       "      <td>0.739800</td>\n",
       "      <td>0.682771</td>\n",
       "      <td>0.846690</td>\n",
       "      <td>0.595920</td>\n",
       "      <td>0.836882</td>\n",
       "      <td>0.846690</td>\n",
       "      <td>0.516030</td>\n",
       "      <td>0.846690</td>\n",
       "      <td>0.846690</td>\n",
       "      <td>0.515649</td>\n",
       "      <td>0.835931</td>\n",
       "    </tr>\n",
       "    <tr>\n",
       "      <td>800</td>\n",
       "      <td>0.672800</td>\n",
       "      <td>0.612245</td>\n",
       "      <td>0.852787</td>\n",
       "      <td>0.670080</td>\n",
       "      <td>0.860259</td>\n",
       "      <td>0.852787</td>\n",
       "      <td>0.553745</td>\n",
       "      <td>0.852787</td>\n",
       "      <td>0.852787</td>\n",
       "      <td>0.560969</td>\n",
       "      <td>0.846599</td>\n",
       "    </tr>\n",
       "    <tr>\n",
       "      <td>900</td>\n",
       "      <td>0.559300</td>\n",
       "      <td>0.603323</td>\n",
       "      <td>0.862805</td>\n",
       "      <td>0.645809</td>\n",
       "      <td>0.862071</td>\n",
       "      <td>0.862805</td>\n",
       "      <td>0.622386</td>\n",
       "      <td>0.862805</td>\n",
       "      <td>0.862805</td>\n",
       "      <td>0.626963</td>\n",
       "      <td>0.860494</td>\n",
       "    </tr>\n",
       "    <tr>\n",
       "      <td>1000</td>\n",
       "      <td>0.549200</td>\n",
       "      <td>0.578538</td>\n",
       "      <td>0.861063</td>\n",
       "      <td>0.716119</td>\n",
       "      <td>0.875058</td>\n",
       "      <td>0.861063</td>\n",
       "      <td>0.656159</td>\n",
       "      <td>0.861063</td>\n",
       "      <td>0.861063</td>\n",
       "      <td>0.656817</td>\n",
       "      <td>0.863537</td>\n",
       "    </tr>\n",
       "    <tr>\n",
       "      <td>1100</td>\n",
       "      <td>0.502800</td>\n",
       "      <td>0.530347</td>\n",
       "      <td>0.885453</td>\n",
       "      <td>0.749597</td>\n",
       "      <td>0.886928</td>\n",
       "      <td>0.885453</td>\n",
       "      <td>0.717731</td>\n",
       "      <td>0.885453</td>\n",
       "      <td>0.885453</td>\n",
       "      <td>0.726229</td>\n",
       "      <td>0.884497</td>\n",
       "    </tr>\n",
       "    <tr>\n",
       "      <td>1200</td>\n",
       "      <td>0.503300</td>\n",
       "      <td>0.495146</td>\n",
       "      <td>0.887631</td>\n",
       "      <td>0.737204</td>\n",
       "      <td>0.887663</td>\n",
       "      <td>0.887631</td>\n",
       "      <td>0.741405</td>\n",
       "      <td>0.887631</td>\n",
       "      <td>0.887631</td>\n",
       "      <td>0.735599</td>\n",
       "      <td>0.886724</td>\n",
       "    </tr>\n",
       "    <tr>\n",
       "      <td>1300</td>\n",
       "      <td>0.433200</td>\n",
       "      <td>0.517604</td>\n",
       "      <td>0.886760</td>\n",
       "      <td>0.811241</td>\n",
       "      <td>0.892519</td>\n",
       "      <td>0.886760</td>\n",
       "      <td>0.813594</td>\n",
       "      <td>0.886760</td>\n",
       "      <td>0.886760</td>\n",
       "      <td>0.806624</td>\n",
       "      <td>0.888146</td>\n",
       "    </tr>\n",
       "    <tr>\n",
       "      <td>1400</td>\n",
       "      <td>0.432800</td>\n",
       "      <td>0.480106</td>\n",
       "      <td>0.890679</td>\n",
       "      <td>0.822347</td>\n",
       "      <td>0.892365</td>\n",
       "      <td>0.890679</td>\n",
       "      <td>0.820526</td>\n",
       "      <td>0.890679</td>\n",
       "      <td>0.890679</td>\n",
       "      <td>0.818857</td>\n",
       "      <td>0.890819</td>\n",
       "    </tr>\n",
       "    <tr>\n",
       "      <td>1500</td>\n",
       "      <td>0.396500</td>\n",
       "      <td>0.481842</td>\n",
       "      <td>0.891986</td>\n",
       "      <td>0.821444</td>\n",
       "      <td>0.894948</td>\n",
       "      <td>0.891986</td>\n",
       "      <td>0.827831</td>\n",
       "      <td>0.891986</td>\n",
       "      <td>0.891986</td>\n",
       "      <td>0.821662</td>\n",
       "      <td>0.892495</td>\n",
       "    </tr>\n",
       "    <tr>\n",
       "      <td>1600</td>\n",
       "      <td>0.408300</td>\n",
       "      <td>0.476943</td>\n",
       "      <td>0.891115</td>\n",
       "      <td>0.826003</td>\n",
       "      <td>0.895782</td>\n",
       "      <td>0.891115</td>\n",
       "      <td>0.822469</td>\n",
       "      <td>0.891115</td>\n",
       "      <td>0.891115</td>\n",
       "      <td>0.819742</td>\n",
       "      <td>0.892044</td>\n",
       "    </tr>\n",
       "    <tr>\n",
       "      <td>1700</td>\n",
       "      <td>0.361900</td>\n",
       "      <td>0.472893</td>\n",
       "      <td>0.891986</td>\n",
       "      <td>0.814732</td>\n",
       "      <td>0.895062</td>\n",
       "      <td>0.891986</td>\n",
       "      <td>0.827558</td>\n",
       "      <td>0.891986</td>\n",
       "      <td>0.891986</td>\n",
       "      <td>0.818056</td>\n",
       "      <td>0.892529</td>\n",
       "    </tr>\n",
       "    <tr>\n",
       "      <td>1800</td>\n",
       "      <td>0.343900</td>\n",
       "      <td>0.472406</td>\n",
       "      <td>0.891551</td>\n",
       "      <td>0.826134</td>\n",
       "      <td>0.895191</td>\n",
       "      <td>0.891551</td>\n",
       "      <td>0.832117</td>\n",
       "      <td>0.891551</td>\n",
       "      <td>0.891551</td>\n",
       "      <td>0.825488</td>\n",
       "      <td>0.892226</td>\n",
       "    </tr>\n",
       "    <tr>\n",
       "      <td>1900</td>\n",
       "      <td>0.358100</td>\n",
       "      <td>0.465757</td>\n",
       "      <td>0.892857</td>\n",
       "      <td>0.814332</td>\n",
       "      <td>0.894892</td>\n",
       "      <td>0.892857</td>\n",
       "      <td>0.831682</td>\n",
       "      <td>0.892857</td>\n",
       "      <td>0.892857</td>\n",
       "      <td>0.820523</td>\n",
       "      <td>0.893044</td>\n",
       "    </tr>\n",
       "    <tr>\n",
       "      <td>2000</td>\n",
       "      <td>0.345400</td>\n",
       "      <td>0.467312</td>\n",
       "      <td>0.891115</td>\n",
       "      <td>0.818651</td>\n",
       "      <td>0.893135</td>\n",
       "      <td>0.891115</td>\n",
       "      <td>0.825551</td>\n",
       "      <td>0.891115</td>\n",
       "      <td>0.891115</td>\n",
       "      <td>0.820078</td>\n",
       "      <td>0.891351</td>\n",
       "    </tr>\n",
       "  </tbody>\n",
       "</table><p>"
      ],
      "text/plain": [
       "<IPython.core.display.HTML object>"
      ]
     },
     "metadata": {},
     "output_type": "display_data"
    },
    {
     "name": "stderr",
     "output_type": "stream",
     "text": [
      "/usr/local/lib/python3.10/dist-packages/sklearn/metrics/_classification.py:1531: UndefinedMetricWarning: Precision is ill-defined and being set to 0.0 in labels with no predicted samples. Use `zero_division` parameter to control this behavior.\n",
      "  _warn_prf(average, modifier, f\"{metric.capitalize()} is\", len(result))\n",
      "/usr/local/lib/python3.10/dist-packages/sklearn/metrics/_classification.py:1531: UndefinedMetricWarning: Precision is ill-defined and being set to 0.0 in labels with no predicted samples. Use `zero_division` parameter to control this behavior.\n",
      "  _warn_prf(average, modifier, f\"{metric.capitalize()} is\", len(result))\n",
      "/usr/local/lib/python3.10/dist-packages/sklearn/metrics/_classification.py:1531: UndefinedMetricWarning: Precision is ill-defined and being set to 0.0 in labels with no predicted samples. Use `zero_division` parameter to control this behavior.\n",
      "  _warn_prf(average, modifier, f\"{metric.capitalize()} is\", len(result))\n",
      "/usr/local/lib/python3.10/dist-packages/sklearn/metrics/_classification.py:1531: UndefinedMetricWarning: Precision is ill-defined and being set to 0.0 in labels with no predicted samples. Use `zero_division` parameter to control this behavior.\n",
      "  _warn_prf(average, modifier, f\"{metric.capitalize()} is\", len(result))\n",
      "/usr/local/lib/python3.10/dist-packages/sklearn/metrics/_classification.py:1531: UndefinedMetricWarning: Precision is ill-defined and being set to 0.0 in labels with no predicted samples. Use `zero_division` parameter to control this behavior.\n",
      "  _warn_prf(average, modifier, f\"{metric.capitalize()} is\", len(result))\n",
      "/usr/local/lib/python3.10/dist-packages/sklearn/metrics/_classification.py:1531: UndefinedMetricWarning: Precision is ill-defined and being set to 0.0 in labels with no predicted samples. Use `zero_division` parameter to control this behavior.\n",
      "  _warn_prf(average, modifier, f\"{metric.capitalize()} is\", len(result))\n",
      "/usr/local/lib/python3.10/dist-packages/sklearn/metrics/_classification.py:1531: UndefinedMetricWarning: Precision is ill-defined and being set to 0.0 in labels with no predicted samples. Use `zero_division` parameter to control this behavior.\n",
      "  _warn_prf(average, modifier, f\"{metric.capitalize()} is\", len(result))\n",
      "/usr/local/lib/python3.10/dist-packages/sklearn/metrics/_classification.py:1531: UndefinedMetricWarning: Precision is ill-defined and being set to 0.0 in labels with no predicted samples. Use `zero_division` parameter to control this behavior.\n",
      "  _warn_prf(average, modifier, f\"{metric.capitalize()} is\", len(result))\n",
      "/usr/local/lib/python3.10/dist-packages/sklearn/metrics/_classification.py:1531: UndefinedMetricWarning: Precision is ill-defined and being set to 0.0 in labels with no predicted samples. Use `zero_division` parameter to control this behavior.\n",
      "  _warn_prf(average, modifier, f\"{metric.capitalize()} is\", len(result))\n",
      "/usr/local/lib/python3.10/dist-packages/sklearn/metrics/_classification.py:1531: UndefinedMetricWarning: Precision is ill-defined and being set to 0.0 in labels with no predicted samples. Use `zero_division` parameter to control this behavior.\n",
      "  _warn_prf(average, modifier, f\"{metric.capitalize()} is\", len(result))\n",
      "/usr/local/lib/python3.10/dist-packages/sklearn/metrics/_classification.py:1531: UndefinedMetricWarning: Precision is ill-defined and being set to 0.0 in labels with no predicted samples. Use `zero_division` parameter to control this behavior.\n",
      "  _warn_prf(average, modifier, f\"{metric.capitalize()} is\", len(result))\n",
      "/usr/local/lib/python3.10/dist-packages/sklearn/metrics/_classification.py:1531: UndefinedMetricWarning: Precision is ill-defined and being set to 0.0 in labels with no predicted samples. Use `zero_division` parameter to control this behavior.\n",
      "  _warn_prf(average, modifier, f\"{metric.capitalize()} is\", len(result))\n",
      "/usr/local/lib/python3.10/dist-packages/sklearn/metrics/_classification.py:1531: UndefinedMetricWarning: Precision is ill-defined and being set to 0.0 in labels with no predicted samples. Use `zero_division` parameter to control this behavior.\n",
      "  _warn_prf(average, modifier, f\"{metric.capitalize()} is\", len(result))\n",
      "/usr/local/lib/python3.10/dist-packages/sklearn/metrics/_classification.py:1531: UndefinedMetricWarning: Precision is ill-defined and being set to 0.0 in labels with no predicted samples. Use `zero_division` parameter to control this behavior.\n",
      "  _warn_prf(average, modifier, f\"{metric.capitalize()} is\", len(result))\n",
      "/usr/local/lib/python3.10/dist-packages/sklearn/metrics/_classification.py:1531: UndefinedMetricWarning: Precision is ill-defined and being set to 0.0 in labels with no predicted samples. Use `zero_division` parameter to control this behavior.\n",
      "  _warn_prf(average, modifier, f\"{metric.capitalize()} is\", len(result))\n",
      "/usr/local/lib/python3.10/dist-packages/sklearn/metrics/_classification.py:1531: UndefinedMetricWarning: Precision is ill-defined and being set to 0.0 in labels with no predicted samples. Use `zero_division` parameter to control this behavior.\n",
      "  _warn_prf(average, modifier, f\"{metric.capitalize()} is\", len(result))\n",
      "/usr/local/lib/python3.10/dist-packages/sklearn/metrics/_classification.py:1531: UndefinedMetricWarning: Precision is ill-defined and being set to 0.0 in labels with no predicted samples. Use `zero_division` parameter to control this behavior.\n",
      "  _warn_prf(average, modifier, f\"{metric.capitalize()} is\", len(result))\n",
      "/usr/local/lib/python3.10/dist-packages/sklearn/metrics/_classification.py:1531: UndefinedMetricWarning: Precision is ill-defined and being set to 0.0 in labels with no predicted samples. Use `zero_division` parameter to control this behavior.\n",
      "  _warn_prf(average, modifier, f\"{metric.capitalize()} is\", len(result))\n",
      "/usr/local/lib/python3.10/dist-packages/sklearn/metrics/_classification.py:1531: UndefinedMetricWarning: Precision is ill-defined and being set to 0.0 in labels with no predicted samples. Use `zero_division` parameter to control this behavior.\n",
      "  _warn_prf(average, modifier, f\"{metric.capitalize()} is\", len(result))\n",
      "/usr/local/lib/python3.10/dist-packages/sklearn/metrics/_classification.py:1531: UndefinedMetricWarning: Precision is ill-defined and being set to 0.0 in labels with no predicted samples. Use `zero_division` parameter to control this behavior.\n",
      "  _warn_prf(average, modifier, f\"{metric.capitalize()} is\", len(result))\n",
      "/usr/local/lib/python3.10/dist-packages/sklearn/metrics/_classification.py:1531: UndefinedMetricWarning: Precision is ill-defined and being set to 0.0 in labels with no predicted samples. Use `zero_division` parameter to control this behavior.\n",
      "  _warn_prf(average, modifier, f\"{metric.capitalize()} is\", len(result))\n",
      "/usr/local/lib/python3.10/dist-packages/sklearn/metrics/_classification.py:1531: UndefinedMetricWarning: Precision is ill-defined and being set to 0.0 in labels with no predicted samples. Use `zero_division` parameter to control this behavior.\n",
      "  _warn_prf(average, modifier, f\"{metric.capitalize()} is\", len(result))\n",
      "/usr/local/lib/python3.10/dist-packages/sklearn/metrics/_classification.py:1531: UndefinedMetricWarning: Precision is ill-defined and being set to 0.0 in labels with no predicted samples. Use `zero_division` parameter to control this behavior.\n",
      "  _warn_prf(average, modifier, f\"{metric.capitalize()} is\", len(result))\n",
      "/usr/local/lib/python3.10/dist-packages/sklearn/metrics/_classification.py:1531: UndefinedMetricWarning: Precision is ill-defined and being set to 0.0 in labels with no predicted samples. Use `zero_division` parameter to control this behavior.\n",
      "  _warn_prf(average, modifier, f\"{metric.capitalize()} is\", len(result))\n",
      "/usr/local/lib/python3.10/dist-packages/sklearn/metrics/_classification.py:1531: UndefinedMetricWarning: Precision is ill-defined and being set to 0.0 in labels with no predicted samples. Use `zero_division` parameter to control this behavior.\n",
      "  _warn_prf(average, modifier, f\"{metric.capitalize()} is\", len(result))\n",
      "/usr/local/lib/python3.10/dist-packages/sklearn/metrics/_classification.py:1531: UndefinedMetricWarning: Precision is ill-defined and being set to 0.0 in labels with no predicted samples. Use `zero_division` parameter to control this behavior.\n",
      "  _warn_prf(average, modifier, f\"{metric.capitalize()} is\", len(result))\n",
      "/usr/local/lib/python3.10/dist-packages/sklearn/metrics/_classification.py:1531: UndefinedMetricWarning: Precision is ill-defined and being set to 0.0 in labels with no predicted samples. Use `zero_division` parameter to control this behavior.\n",
      "  _warn_prf(average, modifier, f\"{metric.capitalize()} is\", len(result))\n",
      "/usr/local/lib/python3.10/dist-packages/sklearn/metrics/_classification.py:1531: UndefinedMetricWarning: Precision is ill-defined and being set to 0.0 in labels with no predicted samples. Use `zero_division` parameter to control this behavior.\n",
      "  _warn_prf(average, modifier, f\"{metric.capitalize()} is\", len(result))\n",
      "/usr/local/lib/python3.10/dist-packages/sklearn/metrics/_classification.py:1531: UndefinedMetricWarning: Precision is ill-defined and being set to 0.0 in labels with no predicted samples. Use `zero_division` parameter to control this behavior.\n",
      "  _warn_prf(average, modifier, f\"{metric.capitalize()} is\", len(result))\n",
      "/usr/local/lib/python3.10/dist-packages/sklearn/metrics/_classification.py:1531: UndefinedMetricWarning: Precision is ill-defined and being set to 0.0 in labels with no predicted samples. Use `zero_division` parameter to control this behavior.\n",
      "  _warn_prf(average, modifier, f\"{metric.capitalize()} is\", len(result))\n",
      "/usr/local/lib/python3.10/dist-packages/sklearn/metrics/_classification.py:1531: UndefinedMetricWarning: Precision is ill-defined and being set to 0.0 in labels with no predicted samples. Use `zero_division` parameter to control this behavior.\n",
      "  _warn_prf(average, modifier, f\"{metric.capitalize()} is\", len(result))\n",
      "/usr/local/lib/python3.10/dist-packages/sklearn/metrics/_classification.py:1531: UndefinedMetricWarning: Precision is ill-defined and being set to 0.0 in labels with no predicted samples. Use `zero_division` parameter to control this behavior.\n",
      "  _warn_prf(average, modifier, f\"{metric.capitalize()} is\", len(result))\n",
      "/usr/local/lib/python3.10/dist-packages/sklearn/metrics/_classification.py:1531: UndefinedMetricWarning: Precision is ill-defined and being set to 0.0 in labels with no predicted samples. Use `zero_division` parameter to control this behavior.\n",
      "  _warn_prf(average, modifier, f\"{metric.capitalize()} is\", len(result))\n",
      "/usr/local/lib/python3.10/dist-packages/sklearn/metrics/_classification.py:1531: UndefinedMetricWarning: Precision is ill-defined and being set to 0.0 in labels with no predicted samples. Use `zero_division` parameter to control this behavior.\n",
      "  _warn_prf(average, modifier, f\"{metric.capitalize()} is\", len(result))\n",
      "/usr/local/lib/python3.10/dist-packages/sklearn/metrics/_classification.py:1531: UndefinedMetricWarning: Precision is ill-defined and being set to 0.0 in labels with no predicted samples. Use `zero_division` parameter to control this behavior.\n",
      "  _warn_prf(average, modifier, f\"{metric.capitalize()} is\", len(result))\n",
      "/usr/local/lib/python3.10/dist-packages/sklearn/metrics/_classification.py:1531: UndefinedMetricWarning: Precision is ill-defined and being set to 0.0 in labels with no predicted samples. Use `zero_division` parameter to control this behavior.\n",
      "  _warn_prf(average, modifier, f\"{metric.capitalize()} is\", len(result))\n",
      "/usr/local/lib/python3.10/dist-packages/sklearn/metrics/_classification.py:1531: UndefinedMetricWarning: Precision is ill-defined and being set to 0.0 in labels with no predicted samples. Use `zero_division` parameter to control this behavior.\n",
      "  _warn_prf(average, modifier, f\"{metric.capitalize()} is\", len(result))\n",
      "/usr/local/lib/python3.10/dist-packages/sklearn/metrics/_classification.py:1531: UndefinedMetricWarning: Precision is ill-defined and being set to 0.0 in labels with no predicted samples. Use `zero_division` parameter to control this behavior.\n",
      "  _warn_prf(average, modifier, f\"{metric.capitalize()} is\", len(result))\n",
      "/usr/local/lib/python3.10/dist-packages/sklearn/metrics/_classification.py:1531: UndefinedMetricWarning: Precision is ill-defined and being set to 0.0 in labels with no predicted samples. Use `zero_division` parameter to control this behavior.\n",
      "  _warn_prf(average, modifier, f\"{metric.capitalize()} is\", len(result))\n",
      "/usr/local/lib/python3.10/dist-packages/sklearn/metrics/_classification.py:1531: UndefinedMetricWarning: Precision is ill-defined and being set to 0.0 in labels with no predicted samples. Use `zero_division` parameter to control this behavior.\n",
      "  _warn_prf(average, modifier, f\"{metric.capitalize()} is\", len(result))\n"
     ]
    },
    {
     "data": {
      "text/plain": [
       "TrainOutput(global_step=2045, training_loss=0.7925261812280034, metrics={'train_runtime': 6769.67, 'train_samples_per_second': 19.354, 'train_steps_per_second': 0.302, 'total_flos': 7.448570060419891e+16, 'train_loss': 0.7925261812280034, 'epoch': 4.993894993894994})"
      ]
     },
     "execution_count": 34,
     "metadata": {},
     "output_type": "execute_result"
    }
   ],
   "source": [
    "# Train the model\n",
    "trainer.train()"
   ]
  },
  {
   "cell_type": "code",
   "execution_count": null,
   "metadata": {
    "colab": {
     "base_uri": "https://localhost:8080/"
    },
    "id": "h8FOYkSCvXvo",
    "outputId": "77a5cb17-592b-4946-e563-c748e9668519"
   },
   "outputs": [
    {
     "name": "stdout",
     "output_type": "stream",
     "text": [
      "[{'loss': 2.8722, 'grad_norm': 25.231292724609375, 'learning_rate': 5e-06, 'epoch': 0.2442002442002442, 'step': 100}, {'eval_loss': 2.381986141204834, 'eval_micro_precision': 0.4847560975609756, 'eval_macro_precision': 0.06590895945398809, 'eval_weighted_precision': 0.3000991244760369, 'eval_micro_recall': 0.4847560975609756, 'eval_macro_recall': 0.10263326510757667, 'eval_weighted_recall': 0.4847560975609756, 'eval_micro_f1': 0.4847560975609756, 'eval_macro_f1': 0.07916135790210403, 'eval_weighted_f1': 0.3658094645034367, 'eval_runtime': 27.9503, 'eval_samples_per_second': 82.146, 'eval_steps_per_second': 1.288, 'epoch': 0.2442002442002442, 'step': 100}, {'loss': 1.9467, 'grad_norm': 74.01921844482422, 'learning_rate': 9.950000000000001e-06, 'epoch': 0.4884004884004884, 'step': 200}, {'eval_loss': 1.6188805103302002, 'eval_micro_precision': 0.6032229965156795, 'eval_macro_precision': 0.1729632869793354, 'eval_weighted_precision': 0.5102415198384107, 'eval_micro_recall': 0.6032229965156795, 'eval_macro_recall': 0.14519904411264478, 'eval_weighted_recall': 0.6032229965156795, 'eval_micro_f1': 0.6032229965156795, 'eval_macro_f1': 0.12352787740442463, 'eval_weighted_f1': 0.502828345764972, 'eval_runtime': 27.9989, 'eval_samples_per_second': 82.003, 'eval_steps_per_second': 1.286, 'epoch': 0.4884004884004884, 'step': 200}, {'loss': 1.5019, 'grad_norm': 61.67491149902344, 'learning_rate': 1.4950000000000001e-05, 'epoch': 0.7326007326007326, 'step': 300}, {'eval_loss': 1.3270624876022339, 'eval_micro_precision': 0.6872822299651568, 'eval_macro_precision': 0.1639157420556758, 'eval_weighted_precision': 0.5821328002832489, 'eval_micro_recall': 0.6872822299651568, 'eval_macro_recall': 0.2060668906229992, 'eval_weighted_recall': 0.6872822299651568, 'eval_micro_f1': 0.6872822299651568, 'eval_macro_f1': 0.18095213980700245, 'eval_weighted_f1': 0.6267031640391093, 'eval_runtime': 28.1715, 'eval_samples_per_second': 81.501, 'eval_steps_per_second': 1.278, 'epoch': 0.7326007326007326, 'step': 300}, {'loss': 1.2602, 'grad_norm': 93.83369445800781, 'learning_rate': 1.9900000000000003e-05, 'epoch': 0.9768009768009768, 'step': 400}, {'eval_loss': 1.1570900678634644, 'eval_micro_precision': 0.7151567944250871, 'eval_macro_precision': 0.250395185204251, 'eval_weighted_precision': 0.6523515088941247, 'eval_micro_recall': 0.7151567944250871, 'eval_macro_recall': 0.2602306770905881, 'eval_weighted_recall': 0.7151567944250871, 'eval_micro_f1': 0.7151567944250871, 'eval_macro_f1': 0.24796229984985535, 'eval_weighted_f1': 0.6742913163869271, 'eval_runtime': 28.097, 'eval_samples_per_second': 81.717, 'eval_steps_per_second': 1.281, 'epoch': 0.9768009768009768, 'step': 400}, {'loss': 1.0116, 'grad_norm': 27.968883514404297, 'learning_rate': 2.4900000000000002e-05, 'epoch': 1.221001221001221, 'step': 500}, {'eval_loss': 0.8759449124336243, 'eval_micro_precision': 0.801829268292683, 'eval_macro_precision': 0.4270552853235523, 'eval_weighted_precision': 0.778677751235951, 'eval_micro_recall': 0.801829268292683, 'eval_macro_recall': 0.40522488609544827, 'eval_weighted_recall': 0.801829268292683, 'eval_micro_f1': 0.801829268292683, 'eval_macro_f1': 0.40662329686945736, 'eval_weighted_f1': 0.7856079074786287, 'eval_runtime': 28.1259, 'eval_samples_per_second': 81.633, 'eval_steps_per_second': 1.28, 'epoch': 1.221001221001221, 'step': 500}, {'loss': 0.8539, 'grad_norm': 40.660743713378906, 'learning_rate': 2.4752635521978294e-05, 'epoch': 1.4652014652014653, 'step': 600}, {'eval_loss': 0.7635390758514404, 'eval_micro_precision': 0.8340592334494773, 'eval_macro_precision': 0.49858319443807503, 'eval_weighted_precision': 0.8263412894566534, 'eval_micro_recall': 0.8340592334494773, 'eval_macro_recall': 0.49267372749042937, 'eval_weighted_recall': 0.8340592334494773, 'eval_micro_f1': 0.8340592334494773, 'eval_macro_f1': 0.47249477353778435, 'eval_weighted_f1': 0.8260353217142836, 'eval_runtime': 28.2397, 'eval_samples_per_second': 81.304, 'eval_steps_per_second': 1.275, 'epoch': 1.4652014652014653, 'step': 600}, {'loss': 0.7398, 'grad_norm': 69.74828338623047, 'learning_rate': 2.40005092726346e-05, 'epoch': 1.7094017094017095, 'step': 700}, {'eval_loss': 0.6827709674835205, 'eval_micro_precision': 0.8466898954703833, 'eval_macro_precision': 0.595919953102261, 'eval_weighted_precision': 0.8368823626772747, 'eval_micro_recall': 0.8466898954703833, 'eval_macro_recall': 0.516030034812032, 'eval_weighted_recall': 0.8466898954703833, 'eval_micro_f1': 0.8466898954703833, 'eval_macro_f1': 0.5156494920599783, 'eval_weighted_f1': 0.8359309638776365, 'eval_runtime': 28.0593, 'eval_samples_per_second': 81.827, 'eval_steps_per_second': 1.283, 'epoch': 1.7094017094017095, 'step': 700}, {'loss': 0.6728, 'grad_norm': 18.172765731811523, 'learning_rate': 2.2774508957989417e-05, 'epoch': 1.9536019536019538, 'step': 800}, {'eval_loss': 0.6122449040412903, 'eval_micro_precision': 0.8527874564459931, 'eval_macro_precision': 0.6700802281488617, 'eval_weighted_precision': 0.8602585363665758, 'eval_micro_recall': 0.8527874564459931, 'eval_macro_recall': 0.5537448671543558, 'eval_weighted_recall': 0.8527874564459931, 'eval_micro_f1': 0.8527874564459931, 'eval_macro_f1': 0.5609693508323702, 'eval_weighted_f1': 0.8465989784626531, 'eval_runtime': 28.5179, 'eval_samples_per_second': 80.511, 'eval_steps_per_second': 1.262, 'epoch': 1.9536019536019538, 'step': 800}, {'loss': 0.5593, 'grad_norm': 22.065692901611328, 'learning_rate': 2.112515144989503e-05, 'epoch': 2.197802197802198, 'step': 900}, {'eval_loss': 0.6033230423927307, 'eval_micro_precision': 0.8628048780487805, 'eval_macro_precision': 0.6458086803108424, 'eval_weighted_precision': 0.8620706032280505, 'eval_micro_recall': 0.8628048780487805, 'eval_macro_recall': 0.6223857477581206, 'eval_weighted_recall': 0.8628048780487805, 'eval_micro_f1': 0.8628048780487805, 'eval_macro_f1': 0.6269631440779232, 'eval_weighted_f1': 0.8604939320250599, 'eval_runtime': 28.0799, 'eval_samples_per_second': 81.767, 'eval_steps_per_second': 1.282, 'epoch': 2.197802197802198, 'step': 900}, {'loss': 0.5492, 'grad_norm': 46.23727035522461, 'learning_rate': 1.912039789067721e-05, 'epoch': 2.442002442002442, 'step': 1000}, {'eval_loss': 0.5785375833511353, 'eval_micro_precision': 0.8610627177700348, 'eval_macro_precision': 0.7161193189547552, 'eval_weighted_precision': 0.8750576393113125, 'eval_micro_recall': 0.8610627177700348, 'eval_macro_recall': 0.656158547673032, 'eval_weighted_recall': 0.8610627177700348, 'eval_micro_f1': 0.8610627177700348, 'eval_macro_f1': 0.656816564197882, 'eval_weighted_f1': 0.8635374104852748, 'eval_runtime': 27.9572, 'eval_samples_per_second': 82.126, 'eval_steps_per_second': 1.288, 'epoch': 2.442002442002442, 'step': 1000}, {'loss': 0.5028, 'grad_norm': 18.426353454589844, 'learning_rate': 1.6842853380380934e-05, 'epoch': 2.6862026862026864, 'step': 1100}, {'eval_loss': 0.5303468108177185, 'eval_micro_precision': 0.8854529616724739, 'eval_macro_precision': 0.7495966854257389, 'eval_weighted_precision': 0.8869278196582587, 'eval_micro_recall': 0.8854529616724739, 'eval_macro_recall': 0.7177312989902742, 'eval_weighted_recall': 0.8854529616724739, 'eval_micro_f1': 0.8854529616724739, 'eval_macro_f1': 0.7262289134052592, 'eval_weighted_f1': 0.8844974105345418, 'eval_runtime': 28.1073, 'eval_samples_per_second': 81.687, 'eval_steps_per_second': 1.281, 'epoch': 2.6862026862026864, 'step': 1100}, {'loss': 0.5033, 'grad_norm': 18.274917602539062, 'learning_rate': 1.4386363265365535e-05, 'epoch': 2.9304029304029307, 'step': 1200}, {'eval_loss': 0.49514588713645935, 'eval_micro_precision': 0.8876306620209059, 'eval_macro_precision': 0.7372036245463958, 'eval_weighted_precision': 0.8876630720638423, 'eval_micro_recall': 0.8876306620209059, 'eval_macro_recall': 0.7414049084020491, 'eval_weighted_recall': 0.8876306620209059, 'eval_micro_f1': 0.8876306620209059, 'eval_macro_f1': 0.7355993207563093, 'eval_weighted_f1': 0.8867237445831763, 'eval_runtime': 27.7713, 'eval_samples_per_second': 82.675, 'eval_steps_per_second': 1.296, 'epoch': 2.9304029304029307, 'step': 1200}, {'loss': 0.4332, 'grad_norm': 16.126319885253906, 'learning_rate': 1.1852146276869743e-05, 'epoch': 3.1746031746031744, 'step': 1300}, {'eval_loss': 0.5176035165786743, 'eval_micro_precision': 0.8867595818815331, 'eval_macro_precision': 0.8112408819720179, 'eval_weighted_precision': 0.892519346409985, 'eval_micro_recall': 0.8867595818815331, 'eval_macro_recall': 0.8135936233566461, 'eval_weighted_recall': 0.8867595818815331, 'eval_micro_f1': 0.8867595818815331, 'eval_macro_f1': 0.8066235690769744, 'eval_weighted_f1': 0.8881457405419927, 'eval_runtime': 28.2301, 'eval_samples_per_second': 81.332, 'eval_steps_per_second': 1.275, 'epoch': 3.1746031746031744, 'step': 1300}, {'loss': 0.4328, 'grad_norm': 25.683168411254883, 'learning_rate': 9.344623852086093e-06, 'epoch': 3.4188034188034186, 'step': 1400}, {'eval_loss': 0.48010551929473877, 'eval_micro_precision': 0.8906794425087108, 'eval_macro_precision': 0.8223473803322559, 'eval_weighted_precision': 0.8923647873870492, 'eval_micro_recall': 0.8906794425087108, 'eval_macro_recall': 0.8205261076151831, 'eval_weighted_recall': 0.8906794425087108, 'eval_micro_f1': 0.8906794425087108, 'eval_macro_f1': 0.8188574972016193, 'eval_weighted_f1': 0.8908187701448725, 'eval_runtime': 28.1842, 'eval_samples_per_second': 81.464, 'eval_steps_per_second': 1.277, 'epoch': 3.4188034188034186, 'step': 1400}, {'loss': 0.3965, 'grad_norm': 32.259490966796875, 'learning_rate': 6.967117488967232e-06, 'epoch': 3.663003663003663, 'step': 1500}, {'eval_loss': 0.48184239864349365, 'eval_micro_precision': 0.89198606271777, 'eval_macro_precision': 0.8214437028036421, 'eval_weighted_precision': 0.8949476957454691, 'eval_micro_recall': 0.89198606271777, 'eval_macro_recall': 0.8278310307484175, 'eval_weighted_recall': 0.89198606271777, 'eval_micro_f1': 0.89198606271777, 'eval_macro_f1': 0.8216617574200699, 'eval_weighted_f1': 0.8924948901640382, 'eval_runtime': 27.8631, 'eval_samples_per_second': 82.403, 'eval_steps_per_second': 1.292, 'epoch': 3.663003663003663, 'step': 1500}, {'loss': 0.4083, 'grad_norm': 21.5487060546875, 'learning_rate': 4.817591423605913e-06, 'epoch': 3.907203907203907, 'step': 1600}, {'eval_loss': 0.4769434928894043, 'eval_micro_precision': 0.8911149825783972, 'eval_macro_precision': 0.8260028583126986, 'eval_weighted_precision': 0.8957823449121572, 'eval_micro_recall': 0.8911149825783972, 'eval_macro_recall': 0.82246913231698, 'eval_weighted_recall': 0.8911149825783972, 'eval_micro_f1': 0.8911149825783972, 'eval_macro_f1': 0.8197417421168628, 'eval_weighted_f1': 0.8920440495537268, 'eval_runtime': 28.1579, 'eval_samples_per_second': 81.54, 'eval_steps_per_second': 1.279, 'epoch': 3.907203907203907, 'step': 1600}, {'loss': 0.3619, 'grad_norm': 26.534286499023438, 'learning_rate': 2.9846160515313235e-06, 'epoch': 4.151404151404152, 'step': 1700}, {'eval_loss': 0.4728928804397583, 'eval_micro_precision': 0.89198606271777, 'eval_macro_precision': 0.8147320037706961, 'eval_weighted_precision': 0.8950619262102578, 'eval_micro_recall': 0.89198606271777, 'eval_macro_recall': 0.8275581786323349, 'eval_weighted_recall': 0.89198606271777, 'eval_micro_f1': 0.89198606271777, 'eval_macro_f1': 0.8180561610511192, 'eval_weighted_f1': 0.8925287132268782, 'eval_runtime': 27.8063, 'eval_samples_per_second': 82.571, 'eval_steps_per_second': 1.295, 'epoch': 4.151404151404152, 'step': 1700}, {'loss': 0.3439, 'grad_norm': 15.068233489990234, 'learning_rate': 1.5437184185960588e-06, 'epoch': 4.395604395604396, 'step': 1800}, {'eval_loss': 0.4724063277244568, 'eval_micro_precision': 0.8915505226480837, 'eval_macro_precision': 0.8261344617454581, 'eval_weighted_precision': 0.8951911719382868, 'eval_micro_recall': 0.8915505226480837, 'eval_macro_recall': 0.83211694264862, 'eval_weighted_recall': 0.8915505226480837, 'eval_micro_f1': 0.8915505226480837, 'eval_macro_f1': 0.8254878681214656, 'eval_weighted_f1': 0.8922264575847318, 'eval_runtime': 28.2439, 'eval_samples_per_second': 81.292, 'eval_steps_per_second': 1.275, 'epoch': 4.395604395604396, 'step': 1800}, {'loss': 0.3581, 'grad_norm': 12.302945137023926, 'learning_rate': 5.542701580744006e-07, 'epoch': 4.639804639804639, 'step': 1900}, {'eval_loss': 0.4657573699951172, 'eval_micro_precision': 0.8928571428571429, 'eval_macro_precision': 0.8143324614430267, 'eval_weighted_precision': 0.8948917970008157, 'eval_micro_recall': 0.8928571428571429, 'eval_macro_recall': 0.8316822005183043, 'eval_weighted_recall': 0.8928571428571429, 'eval_micro_f1': 0.8928571428571429, 'eval_macro_f1': 0.820522786431837, 'eval_weighted_f1': 0.8930435871808095, 'eval_runtime': 28.4449, 'eval_samples_per_second': 80.717, 'eval_steps_per_second': 1.266, 'epoch': 4.639804639804639, 'step': 1900}, {'loss': 0.3454, 'grad_norm': 28.42581558227539, 'learning_rate': 5.7041105327862444e-08, 'epoch': 4.884004884004884, 'step': 2000}, {'eval_loss': 0.4673118591308594, 'eval_micro_precision': 0.8911149825783972, 'eval_macro_precision': 0.8186513246076994, 'eval_weighted_precision': 0.8931347034879056, 'eval_micro_recall': 0.8911149825783972, 'eval_macro_recall': 0.8255507420652565, 'eval_weighted_recall': 0.8911149825783972, 'eval_micro_f1': 0.8911149825783972, 'eval_macro_f1': 0.8200782376101845, 'eval_weighted_f1': 0.8913514985216604, 'eval_runtime': 28.0548, 'eval_samples_per_second': 81.84, 'eval_steps_per_second': 1.283, 'epoch': 4.884004884004884, 'step': 2000}, {'train_runtime': 6769.67, 'train_samples_per_second': 19.354, 'train_steps_per_second': 0.302, 'total_flos': 7.448570060419891e+16, 'train_loss': 0.7925261812280034, 'epoch': 4.993894993894994, 'step': 2045}]\n"
     ]
    }
   ],
   "source": [
    "print(trainer.state.log_history)"
   ]
  },
  {
   "cell_type": "code",
   "execution_count": null,
   "metadata": {
    "id": "9MvDSPkI9OXA"
   },
   "outputs": [],
   "source": [
    "curve_evaluation_f1_score = [\n",
    "    [a['step'], a['eval_weighted_f1']]\n",
    "    for a in trainer.state.log_history\n",
    "    if 'eval_weighted_f1' in a.keys()\n",
    "]"
   ]
  },
  {
   "cell_type": "code",
   "execution_count": null,
   "metadata": {
    "colab": {
     "base_uri": "https://localhost:8080/"
    },
    "id": "0ePLC5w-_ysF",
    "outputId": "64d94372-ffd1-46fe-c115-cd6ad6e51507"
   },
   "outputs": [
    {
     "data": {
      "text/plain": [
       "[[100, 0.3658094645034367],\n",
       " [200, 0.502828345764972],\n",
       " [300, 0.6267031640391093],\n",
       " [400, 0.6742913163869271],\n",
       " [500, 0.7856079074786287],\n",
       " [600, 0.8260353217142836],\n",
       " [700, 0.8359309638776365],\n",
       " [800, 0.8465989784626531],\n",
       " [900, 0.8604939320250599],\n",
       " [1000, 0.8635374104852748],\n",
       " [1100, 0.8844974105345418],\n",
       " [1200, 0.8867237445831763],\n",
       " [1300, 0.8881457405419927],\n",
       " [1400, 0.8908187701448725],\n",
       " [1500, 0.8924948901640382],\n",
       " [1600, 0.8920440495537268],\n",
       " [1700, 0.8925287132268782],\n",
       " [1800, 0.8922264575847318],\n",
       " [1900, 0.8930435871808095],\n",
       " [2000, 0.8913514985216604]]"
      ]
     },
     "execution_count": 83,
     "metadata": {},
     "output_type": "execute_result"
    }
   ],
   "source": [
    "curve_evaluation_f1_score"
   ]
  },
  {
   "cell_type": "code",
   "execution_count": null,
   "metadata": {
    "id": "EqPouFdPXVI0"
   },
   "outputs": [],
   "source": [
    "eval_f1_score = [c[1] for c in curve_evaluation_f1_score]\n",
    "steps = [c[0] for c in curve_evaluation_f1_score]"
   ]
  },
  {
   "cell_type": "code",
   "execution_count": null,
   "metadata": {
    "colab": {
     "base_uri": "https://localhost:8080/",
     "height": 472
    },
    "id": "NZq6RsOQXWYO",
    "outputId": "12767ea1-ee43-48e7-b88d-5549696d5721"
   },
   "outputs": [
    {
     "data": {
      "image/png": "[encoded data removed]",
      "text/plain": [
       "<Figure size 640x480 with 1 Axes>"
      ]
     },
     "metadata": {},
     "output_type": "display_data"
    }
   ],
   "source": [
    "plt.plot(steps, eval_f1_score, 'b', label='Validation F1 score')\n",
    "plt.title('Validation F1 score')\n",
    "plt.xlabel('Number of training steps performed')\n",
    "plt.ylabel('Validation F1 score')\n",
    "plt.legend()\n",
    "plt.show()"
   ]
  },
  {
   "cell_type": "code",
   "execution_count": null,
   "metadata": {
    "id": "Ebi20jA96bkj"
   },
   "outputs": [],
   "source": [
    "# trainer.log_metrics(\"train\", metrics)\n",
    "# trainer.save_metrics(\"train\", metrics)\n",
    "trainer.save_state()\n",
    "trainer.save_model(\"/content/drive/MyDrive/PUBH 8885 CB/nuc_arg_long_readv4-sm\")"
   ]
  },
  {
   "cell_type": "code",
   "execution_count": null,
   "metadata": {
    "colab": {
     "base_uri": "https://localhost:8080/"
    },
    "id": "8G6I1_3O6c8v",
    "outputId": "0a68ac70-6e13-4af8-ce4a-9fb6d196970b"
   },
   "outputs": [
    {
     "data": {
      "text/plain": [
       "('/content/drive/MyDrive/PUBH 8885 CB/nuc_arg_long_readv4-t/tokenizer_config.json',\n",
       " '/content/drive/MyDrive/PUBH 8885 CB/nuc_arg_long_readv4-t/special_tokens_map.json',\n",
       " '/content/drive/MyDrive/PUBH 8885 CB/nuc_arg_long_readv4-t/vocab.txt',\n",
       " '/content/drive/MyDrive/PUBH 8885 CB/nuc_arg_long_readv4-t/added_tokens.json')"
      ]
     },
     "execution_count": 51,
     "metadata": {},
     "output_type": "execute_result"
    }
   ],
   "source": [
    "model.save_pretrained('/content/drive/MyDrive/PUBH 8885 CB/nuc_arg_long_readv4-m')\n",
    "tokenizer.save_pretrained('/content/drive/MyDrive/PUBH 8885 CB/nuc_arg_long_readv4-t')"
   ]
  },
  {
   "cell_type": "markdown",
   "metadata": {
    "id": "p8l8cRvO6TgT"
   },
   "source": [
    "## Long read Test data"
   ]
  },
  {
   "cell_type": "code",
   "execution_count": null,
   "metadata": {
    "colab": {
     "base_uri": "https://localhost:8080/",
     "height": 108
    },
    "id": "sNbp6ArcXYpg",
    "outputId": "759dd840-f262-4ca6-bdd7-0904c986d8ce"
   },
   "outputs": [
    {
     "data": {
      "text/html": [],
      "text/plain": [
       "<IPython.core.display.HTML object>"
      ]
     },
     "metadata": {},
     "output_type": "display_data"
    },
    {
     "name": "stderr",
     "output_type": "stream",
     "text": [
      "/usr/local/lib/python3.10/dist-packages/sklearn/metrics/_classification.py:1531: UndefinedMetricWarning: Precision is ill-defined and being set to 0.0 in labels with no predicted samples. Use `zero_division` parameter to control this behavior.\n",
      "  _warn_prf(average, modifier, f\"{metric.capitalize()} is\", len(result))\n",
      "/usr/local/lib/python3.10/dist-packages/sklearn/metrics/_classification.py:1531: UndefinedMetricWarning: Precision is ill-defined and being set to 0.0 in labels with no predicted samples. Use `zero_division` parameter to control this behavior.\n",
      "  _warn_prf(average, modifier, f\"{metric.capitalize()} is\", len(result))\n"
     ]
    }
   ],
   "source": [
    "test_results = trainer.predict(test_dataset)"
   ]
  },
  {
   "cell_type": "code",
   "execution_count": null,
   "metadata": {
    "colab": {
     "base_uri": "https://localhost:8080/"
    },
    "id": "5i2p2sSZXZ9H",
    "outputId": "a97ce406-49dc-45ca-ee24-5eb2f7a9ae3d"
   },
   "outputs": [
    {
     "name": "stdout",
     "output_type": "stream",
     "text": [
      "Test Metrics: {'test_loss': 0.541509747505188, 'test_micro_precision': 0.8817675159235668, 'test_macro_precision': 0.7475472859704777, 'test_weighted_precision': 0.8822449367989604, 'test_micro_recall': 0.8817675159235668, 'test_macro_recall': 0.7350095786113764, 'test_weighted_recall': 0.8817675159235668, 'test_micro_f1': 0.8817675159235668, 'test_macro_f1': 0.7362441952492014, 'test_weighted_f1': 0.8809847482222547, 'test_runtime': 4.8836, 'test_samples_per_second': 514.376, 'test_steps_per_second': 8.191}\n"
     ]
    }
   ],
   "source": [
    "print(\"Test Metrics:\", test_results.metrics)"
   ]
  },
  {
   "cell_type": "code",
   "execution_count": null,
   "metadata": {
    "id": "_aflfaGtXctr"
   },
   "outputs": [],
   "source": [
    "predicted_classes = np.argmax(test_results.predictions, axis=1)"
   ]
  },
  {
   "cell_type": "code",
   "execution_count": null,
   "metadata": {
    "colab": {
     "base_uri": "https://localhost:8080/"
    },
    "id": "dgJ54ZbZXeTQ",
    "outputId": "bfe558d8-a1ad-4ebd-fb34-1bc208f478e9"
   },
   "outputs": [
    {
     "name": "stdout",
     "output_type": "stream",
     "text": [
      "              precision    recall  f1-score   support\n",
      "\n",
      "           0       0.83      0.72      0.77       109\n",
      "           1       0.91      0.90      0.91       647\n",
      "           2       0.93      0.92      0.92       897\n",
      "           3       0.76      0.71      0.73        68\n",
      "           4       0.94      0.60      0.73        25\n",
      "           7       0.67      0.76      0.71        29\n",
      "           9       0.79      0.86      0.82       257\n",
      "          10       0.84      0.84      0.84       122\n",
      "          12       0.89      1.00      0.94        72\n",
      "          13       0.00      0.00      0.00         1\n",
      "          14       0.85      0.85      0.85       211\n",
      "          16       1.00      0.86      0.92        14\n",
      "          17       0.80      1.00      0.89         8\n",
      "          18       0.00      0.00      0.00         2\n",
      "          20       0.75      0.91      0.82        44\n",
      "          21       1.00      0.83      0.91         6\n",
      "\n",
      "    accuracy                           0.88      2512\n",
      "   macro avg       0.75      0.74      0.74      2512\n",
      "weighted avg       0.88      0.88      0.88      2512\n",
      "\n"
     ]
    },
    {
     "name": "stderr",
     "output_type": "stream",
     "text": [
      "/usr/local/lib/python3.10/dist-packages/sklearn/metrics/_classification.py:1531: UndefinedMetricWarning: Precision is ill-defined and being set to 0.0 in labels with no predicted samples. Use `zero_division` parameter to control this behavior.\n",
      "  _warn_prf(average, modifier, f\"{metric.capitalize()} is\", len(result))\n",
      "/usr/local/lib/python3.10/dist-packages/sklearn/metrics/_classification.py:1531: UndefinedMetricWarning: Precision is ill-defined and being set to 0.0 in labels with no predicted samples. Use `zero_division` parameter to control this behavior.\n",
      "  _warn_prf(average, modifier, f\"{metric.capitalize()} is\", len(result))\n",
      "/usr/local/lib/python3.10/dist-packages/sklearn/metrics/_classification.py:1531: UndefinedMetricWarning: Precision is ill-defined and being set to 0.0 in labels with no predicted samples. Use `zero_division` parameter to control this behavior.\n",
      "  _warn_prf(average, modifier, f\"{metric.capitalize()} is\", len(result))\n"
     ]
    }
   ],
   "source": [
    "# Compare predictions with true labels\n",
    "true_labels = test_results.label_ids\n",
    "from sklearn.metrics import classification_report\n",
    "print(classification_report(true_labels, predicted_classes))"
   ]
  },
  {
   "cell_type": "markdown",
   "metadata": {
    "id": "KfvpNZjB6h-U"
   },
   "source": [
    "## Short read test data"
   ]
  },
  {
   "cell_type": "code",
   "execution_count": null,
   "metadata": {
    "colab": {
     "base_uri": "https://localhost:8080/",
     "height": 206
    },
    "id": "D0_iIOEA6kda",
    "outputId": "659fb66b-0c7c-43d8-bb88-68a19da0421c"
   },
   "outputs": [
    {
     "data": {
      "application/vnd.google.colaboratory.intrinsic+json": {
       "summary": "{\n  \"name\": \"short_reads\",\n  \"rows\": 96145,\n  \"fields\": [\n    {\n      \"column\": \"id\",\n      \"properties\": {\n        \"dtype\": \"category\",\n        \"num_unique_values\": 10383,\n        \"samples\": [\n          \"Q0HRE5\",\n          \"X5EQ65\",\n          \"T6HKU4\"\n        ],\n        \"semantic_type\": \"\",\n        \"description\": \"\"\n      }\n    },\n    {\n      \"column\": \"type\",\n      \"properties\": {\n        \"dtype\": \"category\",\n        \"num_unique_values\": 15,\n        \"samples\": [\n          \"glycopeptide\",\n          \"trimethoprim\",\n          \"beta_lactam\"\n        ],\n        \"semantic_type\": \"\",\n        \"description\": \"\"\n      }\n    },\n    {\n      \"column\": \"Sequence\",\n      \"properties\": {\n        \"dtype\": \"string\",\n        \"num_unique_values\": 77022,\n        \"samples\": [\n          \"GGTGGAACGCATTGCCCAACTATCACCAGAGGTGATTTTCTCTTTTTATTATCGCCATCTTATTTGCGACGAAATTTTGCAGCTCGCTCCCGCAGGTGCA\",\n          \"TTATCCCAATATTGCAAAGTATAAAAATACGATTATACCTAGGATAATTCTATAAACACCAAAGGCCTTGAAGTCGTGCTTTTTGATATATGACATAAAG\",\n          \"ACGTCAAGGAAAACTCCATGGTCTATTTCGGGGCCAAGGGAGTGACTGTGGTGGGGGCGACCTGGACGCCGGATACCGCTCGCGAGCTGCACAAGCTGAT\"\n        ],\n        \"semantic_type\": \"\",\n        \"description\": \"\"\n      }\n    }\n  ]\n}",
       "type": "dataframe",
       "variable_name": "short_reads"
      },
      "text/html": [
       "\n",
       "  <div id=\"df-c1d15e80-211f-43ec-9594-5e4d88e7f217\" class=\"colab-df-container\">\n",
       "    <div>\n",
       "<style scoped>\n",
       "    .dataframe tbody tr th:only-of-type {\n",
       "        vertical-align: middle;\n",
       "    }\n",
       "\n",
       "    .dataframe tbody tr th {\n",
       "        vertical-align: top;\n",
       "    }\n",
       "\n",
       "    .dataframe thead th {\n",
       "        text-align: right;\n",
       "    }\n",
       "</style>\n",
       "<table border=\"1\" class=\"dataframe\">\n",
       "  <thead>\n",
       "    <tr style=\"text-align: right;\">\n",
       "      <th></th>\n",
       "      <th>id</th>\n",
       "      <th>type</th>\n",
       "      <th>Sequence</th>\n",
       "    </tr>\n",
       "  </thead>\n",
       "  <tbody>\n",
       "    <tr>\n",
       "      <th>0</th>\n",
       "      <td>B9J113</td>\n",
       "      <td>beta_lactam</td>\n",
       "      <td>GTGAAACATAAAAATCAGGCGACGCATAAAGAGTTCTCTCAACTTG...</td>\n",
       "    </tr>\n",
       "    <tr>\n",
       "      <th>1</th>\n",
       "      <td>B9J113</td>\n",
       "      <td>beta_lactam</td>\n",
       "      <td>AAACAATCGCTTATCGACCTAACGAAAGGTTTGCCTTTGCATCAAC...</td>\n",
       "    </tr>\n",
       "    <tr>\n",
       "      <th>2</th>\n",
       "      <td>B9J113</td>\n",
       "      <td>beta_lactam</td>\n",
       "      <td>AGATGAAGTTATTACTTATACGAAAGAAGACTTAGTGGATTATTCA...</td>\n",
       "    </tr>\n",
       "    <tr>\n",
       "      <th>3</th>\n",
       "      <td>B9J113</td>\n",
       "      <td>beta_lactam</td>\n",
       "      <td>GCTGCTGTTCGTTACAGTGATAATACTGCAGGGAACATTTTATTTC...</td>\n",
       "    </tr>\n",
       "    <tr>\n",
       "      <th>4</th>\n",
       "      <td>B9J113</td>\n",
       "      <td>beta_lactam</td>\n",
       "      <td>GGGTTACTATGTCTGATCGCTTTGAAACAGAGTTAAACGAAGCTAT...</td>\n",
       "    </tr>\n",
       "  </tbody>\n",
       "</table>\n",
       "</div>\n",
       "    <div class=\"colab-df-buttons\">\n",
       "\n",
       "  <div class=\"colab-df-container\">\n",
       "    <button class=\"colab-df-convert\" onclick=\"convertToInteractive('df-c1d15e80-211f-43ec-9594-5e4d88e7f217')\"\n",
       "            title=\"Convert this dataframe to an interactive table.\"\n",
       "            style=\"display:none;\">\n",
       "\n",
       "  <svg xmlns=\"http://www.w3.org/2000/svg\" height=\"24px\" viewBox=\"0 -960 960 960\">\n",
       "    <path d=\"M120-120v-720h720v720H120Zm60-500h600v-160H180v160Zm220 220h160v-160H400v160Zm0 220h160v-160H400v160ZM180-400h160v-160H180v160Zm440 0h160v-160H620v160ZM180-180h160v-160H180v160Zm440 0h160v-160H620v160Z\"/>\n",
       "  </svg>\n",
       "    </button>\n",
       "\n",
       "  <style>\n",
       "    .colab-df-container {\n",
       "      display:flex;\n",
       "      gap: 12px;\n",
       "    }\n",
       "\n",
       "    .colab-df-convert {\n",
       "      background-color: #E8F0FE;\n",
       "      border: none;\n",
       "      border-radius: 50%;\n",
       "      cursor: pointer;\n",
       "      display: none;\n",
       "      fill: #1967D2;\n",
       "      height: 32px;\n",
       "      padding: 0 0 0 0;\n",
       "      width: 32px;\n",
       "    }\n",
       "\n",
       "    .colab-df-convert:hover {\n",
       "      background-color: #E2EBFA;\n",
       "      box-shadow: 0px 1px 2px rgba(60, 64, 67, 0.3), 0px 1px 3px 1px rgba(60, 64, 67, 0.15);\n",
       "      fill: #174EA6;\n",
       "    }\n",
       "\n",
       "    .colab-df-buttons div {\n",
       "      margin-bottom: 4px;\n",
       "    }\n",
       "\n",
       "    [theme=dark] .colab-df-convert {\n",
       "      background-color: #3B4455;\n",
       "      fill: #D2E3FC;\n",
       "    }\n",
       "\n",
       "    [theme=dark] .colab-df-convert:hover {\n",
       "      background-color: #434B5C;\n",
       "      box-shadow: 0px 1px 3px 1px rgba(0, 0, 0, 0.15);\n",
       "      filter: drop-shadow(0px 1px 2px rgba(0, 0, 0, 0.3));\n",
       "      fill: #FFFFFF;\n",
       "    }\n",
       "  </style>\n",
       "\n",
       "    <script>\n",
       "      const buttonEl =\n",
       "        document.querySelector('#df-c1d15e80-211f-43ec-9594-5e4d88e7f217 button.colab-df-convert');\n",
       "      buttonEl.style.display =\n",
       "        google.colab.kernel.accessAllowed ? 'block' : 'none';\n",
       "\n",
       "      async function convertToInteractive(key) {\n",
       "        const element = document.querySelector('#df-c1d15e80-211f-43ec-9594-5e4d88e7f217');\n",
       "        const dataTable =\n",
       "          await google.colab.kernel.invokeFunction('convertToInteractive',\n",
       "                                                    [key], {});\n",
       "        if (!dataTable) return;\n",
       "\n",
       "        const docLinkHtml = 'Like what you see? Visit the ' +\n",
       "          '<a target=\"_blank\" href=https://colab.research.google.com/notebooks/data_table.ipynb>data table notebook</a>'\n",
       "          + ' to learn more about interactive tables.';\n",
       "        element.innerHTML = '';\n",
       "        dataTable['output_type'] = 'display_data';\n",
       "        await google.colab.output.renderOutput(dataTable, element);\n",
       "        const docLink = document.createElement('div');\n",
       "        docLink.innerHTML = docLinkHtml;\n",
       "        element.appendChild(docLink);\n",
       "      }\n",
       "    </script>\n",
       "  </div>\n",
       "\n",
       "\n",
       "<div id=\"df-e52d2049-4510-4407-9139-11f81364951b\">\n",
       "  <button class=\"colab-df-quickchart\" onclick=\"quickchart('df-e52d2049-4510-4407-9139-11f81364951b')\"\n",
       "            title=\"Suggest charts\"\n",
       "            style=\"display:none;\">\n",
       "\n",
       "<svg xmlns=\"http://www.w3.org/2000/svg\" height=\"24px\"viewBox=\"0 0 24 24\"\n",
       "     width=\"24px\">\n",
       "    <g>\n",
       "        <path d=\"M19 3H5c-1.1 0-2 .9-2 2v14c0 1.1.9 2 2 2h14c1.1 0 2-.9 2-2V5c0-1.1-.9-2-2-2zM9 17H7v-7h2v7zm4 0h-2V7h2v10zm4 0h-2v-4h2v4z\"/>\n",
       "    </g>\n",
       "</svg>\n",
       "  </button>\n",
       "\n",
       "<style>\n",
       "  .colab-df-quickchart {\n",
       "      --bg-color: #E8F0FE;\n",
       "      --fill-color: #1967D2;\n",
       "      --hover-bg-color: #E2EBFA;\n",
       "      --hover-fill-color: #174EA6;\n",
       "      --disabled-fill-color: #AAA;\n",
       "      --disabled-bg-color: #DDD;\n",
       "  }\n",
       "\n",
       "  [theme=dark] .colab-df-quickchart {\n",
       "      --bg-color: #3B4455;\n",
       "      --fill-color: #D2E3FC;\n",
       "      --hover-bg-color: #434B5C;\n",
       "      --hover-fill-color: #FFFFFF;\n",
       "      --disabled-bg-color: #3B4455;\n",
       "      --disabled-fill-color: #666;\n",
       "  }\n",
       "\n",
       "  .colab-df-quickchart {\n",
       "    background-color: var(--bg-color);\n",
       "    border: none;\n",
       "    border-radius: 50%;\n",
       "    cursor: pointer;\n",
       "    display: none;\n",
       "    fill: var(--fill-color);\n",
       "    height: 32px;\n",
       "    padding: 0;\n",
       "    width: 32px;\n",
       "  }\n",
       "\n",
       "  .colab-df-quickchart:hover {\n",
       "    background-color: var(--hover-bg-color);\n",
       "    box-shadow: 0 1px 2px rgba(60, 64, 67, 0.3), 0 1px 3px 1px rgba(60, 64, 67, 0.15);\n",
       "    fill: var(--button-hover-fill-color);\n",
       "  }\n",
       "\n",
       "  .colab-df-quickchart-complete:disabled,\n",
       "  .colab-df-quickchart-complete:disabled:hover {\n",
       "    background-color: var(--disabled-bg-color);\n",
       "    fill: var(--disabled-fill-color);\n",
       "    box-shadow: none;\n",
       "  }\n",
       "\n",
       "  .colab-df-spinner {\n",
       "    border: 2px solid var(--fill-color);\n",
       "    border-color: transparent;\n",
       "    border-bottom-color: var(--fill-color);\n",
       "    animation:\n",
       "      spin 1s steps(1) infinite;\n",
       "  }\n",
       "\n",
       "  @keyframes spin {\n",
       "    0% {\n",
       "      border-color: transparent;\n",
       "      border-bottom-color: var(--fill-color);\n",
       "      border-left-color: var(--fill-color);\n",
       "    }\n",
       "    20% {\n",
       "      border-color: transparent;\n",
       "      border-left-color: var(--fill-color);\n",
       "      border-top-color: var(--fill-color);\n",
       "    }\n",
       "    30% {\n",
       "      border-color: transparent;\n",
       "      border-left-color: var(--fill-color);\n",
       "      border-top-color: var(--fill-color);\n",
       "      border-right-color: var(--fill-color);\n",
       "    }\n",
       "    40% {\n",
       "      border-color: transparent;\n",
       "      border-right-color: var(--fill-color);\n",
       "      border-top-color: var(--fill-color);\n",
       "    }\n",
       "    60% {\n",
       "      border-color: transparent;\n",
       "      border-right-color: var(--fill-color);\n",
       "    }\n",
       "    80% {\n",
       "      border-color: transparent;\n",
       "      border-right-color: var(--fill-color);\n",
       "      border-bottom-color: var(--fill-color);\n",
       "    }\n",
       "    90% {\n",
       "      border-color: transparent;\n",
       "      border-bottom-color: var(--fill-color);\n",
       "    }\n",
       "  }\n",
       "</style>\n",
       "\n",
       "  <script>\n",
       "    async function quickchart(key) {\n",
       "      const quickchartButtonEl =\n",
       "        document.querySelector('#' + key + ' button');\n",
       "      quickchartButtonEl.disabled = true;  // To prevent multiple clicks.\n",
       "      quickchartButtonEl.classList.add('colab-df-spinner');\n",
       "      try {\n",
       "        const charts = await google.colab.kernel.invokeFunction(\n",
       "            'suggestCharts', [key], {});\n",
       "      } catch (error) {\n",
       "        console.error('Error during call to suggestCharts:', error);\n",
       "      }\n",
       "      quickchartButtonEl.classList.remove('colab-df-spinner');\n",
       "      quickchartButtonEl.classList.add('colab-df-quickchart-complete');\n",
       "    }\n",
       "    (() => {\n",
       "      let quickchartButtonEl =\n",
       "        document.querySelector('#df-e52d2049-4510-4407-9139-11f81364951b button');\n",
       "      quickchartButtonEl.style.display =\n",
       "        google.colab.kernel.accessAllowed ? 'block' : 'none';\n",
       "    })();\n",
       "  </script>\n",
       "</div>\n",
       "\n",
       "    </div>\n",
       "  </div>\n"
      ],
      "text/plain": [
       "       id         type                                           Sequence\n",
       "0  B9J113  beta_lactam  GTGAAACATAAAAATCAGGCGACGCATAAAGAGTTCTCTCAACTTG...\n",
       "1  B9J113  beta_lactam  AAACAATCGCTTATCGACCTAACGAAAGGTTTGCCTTTGCATCAAC...\n",
       "2  B9J113  beta_lactam  AGATGAAGTTATTACTTATACGAAAGAAGACTTAGTGGATTATTCA...\n",
       "3  B9J113  beta_lactam  GCTGCTGTTCGTTACAGTGATAATACTGCAGGGAACATTTTATTTC...\n",
       "4  B9J113  beta_lactam  GGGTTACTATGTCTGATCGCTTTGAAACAGAGTTAAACGAAGCTAT..."
      ]
     },
     "execution_count": 52,
     "metadata": {},
     "output_type": "execute_result"
    }
   ],
   "source": [
    "short_reads = pd.read_csv('/content/drive/MyDrive/PUBH 8885 CB/short_reads_with_type.csv')\n",
    "short_reads.head()"
   ]
  },
  {
   "cell_type": "code",
   "execution_count": null,
   "metadata": {
    "colab": {
     "base_uri": "https://localhost:8080/"
    },
    "id": "1JK8hrn46vqJ",
    "outputId": "ac15fd55-b332-460c-a739-4b0d3bb8d500"
   },
   "outputs": [
    {
     "name": "stdout",
     "output_type": "stream",
     "text": [
      "# Unique Resistance Types: 15 \n",
      "\n",
      "Unique Resistance Types: ['beta_lactam' 'bacitracin' 'chloramphenicol' 'aminoglycoside'\n",
      " 'macrolide-lincosamide-streptogramin' 'multidrug' 'polymyxin'\n",
      " 'fosfomycin' 'sulfonamide' 'glycopeptide' 'mupirocin' 'trimethoprim'\n",
      " 'quinolone' 'fosmidomycin' 'tetracycline']\n"
     ]
    }
   ],
   "source": [
    "# number of unique drug resistance type\n",
    "print(\"# Unique Resistance Types:\", len(set(short_reads['type'])),\"\\n\\nUnique Resistance Types:\", short_reads['type'].unique())"
   ]
  },
  {
   "cell_type": "code",
   "execution_count": null,
   "metadata": {
    "colab": {
     "base_uri": "https://localhost:8080/"
    },
    "id": "C9Q8Tdmc6yVc",
    "outputId": "d3729258-dc2b-443a-823f-a26bb0e758ba"
   },
   "outputs": [
    {
     "data": {
      "text/plain": [
       "Index(['id', 'type', 'Sequence'], dtype='object')"
      ]
     },
     "execution_count": 54,
     "metadata": {},
     "output_type": "execute_result"
    }
   ],
   "source": [
    "short_reads.columns"
   ]
  },
  {
   "cell_type": "code",
   "execution_count": null,
   "metadata": {
    "id": "tFAsDypG7Sdq"
   },
   "outputs": [],
   "source": [
    "# Split data\n",
    "ss_sequences = short_reads['Sequence'].values"
   ]
  },
  {
   "cell_type": "code",
   "execution_count": null,
   "metadata": {
    "id": "_Pr9lmse61AR"
   },
   "outputs": [],
   "source": [
    "# Create label encoder for drug resistance types\n",
    "ss_labels = label_encoder.fit_transform(short_reads['type'])"
   ]
  },
  {
   "cell_type": "code",
   "execution_count": null,
   "metadata": {
    "colab": {
     "base_uri": "https://localhost:8080/"
    },
    "id": "v9Lxh6Zi63j0",
    "outputId": "fba21c78-cef9-4f40-9b5e-c8ff96963328"
   },
   "outputs": [
    {
     "name": "stdout",
     "output_type": "stream",
     "text": [
      "                                                sequence  label\n",
      "0      GTGAAACATAAAAATCAGGCGACGCATAAAGAGTTCTCTCAACTTG...      2\n",
      "1      AAACAATCGCTTATCGACCTAACGAAAGGTTTGCCTTTGCATCAAC...      2\n",
      "2      AGATGAAGTTATTACTTATACGAAAGAAGACTTAGTGGATTATTCA...      2\n",
      "3      GCTGCTGTTCGTTACAGTGATAATACTGCAGGGAACATTTTATTTC...      2\n",
      "4      GGGTTACTATGTCTGATCGCTTTGAAACAGAGTTAAACGAAGCTAT...      2\n",
      "...                                                  ...    ...\n",
      "96140  GTGGCTGAACTCCATTACTGTCAGGGTGAAAGAAGGATTTGACAGC...      7\n",
      "96141  GATTTCTTTACCTGGAACATGGACGGCGTCTTGAAAACCGTTGAAA...      7\n",
      "96142  TGGTGGGCGGTATTGGTGTAATGAATATTATGCTGGTGTCAGTGAC...      7\n",
      "96143  TGTTTTGCAACAGTTCCTGATCGAAGCCGTGCTGGTTTGCCTGGTC...      7\n",
      "96144  TTCTTACCCGGCTGGGAGATTGGTTTTTCACCGTTGGCGCTGCTGC...      7\n",
      "\n",
      "[96145 rows x 2 columns]\n"
     ]
    }
   ],
   "source": [
    "ss_dataset = pd.DataFrame({\n",
    "    'sequence': ss_sequences,\n",
    "    'label': ss_labels\n",
    "})\n",
    "print(ss_dataset)"
   ]
  },
  {
   "cell_type": "code",
   "execution_count": null,
   "metadata": {
    "id": "-lWRdZR-656m"
   },
   "outputs": [],
   "source": [
    "# Create Train Test split\n",
    "ss_train_sequences, ss_test_sequences, ss_train_labels, ss_test_labels = train_test_split(ss_dataset['sequence'], ss_dataset['label'], test_size=0.1, random_state=42)"
   ]
  },
  {
   "cell_type": "code",
   "execution_count": null,
   "metadata": {
    "id": "SFFmWsmC6-OY"
   },
   "outputs": [],
   "source": [
    "ss_test_sequences, ss_test_labels = preprocess_data(ss_test_sequences, ss_test_labels)"
   ]
  },
  {
   "cell_type": "code",
   "execution_count": null,
   "metadata": {
    "id": "TQl1VNA56_vx"
   },
   "outputs": [],
   "source": [
    "ss_test_dataset = ArgDataset(ss_test_sequences, ss_test_labels, tokenizer)"
   ]
  },
  {
   "cell_type": "code",
   "execution_count": null,
   "metadata": {
    "colab": {
     "base_uri": "https://localhost:8080/",
     "height": 180
    },
    "id": "g2-moae37xFB",
    "outputId": "b2f09c33-8efc-4296-85f1-66f189e3788e"
   },
   "outputs": [
    {
     "data": {
      "text/html": [],
      "text/plain": [
       "<IPython.core.display.HTML object>"
      ]
     },
     "metadata": {},
     "output_type": "display_data"
    },
    {
     "name": "stderr",
     "output_type": "stream",
     "text": [
      "/usr/local/lib/python3.10/dist-packages/sklearn/metrics/_classification.py:1531: UndefinedMetricWarning: Precision is ill-defined and being set to 0.0 in labels with no predicted samples. Use `zero_division` parameter to control this behavior.\n",
      "  _warn_prf(average, modifier, f\"{metric.capitalize()} is\", len(result))\n",
      "/usr/local/lib/python3.10/dist-packages/sklearn/metrics/_classification.py:1531: UndefinedMetricWarning: Recall is ill-defined and being set to 0.0 in labels with no true samples. Use `zero_division` parameter to control this behavior.\n",
      "  _warn_prf(average, modifier, f\"{metric.capitalize()} is\", len(result))\n",
      "/usr/local/lib/python3.10/dist-packages/sklearn/metrics/_classification.py:1531: UndefinedMetricWarning: Precision is ill-defined and being set to 0.0 in labels with no predicted samples. Use `zero_division` parameter to control this behavior.\n",
      "  _warn_prf(average, modifier, f\"{metric.capitalize()} is\", len(result))\n",
      "/usr/local/lib/python3.10/dist-packages/sklearn/metrics/_classification.py:1531: UndefinedMetricWarning: Recall is ill-defined and being set to 0.0 in labels with no true samples. Use `zero_division` parameter to control this behavior.\n",
      "  _warn_prf(average, modifier, f\"{metric.capitalize()} is\", len(result))\n"
     ]
    }
   ],
   "source": [
    "ss_test_results = trainer.predict(ss_test_dataset)"
   ]
  },
  {
   "cell_type": "code",
   "execution_count": null,
   "metadata": {
    "colab": {
     "base_uri": "https://localhost:8080/"
    },
    "id": "cY6CVWBm72tM",
    "outputId": "0aabe2b3-ead8-47d0-8f1d-c71fe33a17b0"
   },
   "outputs": [
    {
     "name": "stdout",
     "output_type": "stream",
     "text": [
      "Short Read Test Metrics: {'test_loss': 2.7949256896972656, 'test_micro_precision': 0.2696827873114925, 'test_macro_precision': 0.11209192919065418, 'test_weighted_precision': 0.4477075186930509, 'test_micro_recall': 0.2696827873114925, 'test_macro_recall': 0.10697475401837209, 'test_weighted_recall': 0.2696827873114925, 'test_micro_f1': 0.2696827873114925, 'test_macro_f1': 0.07402554149271498, 'test_weighted_f1': 0.2464006343141424, 'test_runtime': 9.0124, 'test_samples_per_second': 1066.865, 'test_steps_per_second': 16.755}\n"
     ]
    }
   ],
   "source": [
    "print(\"Short Read Test Metrics:\", ss_test_results.metrics)"
   ]
  },
  {
   "cell_type": "code",
   "execution_count": null,
   "metadata": {
    "id": "-9A4o6Rt76bu"
   },
   "outputs": [],
   "source": [
    "ss_predicted_classes = np.argmax(ss_test_results.predictions, axis=1)"
   ]
  },
  {
   "cell_type": "code",
   "execution_count": null,
   "metadata": {
    "colab": {
     "base_uri": "https://localhost:8080/"
    },
    "id": "pCHFxHfR7-Bq",
    "outputId": "551cb0ec-be51-4bbf-d551-947a120eac82"
   },
   "outputs": [
    {
     "name": "stdout",
     "output_type": "stream",
     "text": [
      "              precision    recall  f1-score   support\n",
      "\n",
      "           0       0.13      0.10      0.11       373\n",
      "           1       0.81      0.07      0.13      3203\n",
      "           2       0.43      0.63      0.51      3108\n",
      "           3       0.06      0.42      0.11       218\n",
      "           4       0.00      0.00      0.00       111\n",
      "           6       0.00      0.00      0.00        10\n",
      "           7       0.12      0.10      0.11      1309\n",
      "           8       0.00      0.00      0.00       162\n",
      "           9       0.00      0.14      0.00         7\n",
      "          10       0.13      0.15      0.14      1108\n",
      "          11       0.00      0.00      0.00         2\n",
      "          13       0.00      0.00      0.00         3\n",
      "          14       0.00      0.00      0.00         1\n",
      "          16       0.00      0.00      0.00         0\n",
      "          20       0.00      0.00      0.00         0\n",
      "\n",
      "    accuracy                           0.27      9615\n",
      "   macro avg       0.11      0.11      0.07      9615\n",
      "weighted avg       0.45      0.27      0.25      9615\n",
      "\n"
     ]
    },
    {
     "name": "stderr",
     "output_type": "stream",
     "text": [
      "/usr/local/lib/python3.10/dist-packages/sklearn/metrics/_classification.py:1531: UndefinedMetricWarning: Precision is ill-defined and being set to 0.0 in labels with no predicted samples. Use `zero_division` parameter to control this behavior.\n",
      "  _warn_prf(average, modifier, f\"{metric.capitalize()} is\", len(result))\n",
      "/usr/local/lib/python3.10/dist-packages/sklearn/metrics/_classification.py:1531: UndefinedMetricWarning: Recall is ill-defined and being set to 0.0 in labels with no true samples. Use `zero_division` parameter to control this behavior.\n",
      "  _warn_prf(average, modifier, f\"{metric.capitalize()} is\", len(result))\n",
      "/usr/local/lib/python3.10/dist-packages/sklearn/metrics/_classification.py:1531: UndefinedMetricWarning: Precision is ill-defined and being set to 0.0 in labels with no predicted samples. Use `zero_division` parameter to control this behavior.\n",
      "  _warn_prf(average, modifier, f\"{metric.capitalize()} is\", len(result))\n",
      "/usr/local/lib/python3.10/dist-packages/sklearn/metrics/_classification.py:1531: UndefinedMetricWarning: Recall is ill-defined and being set to 0.0 in labels with no true samples. Use `zero_division` parameter to control this behavior.\n",
      "  _warn_prf(average, modifier, f\"{metric.capitalize()} is\", len(result))\n",
      "/usr/local/lib/python3.10/dist-packages/sklearn/metrics/_classification.py:1531: UndefinedMetricWarning: Precision is ill-defined and being set to 0.0 in labels with no predicted samples. Use `zero_division` parameter to control this behavior.\n",
      "  _warn_prf(average, modifier, f\"{metric.capitalize()} is\", len(result))\n",
      "/usr/local/lib/python3.10/dist-packages/sklearn/metrics/_classification.py:1531: UndefinedMetricWarning: Recall is ill-defined and being set to 0.0 in labels with no true samples. Use `zero_division` parameter to control this behavior.\n",
      "  _warn_prf(average, modifier, f\"{metric.capitalize()} is\", len(result))\n"
     ]
    }
   ],
   "source": [
    "# Compare predictions with true labels\n",
    "ss_true_labels = ss_test_results.label_ids\n",
    "print(classification_report(ss_true_labels, ss_predicted_classes))"
   ]
  },
  {
   "cell_type": "markdown",
   "metadata": {
    "id": "ODmfjpr66Oop"
   },
   "source": [
    "## Test on sample input"
   ]
  },
  {
   "cell_type": "code",
   "execution_count": null,
   "metadata": {
    "colab": {
     "base_uri": "https://localhost:8080/"
    },
    "id": "I_YmhlnFXZ6C",
    "outputId": "12f7893d-955d-4b0a-dba3-8c43f734d80e"
   },
   "outputs": [
    {
     "data": {
      "text/plain": [
       "869"
      ]
     },
     "execution_count": 44,
     "metadata": {},
     "output_type": "execute_result"
    }
   ],
   "source": [
    "test_seq = 'TTTTTAATAGTTATCTATTATTTAACGGGAGGAAATAATTCTATGAGTCGCTTTTTTAAATTTGGAAAGTTACACGTTACTAAAGGGAATGGAGATAAATTATTAGATATACTACTGACAGCTTCCAAGAAGCTAAAGAGGTCCCTAGCGCCTACGGGGAATTTGTATCGATAAGGGGTACAAATTCCCACTAAGCGCTCGGGACCCCTTGTAGGAAAATGTCCTAAGTGTGGCAACAATATTGTATTAAAAAAATCGTTTTATGGTTGTTCAAATGGTTCTGTTGCAAAGTTTTAAATAAAGAATAAAATCCCTTACGGTATCTATGATTTAAGCTGGGATTCCCAATAATACCTTGATTTCAGTACAGACCGAAAACCCGAAGAGAGTGCCTTCTTTTCGGGTTTTCTTATATAATCCTCGAATGGCTTCCATGCCTTTAATCGTGGTAGAGGCAGTGCGTAAACTTCGATAGAATTTATTGCGTCTCTTTACTGGACGATGGTCTTGTTCAATCAAATTATTCAGGTATTTAATGGTACGATGTTCTGTCCCCTTGATAAAAGCCGTATTCTTTTAGTTTCTTAAAGGCACTTGAATAGAGGGGGCTTTATCTGTGACTACAACCTTCGGTTCATCAAACTGCTTCACTAACCGCTTAAGAAAAGCATAGGCTGCTTGTGGGGGTACCGTCAGGAAAATGCGGATTTACAACGTTAAGGAAATTTATTAAAGAGACCAATTCCTCAGCACTAAAATTGATAATTGGGCTTTCTTTGTTACTATAGTGTTAGGTAAGCTTTTTACTTTATCACCGGTTTTCCCCTCACTTCACACCTACGGGCGAGTTTCCCCACATCCCGTTTTCC'\n",
    "len(test_seq)"
   ]
  },
  {
   "cell_type": "code",
   "execution_count": null,
   "metadata": {
    "id": "CYE7nuyZYnmd"
   },
   "outputs": [],
   "source": [
    "inputs = tokenizer(\n",
    "    test_seq,\n",
    "    truncation=True,\n",
    "    max_length=1024,  # Ensure this matches the model's max length\n",
    "    return_tensors=\"pt\"  # Return PyTorch tensors\n",
    ")"
   ]
  },
  {
   "cell_type": "code",
   "execution_count": null,
   "metadata": {
    "id": "B4ixlPzKYuf5"
   },
   "outputs": [],
   "source": [
    "# Move the input tensors to the same device as the model\n",
    "for key in inputs:\n",
    "    inputs[key] = inputs[key].to(model.device)\n",
    "\n",
    "model.eval()  # Set model to evaluation mode\n",
    "with torch.no_grad():\n",
    "    outputs = model(**inputs)"
   ]
  },
  {
   "cell_type": "code",
   "execution_count": null,
   "metadata": {
    "id": "YDbUPftjZBHB"
   },
   "outputs": [],
   "source": [
    "import torch.nn.functional as F"
   ]
  },
  {
   "cell_type": "code",
   "execution_count": null,
   "metadata": {
    "colab": {
     "base_uri": "https://localhost:8080/"
    },
    "id": "LQFUbKm0Y3gO",
    "outputId": "61b78f26-3e55-4087-f2bf-640335e4a89d"
   },
   "outputs": [
    {
     "name": "stdout",
     "output_type": "stream",
     "text": [
      "Predicted class: 7\n",
      "Class probabilities: tensor([[0.0502, 0.0038, 0.0047, 0.0048, 0.0072, 0.0301, 0.0181, 0.1784, 0.0209,\n",
      "         0.0046, 0.0923, 0.0343, 0.1333, 0.0221, 0.0046, 0.0245, 0.0864, 0.1002,\n",
      "         0.0326, 0.0232, 0.0481, 0.0525, 0.0230]], device='cuda:0')\n"
     ]
    }
   ],
   "source": [
    "# Extract logits and compute probabilities\n",
    "logits = outputs.logits  # Raw scores\n",
    "probs = F.softmax(logits, dim=-1)  # Convert to probabilities\n",
    "\n",
    "# Get the predicted class\n",
    "predicted_class = torch.argmax(probs, dim=-1).item()\n",
    "\n",
    "# Print the results\n",
    "print(f\"Predicted class: {predicted_class}\")\n",
    "print(f\"Class probabilities: {probs}\")"
   ]
  },
  {
   "cell_type": "code",
   "execution_count": null,
   "metadata": {
    "colab": {
     "base_uri": "https://localhost:8080/"
    },
    "id": "X8m7TmSNZQYm",
    "outputId": "7b3b0bd4-0bfa-4a59-fe12-c8e5a50f3159"
   },
   "outputs": [
    {
     "name": "stdout",
     "output_type": "stream",
     "text": [
      "{0: 'aminoglycoside', 1: 'bacitracin', 2: 'beta_lactam', 3: 'chloramphenicol', 4: 'fosfomycin', 5: 'fosmidomycin', 6: 'fusidic_acid', 7: 'glycopeptide', 8: 'kasugamycin', 9: 'macrolide-lincosamide-streptogramin', 10: 'multidrug', 11: 'mupirocin', 12: 'non_resistant', 13: 'peptide', 14: 'polymyxin', 15: 'qa_compound', 16: 'quinolone', 17: 'rifampin', 18: 'sulfonamide', 19: 'tetracenomycin', 20: 'tetracycline', 21: 'trimethoprim', 22: 'tunicamycin'}\n"
     ]
    }
   ],
   "source": [
    "class_mapping = dict(zip(range(len(label_encoder.classes_)), label_encoder.classes_))\n",
    "print(class_mapping)"
   ]
  },
  {
   "cell_type": "markdown",
   "metadata": {
    "id": "k7NV_xD5XZlu"
   },
   "source": []
  },
  {
   "cell_type": "markdown",
   "metadata": {
    "id": "KwQA_eJOtrbH"
   },
   "source": [
    "## Visualizations"
   ]
  },
  {
   "cell_type": "code",
   "execution_count": null,
   "metadata": {
    "colab": {
     "base_uri": "https://localhost:8080/"
    },
    "id": "gDS_rfUo-8sq",
    "outputId": "71d1d411-f63a-4b46-ab10-588558a502d3"
   },
   "outputs": [
    {
     "name": "stdout",
     "output_type": "stream",
     "text": [
      "Number of classes in test_labels: 16\n",
      "Number of classes in label_encoder: 15\n"
     ]
    }
   ],
   "source": [
    "print(\"Number of classes in test_labels:\", len(np.unique(true_labels)))\n",
    "print(\"Number of classes in label_encoder:\", len(label_encoder.classes_))"
   ]
  },
  {
   "cell_type": "code",
   "execution_count": null,
   "metadata": {
    "id": "UCYYHIrz-mut"
   },
   "outputs": [],
   "source": [
    "# Get the unique labels from both true and predicted labels\n",
    "unique_labels = np.unique(np.concatenate((true_labels, predicted_classes)))"
   ]
  },
  {
   "cell_type": "code",
   "execution_count": null,
   "metadata": {
    "colab": {
     "base_uri": "https://localhost:8080/",
     "height": 472
    },
    "id": "2r1mBWHmtvmB",
    "outputId": "50f64d17-7d19-4210-9c5f-2b0e33ce2e19"
   },
   "outputs": [
    {
     "data": {
      "image/png": "[encoded data removed]",
      "text/plain": [
       "<Figure size 640x480 with 2 Axes>"
      ]
     },
     "metadata": {},
     "output_type": "display_data"
    }
   ],
   "source": [
    "cm = confusion_matrix(true_labels, predicted_classes, labels=unique_labels)  # Specify labels\n",
    "disp = ConfusionMatrixDisplay(confusion_matrix=cm, display_labels=unique_labels)  # Updated labels\n",
    "disp.plot(cmap='Blues')\n",
    "plt.title(\"Confusion Matrix\")\n",
    "plt.show()"
   ]
  },
  {
   "cell_type": "code",
   "execution_count": null,
   "metadata": {
    "colab": {
     "base_uri": "https://localhost:8080/"
    },
    "id": "m6RzmSy0ATUJ",
    "outputId": "8615ff4b-7483-4390-a481-00a247e1b0e1"
   },
   "outputs": [
    {
     "data": {
      "text/plain": [
       "array([ 2,  3,  3, ...,  1, 12, 12])"
      ]
     },
     "execution_count": 104,
     "metadata": {},
     "output_type": "execute_result"
    }
   ],
   "source": [
    "test_results.label_ids"
   ]
  },
  {
   "cell_type": "code",
   "execution_count": null,
   "metadata": {
    "id": "CT6erQyqt61h"
   },
   "outputs": [],
   "source": [
    "labels = label_encoder.classes_\n",
    "x = np.arange(len(labels))  # Class indices\n",
    "\n",
    "# precision = [test_results.metrics['test_micro_precision'], test_results.metrics['test_macro_precision'], test_results.metrics['test_weighted_precision']]\n",
    "# recall = [test_results.metrics['test_micro_recall'], test_results.metrics['test_macro_recall'], test_results.metrics['test_weighted_recall']]\n",
    "# f1 = [test_results.metrics['test_micro_f1'], test_results.metrics['test_macro_f1'], test_results.metrics['test_weighted_f1']]\n",
    "\n",
    "precision = test_results.metrics['test_weighted_precision']\n",
    "recall = test_results.metrics['test_weighted_recall']\n",
    "f1 = test_results.metrics['test_weighted_f1']\n"
   ]
  },
  {
   "cell_type": "code",
   "execution_count": null,
   "metadata": {
    "colab": {
     "base_uri": "https://localhost:8080/"
    },
    "id": "hLWCBJW5C6TW",
    "outputId": "9827dfc2-3553-4b73-94bb-87637a9be9e4"
   },
   "outputs": [
    {
     "name": "stderr",
     "output_type": "stream",
     "text": [
      "/usr/local/lib/python3.10/dist-packages/sklearn/metrics/_classification.py:1531: UndefinedMetricWarning: Precision is ill-defined and being set to 0.0 in labels with no predicted samples. Use `zero_division` parameter to control this behavior.\n",
      "  _warn_prf(average, modifier, f\"{metric.capitalize()} is\", len(result))\n",
      "/usr/local/lib/python3.10/dist-packages/sklearn/metrics/_classification.py:1531: UndefinedMetricWarning: Precision is ill-defined and being set to 0.0 in labels with no predicted samples. Use `zero_division` parameter to control this behavior.\n",
      "  _warn_prf(average, modifier, f\"{metric.capitalize()} is\", len(result))\n",
      "/usr/local/lib/python3.10/dist-packages/sklearn/metrics/_classification.py:1531: UndefinedMetricWarning: Precision is ill-defined and being set to 0.0 in labels with no predicted samples. Use `zero_division` parameter to control this behavior.\n",
      "  _warn_prf(average, modifier, f\"{metric.capitalize()} is\", len(result))\n"
     ]
    }
   ],
   "source": [
    "class_report = classification_report(true_labels, predicted_classes, target_names=unique_labels, output_dict=True)"
   ]
  },
  {
   "cell_type": "code",
   "execution_count": null,
   "metadata": {
    "id": "LOHDeKWADLpM"
   },
   "outputs": [],
   "source": [
    "class_report_df = pd.DataFrame(class_report).transpose()"
   ]
  },
  {
   "cell_type": "code",
   "execution_count": null,
   "metadata": {
    "colab": {
     "base_uri": "https://localhost:8080/"
    },
    "id": "wiJ1PfQBDOqa",
    "outputId": "f4fe25e6-688b-44ca-8cd4-43dab2e608f1"
   },
   "outputs": [
    {
     "name": "stdout",
     "output_type": "stream",
     "text": [
      "              precision    recall  f1-score      support\n",
      "0              0.831579  0.724771  0.774510   109.000000\n",
      "1              0.914062  0.904173  0.909091   647.000000\n",
      "2              0.926092  0.921962  0.924022   897.000000\n",
      "3              0.761905  0.705882  0.732824    68.000000\n",
      "4              0.937500  0.600000  0.731707    25.000000\n",
      "7              0.666667  0.758621  0.709677    29.000000\n",
      "9              0.794224  0.856031  0.823970   257.000000\n",
      "10             0.836066  0.836066  0.836066   122.000000\n",
      "12             0.888889  1.000000  0.941176    72.000000\n",
      "13             0.000000  0.000000  0.000000     1.000000\n",
      "14             0.849057  0.853081  0.851064   211.000000\n",
      "16             1.000000  0.857143  0.923077    14.000000\n",
      "17             0.800000  1.000000  0.888889     8.000000\n",
      "18             0.000000  0.000000  0.000000     2.000000\n",
      "20             0.754717  0.909091  0.824742    44.000000\n",
      "21             1.000000  0.833333  0.909091     6.000000\n",
      "accuracy       0.881768  0.881768  0.881768     0.881768\n",
      "macro avg      0.747547  0.735010  0.736244  2512.000000\n",
      "weighted avg   0.882245  0.881768  0.880985  2512.000000\n"
     ]
    }
   ],
   "source": [
    "print(class_report_df)"
   ]
  },
  {
   "cell_type": "code",
   "execution_count": null,
   "metadata": {
    "id": "Tn4Eo-7pDUhr"
   },
   "outputs": [],
   "source": [
    "class_metrics = class_report_df.iloc[:-3, :]  # Excluding 'accuracy', 'macro avg', 'weighted avg'\n",
    "precision = class_metrics['precision']\n",
    "recall = class_metrics['recall']\n",
    "f1 = class_metrics['f1-score']\n",
    "classes = class_metrics.index"
   ]
  },
  {
   "cell_type": "code",
   "execution_count": null,
   "metadata": {
    "colab": {
     "base_uri": "https://localhost:8080/",
     "height": 487
    },
    "id": "In9y35elDVZZ",
    "outputId": "0ad36be8-3992-47c4-f5e9-13b7430c4f20"
   },
   "outputs": [
    {
     "data": {
      "image/png": "[encoded data removed]",
      "text/plain": [
       "<Figure size 640x480 with 1 Axes>"
      ]
     },
     "metadata": {},
     "output_type": "display_data"
    }
   ],
   "source": [
    "x = np.arange(len(classes))  # Class indices\n",
    "width = 0.25\n",
    "\n",
    "plt.bar(x - width, precision, width, label='Precision')\n",
    "plt.bar(x, recall, width, label='Recall')\n",
    "plt.bar(x + width, f1, width, label='F1 Score')\n",
    "\n",
    "plt.xlabel(\"Classes\")\n",
    "plt.ylabel(\"Scores\")\n",
    "plt.title(\"Per-Class Precision, Recall, and F1 Scores\")\n",
    "plt.xticks(x, classes, rotation=90)\n",
    "plt.legend()\n",
    "plt.tight_layout()\n",
    "plt.show()"
   ]
  },
  {
   "cell_type": "code",
   "execution_count": null,
   "metadata": {
    "colab": {
     "base_uri": "https://localhost:8080/",
     "height": 472
    },
    "id": "RnbjgCoEt9bp",
    "outputId": "e18416a4-d228-4d8b-e1b6-290ba77f0993"
   },
   "outputs": [
    {
     "data": {
      "image/png": "[encoded data removed]",
      "text/plain": [
       "<Figure size 640x480 with 1 Axes>"
      ]
     },
     "metadata": {},
     "output_type": "display_data"
    }
   ],
   "source": [
    "training_history = trainer.state.log_history\n",
    "\n",
    "# Plot training loss\n",
    "epochs = [log[\"epoch\"] for log in training_history if \"loss\" in log]\n",
    "loss = [log[\"loss\"] for log in training_history if \"loss\" in log]\n",
    "eval_loss = [log[\"eval_loss\"] for log in training_history if \"eval_loss\" in log]\n",
    "\n",
    "plt.plot(epochs, loss, label=\"Training Loss\")\n",
    "plt.plot(epochs, eval_loss, label=\"Validation Loss\")\n",
    "plt.xlabel(\"Epochs\")\n",
    "plt.ylabel(\"Loss\")\n",
    "plt.title(\"Training and Validation Loss\")\n",
    "plt.legend()\n",
    "plt.show()"
   ]
  },
  {
   "cell_type": "markdown",
   "metadata": {
    "id": "pxWU9fUaFj5F"
   },
   "source": [
    "### ROC"
   ]
  },
  {
   "cell_type": "code",
   "execution_count": null,
   "metadata": {
    "id": "r0m1ubwCEPoL"
   },
   "outputs": [],
   "source": [
    "from sklearn.preprocessing import label_binarize\n",
    "from itertools import cycle"
   ]
  },
  {
   "cell_type": "markdown",
   "metadata": {
    "id": "fDZV8It2FjDb"
   },
   "source": []
  },
  {
   "cell_type": "code",
   "execution_count": null,
   "metadata": {
    "colab": {
     "base_uri": "https://localhost:8080/",
     "height": 917
    },
    "id": "MvB5OlP7uHTp",
    "outputId": "3f9c33e4-67ef-4bfc-9335-50c8d1c63226"
   },
   "outputs": [
    {
     "name": "stderr",
     "output_type": "stream",
     "text": [
      "/usr/local/lib/python3.10/dist-packages/sklearn/metrics/_ranking.py:1183: UndefinedMetricWarning: No positive samples in y_true, true positive value should be meaningless\n",
      "  warnings.warn(\n",
      "/usr/local/lib/python3.10/dist-packages/sklearn/metrics/_ranking.py:1183: UndefinedMetricWarning: No positive samples in y_true, true positive value should be meaningless\n",
      "  warnings.warn(\n",
      "/usr/local/lib/python3.10/dist-packages/sklearn/metrics/_ranking.py:1183: UndefinedMetricWarning: No positive samples in y_true, true positive value should be meaningless\n",
      "  warnings.warn(\n",
      "/usr/local/lib/python3.10/dist-packages/sklearn/metrics/_ranking.py:1183: UndefinedMetricWarning: No positive samples in y_true, true positive value should be meaningless\n",
      "  warnings.warn(\n",
      "/usr/local/lib/python3.10/dist-packages/sklearn/metrics/_ranking.py:1183: UndefinedMetricWarning: No positive samples in y_true, true positive value should be meaningless\n",
      "  warnings.warn(\n"
     ]
    },
    {
     "data": {
      "image/png": "[encoded data removed]",
      "text/plain": [
       "<Figure size 1000x800 with 1 Axes>"
      ]
     },
     "metadata": {},
     "output_type": "display_data"
    }
   ],
   "source": [
    "# Number of classes\n",
    "n_classes = len(unique_labels)\n",
    "\n",
    "# Binarize the true labels\n",
    "binarized_labels = label_binarize(true_labels, classes=range(n_classes))\n",
    "\n",
    "# Predicted probabilities for each class (output from the model's softmax layer)\n",
    "y_prob = test_results.predictions[:, :n_classes]    # shape: (n_samples, n_classes)\n",
    "\n",
    "# Compute ROC curve and AUC for each class\n",
    "fpr = dict()\n",
    "tpr = dict()\n",
    "roc_auc = dict()\n",
    "\n",
    "for i in range(n_classes):\n",
    "    fpr[i], tpr[i], _ = roc_curve(binarized_labels[:, i], y_prob[:, i])\n",
    "    roc_auc[i] = auc(fpr[i], tpr[i])\n",
    "\n",
    "# Compute micro-average ROC curve and ROC area\n",
    "fpr[\"micro\"], tpr[\"micro\"], _ = roc_curve(binarized_labels.ravel(), y_prob.ravel())\n",
    "roc_auc[\"micro\"] = auc(fpr[\"micro\"], tpr[\"micro\"])\n",
    "\n",
    "# Plot ROC curves\n",
    "plt.figure(figsize=(10, 8))\n",
    "colors = cycle([\"aqua\", \"darkorange\", \"cornflowerblue\", \"green\", \"red\", \"purple\"])\n",
    "for i, color in zip(range(n_classes), colors):\n",
    "    # Check if i is within the bounds of labels\n",
    "    label_name = labels[i] if i < len(labels) else f\"Class {i}\"\n",
    "    plt.plot(fpr[i], tpr[i], color=color, lw=2,\n",
    "             label=f\"ROC curve for class {label_name} (area = {roc_auc[i]:0.2f})\")\n",
    "\n",
    "# Plot micro-average ROC curve\n",
    "plt.plot(fpr[\"micro\"], tpr[\"micro\"],\n",
    "         label=f\"Micro-average ROC curve (area = {roc_auc['micro']:0.2f})\",\n",
    "         color=\"deeppink\", linestyle=\"--\", linewidth=2)\n",
    "\n",
    "# Plot diagonal line for reference\n",
    "plt.plot([0, 1], [0, 1], \"k--\", lw=2)\n",
    "\n",
    "plt.xlabel(\"False Positive Rate\")\n",
    "plt.ylabel(\"True Positive Rate\")\n",
    "plt.title(\"ROC Curves for Multi-Class Classification\")\n",
    "plt.legend(loc=\"lower right\")\n",
    "plt.show()"
   ]
  },
  {
   "cell_type": "code",
   "execution_count": null,
   "metadata": {
    "id": "4UXB5FoiEhjs"
   },
   "outputs": [],
   "source": []
  }
 ],
 "metadata": {
  "accelerator": "GPU",
  "colab": {
   "collapsed_sections": [
    "p8l8cRvO6TgT",
    "KfvpNZjB6h-U",
    "ODmfjpr66Oop",
    "pxWU9fUaFj5F"
   ],
   "gpuType": "A100",
   "machine_shape": "hm",
   "provenance": []
  },
  "kernelspec": {
   "display_name": "Python 3",
   "name": "python3"
  },
  "language_info": {
   "name": "python"
  },
  "widgets": {
   "application/vnd.jupyter.widget-state+json": {
    "087a1d58955f4316b43260b56f7d1988": {
     "model_module": "@jupyter-widgets/controls",
     "model_module_version": "1.5.0",
     "model_name": "FloatProgressModel",
     "state": {
      "_dom_classes": [],
      "_model_module": "@jupyter-widgets/controls",
      "_model_module_version": "1.5.0",
      "_model_name": "FloatProgressModel",
      "_view_count": null,
      "_view_module": "@jupyter-widgets/controls",
      "_view_module_version": "1.5.0",
      "_view_name": "ProgressView",
      "bar_style": "success",
      "description": "",
      "description_tooltip": null,
      "layout": "IPY_MODEL_2bf6a4637fd249a5b5b08288989862e1",
      "max": 1064,
      "min": 0,
      "orientation": "horizontal",
      "style": "IPY_MODEL_d65b1f25d9014c74b04434218ba9bf99",
      "value": 1064
     }
    },
    "08e6de1e96f24064900c00088aa3cbf8": {
     "model_module": "@jupyter-widgets/controls",
     "model_module_version": "1.5.0",
     "model_name": "HTMLModel",
     "state": {
      "_dom_classes": [],
      "_model_module": "@jupyter-widgets/controls",
      "_model_module_version": "1.5.0",
      "_model_name": "HTMLModel",
      "_view_count": null,
      "_view_module": "@jupyter-widgets/controls",
      "_view_module_version": "1.5.0",
      "_view_name": "HTMLView",
      "description": "",
      "description_tooltip": null,
      "layout": "IPY_MODEL_f0d49875dbf5411ea74d91628d02bc2e",
      "placeholder": "​",
      "style": "IPY_MODEL_afba50ae453548e294e7d2d4e064462e",
      "value": " 58.2k/58.2k [00:00&lt;00:00, 4.27MB/s]"
     }
    },
    "16a8087f05794f009946af5bb837c331": {
     "model_module": "@jupyter-widgets/base",
     "model_module_version": "1.2.0",
     "model_name": "LayoutModel",
     "state": {
      "_model_module": "@jupyter-widgets/base",
      "_model_module_version": "1.2.0",
      "_model_name": "LayoutModel",
      "_view_count": null,
      "_view_module": "@jupyter-widgets/base",
      "_view_module_version": "1.2.0",
      "_view_name": "LayoutView",
      "align_content": null,
      "align_items": null,
      "align_self": null,
      "border": null,
      "bottom": null,
      "display": null,
      "flex": null,
      "flex_flow": null,
      "grid_area": null,
      "grid_auto_columns": null,
      "grid_auto_flow": null,
      "grid_auto_rows": null,
      "grid_column": null,
      "grid_gap": null,
      "grid_row": null,
      "grid_template_areas": null,
      "grid_template_columns": null,
      "grid_template_rows": null,
      "height": null,
      "justify_content": null,
      "justify_items": null,
      "left": null,
      "margin": null,
      "max_height": null,
      "max_width": null,
      "min_height": null,
      "min_width": null,
      "object_fit": null,
      "object_position": null,
      "order": null,
      "overflow": null,
      "overflow_x": null,
      "overflow_y": null,
      "padding": null,
      "right": null,
      "top": null,
      "visibility": null,
      "width": null
     }
    },
    "17b2db48e7f5423e9aff144f39089fe8": {
     "model_module": "@jupyter-widgets/controls",
     "model_module_version": "1.5.0",
     "model_name": "DescriptionStyleModel",
     "state": {
      "_model_module": "@jupyter-widgets/controls",
      "_model_module_version": "1.5.0",
      "_model_name": "DescriptionStyleModel",
      "_view_count": null,
      "_view_module": "@jupyter-widgets/base",
      "_view_module_version": "1.2.0",
      "_view_name": "StyleView",
      "description_width": ""
     }
    },
    "1ba1c933f99c4808ba09db7deaeb624a": {
     "model_module": "@jupyter-widgets/controls",
     "model_module_version": "1.5.0",
     "model_name": "ProgressStyleModel",
     "state": {
      "_model_module": "@jupyter-widgets/controls",
      "_model_module_version": "1.5.0",
      "_model_name": "ProgressStyleModel",
      "_view_count": null,
      "_view_module": "@jupyter-widgets/base",
      "_view_module_version": "1.2.0",
      "_view_name": "StyleView",
      "bar_color": null,
      "description_width": ""
     }
    },
    "230b825fc7784f98846e3f476876faa2": {
     "model_module": "@jupyter-widgets/base",
     "model_module_version": "1.2.0",
     "model_name": "LayoutModel",
     "state": {
      "_model_module": "@jupyter-widgets/base",
      "_model_module_version": "1.2.0",
      "_model_name": "LayoutModel",
      "_view_count": null,
      "_view_module": "@jupyter-widgets/base",
      "_view_module_version": "1.2.0",
      "_view_name": "LayoutView",
      "align_content": null,
      "align_items": null,
      "align_self": null,
      "border": null,
      "bottom": null,
      "display": null,
      "flex": null,
      "flex_flow": null,
      "grid_area": null,
      "grid_auto_columns": null,
      "grid_auto_flow": null,
      "grid_auto_rows": null,
      "grid_column": null,
      "grid_gap": null,
      "grid_row": null,
      "grid_template_areas": null,
      "grid_template_columns": null,
      "grid_template_rows": null,
      "height": null,
      "justify_content": null,
      "justify_items": null,
      "left": null,
      "margin": null,
      "max_height": null,
      "max_width": null,
      "min_height": null,
      "min_width": null,
      "object_fit": null,
      "object_position": null,
      "order": null,
      "overflow": null,
      "overflow_x": null,
      "overflow_y": null,
      "padding": null,
      "right": null,
      "top": null,
      "visibility": null,
      "width": null
     }
    },
    "255bcefa53a54aa28c58abecf018ee7d": {
     "model_module": "@jupyter-widgets/base",
     "model_module_version": "1.2.0",
     "model_name": "LayoutModel",
     "state": {
      "_model_module": "@jupyter-widgets/base",
      "_model_module_version": "1.2.0",
      "_model_name": "LayoutModel",
      "_view_count": null,
      "_view_module": "@jupyter-widgets/base",
      "_view_module_version": "1.2.0",
      "_view_name": "LayoutView",
      "align_content": null,
      "align_items": null,
      "align_self": null,
      "border": null,
      "bottom": null,
      "display": null,
      "flex": null,
      "flex_flow": null,
      "grid_area": null,
      "grid_auto_columns": null,
      "grid_auto_flow": null,
      "grid_auto_rows": null,
      "grid_column": null,
      "grid_gap": null,
      "grid_row": null,
      "grid_template_areas": null,
      "grid_template_columns": null,
      "grid_template_rows": null,
      "height": null,
      "justify_content": null,
      "justify_items": null,
      "left": null,
      "margin": null,
      "max_height": null,
      "max_width": null,
      "min_height": null,
      "min_width": null,
      "object_fit": null,
      "object_position": null,
      "order": null,
      "overflow": null,
      "overflow_x": null,
      "overflow_y": null,
      "padding": null,
      "right": null,
      "top": null,
      "visibility": null,
      "width": null
     }
    },
    "2bf6a4637fd249a5b5b08288989862e1": {
     "model_module": "@jupyter-widgets/base",
     "model_module_version": "1.2.0",
     "model_name": "LayoutModel",
     "state": {
      "_model_module": "@jupyter-widgets/base",
      "_model_module_version": "1.2.0",
      "_model_name": "LayoutModel",
      "_view_count": null,
      "_view_module": "@jupyter-widgets/base",
      "_view_module_version": "1.2.0",
      "_view_name": "LayoutView",
      "align_content": null,
      "align_items": null,
      "align_self": null,
      "border": null,
      "bottom": null,
      "display": null,
      "flex": null,
      "flex_flow": null,
      "grid_area": null,
      "grid_auto_columns": null,
      "grid_auto_flow": null,
      "grid_auto_rows": null,
      "grid_column": null,
      "grid_gap": null,
      "grid_row": null,
      "grid_template_areas": null,
      "grid_template_columns": null,
      "grid_template_rows": null,
      "height": null,
      "justify_content": null,
      "justify_items": null,
      "left": null,
      "margin": null,
      "max_height": null,
      "max_width": null,
      "min_height": null,
      "min_width": null,
      "object_fit": null,
      "object_position": null,
      "order": null,
      "overflow": null,
      "overflow_x": null,
      "overflow_y": null,
      "padding": null,
      "right": null,
      "top": null,
      "visibility": null,
      "width": null
     }
    },
    "2ddfff50c380482a922c41cb57b8a4fe": {
     "model_module": "@jupyter-widgets/controls",
     "model_module_version": "1.5.0",
     "model_name": "FloatProgressModel",
     "state": {
      "_dom_classes": [],
      "_model_module": "@jupyter-widgets/controls",
      "_model_module_version": "1.5.0",
      "_model_name": "FloatProgressModel",
      "_view_count": null,
      "_view_module": "@jupyter-widgets/controls",
      "_view_module_version": "1.5.0",
      "_view_name": "ProgressView",
      "bar_style": "success",
      "description": "",
      "description_tooltip": null,
      "layout": "IPY_MODEL_327a21d761c8451fa35bd17295bc1414",
      "max": 58184,
      "min": 0,
      "orientation": "horizontal",
      "style": "IPY_MODEL_cd0a3531b0fa49ef8f76ea2488d614dd",
      "value": 58184
     }
    },
    "327a21d761c8451fa35bd17295bc1414": {
     "model_module": "@jupyter-widgets/base",
     "model_module_version": "1.2.0",
     "model_name": "LayoutModel",
     "state": {
      "_model_module": "@jupyter-widgets/base",
      "_model_module_version": "1.2.0",
      "_model_name": "LayoutModel",
      "_view_count": null,
      "_view_module": "@jupyter-widgets/base",
      "_view_module_version": "1.2.0",
      "_view_name": "LayoutView",
      "align_content": null,
      "align_items": null,
      "align_self": null,
      "border": null,
      "bottom": null,
      "display": null,
      "flex": null,
      "flex_flow": null,
      "grid_area": null,
      "grid_auto_columns": null,
      "grid_auto_flow": null,
      "grid_auto_rows": null,
      "grid_column": null,
      "grid_gap": null,
      "grid_row": null,
      "grid_template_areas": null,
      "grid_template_columns": null,
      "grid_template_rows": null,
      "height": null,
      "justify_content": null,
      "justify_items": null,
      "left": null,
      "margin": null,
      "max_height": null,
      "max_width": null,
      "min_height": null,
      "min_width": null,
      "object_fit": null,
      "object_position": null,
      "order": null,
      "overflow": null,
      "overflow_x": null,
      "overflow_y": null,
      "padding": null,
      "right": null,
      "top": null,
      "visibility": null,
      "width": null
     }
    },
    "38f575de152846ad862002b571539bf6": {
     "model_module": "@jupyter-widgets/controls",
     "model_module_version": "1.5.0",
     "model_name": "DescriptionStyleModel",
     "state": {
      "_model_module": "@jupyter-widgets/controls",
      "_model_module_version": "1.5.0",
      "_model_name": "DescriptionStyleModel",
      "_view_count": null,
      "_view_module": "@jupyter-widgets/base",
      "_view_module_version": "1.2.0",
      "_view_name": "StyleView",
      "description_width": ""
     }
    },
    "3941c112f8114b239dfd3e16cf8f40b5": {
     "model_module": "@jupyter-widgets/controls",
     "model_module_version": "1.5.0",
     "model_name": "DescriptionStyleModel",
     "state": {
      "_model_module": "@jupyter-widgets/controls",
      "_model_module_version": "1.5.0",
      "_model_name": "DescriptionStyleModel",
      "_view_count": null,
      "_view_module": "@jupyter-widgets/base",
      "_view_module_version": "1.2.0",
      "_view_name": "StyleView",
      "description_width": ""
     }
    },
    "3f2ab4bf0807428b9949970cf6806fb5": {
     "model_module": "@jupyter-widgets/base",
     "model_module_version": "1.2.0",
     "model_name": "LayoutModel",
     "state": {
      "_model_module": "@jupyter-widgets/base",
      "_model_module_version": "1.2.0",
      "_model_name": "LayoutModel",
      "_view_count": null,
      "_view_module": "@jupyter-widgets/base",
      "_view_module_version": "1.2.0",
      "_view_name": "LayoutView",
      "align_content": null,
      "align_items": null,
      "align_self": null,
      "border": null,
      "bottom": null,
      "display": null,
      "flex": null,
      "flex_flow": null,
      "grid_area": null,
      "grid_auto_columns": null,
      "grid_auto_flow": null,
      "grid_auto_rows": null,
      "grid_column": null,
      "grid_gap": null,
      "grid_row": null,
      "grid_template_areas": null,
      "grid_template_columns": null,
      "grid_template_rows": null,
      "height": null,
      "justify_content": null,
      "justify_items": null,
      "left": null,
      "margin": null,
      "max_height": null,
      "max_width": null,
      "min_height": null,
      "min_width": null,
      "object_fit": null,
      "object_position": null,
      "order": null,
      "overflow": null,
      "overflow_x": null,
      "overflow_y": null,
      "padding": null,
      "right": null,
      "top": null,
      "visibility": null,
      "width": null
     }
    },
    "421da93df6d54975a4b1d5d2d6f0739e": {
     "model_module": "@jupyter-widgets/controls",
     "model_module_version": "1.5.0",
     "model_name": "HBoxModel",
     "state": {
      "_dom_classes": [],
      "_model_module": "@jupyter-widgets/controls",
      "_model_module_version": "1.5.0",
      "_model_name": "HBoxModel",
      "_view_count": null,
      "_view_module": "@jupyter-widgets/controls",
      "_view_module_version": "1.5.0",
      "_view_name": "HBoxView",
      "box_style": "",
      "children": [
       "IPY_MODEL_62d4c5db0ea249e5b5defc646f3a36b6",
       "IPY_MODEL_087a1d58955f4316b43260b56f7d1988",
       "IPY_MODEL_54fd02446f684432be538ef7d3cc97bc"
      ],
      "layout": "IPY_MODEL_5cecf88bb55644238ba697f33b05c165"
     }
    },
    "46c5981273374f928db093d3547dfb44": {
     "model_module": "@jupyter-widgets/base",
     "model_module_version": "1.2.0",
     "model_name": "LayoutModel",
     "state": {
      "_model_module": "@jupyter-widgets/base",
      "_model_module_version": "1.2.0",
      "_model_name": "LayoutModel",
      "_view_count": null,
      "_view_module": "@jupyter-widgets/base",
      "_view_module_version": "1.2.0",
      "_view_name": "LayoutView",
      "align_content": null,
      "align_items": null,
      "align_self": null,
      "border": null,
      "bottom": null,
      "display": null,
      "flex": null,
      "flex_flow": null,
      "grid_area": null,
      "grid_auto_columns": null,
      "grid_auto_flow": null,
      "grid_auto_rows": null,
      "grid_column": null,
      "grid_gap": null,
      "grid_row": null,
      "grid_template_areas": null,
      "grid_template_columns": null,
      "grid_template_rows": null,
      "height": null,
      "justify_content": null,
      "justify_items": null,
      "left": null,
      "margin": null,
      "max_height": null,
      "max_width": null,
      "min_height": null,
      "min_width": null,
      "object_fit": null,
      "object_position": null,
      "order": null,
      "overflow": null,
      "overflow_x": null,
      "overflow_y": null,
      "padding": null,
      "right": null,
      "top": null,
      "visibility": null,
      "width": null
     }
    },
    "47cf21b6b112455793b668d38dafa3f0": {
     "model_module": "@jupyter-widgets/controls",
     "model_module_version": "1.5.0",
     "model_name": "HTMLModel",
     "state": {
      "_dom_classes": [],
      "_model_module": "@jupyter-widgets/controls",
      "_model_module_version": "1.5.0",
      "_model_name": "HTMLModel",
      "_view_count": null,
      "_view_module": "@jupyter-widgets/controls",
      "_view_module_version": "1.5.0",
      "_view_name": "HTMLView",
      "description": "",
      "description_tooltip": null,
      "layout": "IPY_MODEL_9faea05eb7334072a347cecefe01bbae",
      "placeholder": "​",
      "style": "IPY_MODEL_3941c112f8114b239dfd3e16cf8f40b5",
      "value": "modeling_esm.py: 100%"
     }
    },
    "4995055d989e4fa8a375d7b80c75a4aa": {
     "model_module": "@jupyter-widgets/base",
     "model_module_version": "1.2.0",
     "model_name": "LayoutModel",
     "state": {
      "_model_module": "@jupyter-widgets/base",
      "_model_module_version": "1.2.0",
      "_model_name": "LayoutModel",
      "_view_count": null,
      "_view_module": "@jupyter-widgets/base",
      "_view_module_version": "1.2.0",
      "_view_name": "LayoutView",
      "align_content": null,
      "align_items": null,
      "align_self": null,
      "border": null,
      "bottom": null,
      "display": null,
      "flex": null,
      "flex_flow": null,
      "grid_area": null,
      "grid_auto_columns": null,
      "grid_auto_flow": null,
      "grid_auto_rows": null,
      "grid_column": null,
      "grid_gap": null,
      "grid_row": null,
      "grid_template_areas": null,
      "grid_template_columns": null,
      "grid_template_rows": null,
      "height": null,
      "justify_content": null,
      "justify_items": null,
      "left": null,
      "margin": null,
      "max_height": null,
      "max_width": null,
      "min_height": null,
      "min_width": null,
      "object_fit": null,
      "object_position": null,
      "order": null,
      "overflow": null,
      "overflow_x": null,
      "overflow_y": null,
      "padding": null,
      "right": null,
      "top": null,
      "visibility": null,
      "width": null
     }
    },
    "4a85a2e82a5e4064a23e0c890b41d055": {
     "model_module": "@jupyter-widgets/base",
     "model_module_version": "1.2.0",
     "model_name": "LayoutModel",
     "state": {
      "_model_module": "@jupyter-widgets/base",
      "_model_module_version": "1.2.0",
      "_model_name": "LayoutModel",
      "_view_count": null,
      "_view_module": "@jupyter-widgets/base",
      "_view_module_version": "1.2.0",
      "_view_name": "LayoutView",
      "align_content": null,
      "align_items": null,
      "align_self": null,
      "border": null,
      "bottom": null,
      "display": null,
      "flex": null,
      "flex_flow": null,
      "grid_area": null,
      "grid_auto_columns": null,
      "grid_auto_flow": null,
      "grid_auto_rows": null,
      "grid_column": null,
      "grid_gap": null,
      "grid_row": null,
      "grid_template_areas": null,
      "grid_template_columns": null,
      "grid_template_rows": null,
      "height": null,
      "justify_content": null,
      "justify_items": null,
      "left": null,
      "margin": null,
      "max_height": null,
      "max_width": null,
      "min_height": null,
      "min_width": null,
      "object_fit": null,
      "object_position": null,
      "order": null,
      "overflow": null,
      "overflow_x": null,
      "overflow_y": null,
      "padding": null,
      "right": null,
      "top": null,
      "visibility": null,
      "width": null
     }
    },
    "4de7236ff7a448f79ea9431671172b66": {
     "model_module": "@jupyter-widgets/controls",
     "model_module_version": "1.5.0",
     "model_name": "ProgressStyleModel",
     "state": {
      "_model_module": "@jupyter-widgets/controls",
      "_model_module_version": "1.5.0",
      "_model_name": "ProgressStyleModel",
      "_view_count": null,
      "_view_module": "@jupyter-widgets/base",
      "_view_module_version": "1.2.0",
      "_view_name": "StyleView",
      "bar_color": null,
      "description_width": ""
     }
    },
    "51e324aa2ae54a898c4893ee2e53e40e": {
     "model_module": "@jupyter-widgets/base",
     "model_module_version": "1.2.0",
     "model_name": "LayoutModel",
     "state": {
      "_model_module": "@jupyter-widgets/base",
      "_model_module_version": "1.2.0",
      "_model_name": "LayoutModel",
      "_view_count": null,
      "_view_module": "@jupyter-widgets/base",
      "_view_module_version": "1.2.0",
      "_view_name": "LayoutView",
      "align_content": null,
      "align_items": null,
      "align_self": null,
      "border": null,
      "bottom": null,
      "display": null,
      "flex": null,
      "flex_flow": null,
      "grid_area": null,
      "grid_auto_columns": null,
      "grid_auto_flow": null,
      "grid_auto_rows": null,
      "grid_column": null,
      "grid_gap": null,
      "grid_row": null,
      "grid_template_areas": null,
      "grid_template_columns": null,
      "grid_template_rows": null,
      "height": null,
      "justify_content": null,
      "justify_items": null,
      "left": null,
      "margin": null,
      "max_height": null,
      "max_width": null,
      "min_height": null,
      "min_width": null,
      "object_fit": null,
      "object_position": null,
      "order": null,
      "overflow": null,
      "overflow_x": null,
      "overflow_y": null,
      "padding": null,
      "right": null,
      "top": null,
      "visibility": null,
      "width": null
     }
    },
    "547f14a6d6d14dd5975673cbfe0d0957": {
     "model_module": "@jupyter-widgets/controls",
     "model_module_version": "1.5.0",
     "model_name": "HBoxModel",
     "state": {
      "_dom_classes": [],
      "_model_module": "@jupyter-widgets/controls",
      "_model_module_version": "1.5.0",
      "_model_name": "HBoxModel",
      "_view_count": null,
      "_view_module": "@jupyter-widgets/controls",
      "_view_module_version": "1.5.0",
      "_view_name": "HBoxView",
      "box_style": "",
      "children": [
       "IPY_MODEL_47cf21b6b112455793b668d38dafa3f0",
       "IPY_MODEL_2ddfff50c380482a922c41cb57b8a4fe",
       "IPY_MODEL_08e6de1e96f24064900c00088aa3cbf8"
      ],
      "layout": "IPY_MODEL_4995055d989e4fa8a375d7b80c75a4aa"
     }
    },
    "54fd02446f684432be538ef7d3cc97bc": {
     "model_module": "@jupyter-widgets/controls",
     "model_module_version": "1.5.0",
     "model_name": "HTMLModel",
     "state": {
      "_dom_classes": [],
      "_model_module": "@jupyter-widgets/controls",
      "_model_module_version": "1.5.0",
      "_model_name": "HTMLModel",
      "_view_count": null,
      "_view_module": "@jupyter-widgets/controls",
      "_view_module_version": "1.5.0",
      "_view_name": "HTMLView",
      "description": "",
      "description_tooltip": null,
      "layout": "IPY_MODEL_c0696016555542aa8757cb08060b0eeb",
      "placeholder": "​",
      "style": "IPY_MODEL_fa5d8c03066a49259af6a913a58898d2",
      "value": " 1.06k/1.06k [00:00&lt;00:00, 95.9kB/s]"
     }
    },
    "575a4a34d4f4478e880543ff7bd37054": {
     "model_module": "@jupyter-widgets/controls",
     "model_module_version": "1.5.0",
     "model_name": "DescriptionStyleModel",
     "state": {
      "_model_module": "@jupyter-widgets/controls",
      "_model_module_version": "1.5.0",
      "_model_name": "DescriptionStyleModel",
      "_view_count": null,
      "_view_module": "@jupyter-widgets/base",
      "_view_module_version": "1.2.0",
      "_view_name": "StyleView",
      "description_width": ""
     }
    },
    "5a43225646d446b487b2c83b2bafcf4e": {
     "model_module": "@jupyter-widgets/base",
     "model_module_version": "1.2.0",
     "model_name": "LayoutModel",
     "state": {
      "_model_module": "@jupyter-widgets/base",
      "_model_module_version": "1.2.0",
      "_model_name": "LayoutModel",
      "_view_count": null,
      "_view_module": "@jupyter-widgets/base",
      "_view_module_version": "1.2.0",
      "_view_name": "LayoutView",
      "align_content": null,
      "align_items": null,
      "align_self": null,
      "border": null,
      "bottom": null,
      "display": null,
      "flex": null,
      "flex_flow": null,
      "grid_area": null,
      "grid_auto_columns": null,
      "grid_auto_flow": null,
      "grid_auto_rows": null,
      "grid_column": null,
      "grid_gap": null,
      "grid_row": null,
      "grid_template_areas": null,
      "grid_template_columns": null,
      "grid_template_rows": null,
      "height": null,
      "justify_content": null,
      "justify_items": null,
      "left": null,
      "margin": null,
      "max_height": null,
      "max_width": null,
      "min_height": null,
      "min_width": null,
      "object_fit": null,
      "object_position": null,
      "order": null,
      "overflow": null,
      "overflow_x": null,
      "overflow_y": null,
      "padding": null,
      "right": null,
      "top": null,
      "visibility": null,
      "width": null
     }
    },
    "5bb32ab9e2f7468ba458522eb12ec35f": {
     "model_module": "@jupyter-widgets/controls",
     "model_module_version": "1.5.0",
     "model_name": "HTMLModel",
     "state": {
      "_dom_classes": [],
      "_model_module": "@jupyter-widgets/controls",
      "_model_module_version": "1.5.0",
      "_model_name": "HTMLModel",
      "_view_count": null,
      "_view_module": "@jupyter-widgets/controls",
      "_view_module_version": "1.5.0",
      "_view_name": "HTMLView",
      "description": "",
      "description_tooltip": null,
      "layout": "IPY_MODEL_9d925efaaee948f7ba4305b4ea394132",
      "placeholder": "​",
      "style": "IPY_MODEL_38f575de152846ad862002b571539bf6",
      "value": "vocab.txt: 100%"
     }
    },
    "5cecf88bb55644238ba697f33b05c165": {
     "model_module": "@jupyter-widgets/base",
     "model_module_version": "1.2.0",
     "model_name": "LayoutModel",
     "state": {
      "_model_module": "@jupyter-widgets/base",
      "_model_module_version": "1.2.0",
      "_model_name": "LayoutModel",
      "_view_count": null,
      "_view_module": "@jupyter-widgets/base",
      "_view_module_version": "1.2.0",
      "_view_name": "LayoutView",
      "align_content": null,
      "align_items": null,
      "align_self": null,
      "border": null,
      "bottom": null,
      "display": null,
      "flex": null,
      "flex_flow": null,
      "grid_area": null,
      "grid_auto_columns": null,
      "grid_auto_flow": null,
      "grid_auto_rows": null,
      "grid_column": null,
      "grid_gap": null,
      "grid_row": null,
      "grid_template_areas": null,
      "grid_template_columns": null,
      "grid_template_rows": null,
      "height": null,
      "justify_content": null,
      "justify_items": null,
      "left": null,
      "margin": null,
      "max_height": null,
      "max_width": null,
      "min_height": null,
      "min_width": null,
      "object_fit": null,
      "object_position": null,
      "order": null,
      "overflow": null,
      "overflow_x": null,
      "overflow_y": null,
      "padding": null,
      "right": null,
      "top": null,
      "visibility": null,
      "width": null
     }
    },
    "5d3508192a2646c8bebf7edc23d86d57": {
     "model_module": "@jupyter-widgets/controls",
     "model_module_version": "1.5.0",
     "model_name": "HTMLModel",
     "state": {
      "_dom_classes": [],
      "_model_module": "@jupyter-widgets/controls",
      "_model_module_version": "1.5.0",
      "_model_name": "HTMLModel",
      "_view_count": null,
      "_view_module": "@jupyter-widgets/controls",
      "_view_module_version": "1.5.0",
      "_view_name": "HTMLView",
      "description": "",
      "description_tooltip": null,
      "layout": "IPY_MODEL_3f2ab4bf0807428b9949970cf6806fb5",
      "placeholder": "​",
      "style": "IPY_MODEL_8830119703ee4ffba4f720b67aa16ba0",
      "value": " 14.9k/14.9k [00:00&lt;00:00, 1.26MB/s]"
     }
    },
    "62d4c5db0ea249e5b5defc646f3a36b6": {
     "model_module": "@jupyter-widgets/controls",
     "model_module_version": "1.5.0",
     "model_name": "HTMLModel",
     "state": {
      "_dom_classes": [],
      "_model_module": "@jupyter-widgets/controls",
      "_model_module_version": "1.5.0",
      "_model_name": "HTMLModel",
      "_view_count": null,
      "_view_module": "@jupyter-widgets/controls",
      "_view_module_version": "1.5.0",
      "_view_name": "HTMLView",
      "description": "",
      "description_tooltip": null,
      "layout": "IPY_MODEL_7012c44b293941e08fa44f1d291cd945",
      "placeholder": "​",
      "style": "IPY_MODEL_8f0b498a8bae4c5baf9388db4798216d",
      "value": "config.json: 100%"
     }
    },
    "65b49b61b4a74bb6aba6303a2c854f99": {
     "model_module": "@jupyter-widgets/controls",
     "model_module_version": "1.5.0",
     "model_name": "HTMLModel",
     "state": {
      "_dom_classes": [],
      "_model_module": "@jupyter-widgets/controls",
      "_model_module_version": "1.5.0",
      "_model_name": "HTMLModel",
      "_view_count": null,
      "_view_module": "@jupyter-widgets/controls",
      "_view_module_version": "1.5.0",
      "_view_name": "HTMLView",
      "description": "",
      "description_tooltip": null,
      "layout": "IPY_MODEL_16a8087f05794f009946af5bb837c331",
      "placeholder": "​",
      "style": "IPY_MODEL_575a4a34d4f4478e880543ff7bd37054",
      "value": " 101/101 [00:00&lt;00:00, 7.82kB/s]"
     }
    },
    "66117373df994fe598c82a7fa1fc3bcf": {
     "model_module": "@jupyter-widgets/controls",
     "model_module_version": "1.5.0",
     "model_name": "HTMLModel",
     "state": {
      "_dom_classes": [],
      "_model_module": "@jupyter-widgets/controls",
      "_model_module_version": "1.5.0",
      "_model_name": "HTMLModel",
      "_view_count": null,
      "_view_module": "@jupyter-widgets/controls",
      "_view_module_version": "1.5.0",
      "_view_name": "HTMLView",
      "description": "",
      "description_tooltip": null,
      "layout": "IPY_MODEL_46c5981273374f928db093d3547dfb44",
      "placeholder": "​",
      "style": "IPY_MODEL_a5ca266c082a499abda40c03d11ed777",
      "value": "special_tokens_map.json: 100%"
     }
    },
    "687466284c02473fa7ece2c977e9ea3d": {
     "model_module": "@jupyter-widgets/controls",
     "model_module_version": "1.5.0",
     "model_name": "DescriptionStyleModel",
     "state": {
      "_model_module": "@jupyter-widgets/controls",
      "_model_module_version": "1.5.0",
      "_model_name": "DescriptionStyleModel",
      "_view_count": null,
      "_view_module": "@jupyter-widgets/base",
      "_view_module_version": "1.2.0",
      "_view_name": "StyleView",
      "description_width": ""
     }
    },
    "6a33cd956fce452aa50c14b8103918de": {
     "model_module": "@jupyter-widgets/controls",
     "model_module_version": "1.5.0",
     "model_name": "FloatProgressModel",
     "state": {
      "_dom_classes": [],
      "_model_module": "@jupyter-widgets/controls",
      "_model_module_version": "1.5.0",
      "_model_name": "FloatProgressModel",
      "_view_count": null,
      "_view_module": "@jupyter-widgets/controls",
      "_view_module_version": "1.5.0",
      "_view_name": "ProgressView",
      "bar_style": "success",
      "description": "",
      "description_tooltip": null,
      "layout": "IPY_MODEL_d4fb91c6ff3e4ed8a2bed678a7d1a8bb",
      "max": 391597600,
      "min": 0,
      "orientation": "horizontal",
      "style": "IPY_MODEL_1ba1c933f99c4808ba09db7deaeb624a",
      "value": 391597600
     }
    },
    "6bcd3ab81ea549f28c32cc71c00d61e9": {
     "model_module": "@jupyter-widgets/controls",
     "model_module_version": "1.5.0",
     "model_name": "DescriptionStyleModel",
     "state": {
      "_model_module": "@jupyter-widgets/controls",
      "_model_module_version": "1.5.0",
      "_model_name": "DescriptionStyleModel",
      "_view_count": null,
      "_view_module": "@jupyter-widgets/base",
      "_view_module_version": "1.2.0",
      "_view_name": "StyleView",
      "description_width": ""
     }
    },
    "6f05ae98d28f4d2e867c9e3502d2691f": {
     "model_module": "@jupyter-widgets/base",
     "model_module_version": "1.2.0",
     "model_name": "LayoutModel",
     "state": {
      "_model_module": "@jupyter-widgets/base",
      "_model_module_version": "1.2.0",
      "_model_name": "LayoutModel",
      "_view_count": null,
      "_view_module": "@jupyter-widgets/base",
      "_view_module_version": "1.2.0",
      "_view_name": "LayoutView",
      "align_content": null,
      "align_items": null,
      "align_self": null,
      "border": null,
      "bottom": null,
      "display": null,
      "flex": null,
      "flex_flow": null,
      "grid_area": null,
      "grid_auto_columns": null,
      "grid_auto_flow": null,
      "grid_auto_rows": null,
      "grid_column": null,
      "grid_gap": null,
      "grid_row": null,
      "grid_template_areas": null,
      "grid_template_columns": null,
      "grid_template_rows": null,
      "height": null,
      "justify_content": null,
      "justify_items": null,
      "left": null,
      "margin": null,
      "max_height": null,
      "max_width": null,
      "min_height": null,
      "min_width": null,
      "object_fit": null,
      "object_position": null,
      "order": null,
      "overflow": null,
      "overflow_x": null,
      "overflow_y": null,
      "padding": null,
      "right": null,
      "top": null,
      "visibility": null,
      "width": null
     }
    },
    "7012c44b293941e08fa44f1d291cd945": {
     "model_module": "@jupyter-widgets/base",
     "model_module_version": "1.2.0",
     "model_name": "LayoutModel",
     "state": {
      "_model_module": "@jupyter-widgets/base",
      "_model_module_version": "1.2.0",
      "_model_name": "LayoutModel",
      "_view_count": null,
      "_view_module": "@jupyter-widgets/base",
      "_view_module_version": "1.2.0",
      "_view_name": "LayoutView",
      "align_content": null,
      "align_items": null,
      "align_self": null,
      "border": null,
      "bottom": null,
      "display": null,
      "flex": null,
      "flex_flow": null,
      "grid_area": null,
      "grid_auto_columns": null,
      "grid_auto_flow": null,
      "grid_auto_rows": null,
      "grid_column": null,
      "grid_gap": null,
      "grid_row": null,
      "grid_template_areas": null,
      "grid_template_columns": null,
      "grid_template_rows": null,
      "height": null,
      "justify_content": null,
      "justify_items": null,
      "left": null,
      "margin": null,
      "max_height": null,
      "max_width": null,
      "min_height": null,
      "min_width": null,
      "object_fit": null,
      "object_position": null,
      "order": null,
      "overflow": null,
      "overflow_x": null,
      "overflow_y": null,
      "padding": null,
      "right": null,
      "top": null,
      "visibility": null,
      "width": null
     }
    },
    "713c8a5ffe2346428d1191f71b9610fb": {
     "model_module": "@jupyter-widgets/controls",
     "model_module_version": "1.5.0",
     "model_name": "DescriptionStyleModel",
     "state": {
      "_model_module": "@jupyter-widgets/controls",
      "_model_module_version": "1.5.0",
      "_model_name": "DescriptionStyleModel",
      "_view_count": null,
      "_view_module": "@jupyter-widgets/base",
      "_view_module_version": "1.2.0",
      "_view_name": "StyleView",
      "description_width": ""
     }
    },
    "7acec29f4727479dbd65a638a980a4bb": {
     "model_module": "@jupyter-widgets/base",
     "model_module_version": "1.2.0",
     "model_name": "LayoutModel",
     "state": {
      "_model_module": "@jupyter-widgets/base",
      "_model_module_version": "1.2.0",
      "_model_name": "LayoutModel",
      "_view_count": null,
      "_view_module": "@jupyter-widgets/base",
      "_view_module_version": "1.2.0",
      "_view_name": "LayoutView",
      "align_content": null,
      "align_items": null,
      "align_self": null,
      "border": null,
      "bottom": null,
      "display": null,
      "flex": null,
      "flex_flow": null,
      "grid_area": null,
      "grid_auto_columns": null,
      "grid_auto_flow": null,
      "grid_auto_rows": null,
      "grid_column": null,
      "grid_gap": null,
      "grid_row": null,
      "grid_template_areas": null,
      "grid_template_columns": null,
      "grid_template_rows": null,
      "height": null,
      "justify_content": null,
      "justify_items": null,
      "left": null,
      "margin": null,
      "max_height": null,
      "max_width": null,
      "min_height": null,
      "min_width": null,
      "object_fit": null,
      "object_position": null,
      "order": null,
      "overflow": null,
      "overflow_x": null,
      "overflow_y": null,
      "padding": null,
      "right": null,
      "top": null,
      "visibility": null,
      "width": null
     }
    },
    "82380e3a8d2f4eb5884c06a549bf8d35": {
     "model_module": "@jupyter-widgets/base",
     "model_module_version": "1.2.0",
     "model_name": "LayoutModel",
     "state": {
      "_model_module": "@jupyter-widgets/base",
      "_model_module_version": "1.2.0",
      "_model_name": "LayoutModel",
      "_view_count": null,
      "_view_module": "@jupyter-widgets/base",
      "_view_module_version": "1.2.0",
      "_view_name": "LayoutView",
      "align_content": null,
      "align_items": null,
      "align_self": null,
      "border": null,
      "bottom": null,
      "display": null,
      "flex": null,
      "flex_flow": null,
      "grid_area": null,
      "grid_auto_columns": null,
      "grid_auto_flow": null,
      "grid_auto_rows": null,
      "grid_column": null,
      "grid_gap": null,
      "grid_row": null,
      "grid_template_areas": null,
      "grid_template_columns": null,
      "grid_template_rows": null,
      "height": null,
      "justify_content": null,
      "justify_items": null,
      "left": null,
      "margin": null,
      "max_height": null,
      "max_width": null,
      "min_height": null,
      "min_width": null,
      "object_fit": null,
      "object_position": null,
      "order": null,
      "overflow": null,
      "overflow_x": null,
      "overflow_y": null,
      "padding": null,
      "right": null,
      "top": null,
      "visibility": null,
      "width": null
     }
    },
    "83e1df40d79d4da9a304be2e7e9f7fa8": {
     "model_module": "@jupyter-widgets/base",
     "model_module_version": "1.2.0",
     "model_name": "LayoutModel",
     "state": {
      "_model_module": "@jupyter-widgets/base",
      "_model_module_version": "1.2.0",
      "_model_name": "LayoutModel",
      "_view_count": null,
      "_view_module": "@jupyter-widgets/base",
      "_view_module_version": "1.2.0",
      "_view_name": "LayoutView",
      "align_content": null,
      "align_items": null,
      "align_self": null,
      "border": null,
      "bottom": null,
      "display": null,
      "flex": null,
      "flex_flow": null,
      "grid_area": null,
      "grid_auto_columns": null,
      "grid_auto_flow": null,
      "grid_auto_rows": null,
      "grid_column": null,
      "grid_gap": null,
      "grid_row": null,
      "grid_template_areas": null,
      "grid_template_columns": null,
      "grid_template_rows": null,
      "height": null,
      "justify_content": null,
      "justify_items": null,
      "left": null,
      "margin": null,
      "max_height": null,
      "max_width": null,
      "min_height": null,
      "min_width": null,
      "object_fit": null,
      "object_position": null,
      "order": null,
      "overflow": null,
      "overflow_x": null,
      "overflow_y": null,
      "padding": null,
      "right": null,
      "top": null,
      "visibility": null,
      "width": null
     }
    },
    "8506bc51df1d4884a1ee94436b9a48bc": {
     "model_module": "@jupyter-widgets/controls",
     "model_module_version": "1.5.0",
     "model_name": "DescriptionStyleModel",
     "state": {
      "_model_module": "@jupyter-widgets/controls",
      "_model_module_version": "1.5.0",
      "_model_name": "DescriptionStyleModel",
      "_view_count": null,
      "_view_module": "@jupyter-widgets/base",
      "_view_module_version": "1.2.0",
      "_view_name": "StyleView",
      "description_width": ""
     }
    },
    "861dffa5293a48189c1a1cd887a48d95": {
     "model_module": "@jupyter-widgets/controls",
     "model_module_version": "1.5.0",
     "model_name": "HBoxModel",
     "state": {
      "_dom_classes": [],
      "_model_module": "@jupyter-widgets/controls",
      "_model_module_version": "1.5.0",
      "_model_name": "HBoxModel",
      "_view_count": null,
      "_view_module": "@jupyter-widgets/controls",
      "_view_module_version": "1.5.0",
      "_view_name": "HBoxView",
      "box_style": "",
      "children": [
       "IPY_MODEL_5bb32ab9e2f7468ba458522eb12ec35f",
       "IPY_MODEL_98477aedaf6b4ff69c7e1bfb75fd14d5",
       "IPY_MODEL_b4f9a1f9aa064bb9a70c46554ec694a3"
      ],
      "layout": "IPY_MODEL_82380e3a8d2f4eb5884c06a549bf8d35"
     }
    },
    "86eaac0d5f164b82accb0185ec094108": {
     "model_module": "@jupyter-widgets/base",
     "model_module_version": "1.2.0",
     "model_name": "LayoutModel",
     "state": {
      "_model_module": "@jupyter-widgets/base",
      "_model_module_version": "1.2.0",
      "_model_name": "LayoutModel",
      "_view_count": null,
      "_view_module": "@jupyter-widgets/base",
      "_view_module_version": "1.2.0",
      "_view_name": "LayoutView",
      "align_content": null,
      "align_items": null,
      "align_self": null,
      "border": null,
      "bottom": null,
      "display": null,
      "flex": null,
      "flex_flow": null,
      "grid_area": null,
      "grid_auto_columns": null,
      "grid_auto_flow": null,
      "grid_auto_rows": null,
      "grid_column": null,
      "grid_gap": null,
      "grid_row": null,
      "grid_template_areas": null,
      "grid_template_columns": null,
      "grid_template_rows": null,
      "height": null,
      "justify_content": null,
      "justify_items": null,
      "left": null,
      "margin": null,
      "max_height": null,
      "max_width": null,
      "min_height": null,
      "min_width": null,
      "object_fit": null,
      "object_position": null,
      "order": null,
      "overflow": null,
      "overflow_x": null,
      "overflow_y": null,
      "padding": null,
      "right": null,
      "top": null,
      "visibility": null,
      "width": null
     }
    },
    "8830119703ee4ffba4f720b67aa16ba0": {
     "model_module": "@jupyter-widgets/controls",
     "model_module_version": "1.5.0",
     "model_name": "DescriptionStyleModel",
     "state": {
      "_model_module": "@jupyter-widgets/controls",
      "_model_module_version": "1.5.0",
      "_model_name": "DescriptionStyleModel",
      "_view_count": null,
      "_view_module": "@jupyter-widgets/base",
      "_view_module_version": "1.2.0",
      "_view_name": "StyleView",
      "description_width": ""
     }
    },
    "8be869d3281e49fc8bb4a6a0efdc4d00": {
     "model_module": "@jupyter-widgets/controls",
     "model_module_version": "1.5.0",
     "model_name": "ProgressStyleModel",
     "state": {
      "_model_module": "@jupyter-widgets/controls",
      "_model_module_version": "1.5.0",
      "_model_name": "ProgressStyleModel",
      "_view_count": null,
      "_view_module": "@jupyter-widgets/base",
      "_view_module_version": "1.2.0",
      "_view_name": "StyleView",
      "bar_color": null,
      "description_width": ""
     }
    },
    "8f0b498a8bae4c5baf9388db4798216d": {
     "model_module": "@jupyter-widgets/controls",
     "model_module_version": "1.5.0",
     "model_name": "DescriptionStyleModel",
     "state": {
      "_model_module": "@jupyter-widgets/controls",
      "_model_module_version": "1.5.0",
      "_model_name": "DescriptionStyleModel",
      "_view_count": null,
      "_view_module": "@jupyter-widgets/base",
      "_view_module_version": "1.2.0",
      "_view_name": "StyleView",
      "description_width": ""
     }
    },
    "962495a069a04a62bebe4de50cc86ebe": {
     "model_module": "@jupyter-widgets/controls",
     "model_module_version": "1.5.0",
     "model_name": "HTMLModel",
     "state": {
      "_dom_classes": [],
      "_model_module": "@jupyter-widgets/controls",
      "_model_module_version": "1.5.0",
      "_model_name": "HTMLModel",
      "_view_count": null,
      "_view_module": "@jupyter-widgets/controls",
      "_view_module_version": "1.5.0",
      "_view_name": "HTMLView",
      "description": "",
      "description_tooltip": null,
      "layout": "IPY_MODEL_dc1dd77338b74d3c9d3e9f91579e032b",
      "placeholder": "​",
      "style": "IPY_MODEL_f421e1a4a54a4764b7325d75ec95c4c9",
      "value": " 129/129 [00:00&lt;00:00, 9.52kB/s]"
     }
    },
    "98477aedaf6b4ff69c7e1bfb75fd14d5": {
     "model_module": "@jupyter-widgets/controls",
     "model_module_version": "1.5.0",
     "model_name": "FloatProgressModel",
     "state": {
      "_dom_classes": [],
      "_model_module": "@jupyter-widgets/controls",
      "_model_module_version": "1.5.0",
      "_model_name": "FloatProgressModel",
      "_view_count": null,
      "_view_module": "@jupyter-widgets/controls",
      "_view_module_version": "1.5.0",
      "_view_name": "ProgressView",
      "bar_style": "success",
      "description": "",
      "description_tooltip": null,
      "layout": "IPY_MODEL_9fdcf2314d064ef89555fb65060aa7bf",
      "max": 28718,
      "min": 0,
      "orientation": "horizontal",
      "style": "IPY_MODEL_4de7236ff7a448f79ea9431671172b66",
      "value": 28718
     }
    },
    "9aab771e3fd845d4bf403336cfbaef12": {
     "model_module": "@jupyter-widgets/base",
     "model_module_version": "1.2.0",
     "model_name": "LayoutModel",
     "state": {
      "_model_module": "@jupyter-widgets/base",
      "_model_module_version": "1.2.0",
      "_model_name": "LayoutModel",
      "_view_count": null,
      "_view_module": "@jupyter-widgets/base",
      "_view_module_version": "1.2.0",
      "_view_name": "LayoutView",
      "align_content": null,
      "align_items": null,
      "align_self": null,
      "border": null,
      "bottom": null,
      "display": null,
      "flex": null,
      "flex_flow": null,
      "grid_area": null,
      "grid_auto_columns": null,
      "grid_auto_flow": null,
      "grid_auto_rows": null,
      "grid_column": null,
      "grid_gap": null,
      "grid_row": null,
      "grid_template_areas": null,
      "grid_template_columns": null,
      "grid_template_rows": null,
      "height": null,
      "justify_content": null,
      "justify_items": null,
      "left": null,
      "margin": null,
      "max_height": null,
      "max_width": null,
      "min_height": null,
      "min_width": null,
      "object_fit": null,
      "object_position": null,
      "order": null,
      "overflow": null,
      "overflow_x": null,
      "overflow_y": null,
      "padding": null,
      "right": null,
      "top": null,
      "visibility": null,
      "width": null
     }
    },
    "9d925efaaee948f7ba4305b4ea394132": {
     "model_module": "@jupyter-widgets/base",
     "model_module_version": "1.2.0",
     "model_name": "LayoutModel",
     "state": {
      "_model_module": "@jupyter-widgets/base",
      "_model_module_version": "1.2.0",
      "_model_name": "LayoutModel",
      "_view_count": null,
      "_view_module": "@jupyter-widgets/base",
      "_view_module_version": "1.2.0",
      "_view_name": "LayoutView",
      "align_content": null,
      "align_items": null,
      "align_self": null,
      "border": null,
      "bottom": null,
      "display": null,
      "flex": null,
      "flex_flow": null,
      "grid_area": null,
      "grid_auto_columns": null,
      "grid_auto_flow": null,
      "grid_auto_rows": null,
      "grid_column": null,
      "grid_gap": null,
      "grid_row": null,
      "grid_template_areas": null,
      "grid_template_columns": null,
      "grid_template_rows": null,
      "height": null,
      "justify_content": null,
      "justify_items": null,
      "left": null,
      "margin": null,
      "max_height": null,
      "max_width": null,
      "min_height": null,
      "min_width": null,
      "object_fit": null,
      "object_position": null,
      "order": null,
      "overflow": null,
      "overflow_x": null,
      "overflow_y": null,
      "padding": null,
      "right": null,
      "top": null,
      "visibility": null,
      "width": null
     }
    },
    "9faea05eb7334072a347cecefe01bbae": {
     "model_module": "@jupyter-widgets/base",
     "model_module_version": "1.2.0",
     "model_name": "LayoutModel",
     "state": {
      "_model_module": "@jupyter-widgets/base",
      "_model_module_version": "1.2.0",
      "_model_name": "LayoutModel",
      "_view_count": null,
      "_view_module": "@jupyter-widgets/base",
      "_view_module_version": "1.2.0",
      "_view_name": "LayoutView",
      "align_content": null,
      "align_items": null,
      "align_self": null,
      "border": null,
      "bottom": null,
      "display": null,
      "flex": null,
      "flex_flow": null,
      "grid_area": null,
      "grid_auto_columns": null,
      "grid_auto_flow": null,
      "grid_auto_rows": null,
      "grid_column": null,
      "grid_gap": null,
      "grid_row": null,
      "grid_template_areas": null,
      "grid_template_columns": null,
      "grid_template_rows": null,
      "height": null,
      "justify_content": null,
      "justify_items": null,
      "left": null,
      "margin": null,
      "max_height": null,
      "max_width": null,
      "min_height": null,
      "min_width": null,
      "object_fit": null,
      "object_position": null,
      "order": null,
      "overflow": null,
      "overflow_x": null,
      "overflow_y": null,
      "padding": null,
      "right": null,
      "top": null,
      "visibility": null,
      "width": null
     }
    },
    "9fdcf2314d064ef89555fb65060aa7bf": {
     "model_module": "@jupyter-widgets/base",
     "model_module_version": "1.2.0",
     "model_name": "LayoutModel",
     "state": {
      "_model_module": "@jupyter-widgets/base",
      "_model_module_version": "1.2.0",
      "_model_name": "LayoutModel",
      "_view_count": null,
      "_view_module": "@jupyter-widgets/base",
      "_view_module_version": "1.2.0",
      "_view_name": "LayoutView",
      "align_content": null,
      "align_items": null,
      "align_self": null,
      "border": null,
      "bottom": null,
      "display": null,
      "flex": null,
      "flex_flow": null,
      "grid_area": null,
      "grid_auto_columns": null,
      "grid_auto_flow": null,
      "grid_auto_rows": null,
      "grid_column": null,
      "grid_gap": null,
      "grid_row": null,
      "grid_template_areas": null,
      "grid_template_columns": null,
      "grid_template_rows": null,
      "height": null,
      "justify_content": null,
      "justify_items": null,
      "left": null,
      "margin": null,
      "max_height": null,
      "max_width": null,
      "min_height": null,
      "min_width": null,
      "object_fit": null,
      "object_position": null,
      "order": null,
      "overflow": null,
      "overflow_x": null,
      "overflow_y": null,
      "padding": null,
      "right": null,
      "top": null,
      "visibility": null,
      "width": null
     }
    },
    "a15bb0e0792442788c64303968783c13": {
     "model_module": "@jupyter-widgets/controls",
     "model_module_version": "1.5.0",
     "model_name": "FloatProgressModel",
     "state": {
      "_dom_classes": [],
      "_model_module": "@jupyter-widgets/controls",
      "_model_module_version": "1.5.0",
      "_model_name": "FloatProgressModel",
      "_view_count": null,
      "_view_module": "@jupyter-widgets/controls",
      "_view_module_version": "1.5.0",
      "_view_name": "ProgressView",
      "bar_style": "success",
      "description": "",
      "description_tooltip": null,
      "layout": "IPY_MODEL_4a85a2e82a5e4064a23e0c890b41d055",
      "max": 101,
      "min": 0,
      "orientation": "horizontal",
      "style": "IPY_MODEL_8be869d3281e49fc8bb4a6a0efdc4d00",
      "value": 101
     }
    },
    "a4d1b19ab69e46998f1855a16cb5ca47": {
     "model_module": "@jupyter-widgets/controls",
     "model_module_version": "1.5.0",
     "model_name": "FloatProgressModel",
     "state": {
      "_dom_classes": [],
      "_model_module": "@jupyter-widgets/controls",
      "_model_module_version": "1.5.0",
      "_model_name": "FloatProgressModel",
      "_view_count": null,
      "_view_module": "@jupyter-widgets/controls",
      "_view_module_version": "1.5.0",
      "_view_name": "ProgressView",
      "bar_style": "success",
      "description": "",
      "description_tooltip": null,
      "layout": "IPY_MODEL_230b825fc7784f98846e3f476876faa2",
      "max": 14876,
      "min": 0,
      "orientation": "horizontal",
      "style": "IPY_MODEL_d75e53b7b10045cea589e0ce9006f09d",
      "value": 14876
     }
    },
    "a5ca266c082a499abda40c03d11ed777": {
     "model_module": "@jupyter-widgets/controls",
     "model_module_version": "1.5.0",
     "model_name": "DescriptionStyleModel",
     "state": {
      "_model_module": "@jupyter-widgets/controls",
      "_model_module_version": "1.5.0",
      "_model_name": "DescriptionStyleModel",
      "_view_count": null,
      "_view_module": "@jupyter-widgets/base",
      "_view_module_version": "1.2.0",
      "_view_name": "StyleView",
      "description_width": ""
     }
    },
    "afba50ae453548e294e7d2d4e064462e": {
     "model_module": "@jupyter-widgets/controls",
     "model_module_version": "1.5.0",
     "model_name": "DescriptionStyleModel",
     "state": {
      "_model_module": "@jupyter-widgets/controls",
      "_model_module_version": "1.5.0",
      "_model_name": "DescriptionStyleModel",
      "_view_count": null,
      "_view_module": "@jupyter-widgets/base",
      "_view_module_version": "1.2.0",
      "_view_name": "StyleView",
      "description_width": ""
     }
    },
    "b4f9a1f9aa064bb9a70c46554ec694a3": {
     "model_module": "@jupyter-widgets/controls",
     "model_module_version": "1.5.0",
     "model_name": "HTMLModel",
     "state": {
      "_dom_classes": [],
      "_model_module": "@jupyter-widgets/controls",
      "_model_module_version": "1.5.0",
      "_model_name": "HTMLModel",
      "_view_count": null,
      "_view_module": "@jupyter-widgets/controls",
      "_view_module_version": "1.5.0",
      "_view_name": "HTMLView",
      "description": "",
      "description_tooltip": null,
      "layout": "IPY_MODEL_51e324aa2ae54a898c4893ee2e53e40e",
      "placeholder": "​",
      "style": "IPY_MODEL_6bcd3ab81ea549f28c32cc71c00d61e9",
      "value": " 28.7k/28.7k [00:00&lt;00:00, 2.33MB/s]"
     }
    },
    "b5ffe6c45ab14914a6b5d074d0d34b5f": {
     "model_module": "@jupyter-widgets/controls",
     "model_module_version": "1.5.0",
     "model_name": "HTMLModel",
     "state": {
      "_dom_classes": [],
      "_model_module": "@jupyter-widgets/controls",
      "_model_module_version": "1.5.0",
      "_model_name": "HTMLModel",
      "_view_count": null,
      "_view_module": "@jupyter-widgets/controls",
      "_view_module_version": "1.5.0",
      "_view_name": "HTMLView",
      "description": "",
      "description_tooltip": null,
      "layout": "IPY_MODEL_6f05ae98d28f4d2e867c9e3502d2691f",
      "placeholder": "​",
      "style": "IPY_MODEL_713c8a5ffe2346428d1191f71b9610fb",
      "value": "esm_config.py: 100%"
     }
    },
    "bd0c0dd4f0de444cabd606acce40eeaa": {
     "model_module": "@jupyter-widgets/controls",
     "model_module_version": "1.5.0",
     "model_name": "HBoxModel",
     "state": {
      "_dom_classes": [],
      "_model_module": "@jupyter-widgets/controls",
      "_model_module_version": "1.5.0",
      "_model_name": "HBoxModel",
      "_view_count": null,
      "_view_module": "@jupyter-widgets/controls",
      "_view_module_version": "1.5.0",
      "_view_name": "HBoxView",
      "box_style": "",
      "children": [
       "IPY_MODEL_ccfed85d5d8e49ee9a456b10c84b722d",
       "IPY_MODEL_6a33cd956fce452aa50c14b8103918de",
       "IPY_MODEL_f1b0151ea6b4405eb879d91b49f478f3"
      ],
      "layout": "IPY_MODEL_255bcefa53a54aa28c58abecf018ee7d"
     }
    },
    "c0696016555542aa8757cb08060b0eeb": {
     "model_module": "@jupyter-widgets/base",
     "model_module_version": "1.2.0",
     "model_name": "LayoutModel",
     "state": {
      "_model_module": "@jupyter-widgets/base",
      "_model_module_version": "1.2.0",
      "_model_name": "LayoutModel",
      "_view_count": null,
      "_view_module": "@jupyter-widgets/base",
      "_view_module_version": "1.2.0",
      "_view_name": "LayoutView",
      "align_content": null,
      "align_items": null,
      "align_self": null,
      "border": null,
      "bottom": null,
      "display": null,
      "flex": null,
      "flex_flow": null,
      "grid_area": null,
      "grid_auto_columns": null,
      "grid_auto_flow": null,
      "grid_auto_rows": null,
      "grid_column": null,
      "grid_gap": null,
      "grid_row": null,
      "grid_template_areas": null,
      "grid_template_columns": null,
      "grid_template_rows": null,
      "height": null,
      "justify_content": null,
      "justify_items": null,
      "left": null,
      "margin": null,
      "max_height": null,
      "max_width": null,
      "min_height": null,
      "min_width": null,
      "object_fit": null,
      "object_position": null,
      "order": null,
      "overflow": null,
      "overflow_x": null,
      "overflow_y": null,
      "padding": null,
      "right": null,
      "top": null,
      "visibility": null,
      "width": null
     }
    },
    "c6d7c1b4f45044ef937f1ffcc2f09412": {
     "model_module": "@jupyter-widgets/controls",
     "model_module_version": "1.5.0",
     "model_name": "HBoxModel",
     "state": {
      "_dom_classes": [],
      "_model_module": "@jupyter-widgets/controls",
      "_model_module_version": "1.5.0",
      "_model_name": "HBoxModel",
      "_view_count": null,
      "_view_module": "@jupyter-widgets/controls",
      "_view_module_version": "1.5.0",
      "_view_name": "HBoxView",
      "box_style": "",
      "children": [
       "IPY_MODEL_66117373df994fe598c82a7fa1fc3bcf",
       "IPY_MODEL_a15bb0e0792442788c64303968783c13",
       "IPY_MODEL_65b49b61b4a74bb6aba6303a2c854f99"
      ],
      "layout": "IPY_MODEL_7acec29f4727479dbd65a638a980a4bb"
     }
    },
    "ccfed85d5d8e49ee9a456b10c84b722d": {
     "model_module": "@jupyter-widgets/controls",
     "model_module_version": "1.5.0",
     "model_name": "HTMLModel",
     "state": {
      "_dom_classes": [],
      "_model_module": "@jupyter-widgets/controls",
      "_model_module_version": "1.5.0",
      "_model_name": "HTMLModel",
      "_view_count": null,
      "_view_module": "@jupyter-widgets/controls",
      "_view_module_version": "1.5.0",
      "_view_name": "HTMLView",
      "description": "",
      "description_tooltip": null,
      "layout": "IPY_MODEL_86eaac0d5f164b82accb0185ec094108",
      "placeholder": "​",
      "style": "IPY_MODEL_8506bc51df1d4884a1ee94436b9a48bc",
      "value": "model.safetensors: 100%"
     }
    },
    "cd0a3531b0fa49ef8f76ea2488d614dd": {
     "model_module": "@jupyter-widgets/controls",
     "model_module_version": "1.5.0",
     "model_name": "ProgressStyleModel",
     "state": {
      "_model_module": "@jupyter-widgets/controls",
      "_model_module_version": "1.5.0",
      "_model_name": "ProgressStyleModel",
      "_view_count": null,
      "_view_module": "@jupyter-widgets/base",
      "_view_module_version": "1.2.0",
      "_view_name": "StyleView",
      "bar_color": null,
      "description_width": ""
     }
    },
    "d4fb91c6ff3e4ed8a2bed678a7d1a8bb": {
     "model_module": "@jupyter-widgets/base",
     "model_module_version": "1.2.0",
     "model_name": "LayoutModel",
     "state": {
      "_model_module": "@jupyter-widgets/base",
      "_model_module_version": "1.2.0",
      "_model_name": "LayoutModel",
      "_view_count": null,
      "_view_module": "@jupyter-widgets/base",
      "_view_module_version": "1.2.0",
      "_view_name": "LayoutView",
      "align_content": null,
      "align_items": null,
      "align_self": null,
      "border": null,
      "bottom": null,
      "display": null,
      "flex": null,
      "flex_flow": null,
      "grid_area": null,
      "grid_auto_columns": null,
      "grid_auto_flow": null,
      "grid_auto_rows": null,
      "grid_column": null,
      "grid_gap": null,
      "grid_row": null,
      "grid_template_areas": null,
      "grid_template_columns": null,
      "grid_template_rows": null,
      "height": null,
      "justify_content": null,
      "justify_items": null,
      "left": null,
      "margin": null,
      "max_height": null,
      "max_width": null,
      "min_height": null,
      "min_width": null,
      "object_fit": null,
      "object_position": null,
      "order": null,
      "overflow": null,
      "overflow_x": null,
      "overflow_y": null,
      "padding": null,
      "right": null,
      "top": null,
      "visibility": null,
      "width": null
     }
    },
    "d65b1f25d9014c74b04434218ba9bf99": {
     "model_module": "@jupyter-widgets/controls",
     "model_module_version": "1.5.0",
     "model_name": "ProgressStyleModel",
     "state": {
      "_model_module": "@jupyter-widgets/controls",
      "_model_module_version": "1.5.0",
      "_model_name": "ProgressStyleModel",
      "_view_count": null,
      "_view_module": "@jupyter-widgets/base",
      "_view_module_version": "1.2.0",
      "_view_name": "StyleView",
      "bar_color": null,
      "description_width": ""
     }
    },
    "d75e53b7b10045cea589e0ce9006f09d": {
     "model_module": "@jupyter-widgets/controls",
     "model_module_version": "1.5.0",
     "model_name": "ProgressStyleModel",
     "state": {
      "_model_module": "@jupyter-widgets/controls",
      "_model_module_version": "1.5.0",
      "_model_name": "ProgressStyleModel",
      "_view_count": null,
      "_view_module": "@jupyter-widgets/base",
      "_view_module_version": "1.2.0",
      "_view_name": "StyleView",
      "bar_color": null,
      "description_width": ""
     }
    },
    "d7e3e57678fc47169c5b70cae34e91eb": {
     "model_module": "@jupyter-widgets/controls",
     "model_module_version": "1.5.0",
     "model_name": "FloatProgressModel",
     "state": {
      "_dom_classes": [],
      "_model_module": "@jupyter-widgets/controls",
      "_model_module_version": "1.5.0",
      "_model_name": "FloatProgressModel",
      "_view_count": null,
      "_view_module": "@jupyter-widgets/controls",
      "_view_module_version": "1.5.0",
      "_view_name": "ProgressView",
      "bar_style": "success",
      "description": "",
      "description_tooltip": null,
      "layout": "IPY_MODEL_9aab771e3fd845d4bf403336cfbaef12",
      "max": 129,
      "min": 0,
      "orientation": "horizontal",
      "style": "IPY_MODEL_f156608c04ed42fc9b7b0bce700d60b4",
      "value": 129
     }
    },
    "d818730f2bc5406e912c0174c58ed5b1": {
     "model_module": "@jupyter-widgets/controls",
     "model_module_version": "1.5.0",
     "model_name": "HBoxModel",
     "state": {
      "_dom_classes": [],
      "_model_module": "@jupyter-widgets/controls",
      "_model_module_version": "1.5.0",
      "_model_name": "HBoxModel",
      "_view_count": null,
      "_view_module": "@jupyter-widgets/controls",
      "_view_module_version": "1.5.0",
      "_view_name": "HBoxView",
      "box_style": "",
      "children": [
       "IPY_MODEL_b5ffe6c45ab14914a6b5d074d0d34b5f",
       "IPY_MODEL_a4d1b19ab69e46998f1855a16cb5ca47",
       "IPY_MODEL_5d3508192a2646c8bebf7edc23d86d57"
      ],
      "layout": "IPY_MODEL_83e1df40d79d4da9a304be2e7e9f7fa8"
     }
    },
    "dc1dd77338b74d3c9d3e9f91579e032b": {
     "model_module": "@jupyter-widgets/base",
     "model_module_version": "1.2.0",
     "model_name": "LayoutModel",
     "state": {
      "_model_module": "@jupyter-widgets/base",
      "_model_module_version": "1.2.0",
      "_model_name": "LayoutModel",
      "_view_count": null,
      "_view_module": "@jupyter-widgets/base",
      "_view_module_version": "1.2.0",
      "_view_name": "LayoutView",
      "align_content": null,
      "align_items": null,
      "align_self": null,
      "border": null,
      "bottom": null,
      "display": null,
      "flex": null,
      "flex_flow": null,
      "grid_area": null,
      "grid_auto_columns": null,
      "grid_auto_flow": null,
      "grid_auto_rows": null,
      "grid_column": null,
      "grid_gap": null,
      "grid_row": null,
      "grid_template_areas": null,
      "grid_template_columns": null,
      "grid_template_rows": null,
      "height": null,
      "justify_content": null,
      "justify_items": null,
      "left": null,
      "margin": null,
      "max_height": null,
      "max_width": null,
      "min_height": null,
      "min_width": null,
      "object_fit": null,
      "object_position": null,
      "order": null,
      "overflow": null,
      "overflow_x": null,
      "overflow_y": null,
      "padding": null,
      "right": null,
      "top": null,
      "visibility": null,
      "width": null
     }
    },
    "eaad4bc8593a4b279e7a42d270bd1510": {
     "model_module": "@jupyter-widgets/controls",
     "model_module_version": "1.5.0",
     "model_name": "HBoxModel",
     "state": {
      "_dom_classes": [],
      "_model_module": "@jupyter-widgets/controls",
      "_model_module_version": "1.5.0",
      "_model_name": "HBoxModel",
      "_view_count": null,
      "_view_module": "@jupyter-widgets/controls",
      "_view_module_version": "1.5.0",
      "_view_name": "HBoxView",
      "box_style": "",
      "children": [
       "IPY_MODEL_f50be7239d0c468c832bf643cdeeb789",
       "IPY_MODEL_d7e3e57678fc47169c5b70cae34e91eb",
       "IPY_MODEL_962495a069a04a62bebe4de50cc86ebe"
      ],
      "layout": "IPY_MODEL_f8b53d8bcbbe44a88c944aa79b5ea5ad"
     }
    },
    "f0d49875dbf5411ea74d91628d02bc2e": {
     "model_module": "@jupyter-widgets/base",
     "model_module_version": "1.2.0",
     "model_name": "LayoutModel",
     "state": {
      "_model_module": "@jupyter-widgets/base",
      "_model_module_version": "1.2.0",
      "_model_name": "LayoutModel",
      "_view_count": null,
      "_view_module": "@jupyter-widgets/base",
      "_view_module_version": "1.2.0",
      "_view_name": "LayoutView",
      "align_content": null,
      "align_items": null,
      "align_self": null,
      "border": null,
      "bottom": null,
      "display": null,
      "flex": null,
      "flex_flow": null,
      "grid_area": null,
      "grid_auto_columns": null,
      "grid_auto_flow": null,
      "grid_auto_rows": null,
      "grid_column": null,
      "grid_gap": null,
      "grid_row": null,
      "grid_template_areas": null,
      "grid_template_columns": null,
      "grid_template_rows": null,
      "height": null,
      "justify_content": null,
      "justify_items": null,
      "left": null,
      "margin": null,
      "max_height": null,
      "max_width": null,
      "min_height": null,
      "min_width": null,
      "object_fit": null,
      "object_position": null,
      "order": null,
      "overflow": null,
      "overflow_x": null,
      "overflow_y": null,
      "padding": null,
      "right": null,
      "top": null,
      "visibility": null,
      "width": null
     }
    },
    "f156608c04ed42fc9b7b0bce700d60b4": {
     "model_module": "@jupyter-widgets/controls",
     "model_module_version": "1.5.0",
     "model_name": "ProgressStyleModel",
     "state": {
      "_model_module": "@jupyter-widgets/controls",
      "_model_module_version": "1.5.0",
      "_model_name": "ProgressStyleModel",
      "_view_count": null,
      "_view_module": "@jupyter-widgets/base",
      "_view_module_version": "1.2.0",
      "_view_name": "StyleView",
      "bar_color": null,
      "description_width": ""
     }
    },
    "f1b0151ea6b4405eb879d91b49f478f3": {
     "model_module": "@jupyter-widgets/controls",
     "model_module_version": "1.5.0",
     "model_name": "HTMLModel",
     "state": {
      "_dom_classes": [],
      "_model_module": "@jupyter-widgets/controls",
      "_model_module_version": "1.5.0",
      "_model_name": "HTMLModel",
      "_view_count": null,
      "_view_module": "@jupyter-widgets/controls",
      "_view_module_version": "1.5.0",
      "_view_name": "HTMLView",
      "description": "",
      "description_tooltip": null,
      "layout": "IPY_MODEL_5a43225646d446b487b2c83b2bafcf4e",
      "placeholder": "​",
      "style": "IPY_MODEL_687466284c02473fa7ece2c977e9ea3d",
      "value": " 392M/392M [00:02&lt;00:00, 173MB/s]"
     }
    },
    "f421e1a4a54a4764b7325d75ec95c4c9": {
     "model_module": "@jupyter-widgets/controls",
     "model_module_version": "1.5.0",
     "model_name": "DescriptionStyleModel",
     "state": {
      "_model_module": "@jupyter-widgets/controls",
      "_model_module_version": "1.5.0",
      "_model_name": "DescriptionStyleModel",
      "_view_count": null,
      "_view_module": "@jupyter-widgets/base",
      "_view_module_version": "1.2.0",
      "_view_name": "StyleView",
      "description_width": ""
     }
    },
    "f50be7239d0c468c832bf643cdeeb789": {
     "model_module": "@jupyter-widgets/controls",
     "model_module_version": "1.5.0",
     "model_name": "HTMLModel",
     "state": {
      "_dom_classes": [],
      "_model_module": "@jupyter-widgets/controls",
      "_model_module_version": "1.5.0",
      "_model_name": "HTMLModel",
      "_view_count": null,
      "_view_module": "@jupyter-widgets/controls",
      "_view_module_version": "1.5.0",
      "_view_name": "HTMLView",
      "description": "",
      "description_tooltip": null,
      "layout": "IPY_MODEL_f7841ab322b049d2b3e5edca48385882",
      "placeholder": "​",
      "style": "IPY_MODEL_17b2db48e7f5423e9aff144f39089fe8",
      "value": "tokenizer_config.json: 100%"
     }
    },
    "f7841ab322b049d2b3e5edca48385882": {
     "model_module": "@jupyter-widgets/base",
     "model_module_version": "1.2.0",
     "model_name": "LayoutModel",
     "state": {
      "_model_module": "@jupyter-widgets/base",
      "_model_module_version": "1.2.0",
      "_model_name": "LayoutModel",
      "_view_count": null,
      "_view_module": "@jupyter-widgets/base",
      "_view_module_version": "1.2.0",
      "_view_name": "LayoutView",
      "align_content": null,
      "align_items": null,
      "align_self": null,
      "border": null,
      "bottom": null,
      "display": null,
      "flex": null,
      "flex_flow": null,
      "grid_area": null,
      "grid_auto_columns": null,
      "grid_auto_flow": null,
      "grid_auto_rows": null,
      "grid_column": null,
      "grid_gap": null,
      "grid_row": null,
      "grid_template_areas": null,
      "grid_template_columns": null,
      "grid_template_rows": null,
      "height": null,
      "justify_content": null,
      "justify_items": null,
      "left": null,
      "margin": null,
      "max_height": null,
      "max_width": null,
      "min_height": null,
      "min_width": null,
      "object_fit": null,
      "object_position": null,
      "order": null,
      "overflow": null,
      "overflow_x": null,
      "overflow_y": null,
      "padding": null,
      "right": null,
      "top": null,
      "visibility": null,
      "width": null
     }
    },
    "f8b53d8bcbbe44a88c944aa79b5ea5ad": {
     "model_module": "@jupyter-widgets/base",
     "model_module_version": "1.2.0",
     "model_name": "LayoutModel",
     "state": {
      "_model_module": "@jupyter-widgets/base",
      "_model_module_version": "1.2.0",
      "_model_name": "LayoutModel",
      "_view_count": null,
      "_view_module": "@jupyter-widgets/base",
      "_view_module_version": "1.2.0",
      "_view_name": "LayoutView",
      "align_content": null,
      "align_items": null,
      "align_self": null,
      "border": null,
      "bottom": null,
      "display": null,
      "flex": null,
      "flex_flow": null,
      "grid_area": null,
      "grid_auto_columns": null,
      "grid_auto_flow": null,
      "grid_auto_rows": null,
      "grid_column": null,
      "grid_gap": null,
      "grid_row": null,
      "grid_template_areas": null,
      "grid_template_columns": null,
      "grid_template_rows": null,
      "height": null,
      "justify_content": null,
      "justify_items": null,
      "left": null,
      "margin": null,
      "max_height": null,
      "max_width": null,
      "min_height": null,
      "min_width": null,
      "object_fit": null,
      "object_position": null,
      "order": null,
      "overflow": null,
      "overflow_x": null,
      "overflow_y": null,
      "padding": null,
      "right": null,
      "top": null,
      "visibility": null,
      "width": null
     }
    },
    "fa5d8c03066a49259af6a913a58898d2": {
     "model_module": "@jupyter-widgets/controls",
     "model_module_version": "1.5.0",
     "model_name": "DescriptionStyleModel",
     "state": {
      "_model_module": "@jupyter-widgets/controls",
      "_model_module_version": "1.5.0",
      "_model_name": "DescriptionStyleModel",
      "_view_count": null,
      "_view_module": "@jupyter-widgets/base",
      "_view_module_version": "1.2.0",
      "_view_name": "StyleView",
      "description_width": ""
     }
    }
   }
  }
 },
 "nbformat": 4,
 "nbformat_minor": 0
}
