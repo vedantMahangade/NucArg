{
  "cells": [
    {
      "cell_type": "code",
      "execution_count": null,
      "metadata": {
        "colab": {
          "base_uri": "https://localhost:8080/"
        },
        "id": "VqhFWsAH7Xbv",
        "outputId": "6b405559-a16a-411a-a001-2c691014b87c",
        "collapsed": true
      },
      "outputs": [
        {
          "output_type": "stream",
          "name": "stdout",
          "text": [
            "Collecting datasets\n",
            "  Downloading datasets-3.1.0-py3-none-any.whl.metadata (20 kB)\n",
            "Requirement already satisfied: filelock in /usr/local/lib/python3.10/dist-packages (from datasets) (3.16.1)\n",
            "Requirement already satisfied: numpy>=1.17 in /usr/local/lib/python3.10/dist-packages (from datasets) (1.26.4)\n",
            "Requirement already satisfied: pyarrow>=15.0.0 in /usr/local/lib/python3.10/dist-packages (from datasets) (17.0.0)\n",
            "Collecting dill<0.3.9,>=0.3.0 (from datasets)\n",
            "  Downloading dill-0.3.8-py3-none-any.whl.metadata (10 kB)\n",
            "Requirement already satisfied: pandas in /usr/local/lib/python3.10/dist-packages (from datasets) (2.2.2)\n",
            "Requirement already satisfied: requests>=2.32.2 in /usr/local/lib/python3.10/dist-packages (from datasets) (2.32.3)\n",
            "Requirement already satisfied: tqdm>=4.66.3 in /usr/local/lib/python3.10/dist-packages (from datasets) (4.66.6)\n",
            "Collecting xxhash (from datasets)\n",
            "  Downloading xxhash-3.5.0-cp310-cp310-manylinux_2_17_x86_64.manylinux2014_x86_64.whl.metadata (12 kB)\n",
            "Collecting multiprocess<0.70.17 (from datasets)\n",
            "  Downloading multiprocess-0.70.16-py310-none-any.whl.metadata (7.2 kB)\n",
            "Collecting fsspec<=2024.9.0,>=2023.1.0 (from fsspec[http]<=2024.9.0,>=2023.1.0->datasets)\n",
            "  Downloading fsspec-2024.9.0-py3-none-any.whl.metadata (11 kB)\n",
            "Requirement already satisfied: aiohttp in /usr/local/lib/python3.10/dist-packages (from datasets) (3.11.2)\n",
            "Requirement already satisfied: huggingface-hub>=0.23.0 in /usr/local/lib/python3.10/dist-packages (from datasets) (0.26.2)\n",
            "Requirement already satisfied: packaging in /usr/local/lib/python3.10/dist-packages (from datasets) (24.2)\n",
            "Requirement already satisfied: pyyaml>=5.1 in /usr/local/lib/python3.10/dist-packages (from datasets) (6.0.2)\n",
            "Requirement already satisfied: aiohappyeyeballs>=2.3.0 in /usr/local/lib/python3.10/dist-packages (from aiohttp->datasets) (2.4.3)\n",
            "Requirement already satisfied: aiosignal>=1.1.2 in /usr/local/lib/python3.10/dist-packages (from aiohttp->datasets) (1.3.1)\n",
            "Requirement already satisfied: attrs>=17.3.0 in /usr/local/lib/python3.10/dist-packages (from aiohttp->datasets) (24.2.0)\n",
            "Requirement already satisfied: frozenlist>=1.1.1 in /usr/local/lib/python3.10/dist-packages (from aiohttp->datasets) (1.5.0)\n",
            "Requirement already satisfied: multidict<7.0,>=4.5 in /usr/local/lib/python3.10/dist-packages (from aiohttp->datasets) (6.1.0)\n",
            "Requirement already satisfied: propcache>=0.2.0 in /usr/local/lib/python3.10/dist-packages (from aiohttp->datasets) (0.2.0)\n",
            "Requirement already satisfied: yarl<2.0,>=1.17.0 in /usr/local/lib/python3.10/dist-packages (from aiohttp->datasets) (1.17.2)\n",
            "Requirement already satisfied: async-timeout<6.0,>=4.0 in /usr/local/lib/python3.10/dist-packages (from aiohttp->datasets) (4.0.3)\n",
            "Requirement already satisfied: typing-extensions>=3.7.4.3 in /usr/local/lib/python3.10/dist-packages (from huggingface-hub>=0.23.0->datasets) (4.12.2)\n",
            "Requirement already satisfied: charset-normalizer<4,>=2 in /usr/local/lib/python3.10/dist-packages (from requests>=2.32.2->datasets) (3.4.0)\n",
            "Requirement already satisfied: idna<4,>=2.5 in /usr/local/lib/python3.10/dist-packages (from requests>=2.32.2->datasets) (3.10)\n",
            "Requirement already satisfied: urllib3<3,>=1.21.1 in /usr/local/lib/python3.10/dist-packages (from requests>=2.32.2->datasets) (2.2.3)\n",
            "Requirement already satisfied: certifi>=2017.4.17 in /usr/local/lib/python3.10/dist-packages (from requests>=2.32.2->datasets) (2024.8.30)\n",
            "Requirement already satisfied: python-dateutil>=2.8.2 in /usr/local/lib/python3.10/dist-packages (from pandas->datasets) (2.8.2)\n",
            "Requirement already satisfied: pytz>=2020.1 in /usr/local/lib/python3.10/dist-packages (from pandas->datasets) (2024.2)\n",
            "Requirement already satisfied: tzdata>=2022.7 in /usr/local/lib/python3.10/dist-packages (from pandas->datasets) (2024.2)\n",
            "Requirement already satisfied: six>=1.5 in /usr/local/lib/python3.10/dist-packages (from python-dateutil>=2.8.2->pandas->datasets) (1.16.0)\n",
            "Downloading datasets-3.1.0-py3-none-any.whl (480 kB)\n",
            "\u001b[2K   \u001b[90m━━━━━━━━━━━━━━━━━━━━━━━━━━━━━━━━━━━━━━━━\u001b[0m \u001b[32m480.6/480.6 kB\u001b[0m \u001b[31m17.5 MB/s\u001b[0m eta \u001b[36m0:00:00\u001b[0m\n",
            "\u001b[?25hDownloading dill-0.3.8-py3-none-any.whl (116 kB)\n",
            "\u001b[2K   \u001b[90m━━━━━━━━━━━━━━━━━━━━━━━━━━━━━━━━━━━━━━━━\u001b[0m \u001b[32m116.3/116.3 kB\u001b[0m \u001b[31m9.2 MB/s\u001b[0m eta \u001b[36m0:00:00\u001b[0m\n",
            "\u001b[?25hDownloading fsspec-2024.9.0-py3-none-any.whl (179 kB)\n",
            "\u001b[2K   \u001b[90m━━━━━━━━━━━━━━━━━━━━━━━━━━━━━━━━━━━━━━━━\u001b[0m \u001b[32m179.3/179.3 kB\u001b[0m \u001b[31m7.4 MB/s\u001b[0m eta \u001b[36m0:00:00\u001b[0m\n",
            "\u001b[?25hDownloading multiprocess-0.70.16-py310-none-any.whl (134 kB)\n",
            "\u001b[2K   \u001b[90m━━━━━━━━━━━━━━━━━━━━━━━━━━━━━━━━━━━━━━━━\u001b[0m \u001b[32m134.8/134.8 kB\u001b[0m \u001b[31m11.2 MB/s\u001b[0m eta \u001b[36m0:00:00\u001b[0m\n",
            "\u001b[?25hDownloading xxhash-3.5.0-cp310-cp310-manylinux_2_17_x86_64.manylinux2014_x86_64.whl (194 kB)\n",
            "\u001b[2K   \u001b[90m━━━━━━━━━━━━━━━━━━━━━━━━━━━━━━━━━━━━━━━━\u001b[0m \u001b[32m194.1/194.1 kB\u001b[0m \u001b[31m7.0 MB/s\u001b[0m eta \u001b[36m0:00:00\u001b[0m\n",
            "\u001b[?25hInstalling collected packages: xxhash, fsspec, dill, multiprocess, datasets\n",
            "  Attempting uninstall: fsspec\n",
            "    Found existing installation: fsspec 2024.10.0\n",
            "    Uninstalling fsspec-2024.10.0:\n",
            "      Successfully uninstalled fsspec-2024.10.0\n",
            "\u001b[31mERROR: pip's dependency resolver does not currently take into account all the packages that are installed. This behaviour is the source of the following dependency conflicts.\n",
            "gcsfs 2024.10.0 requires fsspec==2024.10.0, but you have fsspec 2024.9.0 which is incompatible.\u001b[0m\u001b[31m\n",
            "\u001b[0mSuccessfully installed datasets-3.1.0 dill-0.3.8 fsspec-2024.9.0 multiprocess-0.70.16 xxhash-3.5.0\n"
          ]
        }
      ],
      "source": [
        "# !pip install torch\n",
        "# !pip install matplotlib\n",
        "# !pip install scikit-learn\n",
        "!pip install datasets\n",
        "# !pip install transformers\n",
        "# !pip install 'accelerate>=0.26.0'\n",
        "# !pip install transformers[torch]\n",
        "# !pip uninstall nvidia-cublas-cu11"
      ]
    },
    {
      "cell_type": "code",
      "execution_count": null,
      "metadata": {
        "id": "qDVagfNUQkRV"
      },
      "outputs": [],
      "source": [
        "import os\n",
        "import torch\n",
        "import numpy as np\n",
        "import pandas as pd\n",
        "import matplotlib.pyplot as plt\n",
        "from sklearn.preprocessing import LabelEncoder\n",
        "from sklearn.metrics import matthews_corrcoef, f1_score, precision_recall_fscore_support\n",
        "from sklearn.model_selection import train_test_split\n",
        "from datasets import Dataset\n",
        "from transformers import AutoTokenizer, AutoModelForSequenceClassification\n",
        "from transformers import TrainingArguments, Trainer, TrainingArguments, DataCollatorWithPadding\n",
        "from sklearn.metrics import confusion_matrix, ConfusionMatrixDisplay\n",
        "import seaborn as sns\n",
        "from sklearn.metrics import roc_curve, auc"
      ]
    },
    {
      "cell_type": "code",
      "execution_count": null,
      "metadata": {
        "id": "5QEh_MfkfgcP"
      },
      "outputs": [],
      "source": [
        "# torch.cuda.empty_cache()\n",
        "os.environ[\"PYTORCH_CUDA_ALLOC_CONF\"] = \"expandable_segments:True\"\n",
        "# os.environ[\"PYTORCH_MPS_HIGH_WATERMARK_RATIO\"] = \"0.9\""
      ]
    },
    {
      "cell_type": "code",
      "execution_count": null,
      "metadata": {
        "id": "0kQp9xITQkJA"
      },
      "outputs": [],
      "source": [
        "device = torch.device('cuda')\n",
        "# torch.cuda.is_available()"
      ]
    },
    {
      "cell_type": "code",
      "source": [
        "from google.colab import drive\n",
        "drive.mount('/content/drive')"
      ],
      "metadata": {
        "colab": {
          "base_uri": "https://localhost:8080/"
        },
        "id": "sW5dx9HwyDS6",
        "outputId": "73ca0023-00bc-4559-8f22-472a91f61490"
      },
      "execution_count": null,
      "outputs": [
        {
          "output_type": "stream",
          "name": "stdout",
          "text": [
            "Mounted at /content/drive\n"
          ]
        }
      ]
    },
    {
      "cell_type": "code",
      "execution_count": null,
      "metadata": {
        "colab": {
          "base_uri": "https://localhost:8080/",
          "height": 206
        },
        "id": "J53sKrpBSyul",
        "outputId": "6007a68a-3f45-43f8-de8a-ad0977446ac8"
      },
      "outputs": [
        {
          "output_type": "execute_result",
          "data": {
            "text/plain": [
              "       id         type                                           Sequence\n",
              "0  B9J113  beta_lactam  GTGAAACATAAAAATCAGGCGACGCATAAAGAGTTCTCTCAACTTG...\n",
              "1  B9J113  beta_lactam  AAACAATCGCTTATCGACCTAACGAAAGGTTTGCCTTTGCATCAAC...\n",
              "2  B9J113  beta_lactam  AGATGAAGTTATTACTTATACGAAAGAAGACTTAGTGGATTATTCA...\n",
              "3  B9J113  beta_lactam  GCTGCTGTTCGTTACAGTGATAATACTGCAGGGAACATTTTATTTC...\n",
              "4  B9J113  beta_lactam  GGGTTACTATGTCTGATCGCTTTGAAACAGAGTTAAACGAAGCTAT..."
            ],
            "text/html": [
              "\n",
              "  <div id=\"df-5f0692b0-68fb-45b0-adc3-41a4f08cbcd3\" class=\"colab-df-container\">\n",
              "    <div>\n",
              "<style scoped>\n",
              "    .dataframe tbody tr th:only-of-type {\n",
              "        vertical-align: middle;\n",
              "    }\n",
              "\n",
              "    .dataframe tbody tr th {\n",
              "        vertical-align: top;\n",
              "    }\n",
              "\n",
              "    .dataframe thead th {\n",
              "        text-align: right;\n",
              "    }\n",
              "</style>\n",
              "<table border=\"1\" class=\"dataframe\">\n",
              "  <thead>\n",
              "    <tr style=\"text-align: right;\">\n",
              "      <th></th>\n",
              "      <th>id</th>\n",
              "      <th>type</th>\n",
              "      <th>Sequence</th>\n",
              "    </tr>\n",
              "  </thead>\n",
              "  <tbody>\n",
              "    <tr>\n",
              "      <th>0</th>\n",
              "      <td>B9J113</td>\n",
              "      <td>beta_lactam</td>\n",
              "      <td>GTGAAACATAAAAATCAGGCGACGCATAAAGAGTTCTCTCAACTTG...</td>\n",
              "    </tr>\n",
              "    <tr>\n",
              "      <th>1</th>\n",
              "      <td>B9J113</td>\n",
              "      <td>beta_lactam</td>\n",
              "      <td>AAACAATCGCTTATCGACCTAACGAAAGGTTTGCCTTTGCATCAAC...</td>\n",
              "    </tr>\n",
              "    <tr>\n",
              "      <th>2</th>\n",
              "      <td>B9J113</td>\n",
              "      <td>beta_lactam</td>\n",
              "      <td>AGATGAAGTTATTACTTATACGAAAGAAGACTTAGTGGATTATTCA...</td>\n",
              "    </tr>\n",
              "    <tr>\n",
              "      <th>3</th>\n",
              "      <td>B9J113</td>\n",
              "      <td>beta_lactam</td>\n",
              "      <td>GCTGCTGTTCGTTACAGTGATAATACTGCAGGGAACATTTTATTTC...</td>\n",
              "    </tr>\n",
              "    <tr>\n",
              "      <th>4</th>\n",
              "      <td>B9J113</td>\n",
              "      <td>beta_lactam</td>\n",
              "      <td>GGGTTACTATGTCTGATCGCTTTGAAACAGAGTTAAACGAAGCTAT...</td>\n",
              "    </tr>\n",
              "  </tbody>\n",
              "</table>\n",
              "</div>\n",
              "    <div class=\"colab-df-buttons\">\n",
              "\n",
              "  <div class=\"colab-df-container\">\n",
              "    <button class=\"colab-df-convert\" onclick=\"convertToInteractive('df-5f0692b0-68fb-45b0-adc3-41a4f08cbcd3')\"\n",
              "            title=\"Convert this dataframe to an interactive table.\"\n",
              "            style=\"display:none;\">\n",
              "\n",
              "  <svg xmlns=\"http://www.w3.org/2000/svg\" height=\"24px\" viewBox=\"0 -960 960 960\">\n",
              "    <path d=\"M120-120v-720h720v720H120Zm60-500h600v-160H180v160Zm220 220h160v-160H400v160Zm0 220h160v-160H400v160ZM180-400h160v-160H180v160Zm440 0h160v-160H620v160ZM180-180h160v-160H180v160Zm440 0h160v-160H620v160Z\"/>\n",
              "  </svg>\n",
              "    </button>\n",
              "\n",
              "  <style>\n",
              "    .colab-df-container {\n",
              "      display:flex;\n",
              "      gap: 12px;\n",
              "    }\n",
              "\n",
              "    .colab-df-convert {\n",
              "      background-color: #E8F0FE;\n",
              "      border: none;\n",
              "      border-radius: 50%;\n",
              "      cursor: pointer;\n",
              "      display: none;\n",
              "      fill: #1967D2;\n",
              "      height: 32px;\n",
              "      padding: 0 0 0 0;\n",
              "      width: 32px;\n",
              "    }\n",
              "\n",
              "    .colab-df-convert:hover {\n",
              "      background-color: #E2EBFA;\n",
              "      box-shadow: 0px 1px 2px rgba(60, 64, 67, 0.3), 0px 1px 3px 1px rgba(60, 64, 67, 0.15);\n",
              "      fill: #174EA6;\n",
              "    }\n",
              "\n",
              "    .colab-df-buttons div {\n",
              "      margin-bottom: 4px;\n",
              "    }\n",
              "\n",
              "    [theme=dark] .colab-df-convert {\n",
              "      background-color: #3B4455;\n",
              "      fill: #D2E3FC;\n",
              "    }\n",
              "\n",
              "    [theme=dark] .colab-df-convert:hover {\n",
              "      background-color: #434B5C;\n",
              "      box-shadow: 0px 1px 3px 1px rgba(0, 0, 0, 0.15);\n",
              "      filter: drop-shadow(0px 1px 2px rgba(0, 0, 0, 0.3));\n",
              "      fill: #FFFFFF;\n",
              "    }\n",
              "  </style>\n",
              "\n",
              "    <script>\n",
              "      const buttonEl =\n",
              "        document.querySelector('#df-5f0692b0-68fb-45b0-adc3-41a4f08cbcd3 button.colab-df-convert');\n",
              "      buttonEl.style.display =\n",
              "        google.colab.kernel.accessAllowed ? 'block' : 'none';\n",
              "\n",
              "      async function convertToInteractive(key) {\n",
              "        const element = document.querySelector('#df-5f0692b0-68fb-45b0-adc3-41a4f08cbcd3');\n",
              "        const dataTable =\n",
              "          await google.colab.kernel.invokeFunction('convertToInteractive',\n",
              "                                                    [key], {});\n",
              "        if (!dataTable) return;\n",
              "\n",
              "        const docLinkHtml = 'Like what you see? Visit the ' +\n",
              "          '<a target=\"_blank\" href=https://colab.research.google.com/notebooks/data_table.ipynb>data table notebook</a>'\n",
              "          + ' to learn more about interactive tables.';\n",
              "        element.innerHTML = '';\n",
              "        dataTable['output_type'] = 'display_data';\n",
              "        await google.colab.output.renderOutput(dataTable, element);\n",
              "        const docLink = document.createElement('div');\n",
              "        docLink.innerHTML = docLinkHtml;\n",
              "        element.appendChild(docLink);\n",
              "      }\n",
              "    </script>\n",
              "  </div>\n",
              "\n",
              "\n",
              "<div id=\"df-329cd833-47fb-4dac-9225-bbcac2afb6ca\">\n",
              "  <button class=\"colab-df-quickchart\" onclick=\"quickchart('df-329cd833-47fb-4dac-9225-bbcac2afb6ca')\"\n",
              "            title=\"Suggest charts\"\n",
              "            style=\"display:none;\">\n",
              "\n",
              "<svg xmlns=\"http://www.w3.org/2000/svg\" height=\"24px\"viewBox=\"0 0 24 24\"\n",
              "     width=\"24px\">\n",
              "    <g>\n",
              "        <path d=\"M19 3H5c-1.1 0-2 .9-2 2v14c0 1.1.9 2 2 2h14c1.1 0 2-.9 2-2V5c0-1.1-.9-2-2-2zM9 17H7v-7h2v7zm4 0h-2V7h2v10zm4 0h-2v-4h2v4z\"/>\n",
              "    </g>\n",
              "</svg>\n",
              "  </button>\n",
              "\n",
              "<style>\n",
              "  .colab-df-quickchart {\n",
              "      --bg-color: #E8F0FE;\n",
              "      --fill-color: #1967D2;\n",
              "      --hover-bg-color: #E2EBFA;\n",
              "      --hover-fill-color: #174EA6;\n",
              "      --disabled-fill-color: #AAA;\n",
              "      --disabled-bg-color: #DDD;\n",
              "  }\n",
              "\n",
              "  [theme=dark] .colab-df-quickchart {\n",
              "      --bg-color: #3B4455;\n",
              "      --fill-color: #D2E3FC;\n",
              "      --hover-bg-color: #434B5C;\n",
              "      --hover-fill-color: #FFFFFF;\n",
              "      --disabled-bg-color: #3B4455;\n",
              "      --disabled-fill-color: #666;\n",
              "  }\n",
              "\n",
              "  .colab-df-quickchart {\n",
              "    background-color: var(--bg-color);\n",
              "    border: none;\n",
              "    border-radius: 50%;\n",
              "    cursor: pointer;\n",
              "    display: none;\n",
              "    fill: var(--fill-color);\n",
              "    height: 32px;\n",
              "    padding: 0;\n",
              "    width: 32px;\n",
              "  }\n",
              "\n",
              "  .colab-df-quickchart:hover {\n",
              "    background-color: var(--hover-bg-color);\n",
              "    box-shadow: 0 1px 2px rgba(60, 64, 67, 0.3), 0 1px 3px 1px rgba(60, 64, 67, 0.15);\n",
              "    fill: var(--button-hover-fill-color);\n",
              "  }\n",
              "\n",
              "  .colab-df-quickchart-complete:disabled,\n",
              "  .colab-df-quickchart-complete:disabled:hover {\n",
              "    background-color: var(--disabled-bg-color);\n",
              "    fill: var(--disabled-fill-color);\n",
              "    box-shadow: none;\n",
              "  }\n",
              "\n",
              "  .colab-df-spinner {\n",
              "    border: 2px solid var(--fill-color);\n",
              "    border-color: transparent;\n",
              "    border-bottom-color: var(--fill-color);\n",
              "    animation:\n",
              "      spin 1s steps(1) infinite;\n",
              "  }\n",
              "\n",
              "  @keyframes spin {\n",
              "    0% {\n",
              "      border-color: transparent;\n",
              "      border-bottom-color: var(--fill-color);\n",
              "      border-left-color: var(--fill-color);\n",
              "    }\n",
              "    20% {\n",
              "      border-color: transparent;\n",
              "      border-left-color: var(--fill-color);\n",
              "      border-top-color: var(--fill-color);\n",
              "    }\n",
              "    30% {\n",
              "      border-color: transparent;\n",
              "      border-left-color: var(--fill-color);\n",
              "      border-top-color: var(--fill-color);\n",
              "      border-right-color: var(--fill-color);\n",
              "    }\n",
              "    40% {\n",
              "      border-color: transparent;\n",
              "      border-right-color: var(--fill-color);\n",
              "      border-top-color: var(--fill-color);\n",
              "    }\n",
              "    60% {\n",
              "      border-color: transparent;\n",
              "      border-right-color: var(--fill-color);\n",
              "    }\n",
              "    80% {\n",
              "      border-color: transparent;\n",
              "      border-right-color: var(--fill-color);\n",
              "      border-bottom-color: var(--fill-color);\n",
              "    }\n",
              "    90% {\n",
              "      border-color: transparent;\n",
              "      border-bottom-color: var(--fill-color);\n",
              "    }\n",
              "  }\n",
              "</style>\n",
              "\n",
              "  <script>\n",
              "    async function quickchart(key) {\n",
              "      const quickchartButtonEl =\n",
              "        document.querySelector('#' + key + ' button');\n",
              "      quickchartButtonEl.disabled = true;  // To prevent multiple clicks.\n",
              "      quickchartButtonEl.classList.add('colab-df-spinner');\n",
              "      try {\n",
              "        const charts = await google.colab.kernel.invokeFunction(\n",
              "            'suggestCharts', [key], {});\n",
              "      } catch (error) {\n",
              "        console.error('Error during call to suggestCharts:', error);\n",
              "      }\n",
              "      quickchartButtonEl.classList.remove('colab-df-spinner');\n",
              "      quickchartButtonEl.classList.add('colab-df-quickchart-complete');\n",
              "    }\n",
              "    (() => {\n",
              "      let quickchartButtonEl =\n",
              "        document.querySelector('#df-329cd833-47fb-4dac-9225-bbcac2afb6ca button');\n",
              "      quickchartButtonEl.style.display =\n",
              "        google.colab.kernel.accessAllowed ? 'block' : 'none';\n",
              "    })();\n",
              "  </script>\n",
              "</div>\n",
              "\n",
              "    </div>\n",
              "  </div>\n"
            ],
            "application/vnd.google.colaboratory.intrinsic+json": {
              "type": "dataframe",
              "variable_name": "ds_arg",
              "summary": "{\n  \"name\": \"ds_arg\",\n  \"rows\": 96145,\n  \"fields\": [\n    {\n      \"column\": \"id\",\n      \"properties\": {\n        \"dtype\": \"category\",\n        \"num_unique_values\": 10383,\n        \"samples\": [\n          \"Q0HRE5\",\n          \"X5EQ65\",\n          \"T6HKU4\"\n        ],\n        \"semantic_type\": \"\",\n        \"description\": \"\"\n      }\n    },\n    {\n      \"column\": \"type\",\n      \"properties\": {\n        \"dtype\": \"category\",\n        \"num_unique_values\": 15,\n        \"samples\": [\n          \"glycopeptide\",\n          \"trimethoprim\",\n          \"beta_lactam\"\n        ],\n        \"semantic_type\": \"\",\n        \"description\": \"\"\n      }\n    },\n    {\n      \"column\": \"Sequence\",\n      \"properties\": {\n        \"dtype\": \"string\",\n        \"num_unique_values\": 77022,\n        \"samples\": [\n          \"GGTGGAACGCATTGCCCAACTATCACCAGAGGTGATTTTCTCTTTTTATTATCGCCATCTTATTTGCGACGAAATTTTGCAGCTCGCTCCCGCAGGTGCA\",\n          \"TTATCCCAATATTGCAAAGTATAAAAATACGATTATACCTAGGATAATTCTATAAACACCAAAGGCCTTGAAGTCGTGCTTTTTGATATATGACATAAAG\",\n          \"ACGTCAAGGAAAACTCCATGGTCTATTTCGGGGCCAAGGGAGTGACTGTGGTGGGGGCGACCTGGACGCCGGATACCGCTCGCGAGCTGCACAAGCTGAT\"\n        ],\n        \"semantic_type\": \"\",\n        \"description\": \"\"\n      }\n    }\n  ]\n}"
            }
          },
          "metadata": {},
          "execution_count": 7
        }
      ],
      "source": [
        "ds_arg = pd.read_csv('/content/drive/MyDrive/Fall 2024/PUBH 8885 - Computational Biology/Project/Data/ShortReads.csv')\n",
        "ds_arg.head()"
      ]
    },
    {
      "cell_type": "code",
      "execution_count": null,
      "metadata": {
        "colab": {
          "base_uri": "https://localhost:8080/"
        },
        "id": "L798Q9NvhEbK",
        "outputId": "df4368d3-523c-4afe-aefa-df7771fa4445"
      },
      "outputs": [
        {
          "output_type": "stream",
          "name": "stdout",
          "text": [
            "# Unique Resistance Types: 15 \n",
            "\n",
            "Unique Resistance Types: ['beta_lactam' 'bacitracin' 'chloramphenicol' 'aminoglycoside'\n",
            " 'macrolide-lincosamide-streptogramin' 'multidrug' 'polymyxin'\n",
            " 'fosfomycin' 'sulfonamide' 'glycopeptide' 'mupirocin' 'trimethoprim'\n",
            " 'quinolone' 'fosmidomycin' 'tetracycline']\n"
          ]
        }
      ],
      "source": [
        "# number of unique drug resistance type\n",
        "print(\"# Unique Resistance Types:\", len(set(ds_arg['type'])),\"\\n\\nUnique Resistance Types:\", ds_arg['type'].unique())"
      ]
    },
    {
      "cell_type": "code",
      "source": [
        "max_length = ds_arg['Sequence'].str.len().max()\n",
        "max_length"
      ],
      "metadata": {
        "colab": {
          "base_uri": "https://localhost:8080/"
        },
        "id": "xkI0LhNy8QBe",
        "outputId": "ed50b01c-2cf4-4322-daa6-977a8dc05f06"
      },
      "execution_count": null,
      "outputs": [
        {
          "output_type": "execute_result",
          "data": {
            "text/plain": [
              "100"
            ]
          },
          "metadata": {},
          "execution_count": 9
        }
      ]
    },
    {
      "cell_type": "code",
      "execution_count": null,
      "metadata": {
        "colab": {
          "base_uri": "https://localhost:8080/"
        },
        "id": "HEySxW6glG5B",
        "outputId": "caa20c8a-b677-4fda-c333-739d8d028574"
      },
      "outputs": [
        {
          "output_type": "execute_result",
          "data": {
            "text/plain": [
              "Index(['id', 'type', 'Sequence'], dtype='object')"
            ]
          },
          "metadata": {},
          "execution_count": 10
        }
      ],
      "source": [
        "ds_arg.columns"
      ]
    },
    {
      "cell_type": "code",
      "execution_count": null,
      "metadata": {
        "id": "da-oJbeiJrRr"
      },
      "outputs": [],
      "source": [
        "# Create label encoder for drug resistance types\n",
        "label_encoder = LabelEncoder()\n",
        "labels = label_encoder.fit_transform(ds_arg['type'])"
      ]
    },
    {
      "cell_type": "code",
      "execution_count": null,
      "metadata": {
        "colab": {
          "base_uri": "https://localhost:8080/"
        },
        "id": "wTjqpXnPJ3cV",
        "outputId": "03d215a9-a153-48f0-ce6d-4698868ce41d"
      },
      "outputs": [
        {
          "output_type": "execute_result",
          "data": {
            "text/plain": [
              "array([2, 2, 2, ..., 7, 7, 7])"
            ]
          },
          "metadata": {},
          "execution_count": 12
        }
      ],
      "source": [
        "labels"
      ]
    },
    {
      "cell_type": "code",
      "execution_count": null,
      "metadata": {
        "id": "23pAEqI7JuTL"
      },
      "outputs": [],
      "source": [
        "# Split data\n",
        "sequences = ds_arg['Sequence'].values\n",
        "\n",
        "# Get class counts\n",
        "class_counts = np.bincount(labels)\n",
        "\n",
        "# Find classes with only one sample\n",
        "single_sample_classes = np.where(class_counts == 1)[0]"
      ]
    },
    {
      "cell_type": "code",
      "execution_count": null,
      "metadata": {
        "id": "3dSwmAsNJ7jD"
      },
      "outputs": [],
      "source": [
        "#If there are classes with only one sample remove them from the dataset\n",
        "if len(single_sample_classes) > 0:\n",
        "  print(f\"Removing classes with only one sample: {single_sample_classes}\")\n",
        "  # Create a mask to select samples not belonging to single-sample classes\n",
        "  mask = ~np.isin(labels, single_sample_classes)\n",
        "  sequences = sequences[mask]\n",
        "  labels = labels[mask]"
      ]
    },
    {
      "cell_type": "code",
      "execution_count": null,
      "metadata": {
        "colab": {
          "base_uri": "https://localhost:8080/"
        },
        "id": "19WYHUf6KfMF",
        "outputId": "19f7a4fd-0dbf-4baa-f1ff-238979a53271"
      },
      "outputs": [
        {
          "output_type": "stream",
          "name": "stdout",
          "text": [
            "                                                sequence  label\n",
            "0      GTGAAACATAAAAATCAGGCGACGCATAAAGAGTTCTCTCAACTTG...      2\n",
            "1      AAACAATCGCTTATCGACCTAACGAAAGGTTTGCCTTTGCATCAAC...      2\n",
            "2      AGATGAAGTTATTACTTATACGAAAGAAGACTTAGTGGATTATTCA...      2\n",
            "3      GCTGCTGTTCGTTACAGTGATAATACTGCAGGGAACATTTTATTTC...      2\n",
            "4      GGGTTACTATGTCTGATCGCTTTGAAACAGAGTTAAACGAAGCTAT...      2\n",
            "...                                                  ...    ...\n",
            "96140  GTGGCTGAACTCCATTACTGTCAGGGTGAAAGAAGGATTTGACAGC...      7\n",
            "96141  GATTTCTTTACCTGGAACATGGACGGCGTCTTGAAAACCGTTGAAA...      7\n",
            "96142  TGGTGGGCGGTATTGGTGTAATGAATATTATGCTGGTGTCAGTGAC...      7\n",
            "96143  TGTTTTGCAACAGTTCCTGATCGAAGCCGTGCTGGTTTGCCTGGTC...      7\n",
            "96144  TTCTTACCCGGCTGGGAGATTGGTTTTTCACCGTTGGCGCTGCTGC...      7\n",
            "\n",
            "[96145 rows x 2 columns]\n"
          ]
        }
      ],
      "source": [
        "dataset = pd.DataFrame({\n",
        "    'sequence': sequences,\n",
        "    'label': labels\n",
        "})\n",
        "print(dataset)"
      ]
    },
    {
      "cell_type": "code",
      "execution_count": null,
      "metadata": {
        "colab": {
          "base_uri": "https://localhost:8080/"
        },
        "id": "iZtTa538qOmN",
        "outputId": "c213b6d9-cd61-4af1-dcaa-4131c1eef86e"
      },
      "outputs": [
        {
          "output_type": "stream",
          "name": "stdout",
          "text": [
            "Train Size: 77877 \n",
            "Validation Size: 8653 \n",
            "Test Size: 9615\n"
          ]
        }
      ],
      "source": [
        "# Create Train Test split\n",
        "train_sequences, test_sequences, train_labels, test_labels = train_test_split(dataset['sequence'], dataset['label'], test_size=0.1, random_state=42)\n",
        "\n",
        "train_sequences, validation_sequences, train_labels, validation_labels = train_test_split(train_sequences, train_labels, test_size=0.1, random_state=42)\n",
        "\n",
        "print(\"Train Size:\",len(train_sequences), \"\\nValidation Size:\", len(validation_sequences), \"\\nTest Size:\", len(test_sequences))"
      ]
    },
    {
      "cell_type": "code",
      "execution_count": null,
      "metadata": {
        "colab": {
          "base_uri": "https://localhost:8080/",
          "height": 240,
          "referenced_widgets": [
            "04423d99d132496f897e3a983dae6ca3",
            "74951339894c4e81ad47d401455b9012",
            "fc36916d45344a2ca1181d8095dbac62",
            "8755796eac3d412092092032956139c3",
            "53ef4109f6074815804fe074c51ff0ea",
            "dc899aeecf8f46c5b7e1b4d3d26696e8",
            "ba60e97dc99848f68a06435c5992bf48",
            "32bb899fe04d40d08eeafc1ac6a95e77",
            "67e97e28ca9c4098aa1d2929d29ffe1d",
            "d6158533b2884413ab1389b32ec4d093",
            "1b55699b2861475e8375862baa8509a6",
            "128e4a83556f4f6cb01b6e1714609714",
            "cb42bc93dab2433c9cc47687977b2aef",
            "7c0075a06b174b4daff217bf75192b6f",
            "a9a7d82c1ede4de885483ce5807b183a",
            "f17762fdd43749da80ff37f76ac99b15",
            "4cdf4de1b3e443cbb8daccb02f0f97db",
            "0233f30051b84173b915d0d874f50b80",
            "3da0e552523c4643a897093ceb383a22",
            "d0fe4f8480f645159502fd6818e6eba2",
            "917e060c77364c4db396b88f76709501",
            "c8625638b14c4a6b8a8686e343daf5a9",
            "f37f61ff9b554cca9330e52c676b4db6",
            "841d529d6e5c4546ad115a5ad9548ebd",
            "d5d2a7385b8542abbd94feec5e724a72",
            "53392698bae64c20b65d2b857d1e8c86",
            "c1b916d842904615a0f5b640c6502739",
            "8efda095dead4cf89957044a345e431b",
            "ee3f25529a464b6ab1ab0e64ef84edd5",
            "4fbd856bd5464bb393496c5ff8ce77e2",
            "ee1e027f3bef41d0981c151a19c7db32",
            "21b0a2b5ba9e487eafe8fb576e56d050",
            "5a1577f3b0604139825ee051036e968f"
          ]
        },
        "id": "jpaea5dJhSXU",
        "outputId": "a906599c-1925-4d17-8a14-ba597033d05c"
      },
      "outputs": [
        {
          "output_type": "stream",
          "name": "stderr",
          "text": [
            "/usr/local/lib/python3.10/dist-packages/huggingface_hub/utils/_auth.py:94: UserWarning: \n",
            "The secret `HF_TOKEN` does not exist in your Colab secrets.\n",
            "To authenticate with the Hugging Face Hub, create a token in your settings tab (https://huggingface.co/settings/tokens), set it as secret in your Google Colab and restart your session.\n",
            "You will be able to reuse this secret in all of your notebooks.\n",
            "Please note that authentication is recommended but still optional to access public models or datasets.\n",
            "  warnings.warn(\n"
          ]
        },
        {
          "output_type": "display_data",
          "data": {
            "text/plain": [
              "tokenizer_config.json:   0%|          | 0.00/129 [00:00<?, ?B/s]"
            ],
            "application/vnd.jupyter.widget-view+json": {
              "version_major": 2,
              "version_minor": 0,
              "model_id": "04423d99d132496f897e3a983dae6ca3"
            }
          },
          "metadata": {}
        },
        {
          "output_type": "display_data",
          "data": {
            "text/plain": [
              "vocab.txt:   0%|          | 0.00/28.7k [00:00<?, ?B/s]"
            ],
            "application/vnd.jupyter.widget-view+json": {
              "version_major": 2,
              "version_minor": 0,
              "model_id": "128e4a83556f4f6cb01b6e1714609714"
            }
          },
          "metadata": {}
        },
        {
          "output_type": "display_data",
          "data": {
            "text/plain": [
              "special_tokens_map.json:   0%|          | 0.00/101 [00:00<?, ?B/s]"
            ],
            "application/vnd.jupyter.widget-view+json": {
              "version_major": 2,
              "version_minor": 0,
              "model_id": "f37f61ff9b554cca9330e52c676b4db6"
            }
          },
          "metadata": {}
        }
      ],
      "source": [
        "tokenizer = AutoTokenizer.from_pretrained(\"InstaDeepAI/nucleotide-transformer-v2-100m-multi-species\")"
      ]
    },
    {
      "cell_type": "code",
      "execution_count": null,
      "metadata": {
        "id": "JAhYfLdVoBlM"
      },
      "outputs": [],
      "source": [
        "ds_train = Dataset.from_dict({\"sequence\": train_sequences,'labels':train_labels})\n",
        "ds_validation = Dataset.from_dict({\"sequence\": validation_sequences,'labels':validation_labels})\n",
        "ds_test = Dataset.from_dict({\"sequence\": test_sequences,'labels':test_labels})"
      ]
    },
    {
      "cell_type": "code",
      "execution_count": null,
      "metadata": {
        "id": "RsVS1rYVv0dR"
      },
      "outputs": [],
      "source": [
        "# Tokenize the dataset\n",
        "def tokenize_function(data):\n",
        "    return tokenizer(\n",
        "        data['sequence'],\n",
        "        padding='max_length',\n",
        "        max_length=128,\n",
        "        truncation=True,       # Truncate if longer than max_length\n",
        "        return_tensors='pt'    # Return pytorch tensors\n",
        "    )"
      ]
    },
    {
      "cell_type": "code",
      "execution_count": null,
      "metadata": {
        "colab": {
          "base_uri": "https://localhost:8080/",
          "height": 113,
          "referenced_widgets": [
            "abde9ccd15de49e0a515cef2a6264445",
            "4bf50565bfd5433db1b5a35c25c90452",
            "f2c7f5f96a1a403582a9defd6e6b659b",
            "34bfb820bfd245058c0cad28780e1594",
            "82ee45242c3d41edb9fde1b952634cf1",
            "6c426a46160040f9a556770b3a95b627",
            "a4f61da6245e46a494d49f5f1242682d",
            "ccdf429ef0654f86a5d34a09186054be",
            "ef77f3ec68d34e00affc42266e4d54e4",
            "64cecf85466c467bbc21bab80e430f19",
            "420e38d47db149d29859b6afd98b6098",
            "c1dc52b1fef8460c8078ac1d14b06660",
            "155d7816bc2e47deb92e7da219b42271",
            "cf39340c80104b52b7866f402f9a1a58",
            "86418cfe22a541d8a86b6edf7a3042a6",
            "d116f56f7c4b4ac3990a11dd37a21a9d",
            "4c6fd0baf88347fc933ac91c3304e869",
            "6742569f0c1b40eeb7a523f2e59c9fef",
            "3241cc2587aa4e0da0aece96ba0161c3",
            "b763484428b945149254c19fecb436d0",
            "494727b32fcb4842a6a3af57631010ab",
            "e3adec2b0340405cab6c5cb7f8ff94a6",
            "33a68eb849a94ab5a780e400b59673a2",
            "afcdfdad7af0404f9ebf252eff6e04ec",
            "d8962af57e7d4881979127717e7113ca",
            "5daa3387b62a4f3d8f244cf6baf1b865",
            "3df288252035417fb148d7fc1d15edd5",
            "02b7ea3667294e4d958ed8a950c2dd21",
            "1b07b23136b24dcc89c6e47829ca92cb",
            "8e0c1146eaf74151952879a6918f925d",
            "676818f19d14452c9260302a38472b6c",
            "3afbc18fb7bd4129ad1e211db09cf655",
            "f84fb0b119a749689400f04c1b7b1b98"
          ]
        },
        "id": "UoITv-XvsHwc",
        "outputId": "4f4adbb9-b7b7-49f1-b7e4-f71a88376531"
      },
      "outputs": [
        {
          "output_type": "display_data",
          "data": {
            "text/plain": [
              "Map:   0%|          | 0/77877 [00:00<?, ? examples/s]"
            ],
            "application/vnd.jupyter.widget-view+json": {
              "version_major": 2,
              "version_minor": 0,
              "model_id": "abde9ccd15de49e0a515cef2a6264445"
            }
          },
          "metadata": {}
        },
        {
          "output_type": "display_data",
          "data": {
            "text/plain": [
              "Map:   0%|          | 0/8653 [00:00<?, ? examples/s]"
            ],
            "application/vnd.jupyter.widget-view+json": {
              "version_major": 2,
              "version_minor": 0,
              "model_id": "c1dc52b1fef8460c8078ac1d14b06660"
            }
          },
          "metadata": {}
        },
        {
          "output_type": "display_data",
          "data": {
            "text/plain": [
              "Map:   0%|          | 0/9615 [00:00<?, ? examples/s]"
            ],
            "application/vnd.jupyter.widget-view+json": {
              "version_major": 2,
              "version_minor": 0,
              "model_id": "33a68eb849a94ab5a780e400b59673a2"
            }
          },
          "metadata": {}
        }
      ],
      "source": [
        "tokenized_datasets_train = ds_train.map(\n",
        "    tokenize_function,\n",
        "    batched=True,\n",
        "    remove_columns=['sequence']\n",
        ")\n",
        "tokenized_datasets_validation = ds_validation.map(\n",
        "    tokenize_function,\n",
        "    batched=True,\n",
        "    remove_columns=['sequence']\n",
        ")\n",
        "tokenized_datasets_test = ds_test.map(\n",
        "    tokenize_function,\n",
        "    batched=True,\n",
        "    remove_columns=['sequence']\n",
        ")"
      ]
    },
    {
      "cell_type": "code",
      "execution_count": null,
      "metadata": {
        "colab": {
          "base_uri": "https://localhost:8080/",
          "height": 361,
          "referenced_widgets": [
            "26bdb4aab3ba43b6b9ea9c544e476792",
            "f5f6f5568e6448a79f9c872dc30cfb8b",
            "72ead08cd9674b79aca105c95b03acfc",
            "b335b90b5f5547e3bedaf2d612bde447",
            "9f3161d6305b4cc68893e36eebf44269",
            "6115154c9c724761a7cf8279c5f43a9a",
            "81eaa36beb2042ab8bff9a9f5aa4cc35",
            "73eead137008430fadebf59558207cf8",
            "9853ed27f5084eaab03e194a31eaba35",
            "2ccf3d6c3b2c4cb883d08d7eaf38fca4",
            "002abfe10a3141a0bb26f328dc82d9fd",
            "2066484c220f4518bc34faf968deada8",
            "03c96dea070944aa9330789c7f998bfc",
            "8faf8158a1984520aaf9bd0dfe0fad5d",
            "f67f30337ff3473688d83e013c7e39b5",
            "e5855569ec654893800d513323721e21",
            "cd85cdcb39364946b2342e92b6cf4136",
            "8aa8e10d427949fb88926127c4278314",
            "951b561f15d741f9816eae27a711c218",
            "0ca39ee836724de78f276deedaabc122",
            "9f378dc0e10048a9b2a1993deaf71259",
            "939a42c5d8dc4db0963b07f944b49b1d",
            "0b75dd8ae85b43dcbad49ef5bbb2857e",
            "f3a1510a34824b9ea795c1213cc65eaa",
            "73bd1f48e25c403e83f17a95acb8343c",
            "8af4e38069e3484684961368c3ff11bb",
            "75580026d16a4b12ae5a82c831affb38",
            "8847131632024bef8a84fac21f2c021b",
            "084b08dd78874cb2be079b07dc75a4be",
            "f8deeea08b734c7e9f4fc9716b4b339e",
            "39d4718422c44542a9877a2279be038d",
            "7f6160bae63e499e846084d759552daf",
            "c5f93736ea8b40c6be5cd0cbd19f28be",
            "81820eedf67c42b29919f116ed3d67ee",
            "64221c9ff87c4a7e8c12377ed37b4018",
            "209a35888cae4515942222ce115501d9",
            "c3c70eaae39847a69ae7a711dac9fb4e",
            "cec063d881ab43d59f4e2d642881f814",
            "39dbc2a2a80f4b63a2e1706c64005a0a",
            "61ee0eaacf154e7c8c44709262c09042",
            "4b592f2a28564ec29e50cea4f986a566",
            "b1ef4e669fad44f69577bcb538dd32e7",
            "77fd27880aea432b8a6ffc4358ef0362",
            "b207b70ea4ab4ce5bfa0f1b40d2bb138"
          ]
        },
        "id": "CuqrubwLoBoz",
        "outputId": "9605efe3-a448-4463-b76b-9adf47264837"
      },
      "outputs": [
        {
          "output_type": "display_data",
          "data": {
            "text/plain": [
              "config.json:   0%|          | 0.00/1.06k [00:00<?, ?B/s]"
            ],
            "application/vnd.jupyter.widget-view+json": {
              "version_major": 2,
              "version_minor": 0,
              "model_id": "26bdb4aab3ba43b6b9ea9c544e476792"
            }
          },
          "metadata": {}
        },
        {
          "output_type": "display_data",
          "data": {
            "text/plain": [
              "esm_config.py:   0%|          | 0.00/14.9k [00:00<?, ?B/s]"
            ],
            "application/vnd.jupyter.widget-view+json": {
              "version_major": 2,
              "version_minor": 0,
              "model_id": "2066484c220f4518bc34faf968deada8"
            }
          },
          "metadata": {}
        },
        {
          "output_type": "stream",
          "name": "stderr",
          "text": [
            "A new version of the following files was downloaded from https://huggingface.co/InstaDeepAI/nucleotide-transformer-v2-100m-multi-species:\n",
            "- esm_config.py\n",
            ". Make sure to double-check they do not contain any added malicious code. To avoid downloading new versions of the code file, you can pin a revision.\n"
          ]
        },
        {
          "output_type": "display_data",
          "data": {
            "text/plain": [
              "modeling_esm.py:   0%|          | 0.00/58.2k [00:00<?, ?B/s]"
            ],
            "application/vnd.jupyter.widget-view+json": {
              "version_major": 2,
              "version_minor": 0,
              "model_id": "0b75dd8ae85b43dcbad49ef5bbb2857e"
            }
          },
          "metadata": {}
        },
        {
          "output_type": "stream",
          "name": "stderr",
          "text": [
            "A new version of the following files was downloaded from https://huggingface.co/InstaDeepAI/nucleotide-transformer-v2-100m-multi-species:\n",
            "- modeling_esm.py\n",
            ". Make sure to double-check they do not contain any added malicious code. To avoid downloading new versions of the code file, you can pin a revision.\n"
          ]
        },
        {
          "output_type": "display_data",
          "data": {
            "text/plain": [
              "model.safetensors:   0%|          | 0.00/392M [00:00<?, ?B/s]"
            ],
            "application/vnd.jupyter.widget-view+json": {
              "version_major": 2,
              "version_minor": 0,
              "model_id": "81820eedf67c42b29919f116ed3d67ee"
            }
          },
          "metadata": {}
        },
        {
          "output_type": "stream",
          "name": "stderr",
          "text": [
            "Some weights of the model checkpoint at InstaDeepAI/nucleotide-transformer-v2-100m-multi-species were not used when initializing EsmForSequenceClassification: ['lm_head.bias', 'lm_head.decoder.weight', 'lm_head.dense.bias', 'lm_head.dense.weight', 'lm_head.layer_norm.bias', 'lm_head.layer_norm.weight']\n",
            "- This IS expected if you are initializing EsmForSequenceClassification from the checkpoint of a model trained on another task or with another architecture (e.g. initializing a BertForSequenceClassification model from a BertForPreTraining model).\n",
            "- This IS NOT expected if you are initializing EsmForSequenceClassification from the checkpoint of a model that you expect to be exactly identical (initializing a BertForSequenceClassification model from a BertForSequenceClassification model).\n",
            "Some weights of EsmForSequenceClassification were not initialized from the model checkpoint at InstaDeepAI/nucleotide-transformer-v2-100m-multi-species and are newly initialized: ['classifier.dense.bias', 'classifier.dense.weight', 'classifier.out_proj.bias', 'classifier.out_proj.weight']\n",
            "You should probably TRAIN this model on a down-stream task to be able to use it for predictions and inference.\n"
          ]
        }
      ],
      "source": [
        "model = AutoModelForSequenceClassification.from_pretrained(\n",
        "    \"InstaDeepAI/nucleotide-transformer-v2-100m-multi-species\",\n",
        "    num_labels=len(set(ds_arg['type'])),\n",
        "    trust_remote_code=True\n",
        ")"
      ]
    },
    {
      "cell_type": "code",
      "execution_count": null,
      "metadata": {
        "id": "lUrI8ErPohrj"
      },
      "outputs": [],
      "source": []
    },
    {
      "cell_type": "code",
      "execution_count": null,
      "metadata": {
        "id": "BoKLvNs8tyI3"
      },
      "outputs": [],
      "source": [
        "def compute_metrics(eval_pred):\n",
        "    \"\"\"Computes F1 score for multi-class classification\"\"\"\n",
        "    labels = eval_pred.label_ids\n",
        "    predictions = np.argmax(eval_pred.predictions, axis=-1)\n",
        "\n",
        "#    precision, recall, f1, support = precision_recall_fscore_support(labels, predictions, average=None, labels=range(n_labels))\n",
        "\n",
        "    micro_precision, micro_recall, micro_f1, micro_support = precision_recall_fscore_support(labels, predictions, average='micro')\n",
        "\n",
        "    macro_precision, macro_recall, macro_f1, _ = precision_recall_fscore_support(labels, predictions, average='macro')\n",
        "\n",
        "    weighted_precision, weighted_recall, weighted_f1, weighted_support = precision_recall_fscore_support(labels, predictions, average='weighted')\n",
        "\n",
        "    return {\n",
        "        # 'precision': precision,\n",
        "        # 'recall': recall,\n",
        "        # 'f1': f1,\n",
        "        'micro_precision': micro_precision,\n",
        "        'macro_precision': macro_precision,\n",
        "        'weighted_precision': weighted_precision,\n",
        "        'micro_recall': micro_recall,\n",
        "        'macro_recall': macro_recall,\n",
        "        'weighted_recall': weighted_recall,\n",
        "        'micro_f1': micro_f1,\n",
        "        'macro_f1': macro_f1,\n",
        "        'weighted_f1': weighted_f1\n",
        "    }"
      ]
    },
    {
      "cell_type": "code",
      "execution_count": null,
      "metadata": {
        "id": "-NviJFqgxsta"
      },
      "outputs": [],
      "source": [
        "data_collator = DataCollatorWithPadding(tokenizer=tokenizer, padding=True)"
      ]
    },
    {
      "cell_type": "code",
      "source": [
        "training_Args = TrainingArguments(\n",
        "    \"/content/drive/MyDrive/Fall 2024/PUBH 8885 - Computational Biology/Project/models/nuc_arg_short_readv2\",\n",
        "    remove_unused_columns=False,\n",
        "    report_to=\"none\",\n",
        "    evaluation_strategy=\"epoch\",\n",
        "    save_strategy=\"epoch\",\n",
        "    learning_rate=2.5e-5,\n",
        "    per_device_train_batch_size=32,\n",
        "    gradient_accumulation_steps= 8,\n",
        "    per_device_eval_batch_size= 32,\n",
        "    num_train_epochs= 4,\n",
        "    logging_steps= 100,\n",
        "    load_best_model_at_end=True,  # Keep the best model according to the evaluation\n",
        "    metric_for_best_model=\"eval_weighted_f1\",\n",
        "    label_names=[\"labels\"],\n",
        "    dataloader_drop_last=True,\n",
        "    fp16=True\n",
        ")"
      ],
      "metadata": {
        "id": "irULm2z3dfGW"
      },
      "execution_count": null,
      "outputs": []
    },
    {
      "cell_type": "code",
      "execution_count": null,
      "metadata": {
        "colab": {
          "base_uri": "https://localhost:8080/"
        },
        "id": "hHKtHFfLohz8",
        "outputId": "fce4f6fa-5a9b-4b8a-942e-4cbc8875acf0"
      },
      "outputs": [
        {
          "output_type": "stream",
          "name": "stderr",
          "text": [
            "<ipython-input-32-91bdbc5f0638>:1: FutureWarning: `tokenizer` is deprecated and will be removed in version 5.0.0 for `Trainer.__init__`. Use `processing_class` instead.\n",
            "  trainer = Trainer(\n"
          ]
        }
      ],
      "source": [
        "trainer = Trainer(\n",
        "    model.to(device),\n",
        "    training_Args,\n",
        "    data_collator=data_collator,\n",
        "    train_dataset = tokenized_datasets_train,\n",
        "    eval_dataset = tokenized_datasets_validation,\n",
        "    tokenizer=tokenizer,\n",
        "    compute_metrics=compute_metrics,\n",
        ")"
      ]
    },
    {
      "cell_type": "code",
      "execution_count": null,
      "metadata": {
        "colab": {
          "base_uri": "https://localhost:8080/",
          "height": 524
        },
        "id": "oSYkgb1huoJS",
        "outputId": "12bf194d-2be3-40be-aecc-9a4a33929b15"
      },
      "outputs": [
        {
          "output_type": "display_data",
          "data": {
            "text/plain": [
              "<IPython.core.display.HTML object>"
            ],
            "text/html": [
              "\n",
              "    <div>\n",
              "      \n",
              "      <progress value='1216' max='1216' style='width:300px; height:20px; vertical-align: middle;'></progress>\n",
              "      [1216/1216 51:37, Epoch 3/4]\n",
              "    </div>\n",
              "    <table border=\"1\" class=\"dataframe\">\n",
              "  <thead>\n",
              " <tr style=\"text-align: left;\">\n",
              "      <th>Epoch</th>\n",
              "      <th>Training Loss</th>\n",
              "      <th>Validation Loss</th>\n",
              "      <th>Micro Precision</th>\n",
              "      <th>Macro Precision</th>\n",
              "      <th>Weighted Precision</th>\n",
              "      <th>Micro Recall</th>\n",
              "      <th>Macro Recall</th>\n",
              "      <th>Weighted Recall</th>\n",
              "      <th>Micro F1</th>\n",
              "      <th>Macro F1</th>\n",
              "      <th>Weighted F1</th>\n",
              "    </tr>\n",
              "  </thead>\n",
              "  <tbody>\n",
              "    <tr>\n",
              "      <td>0</td>\n",
              "      <td>0.939400</td>\n",
              "      <td>0.845483</td>\n",
              "      <td>0.770255</td>\n",
              "      <td>0.323590</td>\n",
              "      <td>0.749165</td>\n",
              "      <td>0.770255</td>\n",
              "      <td>0.306967</td>\n",
              "      <td>0.770255</td>\n",
              "      <td>0.770255</td>\n",
              "      <td>0.308256</td>\n",
              "      <td>0.755768</td>\n",
              "    </tr>\n",
              "    <tr>\n",
              "      <td>1</td>\n",
              "      <td>0.688100</td>\n",
              "      <td>0.720991</td>\n",
              "      <td>0.812963</td>\n",
              "      <td>0.451447</td>\n",
              "      <td>0.806641</td>\n",
              "      <td>0.812963</td>\n",
              "      <td>0.387017</td>\n",
              "      <td>0.812963</td>\n",
              "      <td>0.812963</td>\n",
              "      <td>0.403819</td>\n",
              "      <td>0.805004</td>\n",
              "    </tr>\n",
              "    <tr>\n",
              "      <td>2</td>\n",
              "      <td>0.553500</td>\n",
              "      <td>0.675450</td>\n",
              "      <td>0.824769</td>\n",
              "      <td>0.449470</td>\n",
              "      <td>0.822969</td>\n",
              "      <td>0.824769</td>\n",
              "      <td>0.428615</td>\n",
              "      <td>0.824769</td>\n",
              "      <td>0.824769</td>\n",
              "      <td>0.436918</td>\n",
              "      <td>0.823285</td>\n",
              "    </tr>\n",
              "    <tr>\n",
              "      <td>3</td>\n",
              "      <td>0.444100</td>\n",
              "      <td>0.683810</td>\n",
              "      <td>0.827546</td>\n",
              "      <td>0.468374</td>\n",
              "      <td>0.825598</td>\n",
              "      <td>0.827546</td>\n",
              "      <td>0.437203</td>\n",
              "      <td>0.827546</td>\n",
              "      <td>0.827546</td>\n",
              "      <td>0.450169</td>\n",
              "      <td>0.825736</td>\n",
              "    </tr>\n",
              "  </tbody>\n",
              "</table><p>"
            ]
          },
          "metadata": {}
        },
        {
          "output_type": "stream",
          "name": "stderr",
          "text": [
            "/usr/local/lib/python3.10/dist-packages/sklearn/metrics/_classification.py:1531: UndefinedMetricWarning: Precision is ill-defined and being set to 0.0 in labels with no predicted samples. Use `zero_division` parameter to control this behavior.\n",
            "  _warn_prf(average, modifier, f\"{metric.capitalize()} is\", len(result))\n",
            "/usr/local/lib/python3.10/dist-packages/sklearn/metrics/_classification.py:1531: UndefinedMetricWarning: Precision is ill-defined and being set to 0.0 in labels with no predicted samples. Use `zero_division` parameter to control this behavior.\n",
            "  _warn_prf(average, modifier, f\"{metric.capitalize()} is\", len(result))\n",
            "/usr/local/lib/python3.10/dist-packages/sklearn/metrics/_classification.py:1531: UndefinedMetricWarning: Precision is ill-defined and being set to 0.0 in labels with no predicted samples. Use `zero_division` parameter to control this behavior.\n",
            "  _warn_prf(average, modifier, f\"{metric.capitalize()} is\", len(result))\n",
            "/usr/local/lib/python3.10/dist-packages/sklearn/metrics/_classification.py:1531: UndefinedMetricWarning: Precision is ill-defined and being set to 0.0 in labels with no predicted samples. Use `zero_division` parameter to control this behavior.\n",
            "  _warn_prf(average, modifier, f\"{metric.capitalize()} is\", len(result))\n",
            "/usr/local/lib/python3.10/dist-packages/sklearn/metrics/_classification.py:1531: UndefinedMetricWarning: Precision is ill-defined and being set to 0.0 in labels with no predicted samples. Use `zero_division` parameter to control this behavior.\n",
            "  _warn_prf(average, modifier, f\"{metric.capitalize()} is\", len(result))\n",
            "/usr/local/lib/python3.10/dist-packages/sklearn/metrics/_classification.py:1531: UndefinedMetricWarning: Precision is ill-defined and being set to 0.0 in labels with no predicted samples. Use `zero_division` parameter to control this behavior.\n",
            "  _warn_prf(average, modifier, f\"{metric.capitalize()} is\", len(result))\n",
            "/usr/local/lib/python3.10/dist-packages/sklearn/metrics/_classification.py:1531: UndefinedMetricWarning: Precision is ill-defined and being set to 0.0 in labels with no predicted samples. Use `zero_division` parameter to control this behavior.\n",
            "  _warn_prf(average, modifier, f\"{metric.capitalize()} is\", len(result))\n",
            "/usr/local/lib/python3.10/dist-packages/sklearn/metrics/_classification.py:1531: UndefinedMetricWarning: Precision is ill-defined and being set to 0.0 in labels with no predicted samples. Use `zero_division` parameter to control this behavior.\n",
            "  _warn_prf(average, modifier, f\"{metric.capitalize()} is\", len(result))\n"
          ]
        }
      ],
      "source": [
        "train_results = trainer.train()\n",
        "#0ee50b9af42a643d0775410d9fce2677e382baf2"
      ]
    },
    {
      "cell_type": "code",
      "source": [
        "trainer.save_state()\n",
        "print(trainer.state.log_history)"
      ],
      "metadata": {
        "id": "sq73ICnfIUxx",
        "colab": {
          "base_uri": "https://localhost:8080/"
        },
        "outputId": "784e76c5-d6d7-45d6-9ccc-f3427e57892a"
      },
      "execution_count": null,
      "outputs": [
        {
          "output_type": "stream",
          "name": "stdout",
          "text": [
            "[{'loss': 1.6312, 'grad_norm': 56.5152702331543, 'learning_rate': 2.294407894736842e-05, 'epoch': 0.32881216605014385, 'step': 100}, {'loss': 1.1348, 'grad_norm': 25.111013412475586, 'learning_rate': 2.0888157894736843e-05, 'epoch': 0.6576243321002877, 'step': 200}, {'loss': 0.9394, 'grad_norm': 26.142438888549805, 'learning_rate': 1.8832236842105263e-05, 'epoch': 0.9864364981504316, 'step': 300}, {'eval_loss': 0.8454831838607788, 'eval_micro_precision': 0.7702546296296297, 'eval_macro_precision': 0.32358972094404553, 'eval_weighted_precision': 0.749165217714151, 'eval_micro_recall': 0.7702546296296297, 'eval_macro_recall': 0.30696712181474184, 'eval_weighted_recall': 0.7702546296296297, 'eval_micro_f1': 0.7702546296296297, 'eval_macro_f1': 0.3082563827875494, 'eval_weighted_f1': 0.7557680928301825, 'eval_runtime': 32.1611, 'eval_samples_per_second': 269.052, 'eval_steps_per_second': 8.426, 'epoch': 0.9995889847924373, 'step': 304}, {'loss': 0.778, 'grad_norm': 31.7321834564209, 'learning_rate': 1.6776315789473686e-05, 'epoch': 1.3152486642005754, 'step': 400}, {'loss': 0.7233, 'grad_norm': 36.89674377441406, 'learning_rate': 1.4720394736842105e-05, 'epoch': 1.6440608302507194, 'step': 500}, {'loss': 0.6881, 'grad_norm': 27.113405227661133, 'learning_rate': 1.2664473684210526e-05, 'epoch': 1.972872996300863, 'step': 600}, {'eval_loss': 0.7209905982017517, 'eval_micro_precision': 0.812962962962963, 'eval_macro_precision': 0.4514466423411687, 'eval_weighted_precision': 0.8066408422610873, 'eval_micro_recall': 0.812962962962963, 'eval_macro_recall': 0.3870169668496628, 'eval_weighted_recall': 0.812962962962963, 'eval_micro_f1': 0.812962962962963, 'eval_macro_f1': 0.4038194648290547, 'eval_weighted_f1': 0.8050040647878027, 'eval_runtime': 32.2396, 'eval_samples_per_second': 268.397, 'eval_steps_per_second': 8.406, 'epoch': 1.9991779695848746, 'step': 608}, {'loss': 0.5914, 'grad_norm': 36.23032760620117, 'learning_rate': 1.0608552631578949e-05, 'epoch': 2.301685162351007, 'step': 700}, {'loss': 0.5616, 'grad_norm': 26.161983489990234, 'learning_rate': 8.552631578947368e-06, 'epoch': 2.630497328401151, 'step': 800}, {'loss': 0.5535, 'grad_norm': 34.090694427490234, 'learning_rate': 6.49671052631579e-06, 'epoch': 2.9593094944512948, 'step': 900}, {'eval_loss': 0.6754504442214966, 'eval_micro_precision': 0.8247685185185185, 'eval_macro_precision': 0.449469641553569, 'eval_weighted_precision': 0.8229685941178848, 'eval_micro_recall': 0.8247685185185185, 'eval_macro_recall': 0.4286150204922574, 'eval_weighted_recall': 0.8247685185185185, 'eval_micro_f1': 0.8247685185185185, 'eval_macro_f1': 0.43691774562937663, 'eval_weighted_f1': 0.8232850111902783, 'eval_runtime': 32.1249, 'eval_samples_per_second': 269.355, 'eval_steps_per_second': 8.436, 'epoch': 2.998766954377312, 'step': 912}, {'loss': 0.4849, 'grad_norm': 40.638362884521484, 'learning_rate': 4.4407894736842105e-06, 'epoch': 3.2881216605014387, 'step': 1000}, {'loss': 0.4741, 'grad_norm': 30.844663619995117, 'learning_rate': 2.384868421052632e-06, 'epoch': 3.6169338265515822, 'step': 1100}, {'loss': 0.4441, 'grad_norm': 26.968608856201172, 'learning_rate': 3.2894736842105264e-07, 'epoch': 3.945745992601726, 'step': 1200}, {'eval_loss': 0.6838096380233765, 'eval_micro_precision': 0.8275462962962963, 'eval_macro_precision': 0.46837386836976236, 'eval_weighted_precision': 0.8255976597277161, 'eval_micro_recall': 0.8275462962962963, 'eval_macro_recall': 0.4372025469059783, 'eval_weighted_recall': 0.8275462962962963, 'eval_micro_f1': 0.8275462962962963, 'eval_macro_f1': 0.4501691015818631, 'eval_weighted_f1': 0.8257364797139064, 'eval_runtime': 34.5877, 'eval_samples_per_second': 250.175, 'eval_steps_per_second': 7.835, 'epoch': 3.998355939169749, 'step': 1216}, {'train_runtime': 3102.9134, 'train_samples_per_second': 100.392, 'train_steps_per_second': 0.392, 'total_flos': 2.2147108316381184e+16, 'train_loss': 0.7467214963153789, 'epoch': 3.998355939169749, 'step': 1216}]\n"
          ]
        }
      ]
    },
    {
      "cell_type": "code",
      "execution_count": null,
      "metadata": {
        "id": "dSJJ4_Mnxfu6"
      },
      "outputs": [],
      "source": [
        "curve_evaluation_f1_score = [\n",
        "    [a['step'], a['eval_weighted_f1']]\n",
        "    for a in trainer.state.log_history\n",
        "    if 'eval_weighted_f1' in a.keys()\n",
        "]"
      ]
    },
    {
      "cell_type": "code",
      "source": [
        "curve_evaluation_f1_score"
      ],
      "metadata": {
        "id": "xxeCcLKFJ4wV",
        "colab": {
          "base_uri": "https://localhost:8080/"
        },
        "outputId": "e47f703d-52e3-4067-c985-679ed3dd70ec"
      },
      "execution_count": null,
      "outputs": [
        {
          "output_type": "execute_result",
          "data": {
            "text/plain": [
              "[[304, 0.7557680928301825],\n",
              " [608, 0.8050040647878027],\n",
              " [912, 0.8232850111902783],\n",
              " [1216, 0.8257364797139064]]"
            ]
          },
          "metadata": {},
          "execution_count": 36
        }
      ]
    },
    {
      "cell_type": "code",
      "source": [
        "eval_f1_score = [c[1] for c in curve_evaluation_f1_score]\n",
        "steps = [c[0] for c in curve_evaluation_f1_score]"
      ],
      "metadata": {
        "id": "n7XcJcTFKSjF"
      },
      "execution_count": null,
      "outputs": []
    },
    {
      "cell_type": "code",
      "source": [
        "plt.plot(steps, eval_f1_score, 'b', label='Validation F1 score')\n",
        "plt.title('Validation F1 score')\n",
        "plt.xlabel('Number of training steps performed')\n",
        "plt.ylabel('Validation F1 score')\n",
        "plt.legend()\n",
        "plt.show()"
      ],
      "metadata": {
        "id": "wxU8MY-KKVwU",
        "colab": {
          "base_uri": "https://localhost:8080/",
          "height": 472
        },
        "outputId": "381734f4-341f-4758-eaeb-0fb44dbee057"
      },
      "execution_count": null,
      "outputs": [
        {
          "output_type": "display_data",
          "data": {
            "text/plain": [
              "<Figure size 640x480 with 1 Axes>"
            ],
            "image/png": "[encoded data removed]"
          },
          "metadata": {}
        }
      ]
    },
    {
      "cell_type": "markdown",
      "source": [
        "## Short Read Test Data"
      ],
      "metadata": {
        "id": "3aJyKUmLdyjZ"
      }
    },
    {
      "cell_type": "code",
      "source": [
        "test_results = trainer.predict(tokenized_datasets_test)"
      ],
      "metadata": {
        "id": "LKgkNdnrLO9N",
        "colab": {
          "base_uri": "https://localhost:8080/",
          "height": 108
        },
        "outputId": "6c9d2918-b66e-467b-a9ab-ca54af7e51ff"
      },
      "execution_count": null,
      "outputs": [
        {
          "output_type": "display_data",
          "data": {
            "text/plain": [
              "<IPython.core.display.HTML object>"
            ],
            "text/html": []
          },
          "metadata": {}
        },
        {
          "output_type": "stream",
          "name": "stderr",
          "text": [
            "/usr/local/lib/python3.10/dist-packages/sklearn/metrics/_classification.py:1531: UndefinedMetricWarning: Precision is ill-defined and being set to 0.0 in labels with no predicted samples. Use `zero_division` parameter to control this behavior.\n",
            "  _warn_prf(average, modifier, f\"{metric.capitalize()} is\", len(result))\n",
            "/usr/local/lib/python3.10/dist-packages/sklearn/metrics/_classification.py:1531: UndefinedMetricWarning: Precision is ill-defined and being set to 0.0 in labels with no predicted samples. Use `zero_division` parameter to control this behavior.\n",
            "  _warn_prf(average, modifier, f\"{metric.capitalize()} is\", len(result))\n"
          ]
        }
      ]
    },
    {
      "cell_type": "code",
      "source": [
        "print(\"Test Metrics:\", test_results.metrics)"
      ],
      "metadata": {
        "id": "fEQMPO-4LUh5",
        "colab": {
          "base_uri": "https://localhost:8080/"
        },
        "outputId": "9d09576d-8c07-4b99-eb70-742fa0a3ea38"
      },
      "execution_count": null,
      "outputs": [
        {
          "output_type": "stream",
          "name": "stdout",
          "text": [
            "Test Metrics: {'test_loss': 0.6644510626792908, 'test_micro_precision': 0.8319791666666667, 'test_macro_precision': 0.4608115099488821, 'test_weighted_precision': 0.8294596746226569, 'test_micro_recall': 0.8319791666666667, 'test_macro_recall': 0.434633666201421, 'test_weighted_recall': 0.8319791666666667, 'test_micro_f1': 0.8319791666666667, 'test_macro_f1': 0.44557519529558987, 'test_weighted_f1': 0.8301766131178652, 'test_runtime': 41.4932, 'test_samples_per_second': 231.725, 'test_steps_per_second': 7.254}\n"
          ]
        }
      ]
    },
    {
      "cell_type": "code",
      "source": [
        "predicted_classes = np.argmax(test_results.predictions, axis=1)"
      ],
      "metadata": {
        "id": "E4nHooxNLY_V"
      },
      "execution_count": null,
      "outputs": []
    },
    {
      "cell_type": "code",
      "source": [
        "# Optionally, compare predictions with true labels\n",
        "true_labels = test_results.label_ids\n",
        "from sklearn.metrics import classification_report\n",
        "print(classification_report(true_labels, predicted_classes))"
      ],
      "metadata": {
        "id": "xEc76UaLLaxy",
        "colab": {
          "base_uri": "https://localhost:8080/"
        },
        "outputId": "38af6aff-4702-466b-897c-4b130d5e278b"
      },
      "execution_count": null,
      "outputs": [
        {
          "output_type": "stream",
          "name": "stdout",
          "text": [
            "              precision    recall  f1-score   support\n",
            "\n",
            "           0       0.65      0.63      0.64       373\n",
            "           1       0.89      0.88      0.88      3194\n",
            "           2       0.86      0.87      0.86      3105\n",
            "           3       0.68      0.59      0.63       218\n",
            "           4       0.80      0.57      0.66       111\n",
            "           6       0.00      0.00      0.00        10\n",
            "           7       0.77      0.82      0.79      1307\n",
            "           8       0.56      0.47      0.51       162\n",
            "           9       0.00      0.00      0.00         7\n",
            "          10       0.79      0.83      0.81      1107\n",
            "          11       0.00      0.00      0.00         2\n",
            "          13       0.00      0.00      0.00         3\n",
            "          14       0.00      0.00      0.00         1\n",
            "\n",
            "    accuracy                           0.83      9600\n",
            "   macro avg       0.46      0.43      0.45      9600\n",
            "weighted avg       0.83      0.83      0.83      9600\n",
            "\n"
          ]
        },
        {
          "output_type": "stream",
          "name": "stderr",
          "text": [
            "/usr/local/lib/python3.10/dist-packages/sklearn/metrics/_classification.py:1531: UndefinedMetricWarning: Precision is ill-defined and being set to 0.0 in labels with no predicted samples. Use `zero_division` parameter to control this behavior.\n",
            "  _warn_prf(average, modifier, f\"{metric.capitalize()} is\", len(result))\n",
            "/usr/local/lib/python3.10/dist-packages/sklearn/metrics/_classification.py:1531: UndefinedMetricWarning: Precision is ill-defined and being set to 0.0 in labels with no predicted samples. Use `zero_division` parameter to control this behavior.\n",
            "  _warn_prf(average, modifier, f\"{metric.capitalize()} is\", len(result))\n",
            "/usr/local/lib/python3.10/dist-packages/sklearn/metrics/_classification.py:1531: UndefinedMetricWarning: Precision is ill-defined and being set to 0.0 in labels with no predicted samples. Use `zero_division` parameter to control this behavior.\n",
            "  _warn_prf(average, modifier, f\"{metric.capitalize()} is\", len(result))\n"
          ]
        }
      ]
    },
    {
      "cell_type": "markdown",
      "source": [
        "## Visualizations"
      ],
      "metadata": {
        "id": "wqdsnGy0d8ue"
      }
    },
    {
      "cell_type": "code",
      "source": [
        "print(\"Number of classes in test_labels:\", len(np.unique(true_labels)))\n",
        "print(\"Number of classes in label_encoder:\", len(label_encoder.classes_))"
      ],
      "metadata": {
        "colab": {
          "base_uri": "https://localhost:8080/"
        },
        "id": "_jzExqsKd-Sy",
        "outputId": "178a09fe-70a2-4a6e-f67b-37b8c31b0eae"
      },
      "execution_count": null,
      "outputs": [
        {
          "output_type": "stream",
          "name": "stdout",
          "text": [
            "Number of classes in test_labels: 13\n",
            "Number of classes in label_encoder: 15\n"
          ]
        }
      ]
    },
    {
      "cell_type": "code",
      "source": [
        "# Get the unique labels from both true and predicted labels\n",
        "unique_labels = np.unique(np.concatenate((true_labels, predicted_classes)))"
      ],
      "metadata": {
        "id": "7qesCHYLeE_V"
      },
      "execution_count": null,
      "outputs": []
    },
    {
      "cell_type": "code",
      "source": [
        "cm = confusion_matrix(true_labels, predicted_classes, labels=unique_labels)  # Specify labels\n",
        "disp = ConfusionMatrixDisplay(confusion_matrix=cm, display_labels=unique_labels)  # Updated labels\n",
        "disp.plot(cmap='Blues')\n",
        "plt.title(\"Confusion Matrix\")\n",
        "plt.show()"
      ],
      "metadata": {
        "colab": {
          "base_uri": "https://localhost:8080/",
          "height": 472
        },
        "id": "LJ0rfi8yeGHd",
        "outputId": "efa9d7eb-0075-4453-c4af-a31259c58deb"
      },
      "execution_count": null,
      "outputs": [
        {
          "output_type": "display_data",
          "data": {
            "text/plain": [
              "<Figure size 640x480 with 2 Axes>"
            ],
            "image/png": "[encoded data removed]"
          },
          "metadata": {}
        }
      ]
    },
    {
      "cell_type": "code",
      "source": [
        "labels = label_encoder.classes_\n",
        "x = np.arange(len(labels))  # Class indices\n",
        "\n",
        "# precision = [test_results.metrics['test_micro_precision'], test_results.metrics['test_macro_precision'], test_results.metrics['test_weighted_precision']]\n",
        "# recall = [test_results.metrics['test_micro_recall'], test_results.metrics['test_macro_recall'], test_results.metrics['test_weighted_recall']]\n",
        "# f1 = [test_results.metrics['test_micro_f1'], test_results.metrics['test_macro_f1'], test_results.metrics['test_weighted_f1']]\n",
        "\n",
        "precision = test_results.metrics['test_weighted_precision']\n",
        "recall = test_results.metrics['test_weighted_recall']\n",
        "f1 = test_results.metrics['test_weighted_f1']\n"
      ],
      "metadata": {
        "id": "5oo9EMjkeLes"
      },
      "execution_count": null,
      "outputs": []
    },
    {
      "cell_type": "code",
      "source": [],
      "metadata": {
        "id": "KBohJgr4rtna"
      },
      "execution_count": null,
      "outputs": []
    },
    {
      "cell_type": "code",
      "source": [
        "class_report = classification_report(true_labels, predicted_classes, target_names=unique_labels, output_dict=True)\n",
        "class_report_df = pd.DataFrame(class_report).transpose()\n",
        "print(class_report_df)"
      ],
      "metadata": {
        "colab": {
          "base_uri": "https://localhost:8080/"
        },
        "id": "g74BsRzIeNAo",
        "outputId": "bb0ea1b3-6e98-4cb6-a8b9-bdcabbe83dc7"
      },
      "execution_count": null,
      "outputs": [
        {
          "output_type": "stream",
          "name": "stdout",
          "text": [
            "              precision    recall  f1-score      support\n",
            "0              0.648352  0.632708  0.640434   373.000000\n",
            "1              0.889347  0.878209  0.883743  3194.000000\n",
            "2              0.861351  0.866345  0.863841  3105.000000\n",
            "3              0.677249  0.587156  0.628993   218.000000\n",
            "4              0.797468  0.567568  0.663158   111.000000\n",
            "6              0.000000  0.000000  0.000000    10.000000\n",
            "7              0.772793  0.817138  0.794347  1307.000000\n",
            "8              0.558824  0.469136  0.510067   162.000000\n",
            "9              0.000000  0.000000  0.000000     7.000000\n",
            "10             0.785166  0.831978  0.807895  1107.000000\n",
            "11             0.000000  0.000000  0.000000     2.000000\n",
            "13             0.000000  0.000000  0.000000     3.000000\n",
            "14             0.000000  0.000000  0.000000     1.000000\n",
            "accuracy       0.831979  0.831979  0.831979     0.831979\n",
            "macro avg      0.460812  0.434634  0.445575  9600.000000\n",
            "weighted avg   0.829460  0.831979  0.830177  9600.000000\n"
          ]
        },
        {
          "output_type": "stream",
          "name": "stderr",
          "text": [
            "/usr/local/lib/python3.10/dist-packages/sklearn/metrics/_classification.py:1531: UndefinedMetricWarning: Precision is ill-defined and being set to 0.0 in labels with no predicted samples. Use `zero_division` parameter to control this behavior.\n",
            "  _warn_prf(average, modifier, f\"{metric.capitalize()} is\", len(result))\n",
            "/usr/local/lib/python3.10/dist-packages/sklearn/metrics/_classification.py:1531: UndefinedMetricWarning: Precision is ill-defined and being set to 0.0 in labels with no predicted samples. Use `zero_division` parameter to control this behavior.\n",
            "  _warn_prf(average, modifier, f\"{metric.capitalize()} is\", len(result))\n",
            "/usr/local/lib/python3.10/dist-packages/sklearn/metrics/_classification.py:1531: UndefinedMetricWarning: Precision is ill-defined and being set to 0.0 in labels with no predicted samples. Use `zero_division` parameter to control this behavior.\n",
            "  _warn_prf(average, modifier, f\"{metric.capitalize()} is\", len(result))\n"
          ]
        }
      ]
    },
    {
      "cell_type": "code",
      "source": [
        "class_metrics = class_report_df.iloc[:-3, :]  # Excluding 'accuracy', 'macro avg', 'weighted avg'\n",
        "precision = class_metrics['precision']\n",
        "recall = class_metrics['recall']\n",
        "f1 = class_metrics['f1-score']\n",
        "classes = class_metrics.index"
      ],
      "metadata": {
        "id": "5lHe8aC6eRob"
      },
      "execution_count": null,
      "outputs": []
    },
    {
      "cell_type": "code",
      "source": [
        "x = np.arange(len(classes))  # Class indices\n",
        "width = 0.25\n",
        "\n",
        "plt.bar(x - width, precision, width, label='Precision')\n",
        "plt.bar(x, recall, width, label='Recall')\n",
        "plt.bar(x + width, f1, width, label='F1 Score')\n",
        "\n",
        "plt.xlabel(\"Classes\")\n",
        "plt.ylabel(\"Scores\")\n",
        "plt.title(\"Per-Class Precision, Recall, and F1 Scores\")\n",
        "plt.xticks(x, classes, rotation=90)\n",
        "plt.legend()\n",
        "plt.tight_layout()\n",
        "plt.show()"
      ],
      "metadata": {
        "colab": {
          "base_uri": "https://localhost:8080/",
          "height": 487
        },
        "id": "Ju9DnaJ4eUVf",
        "outputId": "1aa73313-8701-4945-f871-34877c08c214"
      },
      "execution_count": null,
      "outputs": [
        {
          "output_type": "display_data",
          "data": {
            "text/plain": [
              "<Figure size 640x480 with 1 Axes>"
            ],
            "image/png": "[encoded data removed]"
          },
          "metadata": {}
        }
      ]
    },
    {
      "cell_type": "code",
      "source": [
        "trainer.state.log_history"
      ],
      "metadata": {
        "colab": {
          "base_uri": "https://localhost:8080/"
        },
        "id": "byZCiqPdr6Hp",
        "outputId": "db3ba451-137b-4dbc-ccaa-01159d0092a0"
      },
      "execution_count": null,
      "outputs": [
        {
          "output_type": "execute_result",
          "data": {
            "text/plain": [
              "[{'loss': 1.6312,\n",
              "  'grad_norm': 56.5152702331543,\n",
              "  'learning_rate': 2.294407894736842e-05,\n",
              "  'epoch': 0.32881216605014385,\n",
              "  'step': 100},\n",
              " {'loss': 1.1348,\n",
              "  'grad_norm': 25.111013412475586,\n",
              "  'learning_rate': 2.0888157894736843e-05,\n",
              "  'epoch': 0.6576243321002877,\n",
              "  'step': 200},\n",
              " {'loss': 0.9394,\n",
              "  'grad_norm': 26.142438888549805,\n",
              "  'learning_rate': 1.8832236842105263e-05,\n",
              "  'epoch': 0.9864364981504316,\n",
              "  'step': 300},\n",
              " {'eval_loss': 0.8454831838607788,\n",
              "  'eval_micro_precision': 0.7702546296296297,\n",
              "  'eval_macro_precision': 0.32358972094404553,\n",
              "  'eval_weighted_precision': 0.749165217714151,\n",
              "  'eval_micro_recall': 0.7702546296296297,\n",
              "  'eval_macro_recall': 0.30696712181474184,\n",
              "  'eval_weighted_recall': 0.7702546296296297,\n",
              "  'eval_micro_f1': 0.7702546296296297,\n",
              "  'eval_macro_f1': 0.3082563827875494,\n",
              "  'eval_weighted_f1': 0.7557680928301825,\n",
              "  'eval_runtime': 32.1611,\n",
              "  'eval_samples_per_second': 269.052,\n",
              "  'eval_steps_per_second': 8.426,\n",
              "  'epoch': 0.9995889847924373,\n",
              "  'step': 304},\n",
              " {'loss': 0.778,\n",
              "  'grad_norm': 31.7321834564209,\n",
              "  'learning_rate': 1.6776315789473686e-05,\n",
              "  'epoch': 1.3152486642005754,\n",
              "  'step': 400},\n",
              " {'loss': 0.7233,\n",
              "  'grad_norm': 36.89674377441406,\n",
              "  'learning_rate': 1.4720394736842105e-05,\n",
              "  'epoch': 1.6440608302507194,\n",
              "  'step': 500},\n",
              " {'loss': 0.6881,\n",
              "  'grad_norm': 27.113405227661133,\n",
              "  'learning_rate': 1.2664473684210526e-05,\n",
              "  'epoch': 1.972872996300863,\n",
              "  'step': 600},\n",
              " {'eval_loss': 0.7209905982017517,\n",
              "  'eval_micro_precision': 0.812962962962963,\n",
              "  'eval_macro_precision': 0.4514466423411687,\n",
              "  'eval_weighted_precision': 0.8066408422610873,\n",
              "  'eval_micro_recall': 0.812962962962963,\n",
              "  'eval_macro_recall': 0.3870169668496628,\n",
              "  'eval_weighted_recall': 0.812962962962963,\n",
              "  'eval_micro_f1': 0.812962962962963,\n",
              "  'eval_macro_f1': 0.4038194648290547,\n",
              "  'eval_weighted_f1': 0.8050040647878027,\n",
              "  'eval_runtime': 32.2396,\n",
              "  'eval_samples_per_second': 268.397,\n",
              "  'eval_steps_per_second': 8.406,\n",
              "  'epoch': 1.9991779695848746,\n",
              "  'step': 608},\n",
              " {'loss': 0.5914,\n",
              "  'grad_norm': 36.23032760620117,\n",
              "  'learning_rate': 1.0608552631578949e-05,\n",
              "  'epoch': 2.301685162351007,\n",
              "  'step': 700},\n",
              " {'loss': 0.5616,\n",
              "  'grad_norm': 26.161983489990234,\n",
              "  'learning_rate': 8.552631578947368e-06,\n",
              "  'epoch': 2.630497328401151,\n",
              "  'step': 800},\n",
              " {'loss': 0.5535,\n",
              "  'grad_norm': 34.090694427490234,\n",
              "  'learning_rate': 6.49671052631579e-06,\n",
              "  'epoch': 2.9593094944512948,\n",
              "  'step': 900},\n",
              " {'eval_loss': 0.6754504442214966,\n",
              "  'eval_micro_precision': 0.8247685185185185,\n",
              "  'eval_macro_precision': 0.449469641553569,\n",
              "  'eval_weighted_precision': 0.8229685941178848,\n",
              "  'eval_micro_recall': 0.8247685185185185,\n",
              "  'eval_macro_recall': 0.4286150204922574,\n",
              "  'eval_weighted_recall': 0.8247685185185185,\n",
              "  'eval_micro_f1': 0.8247685185185185,\n",
              "  'eval_macro_f1': 0.43691774562937663,\n",
              "  'eval_weighted_f1': 0.8232850111902783,\n",
              "  'eval_runtime': 32.1249,\n",
              "  'eval_samples_per_second': 269.355,\n",
              "  'eval_steps_per_second': 8.436,\n",
              "  'epoch': 2.998766954377312,\n",
              "  'step': 912},\n",
              " {'loss': 0.4849,\n",
              "  'grad_norm': 40.638362884521484,\n",
              "  'learning_rate': 4.4407894736842105e-06,\n",
              "  'epoch': 3.2881216605014387,\n",
              "  'step': 1000},\n",
              " {'loss': 0.4741,\n",
              "  'grad_norm': 30.844663619995117,\n",
              "  'learning_rate': 2.384868421052632e-06,\n",
              "  'epoch': 3.6169338265515822,\n",
              "  'step': 1100},\n",
              " {'loss': 0.4441,\n",
              "  'grad_norm': 26.968608856201172,\n",
              "  'learning_rate': 3.2894736842105264e-07,\n",
              "  'epoch': 3.945745992601726,\n",
              "  'step': 1200},\n",
              " {'eval_loss': 0.6838096380233765,\n",
              "  'eval_micro_precision': 0.8275462962962963,\n",
              "  'eval_macro_precision': 0.46837386836976236,\n",
              "  'eval_weighted_precision': 0.8255976597277161,\n",
              "  'eval_micro_recall': 0.8275462962962963,\n",
              "  'eval_macro_recall': 0.4372025469059783,\n",
              "  'eval_weighted_recall': 0.8275462962962963,\n",
              "  'eval_micro_f1': 0.8275462962962963,\n",
              "  'eval_macro_f1': 0.4501691015818631,\n",
              "  'eval_weighted_f1': 0.8257364797139064,\n",
              "  'eval_runtime': 34.5877,\n",
              "  'eval_samples_per_second': 250.175,\n",
              "  'eval_steps_per_second': 7.835,\n",
              "  'epoch': 3.998355939169749,\n",
              "  'step': 1216},\n",
              " {'train_runtime': 3102.9134,\n",
              "  'train_samples_per_second': 100.392,\n",
              "  'train_steps_per_second': 0.392,\n",
              "  'total_flos': 2.2147108316381184e+16,\n",
              "  'train_loss': 0.7467214963153789,\n",
              "  'epoch': 3.998355939169749,\n",
              "  'step': 1216}]"
            ]
          },
          "metadata": {},
          "execution_count": 59
        }
      ]
    },
    {
      "cell_type": "code",
      "source": [
        "training_history = trainer.state.log_history\n",
        "\n",
        "# Plot training loss\n",
        "# Get epoch numbers for every training loss entry\n",
        "epochs_train = [log[\"epoch\"] for log in training_history if \"loss\" in log]\n",
        "loss = [log[\"loss\"] for log in training_history if \"loss\" in log]\n",
        "\n",
        "# Get epoch numbers ONLY for iterations with eval_loss\n",
        "epochs_eval = [log[\"epoch\"] for log in training_history if \"eval_loss\" in log]\n",
        "eval_loss = [log[\"eval_loss\"] for log in training_history if \"eval_loss\" in log]\n",
        "\n",
        "plt.plot(epochs_train, loss, label=\"Training Loss\")\n",
        "plt.plot(epochs_eval, eval_loss, label=\"Validation Loss\") # Using epochs_eval for validation loss\n",
        "plt.xlabel(\"Epochs\")\n",
        "plt.ylabel(\"Loss\")\n",
        "plt.title(\"Training and Validation Loss\")\n",
        "plt.legend()\n",
        "plt.show()"
      ],
      "metadata": {
        "colab": {
          "base_uri": "https://localhost:8080/",
          "height": 472
        },
        "id": "eHZN2XW8eV7O",
        "outputId": "37a57609-3d86-45b0-c72b-17b6561bfce1"
      },
      "execution_count": null,
      "outputs": [
        {
          "output_type": "display_data",
          "data": {
            "text/plain": [
              "<Figure size 640x480 with 1 Axes>"
            ],
            "image/png": "[encoded data removed]"
          },
          "metadata": {}
        }
      ]
    },
    {
      "cell_type": "code",
      "source": [
        "training_Args = TrainingArguments(\n",
        "    \"/content/drive/MyDrive/Fall 2024/PUBH 8885 - Computational Biology/Project/models/nuc_arg_short_readv2.1\",\n",
        "    remove_unused_columns=False,\n",
        "    report_to=\"none\",\n",
        "    evaluation_strategy=\"epoch\",\n",
        "    save_strategy=\"epoch\",\n",
        "    learning_rate=2.5e-5,\n",
        "    per_device_train_batch_size=32,\n",
        "    gradient_accumulation_steps= 8,\n",
        "    per_device_eval_batch_size= 32,\n",
        "    num_train_epochs= 1,\n",
        "    logging_steps= 100,\n",
        "    load_best_model_at_end=True,  # Keep the best model according to the evaluation\n",
        "    metric_for_best_model=\"eval_weighted_f1\",\n",
        "    label_names=[\"labels\"],\n",
        "    dataloader_drop_last=True,\n",
        "    fp16=True\n",
        ")"
      ],
      "metadata": {
        "colab": {
          "base_uri": "https://localhost:8080/"
        },
        "id": "2eauk05fvbnY",
        "outputId": "234a16f2-300a-4858-fc72-7ceb8733c72c"
      },
      "execution_count": null,
      "outputs": [
        {
          "output_type": "stream",
          "name": "stderr",
          "text": [
            "/usr/local/lib/python3.10/dist-packages/transformers/training_args.py:1568: FutureWarning: `evaluation_strategy` is deprecated and will be removed in version 4.46 of 🤗 Transformers. Use `eval_strategy` instead\n",
            "  warnings.warn(\n"
          ]
        }
      ]
    },
    {
      "cell_type": "code",
      "source": [
        "trainer = Trainer(\n",
        "    model.to(device),\n",
        "    training_Args,\n",
        "    data_collator=data_collator,\n",
        "    train_dataset = tokenized_datasets_train,\n",
        "    eval_dataset = tokenized_datasets_validation,\n",
        "    tokenizer=tokenizer,\n",
        "    compute_metrics=compute_metrics,\n",
        ")"
      ],
      "metadata": {
        "colab": {
          "base_uri": "https://localhost:8080/"
        },
        "id": "I9IrZ6vlvpEk",
        "outputId": "8a233fc5-4763-4bcd-97d8-e9e4e357a0e6"
      },
      "execution_count": null,
      "outputs": [
        {
          "output_type": "stream",
          "name": "stderr",
          "text": [
            "<ipython-input-62-91bdbc5f0638>:1: FutureWarning: `tokenizer` is deprecated and will be removed in version 5.0.0 for `Trainer.__init__`. Use `processing_class` instead.\n",
            "  trainer = Trainer(\n"
          ]
        }
      ]
    },
    {
      "cell_type": "code",
      "source": [
        "train_results"
      ],
      "metadata": {
        "colab": {
          "base_uri": "https://localhost:8080/"
        },
        "id": "m-P8DPO_vwve",
        "outputId": "e1670a12-2aa3-45b7-be51-7b355bee4d4b"
      },
      "execution_count": null,
      "outputs": [
        {
          "output_type": "execute_result",
          "data": {
            "text/plain": [
              "TrainOutput(global_step=1216, training_loss=0.7467214963153789, metrics={'train_runtime': 3102.9134, 'train_samples_per_second': 100.392, 'train_steps_per_second': 0.392, 'total_flos': 2.2147108316381184e+16, 'train_loss': 0.7467214963153789, 'epoch': 3.998355939169749})"
            ]
          },
          "metadata": {},
          "execution_count": 63
        }
      ]
    },
    {
      "cell_type": "code",
      "source": [
        "train_results = trainer.train()"
      ],
      "metadata": {
        "colab": {
          "base_uri": "https://localhost:8080/",
          "height": 216
        },
        "id": "EEFQZfEJvsq1",
        "outputId": "1f8a3581-bc16-4adc-8023-357ab47c8947"
      },
      "execution_count": null,
      "outputs": [
        {
          "output_type": "display_data",
          "data": {
            "text/plain": [
              "<IPython.core.display.HTML object>"
            ],
            "text/html": [
              "\n",
              "    <div>\n",
              "      \n",
              "      <progress value='304' max='304' style='width:300px; height:20px; vertical-align: middle;'></progress>\n",
              "      [304/304 13:07, Epoch 0/1]\n",
              "    </div>\n",
              "    <table border=\"1\" class=\"dataframe\">\n",
              "  <thead>\n",
              " <tr style=\"text-align: left;\">\n",
              "      <th>Epoch</th>\n",
              "      <th>Training Loss</th>\n",
              "      <th>Validation Loss</th>\n",
              "      <th>Micro Precision</th>\n",
              "      <th>Macro Precision</th>\n",
              "      <th>Weighted Precision</th>\n",
              "      <th>Micro Recall</th>\n",
              "      <th>Macro Recall</th>\n",
              "      <th>Weighted Recall</th>\n",
              "      <th>Micro F1</th>\n",
              "      <th>Macro F1</th>\n",
              "      <th>Weighted F1</th>\n",
              "    </tr>\n",
              "  </thead>\n",
              "  <tbody>\n",
              "    <tr>\n",
              "      <td>0</td>\n",
              "      <td>0.452600</td>\n",
              "      <td>0.691085</td>\n",
              "      <td>0.820718</td>\n",
              "      <td>0.451229</td>\n",
              "      <td>0.819885</td>\n",
              "      <td>0.820718</td>\n",
              "      <td>0.432314</td>\n",
              "      <td>0.820718</td>\n",
              "      <td>0.820718</td>\n",
              "      <td>0.439759</td>\n",
              "      <td>0.819736</td>\n",
              "    </tr>\n",
              "  </tbody>\n",
              "</table><p>"
            ]
          },
          "metadata": {}
        },
        {
          "output_type": "stream",
          "name": "stderr",
          "text": [
            "/usr/local/lib/python3.10/dist-packages/sklearn/metrics/_classification.py:1531: UndefinedMetricWarning: Precision is ill-defined and being set to 0.0 in labels with no predicted samples. Use `zero_division` parameter to control this behavior.\n",
            "  _warn_prf(average, modifier, f\"{metric.capitalize()} is\", len(result))\n",
            "/usr/local/lib/python3.10/dist-packages/sklearn/metrics/_classification.py:1531: UndefinedMetricWarning: Precision is ill-defined and being set to 0.0 in labels with no predicted samples. Use `zero_division` parameter to control this behavior.\n",
            "  _warn_prf(average, modifier, f\"{metric.capitalize()} is\", len(result))\n"
          ]
        }
      ]
    },
    {
      "cell_type": "code",
      "source": [
        "trainer_save = [{'loss': 1.6312,\n",
        "  'grad_norm': 56.5152702331543,\n",
        "  'learning_rate': 2.294407894736842e-05,\n",
        "  'epoch': 0.32881216605014385,\n",
        "  'step': 100},\n",
        " {'loss': 1.1348,\n",
        "  'grad_norm': 25.111013412475586,\n",
        "  'learning_rate': 2.0888157894736843e-05,\n",
        "  'epoch': 0.6576243321002877,\n",
        "  'step': 200},\n",
        " {'loss': 0.9394,\n",
        "  'grad_norm': 26.142438888549805,\n",
        "  'learning_rate': 1.8832236842105263e-05,\n",
        "  'epoch': 0.9864364981504316,\n",
        "  'step': 300},\n",
        " {'eval_loss': 0.8454831838607788,\n",
        "  'eval_micro_precision': 0.7702546296296297,\n",
        "  'eval_macro_precision': 0.32358972094404553,\n",
        "  'eval_weighted_precision': 0.749165217714151,\n",
        "  'eval_micro_recall': 0.7702546296296297,\n",
        "  'eval_macro_recall': 0.30696712181474184,\n",
        "  'eval_weighted_recall': 0.7702546296296297,\n",
        "  'eval_micro_f1': 0.7702546296296297,\n",
        "  'eval_macro_f1': 0.3082563827875494,\n",
        "  'eval_weighted_f1': 0.7557680928301825,\n",
        "  'eval_runtime': 32.1611,\n",
        "  'eval_samples_per_second': 269.052,\n",
        "  'eval_steps_per_second': 8.426,\n",
        "  'epoch': 0.9995889847924373,\n",
        "  'step': 304},\n",
        " {'loss': 0.778,\n",
        "  'grad_norm': 31.7321834564209,\n",
        "  'learning_rate': 1.6776315789473686e-05,\n",
        "  'epoch': 1.3152486642005754,\n",
        "  'step': 400},\n",
        " {'loss': 0.7233,\n",
        "  'grad_norm': 36.89674377441406,\n",
        "  'learning_rate': 1.4720394736842105e-05,\n",
        "  'epoch': 1.6440608302507194,\n",
        "  'step': 500},\n",
        " {'loss': 0.6881,\n",
        "  'grad_norm': 27.113405227661133,\n",
        "  'learning_rate': 1.2664473684210526e-05,\n",
        "  'epoch': 1.972872996300863,\n",
        "  'step': 600},\n",
        " {'eval_loss': 0.7209905982017517,\n",
        "  'eval_micro_precision': 0.812962962962963,\n",
        "  'eval_macro_precision': 0.4514466423411687,\n",
        "  'eval_weighted_precision': 0.8066408422610873,\n",
        "  'eval_micro_recall': 0.812962962962963,\n",
        "  'eval_macro_recall': 0.3870169668496628,\n",
        "  'eval_weighted_recall': 0.812962962962963,\n",
        "  'eval_micro_f1': 0.812962962962963,\n",
        "  'eval_macro_f1': 0.4038194648290547,\n",
        "  'eval_weighted_f1': 0.8050040647878027,\n",
        "  'eval_runtime': 32.2396,\n",
        "  'eval_samples_per_second': 268.397,\n",
        "  'eval_steps_per_second': 8.406,\n",
        "  'epoch': 1.9991779695848746,\n",
        "  'step': 608},\n",
        " {'loss': 0.5914,\n",
        "  'grad_norm': 36.23032760620117,\n",
        "  'learning_rate': 1.0608552631578949e-05,\n",
        "  'epoch': 2.301685162351007,\n",
        "  'step': 700},\n",
        " {'loss': 0.5616,\n",
        "  'grad_norm': 26.161983489990234,\n",
        "  'learning_rate': 8.552631578947368e-06,\n",
        "  'epoch': 2.630497328401151,\n",
        "  'step': 800},\n",
        " {'loss': 0.5535,\n",
        "  'grad_norm': 34.090694427490234,\n",
        "  'learning_rate': 6.49671052631579e-06,\n",
        "  'epoch': 2.9593094944512948,\n",
        "  'step': 900},\n",
        " {'eval_loss': 0.6754504442214966,\n",
        "  'eval_micro_precision': 0.8247685185185185,\n",
        "  'eval_macro_precision': 0.449469641553569,\n",
        "  'eval_weighted_precision': 0.8229685941178848,\n",
        "  'eval_micro_recall': 0.8247685185185185,\n",
        "  'eval_macro_recall': 0.4286150204922574,\n",
        "  'eval_weighted_recall': 0.8247685185185185,\n",
        "  'eval_micro_f1': 0.8247685185185185,\n",
        "  'eval_macro_f1': 0.43691774562937663,\n",
        "  'eval_weighted_f1': 0.8232850111902783,\n",
        "  'eval_runtime': 32.1249,\n",
        "  'eval_samples_per_second': 269.355,\n",
        "  'eval_steps_per_second': 8.436,\n",
        "  'epoch': 2.998766954377312,\n",
        "  'step': 912},\n",
        " {'loss': 0.4849,\n",
        "  'grad_norm': 40.638362884521484,\n",
        "  'learning_rate': 4.4407894736842105e-06,\n",
        "  'epoch': 3.2881216605014387,\n",
        "  'step': 1000},\n",
        " {'loss': 0.4741,\n",
        "  'grad_norm': 30.844663619995117,\n",
        "  'learning_rate': 2.384868421052632e-06,\n",
        "  'epoch': 3.6169338265515822,\n",
        "  'step': 1100},\n",
        " {'loss': 0.4441,\n",
        "  'grad_norm': 26.968608856201172,\n",
        "  'learning_rate': 3.2894736842105264e-07,\n",
        "  'epoch': 3.945745992601726,\n",
        "  'step': 1200},\n",
        " {'eval_loss': 0.6838096380233765,\n",
        "  'eval_micro_precision': 0.8275462962962963,\n",
        "  'eval_macro_precision': 0.46837386836976236,\n",
        "  'eval_weighted_precision': 0.8255976597277161,\n",
        "  'eval_micro_recall': 0.8275462962962963,\n",
        "  'eval_macro_recall': 0.4372025469059783,\n",
        "  'eval_weighted_recall': 0.8275462962962963,\n",
        "  'eval_micro_f1': 0.8275462962962963,\n",
        "  'eval_macro_f1': 0.4501691015818631,\n",
        "  'eval_weighted_f1': 0.8257364797139064,\n",
        "  'eval_runtime': 34.5877,\n",
        "  'eval_samples_per_second': 250.175,\n",
        "  'eval_steps_per_second': 7.835,\n",
        "  'epoch': 3.998355939169749,\n",
        "  'step': 1216},\n",
        " {'train_runtime': 3102.9134,\n",
        "  'train_samples_per_second': 100.392,\n",
        "  'train_steps_per_second': 0.392,\n",
        "  'total_flos': 2.2147108316381184e+16,\n",
        "  'train_loss': 0.7467214963153789,\n",
        "  'epoch': 3.998355939169749,\n",
        "  'step': 1216},\n",
        "{'loss': 0.508,\n",
        "  'grad_norm': 51.576847076416016,\n",
        "  'learning_rate': 1.6776315789473686e-05,\n",
        "  'epoch': 0.32881216605014385,\n",
        "  'step': 1300},\n",
        " {'loss': 0.4639,\n",
        "  'grad_norm': 41.97359848022461,\n",
        "  'learning_rate': 8.634868421052631e-06,\n",
        "  'epoch': 0.6576243321002877,\n",
        "  'step': 1500},\n",
        " {'loss': 0.4526,\n",
        "  'grad_norm': 40.50881576538086,\n",
        "  'learning_rate': 4.111842105263158e-07,\n",
        "  'epoch': 0.9864364981504316,\n",
        "  'step': 1600},\n",
        " {'eval_loss': 0.6910848021507263,\n",
        "  'eval_micro_precision': 0.8207175925925926,\n",
        "  'eval_macro_precision': 0.4512294440626366,\n",
        "  'eval_weighted_precision': 0.8198848821559097,\n",
        "  'eval_micro_recall': 0.8207175925925926,\n",
        "  'eval_macro_recall': 0.43231358525616836,\n",
        "  'eval_weighted_recall': 0.8207175925925926,\n",
        "  'eval_micro_f1': 0.8207175925925926,\n",
        "  'eval_macro_f1': 0.439759165794376,\n",
        "  'eval_weighted_f1': 0.8197355365134286,\n",
        "  'eval_runtime': 34.4821,\n",
        "  'eval_samples_per_second': 250.942,\n",
        "  'eval_steps_per_second': 7.859,\n",
        "  'epoch': 0.9995889847924373,\n",
        "  'step': 1620},\n",
        " {'train_runtime': 789.8819,\n",
        "  'train_samples_per_second': 98.593,\n",
        "  'train_steps_per_second': 0.385,\n",
        "  'total_flos': 5536777079095296.0,\n",
        "  'train_loss': 0.4744202627947456,\n",
        "  'epoch': 0.9995889847924373,\n",
        "  'step': 1620}]"
      ],
      "metadata": {
        "id": "LdkhaeBBvy97"
      },
      "execution_count": null,
      "outputs": []
    },
    {
      "cell_type": "code",
      "source": [
        "curve_evaluation_f1_score = [\n",
        "    [a['step'], a['eval_weighted_f1']]\n",
        "    for a in trainer_save\n",
        "    if 'eval_weighted_f1' in a.keys()\n",
        "]"
      ],
      "metadata": {
        "id": "MSPbPACMy2s3"
      },
      "execution_count": null,
      "outputs": []
    },
    {
      "cell_type": "code",
      "source": [
        "eval_f1_score = [c[1] for c in curve_evaluation_f1_score]\n",
        "steps = [c[0] for c in curve_evaluation_f1_score]"
      ],
      "metadata": {
        "id": "csXIOhgu4BVU"
      },
      "execution_count": null,
      "outputs": []
    },
    {
      "cell_type": "code",
      "source": [
        "plt.plot(steps, eval_f1_score, 'b', label='Validation F1 score')\n",
        "plt.title('Validation F1 score')\n",
        "plt.xlabel('Number of training steps performed')\n",
        "plt.ylabel('Validation F1 score')\n",
        "plt.legend()\n",
        "plt.show()"
      ],
      "metadata": {
        "colab": {
          "base_uri": "https://localhost:8080/",
          "height": 472
        },
        "id": "1_65vWQS4G8G",
        "outputId": "4c0ae703-8406-4e8c-dfae-18f6b159f4aa"
      },
      "execution_count": null,
      "outputs": [
        {
          "output_type": "display_data",
          "data": {
            "text/plain": [
              "<Figure size 640x480 with 1 Axes>"
            ],
            "image/png": "[encoded data removed]"
          },
          "metadata": {}
        }
      ]
    },
    {
      "cell_type": "code",
      "source": [],
      "metadata": {
        "id": "tE83aAtx4Knn"
      },
      "execution_count": null,
      "outputs": []
    }
  ],
  "metadata": {
    "accelerator": "GPU",
    "colab": {
      "gpuType": "T4",
      "provenance": [],
      "collapsed_sections": [
        "I-IMIgceeX1o"
      ]
    },
    "kernelspec": {
      "display_name": "Python 3",
      "name": "python3"
    },
    "language_info": {
      "name": "python"
    },
    "vscode": {
      "interpreter": {
        "hash": "6eab598887f284ce8265cd5f844407900c788803aab0679eccbb305c49002300"
      }
    },
    "widgets": {
      "application/vnd.jupyter.widget-state+json": {
        "04423d99d132496f897e3a983dae6ca3": {
          "model_module": "@jupyter-widgets/controls",
          "model_name": "HBoxModel",
          "model_module_version": "1.5.0",
          "state": {
            "_dom_classes": [],
            "_model_module": "@jupyter-widgets/controls",
            "_model_module_version": "1.5.0",
            "_model_name": "HBoxModel",
            "_view_count": null,
            "_view_module": "@jupyter-widgets/controls",
            "_view_module_version": "1.5.0",
            "_view_name": "HBoxView",
            "box_style": "",
            "children": [
              "IPY_MODEL_74951339894c4e81ad47d401455b9012",
              "IPY_MODEL_fc36916d45344a2ca1181d8095dbac62",
              "IPY_MODEL_8755796eac3d412092092032956139c3"
            ],
            "layout": "IPY_MODEL_53ef4109f6074815804fe074c51ff0ea"
          }
        },
        "74951339894c4e81ad47d401455b9012": {
          "model_module": "@jupyter-widgets/controls",
          "model_name": "HTMLModel",
          "model_module_version": "1.5.0",
          "state": {
            "_dom_classes": [],
            "_model_module": "@jupyter-widgets/controls",
            "_model_module_version": "1.5.0",
            "_model_name": "HTMLModel",
            "_view_count": null,
            "_view_module": "@jupyter-widgets/controls",
            "_view_module_version": "1.5.0",
            "_view_name": "HTMLView",
            "description": "",
            "description_tooltip": null,
            "layout": "IPY_MODEL_dc899aeecf8f46c5b7e1b4d3d26696e8",
            "placeholder": "​",
            "style": "IPY_MODEL_ba60e97dc99848f68a06435c5992bf48",
            "value": "tokenizer_config.json: 100%"
          }
        },
        "fc36916d45344a2ca1181d8095dbac62": {
          "model_module": "@jupyter-widgets/controls",
          "model_name": "FloatProgressModel",
          "model_module_version": "1.5.0",
          "state": {
            "_dom_classes": [],
            "_model_module": "@jupyter-widgets/controls",
            "_model_module_version": "1.5.0",
            "_model_name": "FloatProgressModel",
            "_view_count": null,
            "_view_module": "@jupyter-widgets/controls",
            "_view_module_version": "1.5.0",
            "_view_name": "ProgressView",
            "bar_style": "success",
            "description": "",
            "description_tooltip": null,
            "layout": "IPY_MODEL_32bb899fe04d40d08eeafc1ac6a95e77",
            "max": 129,
            "min": 0,
            "orientation": "horizontal",
            "style": "IPY_MODEL_67e97e28ca9c4098aa1d2929d29ffe1d",
            "value": 129
          }
        },
        "8755796eac3d412092092032956139c3": {
          "model_module": "@jupyter-widgets/controls",
          "model_name": "HTMLModel",
          "model_module_version": "1.5.0",
          "state": {
            "_dom_classes": [],
            "_model_module": "@jupyter-widgets/controls",
            "_model_module_version": "1.5.0",
            "_model_name": "HTMLModel",
            "_view_count": null,
            "_view_module": "@jupyter-widgets/controls",
            "_view_module_version": "1.5.0",
            "_view_name": "HTMLView",
            "description": "",
            "description_tooltip": null,
            "layout": "IPY_MODEL_d6158533b2884413ab1389b32ec4d093",
            "placeholder": "​",
            "style": "IPY_MODEL_1b55699b2861475e8375862baa8509a6",
            "value": " 129/129 [00:00&lt;00:00, 5.03kB/s]"
          }
        },
        "53ef4109f6074815804fe074c51ff0ea": {
          "model_module": "@jupyter-widgets/base",
          "model_name": "LayoutModel",
          "model_module_version": "1.2.0",
          "state": {
            "_model_module": "@jupyter-widgets/base",
            "_model_module_version": "1.2.0",
            "_model_name": "LayoutModel",
            "_view_count": null,
            "_view_module": "@jupyter-widgets/base",
            "_view_module_version": "1.2.0",
            "_view_name": "LayoutView",
            "align_content": null,
            "align_items": null,
            "align_self": null,
            "border": null,
            "bottom": null,
            "display": null,
            "flex": null,
            "flex_flow": null,
            "grid_area": null,
            "grid_auto_columns": null,
            "grid_auto_flow": null,
            "grid_auto_rows": null,
            "grid_column": null,
            "grid_gap": null,
            "grid_row": null,
            "grid_template_areas": null,
            "grid_template_columns": null,
            "grid_template_rows": null,
            "height": null,
            "justify_content": null,
            "justify_items": null,
            "left": null,
            "margin": null,
            "max_height": null,
            "max_width": null,
            "min_height": null,
            "min_width": null,
            "object_fit": null,
            "object_position": null,
            "order": null,
            "overflow": null,
            "overflow_x": null,
            "overflow_y": null,
            "padding": null,
            "right": null,
            "top": null,
            "visibility": null,
            "width": null
          }
        },
        "dc899aeecf8f46c5b7e1b4d3d26696e8": {
          "model_module": "@jupyter-widgets/base",
          "model_name": "LayoutModel",
          "model_module_version": "1.2.0",
          "state": {
            "_model_module": "@jupyter-widgets/base",
            "_model_module_version": "1.2.0",
            "_model_name": "LayoutModel",
            "_view_count": null,
            "_view_module": "@jupyter-widgets/base",
            "_view_module_version": "1.2.0",
            "_view_name": "LayoutView",
            "align_content": null,
            "align_items": null,
            "align_self": null,
            "border": null,
            "bottom": null,
            "display": null,
            "flex": null,
            "flex_flow": null,
            "grid_area": null,
            "grid_auto_columns": null,
            "grid_auto_flow": null,
            "grid_auto_rows": null,
            "grid_column": null,
            "grid_gap": null,
            "grid_row": null,
            "grid_template_areas": null,
            "grid_template_columns": null,
            "grid_template_rows": null,
            "height": null,
            "justify_content": null,
            "justify_items": null,
            "left": null,
            "margin": null,
            "max_height": null,
            "max_width": null,
            "min_height": null,
            "min_width": null,
            "object_fit": null,
            "object_position": null,
            "order": null,
            "overflow": null,
            "overflow_x": null,
            "overflow_y": null,
            "padding": null,
            "right": null,
            "top": null,
            "visibility": null,
            "width": null
          }
        },
        "ba60e97dc99848f68a06435c5992bf48": {
          "model_module": "@jupyter-widgets/controls",
          "model_name": "DescriptionStyleModel",
          "model_module_version": "1.5.0",
          "state": {
            "_model_module": "@jupyter-widgets/controls",
            "_model_module_version": "1.5.0",
            "_model_name": "DescriptionStyleModel",
            "_view_count": null,
            "_view_module": "@jupyter-widgets/base",
            "_view_module_version": "1.2.0",
            "_view_name": "StyleView",
            "description_width": ""
          }
        },
        "32bb899fe04d40d08eeafc1ac6a95e77": {
          "model_module": "@jupyter-widgets/base",
          "model_name": "LayoutModel",
          "model_module_version": "1.2.0",
          "state": {
            "_model_module": "@jupyter-widgets/base",
            "_model_module_version": "1.2.0",
            "_model_name": "LayoutModel",
            "_view_count": null,
            "_view_module": "@jupyter-widgets/base",
            "_view_module_version": "1.2.0",
            "_view_name": "LayoutView",
            "align_content": null,
            "align_items": null,
            "align_self": null,
            "border": null,
            "bottom": null,
            "display": null,
            "flex": null,
            "flex_flow": null,
            "grid_area": null,
            "grid_auto_columns": null,
            "grid_auto_flow": null,
            "grid_auto_rows": null,
            "grid_column": null,
            "grid_gap": null,
            "grid_row": null,
            "grid_template_areas": null,
            "grid_template_columns": null,
            "grid_template_rows": null,
            "height": null,
            "justify_content": null,
            "justify_items": null,
            "left": null,
            "margin": null,
            "max_height": null,
            "max_width": null,
            "min_height": null,
            "min_width": null,
            "object_fit": null,
            "object_position": null,
            "order": null,
            "overflow": null,
            "overflow_x": null,
            "overflow_y": null,
            "padding": null,
            "right": null,
            "top": null,
            "visibility": null,
            "width": null
          }
        },
        "67e97e28ca9c4098aa1d2929d29ffe1d": {
          "model_module": "@jupyter-widgets/controls",
          "model_name": "ProgressStyleModel",
          "model_module_version": "1.5.0",
          "state": {
            "_model_module": "@jupyter-widgets/controls",
            "_model_module_version": "1.5.0",
            "_model_name": "ProgressStyleModel",
            "_view_count": null,
            "_view_module": "@jupyter-widgets/base",
            "_view_module_version": "1.2.0",
            "_view_name": "StyleView",
            "bar_color": null,
            "description_width": ""
          }
        },
        "d6158533b2884413ab1389b32ec4d093": {
          "model_module": "@jupyter-widgets/base",
          "model_name": "LayoutModel",
          "model_module_version": "1.2.0",
          "state": {
            "_model_module": "@jupyter-widgets/base",
            "_model_module_version": "1.2.0",
            "_model_name": "LayoutModel",
            "_view_count": null,
            "_view_module": "@jupyter-widgets/base",
            "_view_module_version": "1.2.0",
            "_view_name": "LayoutView",
            "align_content": null,
            "align_items": null,
            "align_self": null,
            "border": null,
            "bottom": null,
            "display": null,
            "flex": null,
            "flex_flow": null,
            "grid_area": null,
            "grid_auto_columns": null,
            "grid_auto_flow": null,
            "grid_auto_rows": null,
            "grid_column": null,
            "grid_gap": null,
            "grid_row": null,
            "grid_template_areas": null,
            "grid_template_columns": null,
            "grid_template_rows": null,
            "height": null,
            "justify_content": null,
            "justify_items": null,
            "left": null,
            "margin": null,
            "max_height": null,
            "max_width": null,
            "min_height": null,
            "min_width": null,
            "object_fit": null,
            "object_position": null,
            "order": null,
            "overflow": null,
            "overflow_x": null,
            "overflow_y": null,
            "padding": null,
            "right": null,
            "top": null,
            "visibility": null,
            "width": null
          }
        },
        "1b55699b2861475e8375862baa8509a6": {
          "model_module": "@jupyter-widgets/controls",
          "model_name": "DescriptionStyleModel",
          "model_module_version": "1.5.0",
          "state": {
            "_model_module": "@jupyter-widgets/controls",
            "_model_module_version": "1.5.0",
            "_model_name": "DescriptionStyleModel",
            "_view_count": null,
            "_view_module": "@jupyter-widgets/base",
            "_view_module_version": "1.2.0",
            "_view_name": "StyleView",
            "description_width": ""
          }
        },
        "128e4a83556f4f6cb01b6e1714609714": {
          "model_module": "@jupyter-widgets/controls",
          "model_name": "HBoxModel",
          "model_module_version": "1.5.0",
          "state": {
            "_dom_classes": [],
            "_model_module": "@jupyter-widgets/controls",
            "_model_module_version": "1.5.0",
            "_model_name": "HBoxModel",
            "_view_count": null,
            "_view_module": "@jupyter-widgets/controls",
            "_view_module_version": "1.5.0",
            "_view_name": "HBoxView",
            "box_style": "",
            "children": [
              "IPY_MODEL_cb42bc93dab2433c9cc47687977b2aef",
              "IPY_MODEL_7c0075a06b174b4daff217bf75192b6f",
              "IPY_MODEL_a9a7d82c1ede4de885483ce5807b183a"
            ],
            "layout": "IPY_MODEL_f17762fdd43749da80ff37f76ac99b15"
          }
        },
        "cb42bc93dab2433c9cc47687977b2aef": {
          "model_module": "@jupyter-widgets/controls",
          "model_name": "HTMLModel",
          "model_module_version": "1.5.0",
          "state": {
            "_dom_classes": [],
            "_model_module": "@jupyter-widgets/controls",
            "_model_module_version": "1.5.0",
            "_model_name": "HTMLModel",
            "_view_count": null,
            "_view_module": "@jupyter-widgets/controls",
            "_view_module_version": "1.5.0",
            "_view_name": "HTMLView",
            "description": "",
            "description_tooltip": null,
            "layout": "IPY_MODEL_4cdf4de1b3e443cbb8daccb02f0f97db",
            "placeholder": "​",
            "style": "IPY_MODEL_0233f30051b84173b915d0d874f50b80",
            "value": "vocab.txt: 100%"
          }
        },
        "7c0075a06b174b4daff217bf75192b6f": {
          "model_module": "@jupyter-widgets/controls",
          "model_name": "FloatProgressModel",
          "model_module_version": "1.5.0",
          "state": {
            "_dom_classes": [],
            "_model_module": "@jupyter-widgets/controls",
            "_model_module_version": "1.5.0",
            "_model_name": "FloatProgressModel",
            "_view_count": null,
            "_view_module": "@jupyter-widgets/controls",
            "_view_module_version": "1.5.0",
            "_view_name": "ProgressView",
            "bar_style": "success",
            "description": "",
            "description_tooltip": null,
            "layout": "IPY_MODEL_3da0e552523c4643a897093ceb383a22",
            "max": 28718,
            "min": 0,
            "orientation": "horizontal",
            "style": "IPY_MODEL_d0fe4f8480f645159502fd6818e6eba2",
            "value": 28718
          }
        },
        "a9a7d82c1ede4de885483ce5807b183a": {
          "model_module": "@jupyter-widgets/controls",
          "model_name": "HTMLModel",
          "model_module_version": "1.5.0",
          "state": {
            "_dom_classes": [],
            "_model_module": "@jupyter-widgets/controls",
            "_model_module_version": "1.5.0",
            "_model_name": "HTMLModel",
            "_view_count": null,
            "_view_module": "@jupyter-widgets/controls",
            "_view_module_version": "1.5.0",
            "_view_name": "HTMLView",
            "description": "",
            "description_tooltip": null,
            "layout": "IPY_MODEL_917e060c77364c4db396b88f76709501",
            "placeholder": "​",
            "style": "IPY_MODEL_c8625638b14c4a6b8a8686e343daf5a9",
            "value": " 28.7k/28.7k [00:00&lt;00:00, 1.39MB/s]"
          }
        },
        "f17762fdd43749da80ff37f76ac99b15": {
          "model_module": "@jupyter-widgets/base",
          "model_name": "LayoutModel",
          "model_module_version": "1.2.0",
          "state": {
            "_model_module": "@jupyter-widgets/base",
            "_model_module_version": "1.2.0",
            "_model_name": "LayoutModel",
            "_view_count": null,
            "_view_module": "@jupyter-widgets/base",
            "_view_module_version": "1.2.0",
            "_view_name": "LayoutView",
            "align_content": null,
            "align_items": null,
            "align_self": null,
            "border": null,
            "bottom": null,
            "display": null,
            "flex": null,
            "flex_flow": null,
            "grid_area": null,
            "grid_auto_columns": null,
            "grid_auto_flow": null,
            "grid_auto_rows": null,
            "grid_column": null,
            "grid_gap": null,
            "grid_row": null,
            "grid_template_areas": null,
            "grid_template_columns": null,
            "grid_template_rows": null,
            "height": null,
            "justify_content": null,
            "justify_items": null,
            "left": null,
            "margin": null,
            "max_height": null,
            "max_width": null,
            "min_height": null,
            "min_width": null,
            "object_fit": null,
            "object_position": null,
            "order": null,
            "overflow": null,
            "overflow_x": null,
            "overflow_y": null,
            "padding": null,
            "right": null,
            "top": null,
            "visibility": null,
            "width": null
          }
        },
        "4cdf4de1b3e443cbb8daccb02f0f97db": {
          "model_module": "@jupyter-widgets/base",
          "model_name": "LayoutModel",
          "model_module_version": "1.2.0",
          "state": {
            "_model_module": "@jupyter-widgets/base",
            "_model_module_version": "1.2.0",
            "_model_name": "LayoutModel",
            "_view_count": null,
            "_view_module": "@jupyter-widgets/base",
            "_view_module_version": "1.2.0",
            "_view_name": "LayoutView",
            "align_content": null,
            "align_items": null,
            "align_self": null,
            "border": null,
            "bottom": null,
            "display": null,
            "flex": null,
            "flex_flow": null,
            "grid_area": null,
            "grid_auto_columns": null,
            "grid_auto_flow": null,
            "grid_auto_rows": null,
            "grid_column": null,
            "grid_gap": null,
            "grid_row": null,
            "grid_template_areas": null,
            "grid_template_columns": null,
            "grid_template_rows": null,
            "height": null,
            "justify_content": null,
            "justify_items": null,
            "left": null,
            "margin": null,
            "max_height": null,
            "max_width": null,
            "min_height": null,
            "min_width": null,
            "object_fit": null,
            "object_position": null,
            "order": null,
            "overflow": null,
            "overflow_x": null,
            "overflow_y": null,
            "padding": null,
            "right": null,
            "top": null,
            "visibility": null,
            "width": null
          }
        },
        "0233f30051b84173b915d0d874f50b80": {
          "model_module": "@jupyter-widgets/controls",
          "model_name": "DescriptionStyleModel",
          "model_module_version": "1.5.0",
          "state": {
            "_model_module": "@jupyter-widgets/controls",
            "_model_module_version": "1.5.0",
            "_model_name": "DescriptionStyleModel",
            "_view_count": null,
            "_view_module": "@jupyter-widgets/base",
            "_view_module_version": "1.2.0",
            "_view_name": "StyleView",
            "description_width": ""
          }
        },
        "3da0e552523c4643a897093ceb383a22": {
          "model_module": "@jupyter-widgets/base",
          "model_name": "LayoutModel",
          "model_module_version": "1.2.0",
          "state": {
            "_model_module": "@jupyter-widgets/base",
            "_model_module_version": "1.2.0",
            "_model_name": "LayoutModel",
            "_view_count": null,
            "_view_module": "@jupyter-widgets/base",
            "_view_module_version": "1.2.0",
            "_view_name": "LayoutView",
            "align_content": null,
            "align_items": null,
            "align_self": null,
            "border": null,
            "bottom": null,
            "display": null,
            "flex": null,
            "flex_flow": null,
            "grid_area": null,
            "grid_auto_columns": null,
            "grid_auto_flow": null,
            "grid_auto_rows": null,
            "grid_column": null,
            "grid_gap": null,
            "grid_row": null,
            "grid_template_areas": null,
            "grid_template_columns": null,
            "grid_template_rows": null,
            "height": null,
            "justify_content": null,
            "justify_items": null,
            "left": null,
            "margin": null,
            "max_height": null,
            "max_width": null,
            "min_height": null,
            "min_width": null,
            "object_fit": null,
            "object_position": null,
            "order": null,
            "overflow": null,
            "overflow_x": null,
            "overflow_y": null,
            "padding": null,
            "right": null,
            "top": null,
            "visibility": null,
            "width": null
          }
        },
        "d0fe4f8480f645159502fd6818e6eba2": {
          "model_module": "@jupyter-widgets/controls",
          "model_name": "ProgressStyleModel",
          "model_module_version": "1.5.0",
          "state": {
            "_model_module": "@jupyter-widgets/controls",
            "_model_module_version": "1.5.0",
            "_model_name": "ProgressStyleModel",
            "_view_count": null,
            "_view_module": "@jupyter-widgets/base",
            "_view_module_version": "1.2.0",
            "_view_name": "StyleView",
            "bar_color": null,
            "description_width": ""
          }
        },
        "917e060c77364c4db396b88f76709501": {
          "model_module": "@jupyter-widgets/base",
          "model_name": "LayoutModel",
          "model_module_version": "1.2.0",
          "state": {
            "_model_module": "@jupyter-widgets/base",
            "_model_module_version": "1.2.0",
            "_model_name": "LayoutModel",
            "_view_count": null,
            "_view_module": "@jupyter-widgets/base",
            "_view_module_version": "1.2.0",
            "_view_name": "LayoutView",
            "align_content": null,
            "align_items": null,
            "align_self": null,
            "border": null,
            "bottom": null,
            "display": null,
            "flex": null,
            "flex_flow": null,
            "grid_area": null,
            "grid_auto_columns": null,
            "grid_auto_flow": null,
            "grid_auto_rows": null,
            "grid_column": null,
            "grid_gap": null,
            "grid_row": null,
            "grid_template_areas": null,
            "grid_template_columns": null,
            "grid_template_rows": null,
            "height": null,
            "justify_content": null,
            "justify_items": null,
            "left": null,
            "margin": null,
            "max_height": null,
            "max_width": null,
            "min_height": null,
            "min_width": null,
            "object_fit": null,
            "object_position": null,
            "order": null,
            "overflow": null,
            "overflow_x": null,
            "overflow_y": null,
            "padding": null,
            "right": null,
            "top": null,
            "visibility": null,
            "width": null
          }
        },
        "c8625638b14c4a6b8a8686e343daf5a9": {
          "model_module": "@jupyter-widgets/controls",
          "model_name": "DescriptionStyleModel",
          "model_module_version": "1.5.0",
          "state": {
            "_model_module": "@jupyter-widgets/controls",
            "_model_module_version": "1.5.0",
            "_model_name": "DescriptionStyleModel",
            "_view_count": null,
            "_view_module": "@jupyter-widgets/base",
            "_view_module_version": "1.2.0",
            "_view_name": "StyleView",
            "description_width": ""
          }
        },
        "f37f61ff9b554cca9330e52c676b4db6": {
          "model_module": "@jupyter-widgets/controls",
          "model_name": "HBoxModel",
          "model_module_version": "1.5.0",
          "state": {
            "_dom_classes": [],
            "_model_module": "@jupyter-widgets/controls",
            "_model_module_version": "1.5.0",
            "_model_name": "HBoxModel",
            "_view_count": null,
            "_view_module": "@jupyter-widgets/controls",
            "_view_module_version": "1.5.0",
            "_view_name": "HBoxView",
            "box_style": "",
            "children": [
              "IPY_MODEL_841d529d6e5c4546ad115a5ad9548ebd",
              "IPY_MODEL_d5d2a7385b8542abbd94feec5e724a72",
              "IPY_MODEL_53392698bae64c20b65d2b857d1e8c86"
            ],
            "layout": "IPY_MODEL_c1b916d842904615a0f5b640c6502739"
          }
        },
        "841d529d6e5c4546ad115a5ad9548ebd": {
          "model_module": "@jupyter-widgets/controls",
          "model_name": "HTMLModel",
          "model_module_version": "1.5.0",
          "state": {
            "_dom_classes": [],
            "_model_module": "@jupyter-widgets/controls",
            "_model_module_version": "1.5.0",
            "_model_name": "HTMLModel",
            "_view_count": null,
            "_view_module": "@jupyter-widgets/controls",
            "_view_module_version": "1.5.0",
            "_view_name": "HTMLView",
            "description": "",
            "description_tooltip": null,
            "layout": "IPY_MODEL_8efda095dead4cf89957044a345e431b",
            "placeholder": "​",
            "style": "IPY_MODEL_ee3f25529a464b6ab1ab0e64ef84edd5",
            "value": "special_tokens_map.json: 100%"
          }
        },
        "d5d2a7385b8542abbd94feec5e724a72": {
          "model_module": "@jupyter-widgets/controls",
          "model_name": "FloatProgressModel",
          "model_module_version": "1.5.0",
          "state": {
            "_dom_classes": [],
            "_model_module": "@jupyter-widgets/controls",
            "_model_module_version": "1.5.0",
            "_model_name": "FloatProgressModel",
            "_view_count": null,
            "_view_module": "@jupyter-widgets/controls",
            "_view_module_version": "1.5.0",
            "_view_name": "ProgressView",
            "bar_style": "success",
            "description": "",
            "description_tooltip": null,
            "layout": "IPY_MODEL_4fbd856bd5464bb393496c5ff8ce77e2",
            "max": 101,
            "min": 0,
            "orientation": "horizontal",
            "style": "IPY_MODEL_ee1e027f3bef41d0981c151a19c7db32",
            "value": 101
          }
        },
        "53392698bae64c20b65d2b857d1e8c86": {
          "model_module": "@jupyter-widgets/controls",
          "model_name": "HTMLModel",
          "model_module_version": "1.5.0",
          "state": {
            "_dom_classes": [],
            "_model_module": "@jupyter-widgets/controls",
            "_model_module_version": "1.5.0",
            "_model_name": "HTMLModel",
            "_view_count": null,
            "_view_module": "@jupyter-widgets/controls",
            "_view_module_version": "1.5.0",
            "_view_name": "HTMLView",
            "description": "",
            "description_tooltip": null,
            "layout": "IPY_MODEL_21b0a2b5ba9e487eafe8fb576e56d050",
            "placeholder": "​",
            "style": "IPY_MODEL_5a1577f3b0604139825ee051036e968f",
            "value": " 101/101 [00:00&lt;00:00, 4.39kB/s]"
          }
        },
        "c1b916d842904615a0f5b640c6502739": {
          "model_module": "@jupyter-widgets/base",
          "model_name": "LayoutModel",
          "model_module_version": "1.2.0",
          "state": {
            "_model_module": "@jupyter-widgets/base",
            "_model_module_version": "1.2.0",
            "_model_name": "LayoutModel",
            "_view_count": null,
            "_view_module": "@jupyter-widgets/base",
            "_view_module_version": "1.2.0",
            "_view_name": "LayoutView",
            "align_content": null,
            "align_items": null,
            "align_self": null,
            "border": null,
            "bottom": null,
            "display": null,
            "flex": null,
            "flex_flow": null,
            "grid_area": null,
            "grid_auto_columns": null,
            "grid_auto_flow": null,
            "grid_auto_rows": null,
            "grid_column": null,
            "grid_gap": null,
            "grid_row": null,
            "grid_template_areas": null,
            "grid_template_columns": null,
            "grid_template_rows": null,
            "height": null,
            "justify_content": null,
            "justify_items": null,
            "left": null,
            "margin": null,
            "max_height": null,
            "max_width": null,
            "min_height": null,
            "min_width": null,
            "object_fit": null,
            "object_position": null,
            "order": null,
            "overflow": null,
            "overflow_x": null,
            "overflow_y": null,
            "padding": null,
            "right": null,
            "top": null,
            "visibility": null,
            "width": null
          }
        },
        "8efda095dead4cf89957044a345e431b": {
          "model_module": "@jupyter-widgets/base",
          "model_name": "LayoutModel",
          "model_module_version": "1.2.0",
          "state": {
            "_model_module": "@jupyter-widgets/base",
            "_model_module_version": "1.2.0",
            "_model_name": "LayoutModel",
            "_view_count": null,
            "_view_module": "@jupyter-widgets/base",
            "_view_module_version": "1.2.0",
            "_view_name": "LayoutView",
            "align_content": null,
            "align_items": null,
            "align_self": null,
            "border": null,
            "bottom": null,
            "display": null,
            "flex": null,
            "flex_flow": null,
            "grid_area": null,
            "grid_auto_columns": null,
            "grid_auto_flow": null,
            "grid_auto_rows": null,
            "grid_column": null,
            "grid_gap": null,
            "grid_row": null,
            "grid_template_areas": null,
            "grid_template_columns": null,
            "grid_template_rows": null,
            "height": null,
            "justify_content": null,
            "justify_items": null,
            "left": null,
            "margin": null,
            "max_height": null,
            "max_width": null,
            "min_height": null,
            "min_width": null,
            "object_fit": null,
            "object_position": null,
            "order": null,
            "overflow": null,
            "overflow_x": null,
            "overflow_y": null,
            "padding": null,
            "right": null,
            "top": null,
            "visibility": null,
            "width": null
          }
        },
        "ee3f25529a464b6ab1ab0e64ef84edd5": {
          "model_module": "@jupyter-widgets/controls",
          "model_name": "DescriptionStyleModel",
          "model_module_version": "1.5.0",
          "state": {
            "_model_module": "@jupyter-widgets/controls",
            "_model_module_version": "1.5.0",
            "_model_name": "DescriptionStyleModel",
            "_view_count": null,
            "_view_module": "@jupyter-widgets/base",
            "_view_module_version": "1.2.0",
            "_view_name": "StyleView",
            "description_width": ""
          }
        },
        "4fbd856bd5464bb393496c5ff8ce77e2": {
          "model_module": "@jupyter-widgets/base",
          "model_name": "LayoutModel",
          "model_module_version": "1.2.0",
          "state": {
            "_model_module": "@jupyter-widgets/base",
            "_model_module_version": "1.2.0",
            "_model_name": "LayoutModel",
            "_view_count": null,
            "_view_module": "@jupyter-widgets/base",
            "_view_module_version": "1.2.0",
            "_view_name": "LayoutView",
            "align_content": null,
            "align_items": null,
            "align_self": null,
            "border": null,
            "bottom": null,
            "display": null,
            "flex": null,
            "flex_flow": null,
            "grid_area": null,
            "grid_auto_columns": null,
            "grid_auto_flow": null,
            "grid_auto_rows": null,
            "grid_column": null,
            "grid_gap": null,
            "grid_row": null,
            "grid_template_areas": null,
            "grid_template_columns": null,
            "grid_template_rows": null,
            "height": null,
            "justify_content": null,
            "justify_items": null,
            "left": null,
            "margin": null,
            "max_height": null,
            "max_width": null,
            "min_height": null,
            "min_width": null,
            "object_fit": null,
            "object_position": null,
            "order": null,
            "overflow": null,
            "overflow_x": null,
            "overflow_y": null,
            "padding": null,
            "right": null,
            "top": null,
            "visibility": null,
            "width": null
          }
        },
        "ee1e027f3bef41d0981c151a19c7db32": {
          "model_module": "@jupyter-widgets/controls",
          "model_name": "ProgressStyleModel",
          "model_module_version": "1.5.0",
          "state": {
            "_model_module": "@jupyter-widgets/controls",
            "_model_module_version": "1.5.0",
            "_model_name": "ProgressStyleModel",
            "_view_count": null,
            "_view_module": "@jupyter-widgets/base",
            "_view_module_version": "1.2.0",
            "_view_name": "StyleView",
            "bar_color": null,
            "description_width": ""
          }
        },
        "21b0a2b5ba9e487eafe8fb576e56d050": {
          "model_module": "@jupyter-widgets/base",
          "model_name": "LayoutModel",
          "model_module_version": "1.2.0",
          "state": {
            "_model_module": "@jupyter-widgets/base",
            "_model_module_version": "1.2.0",
            "_model_name": "LayoutModel",
            "_view_count": null,
            "_view_module": "@jupyter-widgets/base",
            "_view_module_version": "1.2.0",
            "_view_name": "LayoutView",
            "align_content": null,
            "align_items": null,
            "align_self": null,
            "border": null,
            "bottom": null,
            "display": null,
            "flex": null,
            "flex_flow": null,
            "grid_area": null,
            "grid_auto_columns": null,
            "grid_auto_flow": null,
            "grid_auto_rows": null,
            "grid_column": null,
            "grid_gap": null,
            "grid_row": null,
            "grid_template_areas": null,
            "grid_template_columns": null,
            "grid_template_rows": null,
            "height": null,
            "justify_content": null,
            "justify_items": null,
            "left": null,
            "margin": null,
            "max_height": null,
            "max_width": null,
            "min_height": null,
            "min_width": null,
            "object_fit": null,
            "object_position": null,
            "order": null,
            "overflow": null,
            "overflow_x": null,
            "overflow_y": null,
            "padding": null,
            "right": null,
            "top": null,
            "visibility": null,
            "width": null
          }
        },
        "5a1577f3b0604139825ee051036e968f": {
          "model_module": "@jupyter-widgets/controls",
          "model_name": "DescriptionStyleModel",
          "model_module_version": "1.5.0",
          "state": {
            "_model_module": "@jupyter-widgets/controls",
            "_model_module_version": "1.5.0",
            "_model_name": "DescriptionStyleModel",
            "_view_count": null,
            "_view_module": "@jupyter-widgets/base",
            "_view_module_version": "1.2.0",
            "_view_name": "StyleView",
            "description_width": ""
          }
        },
        "abde9ccd15de49e0a515cef2a6264445": {
          "model_module": "@jupyter-widgets/controls",
          "model_name": "HBoxModel",
          "model_module_version": "1.5.0",
          "state": {
            "_dom_classes": [],
            "_model_module": "@jupyter-widgets/controls",
            "_model_module_version": "1.5.0",
            "_model_name": "HBoxModel",
            "_view_count": null,
            "_view_module": "@jupyter-widgets/controls",
            "_view_module_version": "1.5.0",
            "_view_name": "HBoxView",
            "box_style": "",
            "children": [
              "IPY_MODEL_4bf50565bfd5433db1b5a35c25c90452",
              "IPY_MODEL_f2c7f5f96a1a403582a9defd6e6b659b",
              "IPY_MODEL_34bfb820bfd245058c0cad28780e1594"
            ],
            "layout": "IPY_MODEL_82ee45242c3d41edb9fde1b952634cf1"
          }
        },
        "4bf50565bfd5433db1b5a35c25c90452": {
          "model_module": "@jupyter-widgets/controls",
          "model_name": "HTMLModel",
          "model_module_version": "1.5.0",
          "state": {
            "_dom_classes": [],
            "_model_module": "@jupyter-widgets/controls",
            "_model_module_version": "1.5.0",
            "_model_name": "HTMLModel",
            "_view_count": null,
            "_view_module": "@jupyter-widgets/controls",
            "_view_module_version": "1.5.0",
            "_view_name": "HTMLView",
            "description": "",
            "description_tooltip": null,
            "layout": "IPY_MODEL_6c426a46160040f9a556770b3a95b627",
            "placeholder": "​",
            "style": "IPY_MODEL_a4f61da6245e46a494d49f5f1242682d",
            "value": "Map: 100%"
          }
        },
        "f2c7f5f96a1a403582a9defd6e6b659b": {
          "model_module": "@jupyter-widgets/controls",
          "model_name": "FloatProgressModel",
          "model_module_version": "1.5.0",
          "state": {
            "_dom_classes": [],
            "_model_module": "@jupyter-widgets/controls",
            "_model_module_version": "1.5.0",
            "_model_name": "FloatProgressModel",
            "_view_count": null,
            "_view_module": "@jupyter-widgets/controls",
            "_view_module_version": "1.5.0",
            "_view_name": "ProgressView",
            "bar_style": "success",
            "description": "",
            "description_tooltip": null,
            "layout": "IPY_MODEL_ccdf429ef0654f86a5d34a09186054be",
            "max": 77877,
            "min": 0,
            "orientation": "horizontal",
            "style": "IPY_MODEL_ef77f3ec68d34e00affc42266e4d54e4",
            "value": 77877
          }
        },
        "34bfb820bfd245058c0cad28780e1594": {
          "model_module": "@jupyter-widgets/controls",
          "model_name": "HTMLModel",
          "model_module_version": "1.5.0",
          "state": {
            "_dom_classes": [],
            "_model_module": "@jupyter-widgets/controls",
            "_model_module_version": "1.5.0",
            "_model_name": "HTMLModel",
            "_view_count": null,
            "_view_module": "@jupyter-widgets/controls",
            "_view_module_version": "1.5.0",
            "_view_name": "HTMLView",
            "description": "",
            "description_tooltip": null,
            "layout": "IPY_MODEL_64cecf85466c467bbc21bab80e430f19",
            "placeholder": "​",
            "style": "IPY_MODEL_420e38d47db149d29859b6afd98b6098",
            "value": " 77877/77877 [00:15&lt;00:00, 3596.59 examples/s]"
          }
        },
        "82ee45242c3d41edb9fde1b952634cf1": {
          "model_module": "@jupyter-widgets/base",
          "model_name": "LayoutModel",
          "model_module_version": "1.2.0",
          "state": {
            "_model_module": "@jupyter-widgets/base",
            "_model_module_version": "1.2.0",
            "_model_name": "LayoutModel",
            "_view_count": null,
            "_view_module": "@jupyter-widgets/base",
            "_view_module_version": "1.2.0",
            "_view_name": "LayoutView",
            "align_content": null,
            "align_items": null,
            "align_self": null,
            "border": null,
            "bottom": null,
            "display": null,
            "flex": null,
            "flex_flow": null,
            "grid_area": null,
            "grid_auto_columns": null,
            "grid_auto_flow": null,
            "grid_auto_rows": null,
            "grid_column": null,
            "grid_gap": null,
            "grid_row": null,
            "grid_template_areas": null,
            "grid_template_columns": null,
            "grid_template_rows": null,
            "height": null,
            "justify_content": null,
            "justify_items": null,
            "left": null,
            "margin": null,
            "max_height": null,
            "max_width": null,
            "min_height": null,
            "min_width": null,
            "object_fit": null,
            "object_position": null,
            "order": null,
            "overflow": null,
            "overflow_x": null,
            "overflow_y": null,
            "padding": null,
            "right": null,
            "top": null,
            "visibility": null,
            "width": null
          }
        },
        "6c426a46160040f9a556770b3a95b627": {
          "model_module": "@jupyter-widgets/base",
          "model_name": "LayoutModel",
          "model_module_version": "1.2.0",
          "state": {
            "_model_module": "@jupyter-widgets/base",
            "_model_module_version": "1.2.0",
            "_model_name": "LayoutModel",
            "_view_count": null,
            "_view_module": "@jupyter-widgets/base",
            "_view_module_version": "1.2.0",
            "_view_name": "LayoutView",
            "align_content": null,
            "align_items": null,
            "align_self": null,
            "border": null,
            "bottom": null,
            "display": null,
            "flex": null,
            "flex_flow": null,
            "grid_area": null,
            "grid_auto_columns": null,
            "grid_auto_flow": null,
            "grid_auto_rows": null,
            "grid_column": null,
            "grid_gap": null,
            "grid_row": null,
            "grid_template_areas": null,
            "grid_template_columns": null,
            "grid_template_rows": null,
            "height": null,
            "justify_content": null,
            "justify_items": null,
            "left": null,
            "margin": null,
            "max_height": null,
            "max_width": null,
            "min_height": null,
            "min_width": null,
            "object_fit": null,
            "object_position": null,
            "order": null,
            "overflow": null,
            "overflow_x": null,
            "overflow_y": null,
            "padding": null,
            "right": null,
            "top": null,
            "visibility": null,
            "width": null
          }
        },
        "a4f61da6245e46a494d49f5f1242682d": {
          "model_module": "@jupyter-widgets/controls",
          "model_name": "DescriptionStyleModel",
          "model_module_version": "1.5.0",
          "state": {
            "_model_module": "@jupyter-widgets/controls",
            "_model_module_version": "1.5.0",
            "_model_name": "DescriptionStyleModel",
            "_view_count": null,
            "_view_module": "@jupyter-widgets/base",
            "_view_module_version": "1.2.0",
            "_view_name": "StyleView",
            "description_width": ""
          }
        },
        "ccdf429ef0654f86a5d34a09186054be": {
          "model_module": "@jupyter-widgets/base",
          "model_name": "LayoutModel",
          "model_module_version": "1.2.0",
          "state": {
            "_model_module": "@jupyter-widgets/base",
            "_model_module_version": "1.2.0",
            "_model_name": "LayoutModel",
            "_view_count": null,
            "_view_module": "@jupyter-widgets/base",
            "_view_module_version": "1.2.0",
            "_view_name": "LayoutView",
            "align_content": null,
            "align_items": null,
            "align_self": null,
            "border": null,
            "bottom": null,
            "display": null,
            "flex": null,
            "flex_flow": null,
            "grid_area": null,
            "grid_auto_columns": null,
            "grid_auto_flow": null,
            "grid_auto_rows": null,
            "grid_column": null,
            "grid_gap": null,
            "grid_row": null,
            "grid_template_areas": null,
            "grid_template_columns": null,
            "grid_template_rows": null,
            "height": null,
            "justify_content": null,
            "justify_items": null,
            "left": null,
            "margin": null,
            "max_height": null,
            "max_width": null,
            "min_height": null,
            "min_width": null,
            "object_fit": null,
            "object_position": null,
            "order": null,
            "overflow": null,
            "overflow_x": null,
            "overflow_y": null,
            "padding": null,
            "right": null,
            "top": null,
            "visibility": null,
            "width": null
          }
        },
        "ef77f3ec68d34e00affc42266e4d54e4": {
          "model_module": "@jupyter-widgets/controls",
          "model_name": "ProgressStyleModel",
          "model_module_version": "1.5.0",
          "state": {
            "_model_module": "@jupyter-widgets/controls",
            "_model_module_version": "1.5.0",
            "_model_name": "ProgressStyleModel",
            "_view_count": null,
            "_view_module": "@jupyter-widgets/base",
            "_view_module_version": "1.2.0",
            "_view_name": "StyleView",
            "bar_color": null,
            "description_width": ""
          }
        },
        "64cecf85466c467bbc21bab80e430f19": {
          "model_module": "@jupyter-widgets/base",
          "model_name": "LayoutModel",
          "model_module_version": "1.2.0",
          "state": {
            "_model_module": "@jupyter-widgets/base",
            "_model_module_version": "1.2.0",
            "_model_name": "LayoutModel",
            "_view_count": null,
            "_view_module": "@jupyter-widgets/base",
            "_view_module_version": "1.2.0",
            "_view_name": "LayoutView",
            "align_content": null,
            "align_items": null,
            "align_self": null,
            "border": null,
            "bottom": null,
            "display": null,
            "flex": null,
            "flex_flow": null,
            "grid_area": null,
            "grid_auto_columns": null,
            "grid_auto_flow": null,
            "grid_auto_rows": null,
            "grid_column": null,
            "grid_gap": null,
            "grid_row": null,
            "grid_template_areas": null,
            "grid_template_columns": null,
            "grid_template_rows": null,
            "height": null,
            "justify_content": null,
            "justify_items": null,
            "left": null,
            "margin": null,
            "max_height": null,
            "max_width": null,
            "min_height": null,
            "min_width": null,
            "object_fit": null,
            "object_position": null,
            "order": null,
            "overflow": null,
            "overflow_x": null,
            "overflow_y": null,
            "padding": null,
            "right": null,
            "top": null,
            "visibility": null,
            "width": null
          }
        },
        "420e38d47db149d29859b6afd98b6098": {
          "model_module": "@jupyter-widgets/controls",
          "model_name": "DescriptionStyleModel",
          "model_module_version": "1.5.0",
          "state": {
            "_model_module": "@jupyter-widgets/controls",
            "_model_module_version": "1.5.0",
            "_model_name": "DescriptionStyleModel",
            "_view_count": null,
            "_view_module": "@jupyter-widgets/base",
            "_view_module_version": "1.2.0",
            "_view_name": "StyleView",
            "description_width": ""
          }
        },
        "c1dc52b1fef8460c8078ac1d14b06660": {
          "model_module": "@jupyter-widgets/controls",
          "model_name": "HBoxModel",
          "model_module_version": "1.5.0",
          "state": {
            "_dom_classes": [],
            "_model_module": "@jupyter-widgets/controls",
            "_model_module_version": "1.5.0",
            "_model_name": "HBoxModel",
            "_view_count": null,
            "_view_module": "@jupyter-widgets/controls",
            "_view_module_version": "1.5.0",
            "_view_name": "HBoxView",
            "box_style": "",
            "children": [
              "IPY_MODEL_155d7816bc2e47deb92e7da219b42271",
              "IPY_MODEL_cf39340c80104b52b7866f402f9a1a58",
              "IPY_MODEL_86418cfe22a541d8a86b6edf7a3042a6"
            ],
            "layout": "IPY_MODEL_d116f56f7c4b4ac3990a11dd37a21a9d"
          }
        },
        "155d7816bc2e47deb92e7da219b42271": {
          "model_module": "@jupyter-widgets/controls",
          "model_name": "HTMLModel",
          "model_module_version": "1.5.0",
          "state": {
            "_dom_classes": [],
            "_model_module": "@jupyter-widgets/controls",
            "_model_module_version": "1.5.0",
            "_model_name": "HTMLModel",
            "_view_count": null,
            "_view_module": "@jupyter-widgets/controls",
            "_view_module_version": "1.5.0",
            "_view_name": "HTMLView",
            "description": "",
            "description_tooltip": null,
            "layout": "IPY_MODEL_4c6fd0baf88347fc933ac91c3304e869",
            "placeholder": "​",
            "style": "IPY_MODEL_6742569f0c1b40eeb7a523f2e59c9fef",
            "value": "Map: 100%"
          }
        },
        "cf39340c80104b52b7866f402f9a1a58": {
          "model_module": "@jupyter-widgets/controls",
          "model_name": "FloatProgressModel",
          "model_module_version": "1.5.0",
          "state": {
            "_dom_classes": [],
            "_model_module": "@jupyter-widgets/controls",
            "_model_module_version": "1.5.0",
            "_model_name": "FloatProgressModel",
            "_view_count": null,
            "_view_module": "@jupyter-widgets/controls",
            "_view_module_version": "1.5.0",
            "_view_name": "ProgressView",
            "bar_style": "success",
            "description": "",
            "description_tooltip": null,
            "layout": "IPY_MODEL_3241cc2587aa4e0da0aece96ba0161c3",
            "max": 8653,
            "min": 0,
            "orientation": "horizontal",
            "style": "IPY_MODEL_b763484428b945149254c19fecb436d0",
            "value": 8653
          }
        },
        "86418cfe22a541d8a86b6edf7a3042a6": {
          "model_module": "@jupyter-widgets/controls",
          "model_name": "HTMLModel",
          "model_module_version": "1.5.0",
          "state": {
            "_dom_classes": [],
            "_model_module": "@jupyter-widgets/controls",
            "_model_module_version": "1.5.0",
            "_model_name": "HTMLModel",
            "_view_count": null,
            "_view_module": "@jupyter-widgets/controls",
            "_view_module_version": "1.5.0",
            "_view_name": "HTMLView",
            "description": "",
            "description_tooltip": null,
            "layout": "IPY_MODEL_494727b32fcb4842a6a3af57631010ab",
            "placeholder": "​",
            "style": "IPY_MODEL_e3adec2b0340405cab6c5cb7f8ff94a6",
            "value": " 8653/8653 [00:01&lt;00:00, 6201.82 examples/s]"
          }
        },
        "d116f56f7c4b4ac3990a11dd37a21a9d": {
          "model_module": "@jupyter-widgets/base",
          "model_name": "LayoutModel",
          "model_module_version": "1.2.0",
          "state": {
            "_model_module": "@jupyter-widgets/base",
            "_model_module_version": "1.2.0",
            "_model_name": "LayoutModel",
            "_view_count": null,
            "_view_module": "@jupyter-widgets/base",
            "_view_module_version": "1.2.0",
            "_view_name": "LayoutView",
            "align_content": null,
            "align_items": null,
            "align_self": null,
            "border": null,
            "bottom": null,
            "display": null,
            "flex": null,
            "flex_flow": null,
            "grid_area": null,
            "grid_auto_columns": null,
            "grid_auto_flow": null,
            "grid_auto_rows": null,
            "grid_column": null,
            "grid_gap": null,
            "grid_row": null,
            "grid_template_areas": null,
            "grid_template_columns": null,
            "grid_template_rows": null,
            "height": null,
            "justify_content": null,
            "justify_items": null,
            "left": null,
            "margin": null,
            "max_height": null,
            "max_width": null,
            "min_height": null,
            "min_width": null,
            "object_fit": null,
            "object_position": null,
            "order": null,
            "overflow": null,
            "overflow_x": null,
            "overflow_y": null,
            "padding": null,
            "right": null,
            "top": null,
            "visibility": null,
            "width": null
          }
        },
        "4c6fd0baf88347fc933ac91c3304e869": {
          "model_module": "@jupyter-widgets/base",
          "model_name": "LayoutModel",
          "model_module_version": "1.2.0",
          "state": {
            "_model_module": "@jupyter-widgets/base",
            "_model_module_version": "1.2.0",
            "_model_name": "LayoutModel",
            "_view_count": null,
            "_view_module": "@jupyter-widgets/base",
            "_view_module_version": "1.2.0",
            "_view_name": "LayoutView",
            "align_content": null,
            "align_items": null,
            "align_self": null,
            "border": null,
            "bottom": null,
            "display": null,
            "flex": null,
            "flex_flow": null,
            "grid_area": null,
            "grid_auto_columns": null,
            "grid_auto_flow": null,
            "grid_auto_rows": null,
            "grid_column": null,
            "grid_gap": null,
            "grid_row": null,
            "grid_template_areas": null,
            "grid_template_columns": null,
            "grid_template_rows": null,
            "height": null,
            "justify_content": null,
            "justify_items": null,
            "left": null,
            "margin": null,
            "max_height": null,
            "max_width": null,
            "min_height": null,
            "min_width": null,
            "object_fit": null,
            "object_position": null,
            "order": null,
            "overflow": null,
            "overflow_x": null,
            "overflow_y": null,
            "padding": null,
            "right": null,
            "top": null,
            "visibility": null,
            "width": null
          }
        },
        "6742569f0c1b40eeb7a523f2e59c9fef": {
          "model_module": "@jupyter-widgets/controls",
          "model_name": "DescriptionStyleModel",
          "model_module_version": "1.5.0",
          "state": {
            "_model_module": "@jupyter-widgets/controls",
            "_model_module_version": "1.5.0",
            "_model_name": "DescriptionStyleModel",
            "_view_count": null,
            "_view_module": "@jupyter-widgets/base",
            "_view_module_version": "1.2.0",
            "_view_name": "StyleView",
            "description_width": ""
          }
        },
        "3241cc2587aa4e0da0aece96ba0161c3": {
          "model_module": "@jupyter-widgets/base",
          "model_name": "LayoutModel",
          "model_module_version": "1.2.0",
          "state": {
            "_model_module": "@jupyter-widgets/base",
            "_model_module_version": "1.2.0",
            "_model_name": "LayoutModel",
            "_view_count": null,
            "_view_module": "@jupyter-widgets/base",
            "_view_module_version": "1.2.0",
            "_view_name": "LayoutView",
            "align_content": null,
            "align_items": null,
            "align_self": null,
            "border": null,
            "bottom": null,
            "display": null,
            "flex": null,
            "flex_flow": null,
            "grid_area": null,
            "grid_auto_columns": null,
            "grid_auto_flow": null,
            "grid_auto_rows": null,
            "grid_column": null,
            "grid_gap": null,
            "grid_row": null,
            "grid_template_areas": null,
            "grid_template_columns": null,
            "grid_template_rows": null,
            "height": null,
            "justify_content": null,
            "justify_items": null,
            "left": null,
            "margin": null,
            "max_height": null,
            "max_width": null,
            "min_height": null,
            "min_width": null,
            "object_fit": null,
            "object_position": null,
            "order": null,
            "overflow": null,
            "overflow_x": null,
            "overflow_y": null,
            "padding": null,
            "right": null,
            "top": null,
            "visibility": null,
            "width": null
          }
        },
        "b763484428b945149254c19fecb436d0": {
          "model_module": "@jupyter-widgets/controls",
          "model_name": "ProgressStyleModel",
          "model_module_version": "1.5.0",
          "state": {
            "_model_module": "@jupyter-widgets/controls",
            "_model_module_version": "1.5.0",
            "_model_name": "ProgressStyleModel",
            "_view_count": null,
            "_view_module": "@jupyter-widgets/base",
            "_view_module_version": "1.2.0",
            "_view_name": "StyleView",
            "bar_color": null,
            "description_width": ""
          }
        },
        "494727b32fcb4842a6a3af57631010ab": {
          "model_module": "@jupyter-widgets/base",
          "model_name": "LayoutModel",
          "model_module_version": "1.2.0",
          "state": {
            "_model_module": "@jupyter-widgets/base",
            "_model_module_version": "1.2.0",
            "_model_name": "LayoutModel",
            "_view_count": null,
            "_view_module": "@jupyter-widgets/base",
            "_view_module_version": "1.2.0",
            "_view_name": "LayoutView",
            "align_content": null,
            "align_items": null,
            "align_self": null,
            "border": null,
            "bottom": null,
            "display": null,
            "flex": null,
            "flex_flow": null,
            "grid_area": null,
            "grid_auto_columns": null,
            "grid_auto_flow": null,
            "grid_auto_rows": null,
            "grid_column": null,
            "grid_gap": null,
            "grid_row": null,
            "grid_template_areas": null,
            "grid_template_columns": null,
            "grid_template_rows": null,
            "height": null,
            "justify_content": null,
            "justify_items": null,
            "left": null,
            "margin": null,
            "max_height": null,
            "max_width": null,
            "min_height": null,
            "min_width": null,
            "object_fit": null,
            "object_position": null,
            "order": null,
            "overflow": null,
            "overflow_x": null,
            "overflow_y": null,
            "padding": null,
            "right": null,
            "top": null,
            "visibility": null,
            "width": null
          }
        },
        "e3adec2b0340405cab6c5cb7f8ff94a6": {
          "model_module": "@jupyter-widgets/controls",
          "model_name": "DescriptionStyleModel",
          "model_module_version": "1.5.0",
          "state": {
            "_model_module": "@jupyter-widgets/controls",
            "_model_module_version": "1.5.0",
            "_model_name": "DescriptionStyleModel",
            "_view_count": null,
            "_view_module": "@jupyter-widgets/base",
            "_view_module_version": "1.2.0",
            "_view_name": "StyleView",
            "description_width": ""
          }
        },
        "33a68eb849a94ab5a780e400b59673a2": {
          "model_module": "@jupyter-widgets/controls",
          "model_name": "HBoxModel",
          "model_module_version": "1.5.0",
          "state": {
            "_dom_classes": [],
            "_model_module": "@jupyter-widgets/controls",
            "_model_module_version": "1.5.0",
            "_model_name": "HBoxModel",
            "_view_count": null,
            "_view_module": "@jupyter-widgets/controls",
            "_view_module_version": "1.5.0",
            "_view_name": "HBoxView",
            "box_style": "",
            "children": [
              "IPY_MODEL_afcdfdad7af0404f9ebf252eff6e04ec",
              "IPY_MODEL_d8962af57e7d4881979127717e7113ca",
              "IPY_MODEL_5daa3387b62a4f3d8f244cf6baf1b865"
            ],
            "layout": "IPY_MODEL_3df288252035417fb148d7fc1d15edd5"
          }
        },
        "afcdfdad7af0404f9ebf252eff6e04ec": {
          "model_module": "@jupyter-widgets/controls",
          "model_name": "HTMLModel",
          "model_module_version": "1.5.0",
          "state": {
            "_dom_classes": [],
            "_model_module": "@jupyter-widgets/controls",
            "_model_module_version": "1.5.0",
            "_model_name": "HTMLModel",
            "_view_count": null,
            "_view_module": "@jupyter-widgets/controls",
            "_view_module_version": "1.5.0",
            "_view_name": "HTMLView",
            "description": "",
            "description_tooltip": null,
            "layout": "IPY_MODEL_02b7ea3667294e4d958ed8a950c2dd21",
            "placeholder": "​",
            "style": "IPY_MODEL_1b07b23136b24dcc89c6e47829ca92cb",
            "value": "Map: 100%"
          }
        },
        "d8962af57e7d4881979127717e7113ca": {
          "model_module": "@jupyter-widgets/controls",
          "model_name": "FloatProgressModel",
          "model_module_version": "1.5.0",
          "state": {
            "_dom_classes": [],
            "_model_module": "@jupyter-widgets/controls",
            "_model_module_version": "1.5.0",
            "_model_name": "FloatProgressModel",
            "_view_count": null,
            "_view_module": "@jupyter-widgets/controls",
            "_view_module_version": "1.5.0",
            "_view_name": "ProgressView",
            "bar_style": "success",
            "description": "",
            "description_tooltip": null,
            "layout": "IPY_MODEL_8e0c1146eaf74151952879a6918f925d",
            "max": 9615,
            "min": 0,
            "orientation": "horizontal",
            "style": "IPY_MODEL_676818f19d14452c9260302a38472b6c",
            "value": 9615
          }
        },
        "5daa3387b62a4f3d8f244cf6baf1b865": {
          "model_module": "@jupyter-widgets/controls",
          "model_name": "HTMLModel",
          "model_module_version": "1.5.0",
          "state": {
            "_dom_classes": [],
            "_model_module": "@jupyter-widgets/controls",
            "_model_module_version": "1.5.0",
            "_model_name": "HTMLModel",
            "_view_count": null,
            "_view_module": "@jupyter-widgets/controls",
            "_view_module_version": "1.5.0",
            "_view_name": "HTMLView",
            "description": "",
            "description_tooltip": null,
            "layout": "IPY_MODEL_3afbc18fb7bd4129ad1e211db09cf655",
            "placeholder": "​",
            "style": "IPY_MODEL_f84fb0b119a749689400f04c1b7b1b98",
            "value": " 9615/9615 [00:01&lt;00:00, 6300.62 examples/s]"
          }
        },
        "3df288252035417fb148d7fc1d15edd5": {
          "model_module": "@jupyter-widgets/base",
          "model_name": "LayoutModel",
          "model_module_version": "1.2.0",
          "state": {
            "_model_module": "@jupyter-widgets/base",
            "_model_module_version": "1.2.0",
            "_model_name": "LayoutModel",
            "_view_count": null,
            "_view_module": "@jupyter-widgets/base",
            "_view_module_version": "1.2.0",
            "_view_name": "LayoutView",
            "align_content": null,
            "align_items": null,
            "align_self": null,
            "border": null,
            "bottom": null,
            "display": null,
            "flex": null,
            "flex_flow": null,
            "grid_area": null,
            "grid_auto_columns": null,
            "grid_auto_flow": null,
            "grid_auto_rows": null,
            "grid_column": null,
            "grid_gap": null,
            "grid_row": null,
            "grid_template_areas": null,
            "grid_template_columns": null,
            "grid_template_rows": null,
            "height": null,
            "justify_content": null,
            "justify_items": null,
            "left": null,
            "margin": null,
            "max_height": null,
            "max_width": null,
            "min_height": null,
            "min_width": null,
            "object_fit": null,
            "object_position": null,
            "order": null,
            "overflow": null,
            "overflow_x": null,
            "overflow_y": null,
            "padding": null,
            "right": null,
            "top": null,
            "visibility": null,
            "width": null
          }
        },
        "02b7ea3667294e4d958ed8a950c2dd21": {
          "model_module": "@jupyter-widgets/base",
          "model_name": "LayoutModel",
          "model_module_version": "1.2.0",
          "state": {
            "_model_module": "@jupyter-widgets/base",
            "_model_module_version": "1.2.0",
            "_model_name": "LayoutModel",
            "_view_count": null,
            "_view_module": "@jupyter-widgets/base",
            "_view_module_version": "1.2.0",
            "_view_name": "LayoutView",
            "align_content": null,
            "align_items": null,
            "align_self": null,
            "border": null,
            "bottom": null,
            "display": null,
            "flex": null,
            "flex_flow": null,
            "grid_area": null,
            "grid_auto_columns": null,
            "grid_auto_flow": null,
            "grid_auto_rows": null,
            "grid_column": null,
            "grid_gap": null,
            "grid_row": null,
            "grid_template_areas": null,
            "grid_template_columns": null,
            "grid_template_rows": null,
            "height": null,
            "justify_content": null,
            "justify_items": null,
            "left": null,
            "margin": null,
            "max_height": null,
            "max_width": null,
            "min_height": null,
            "min_width": null,
            "object_fit": null,
            "object_position": null,
            "order": null,
            "overflow": null,
            "overflow_x": null,
            "overflow_y": null,
            "padding": null,
            "right": null,
            "top": null,
            "visibility": null,
            "width": null
          }
        },
        "1b07b23136b24dcc89c6e47829ca92cb": {
          "model_module": "@jupyter-widgets/controls",
          "model_name": "DescriptionStyleModel",
          "model_module_version": "1.5.0",
          "state": {
            "_model_module": "@jupyter-widgets/controls",
            "_model_module_version": "1.5.0",
            "_model_name": "DescriptionStyleModel",
            "_view_count": null,
            "_view_module": "@jupyter-widgets/base",
            "_view_module_version": "1.2.0",
            "_view_name": "StyleView",
            "description_width": ""
          }
        },
        "8e0c1146eaf74151952879a6918f925d": {
          "model_module": "@jupyter-widgets/base",
          "model_name": "LayoutModel",
          "model_module_version": "1.2.0",
          "state": {
            "_model_module": "@jupyter-widgets/base",
            "_model_module_version": "1.2.0",
            "_model_name": "LayoutModel",
            "_view_count": null,
            "_view_module": "@jupyter-widgets/base",
            "_view_module_version": "1.2.0",
            "_view_name": "LayoutView",
            "align_content": null,
            "align_items": null,
            "align_self": null,
            "border": null,
            "bottom": null,
            "display": null,
            "flex": null,
            "flex_flow": null,
            "grid_area": null,
            "grid_auto_columns": null,
            "grid_auto_flow": null,
            "grid_auto_rows": null,
            "grid_column": null,
            "grid_gap": null,
            "grid_row": null,
            "grid_template_areas": null,
            "grid_template_columns": null,
            "grid_template_rows": null,
            "height": null,
            "justify_content": null,
            "justify_items": null,
            "left": null,
            "margin": null,
            "max_height": null,
            "max_width": null,
            "min_height": null,
            "min_width": null,
            "object_fit": null,
            "object_position": null,
            "order": null,
            "overflow": null,
            "overflow_x": null,
            "overflow_y": null,
            "padding": null,
            "right": null,
            "top": null,
            "visibility": null,
            "width": null
          }
        },
        "676818f19d14452c9260302a38472b6c": {
          "model_module": "@jupyter-widgets/controls",
          "model_name": "ProgressStyleModel",
          "model_module_version": "1.5.0",
          "state": {
            "_model_module": "@jupyter-widgets/controls",
            "_model_module_version": "1.5.0",
            "_model_name": "ProgressStyleModel",
            "_view_count": null,
            "_view_module": "@jupyter-widgets/base",
            "_view_module_version": "1.2.0",
            "_view_name": "StyleView",
            "bar_color": null,
            "description_width": ""
          }
        },
        "3afbc18fb7bd4129ad1e211db09cf655": {
          "model_module": "@jupyter-widgets/base",
          "model_name": "LayoutModel",
          "model_module_version": "1.2.0",
          "state": {
            "_model_module": "@jupyter-widgets/base",
            "_model_module_version": "1.2.0",
            "_model_name": "LayoutModel",
            "_view_count": null,
            "_view_module": "@jupyter-widgets/base",
            "_view_module_version": "1.2.0",
            "_view_name": "LayoutView",
            "align_content": null,
            "align_items": null,
            "align_self": null,
            "border": null,
            "bottom": null,
            "display": null,
            "flex": null,
            "flex_flow": null,
            "grid_area": null,
            "grid_auto_columns": null,
            "grid_auto_flow": null,
            "grid_auto_rows": null,
            "grid_column": null,
            "grid_gap": null,
            "grid_row": null,
            "grid_template_areas": null,
            "grid_template_columns": null,
            "grid_template_rows": null,
            "height": null,
            "justify_content": null,
            "justify_items": null,
            "left": null,
            "margin": null,
            "max_height": null,
            "max_width": null,
            "min_height": null,
            "min_width": null,
            "object_fit": null,
            "object_position": null,
            "order": null,
            "overflow": null,
            "overflow_x": null,
            "overflow_y": null,
            "padding": null,
            "right": null,
            "top": null,
            "visibility": null,
            "width": null
          }
        },
        "f84fb0b119a749689400f04c1b7b1b98": {
          "model_module": "@jupyter-widgets/controls",
          "model_name": "DescriptionStyleModel",
          "model_module_version": "1.5.0",
          "state": {
            "_model_module": "@jupyter-widgets/controls",
            "_model_module_version": "1.5.0",
            "_model_name": "DescriptionStyleModel",
            "_view_count": null,
            "_view_module": "@jupyter-widgets/base",
            "_view_module_version": "1.2.0",
            "_view_name": "StyleView",
            "description_width": ""
          }
        },
        "26bdb4aab3ba43b6b9ea9c544e476792": {
          "model_module": "@jupyter-widgets/controls",
          "model_name": "HBoxModel",
          "model_module_version": "1.5.0",
          "state": {
            "_dom_classes": [],
            "_model_module": "@jupyter-widgets/controls",
            "_model_module_version": "1.5.0",
            "_model_name": "HBoxModel",
            "_view_count": null,
            "_view_module": "@jupyter-widgets/controls",
            "_view_module_version": "1.5.0",
            "_view_name": "HBoxView",
            "box_style": "",
            "children": [
              "IPY_MODEL_f5f6f5568e6448a79f9c872dc30cfb8b",
              "IPY_MODEL_72ead08cd9674b79aca105c95b03acfc",
              "IPY_MODEL_b335b90b5f5547e3bedaf2d612bde447"
            ],
            "layout": "IPY_MODEL_9f3161d6305b4cc68893e36eebf44269"
          }
        },
        "f5f6f5568e6448a79f9c872dc30cfb8b": {
          "model_module": "@jupyter-widgets/controls",
          "model_name": "HTMLModel",
          "model_module_version": "1.5.0",
          "state": {
            "_dom_classes": [],
            "_model_module": "@jupyter-widgets/controls",
            "_model_module_version": "1.5.0",
            "_model_name": "HTMLModel",
            "_view_count": null,
            "_view_module": "@jupyter-widgets/controls",
            "_view_module_version": "1.5.0",
            "_view_name": "HTMLView",
            "description": "",
            "description_tooltip": null,
            "layout": "IPY_MODEL_6115154c9c724761a7cf8279c5f43a9a",
            "placeholder": "​",
            "style": "IPY_MODEL_81eaa36beb2042ab8bff9a9f5aa4cc35",
            "value": "config.json: 100%"
          }
        },
        "72ead08cd9674b79aca105c95b03acfc": {
          "model_module": "@jupyter-widgets/controls",
          "model_name": "FloatProgressModel",
          "model_module_version": "1.5.0",
          "state": {
            "_dom_classes": [],
            "_model_module": "@jupyter-widgets/controls",
            "_model_module_version": "1.5.0",
            "_model_name": "FloatProgressModel",
            "_view_count": null,
            "_view_module": "@jupyter-widgets/controls",
            "_view_module_version": "1.5.0",
            "_view_name": "ProgressView",
            "bar_style": "success",
            "description": "",
            "description_tooltip": null,
            "layout": "IPY_MODEL_73eead137008430fadebf59558207cf8",
            "max": 1064,
            "min": 0,
            "orientation": "horizontal",
            "style": "IPY_MODEL_9853ed27f5084eaab03e194a31eaba35",
            "value": 1064
          }
        },
        "b335b90b5f5547e3bedaf2d612bde447": {
          "model_module": "@jupyter-widgets/controls",
          "model_name": "HTMLModel",
          "model_module_version": "1.5.0",
          "state": {
            "_dom_classes": [],
            "_model_module": "@jupyter-widgets/controls",
            "_model_module_version": "1.5.0",
            "_model_name": "HTMLModel",
            "_view_count": null,
            "_view_module": "@jupyter-widgets/controls",
            "_view_module_version": "1.5.0",
            "_view_name": "HTMLView",
            "description": "",
            "description_tooltip": null,
            "layout": "IPY_MODEL_2ccf3d6c3b2c4cb883d08d7eaf38fca4",
            "placeholder": "​",
            "style": "IPY_MODEL_002abfe10a3141a0bb26f328dc82d9fd",
            "value": " 1.06k/1.06k [00:00&lt;00:00, 61.5kB/s]"
          }
        },
        "9f3161d6305b4cc68893e36eebf44269": {
          "model_module": "@jupyter-widgets/base",
          "model_name": "LayoutModel",
          "model_module_version": "1.2.0",
          "state": {
            "_model_module": "@jupyter-widgets/base",
            "_model_module_version": "1.2.0",
            "_model_name": "LayoutModel",
            "_view_count": null,
            "_view_module": "@jupyter-widgets/base",
            "_view_module_version": "1.2.0",
            "_view_name": "LayoutView",
            "align_content": null,
            "align_items": null,
            "align_self": null,
            "border": null,
            "bottom": null,
            "display": null,
            "flex": null,
            "flex_flow": null,
            "grid_area": null,
            "grid_auto_columns": null,
            "grid_auto_flow": null,
            "grid_auto_rows": null,
            "grid_column": null,
            "grid_gap": null,
            "grid_row": null,
            "grid_template_areas": null,
            "grid_template_columns": null,
            "grid_template_rows": null,
            "height": null,
            "justify_content": null,
            "justify_items": null,
            "left": null,
            "margin": null,
            "max_height": null,
            "max_width": null,
            "min_height": null,
            "min_width": null,
            "object_fit": null,
            "object_position": null,
            "order": null,
            "overflow": null,
            "overflow_x": null,
            "overflow_y": null,
            "padding": null,
            "right": null,
            "top": null,
            "visibility": null,
            "width": null
          }
        },
        "6115154c9c724761a7cf8279c5f43a9a": {
          "model_module": "@jupyter-widgets/base",
          "model_name": "LayoutModel",
          "model_module_version": "1.2.0",
          "state": {
            "_model_module": "@jupyter-widgets/base",
            "_model_module_version": "1.2.0",
            "_model_name": "LayoutModel",
            "_view_count": null,
            "_view_module": "@jupyter-widgets/base",
            "_view_module_version": "1.2.0",
            "_view_name": "LayoutView",
            "align_content": null,
            "align_items": null,
            "align_self": null,
            "border": null,
            "bottom": null,
            "display": null,
            "flex": null,
            "flex_flow": null,
            "grid_area": null,
            "grid_auto_columns": null,
            "grid_auto_flow": null,
            "grid_auto_rows": null,
            "grid_column": null,
            "grid_gap": null,
            "grid_row": null,
            "grid_template_areas": null,
            "grid_template_columns": null,
            "grid_template_rows": null,
            "height": null,
            "justify_content": null,
            "justify_items": null,
            "left": null,
            "margin": null,
            "max_height": null,
            "max_width": null,
            "min_height": null,
            "min_width": null,
            "object_fit": null,
            "object_position": null,
            "order": null,
            "overflow": null,
            "overflow_x": null,
            "overflow_y": null,
            "padding": null,
            "right": null,
            "top": null,
            "visibility": null,
            "width": null
          }
        },
        "81eaa36beb2042ab8bff9a9f5aa4cc35": {
          "model_module": "@jupyter-widgets/controls",
          "model_name": "DescriptionStyleModel",
          "model_module_version": "1.5.0",
          "state": {
            "_model_module": "@jupyter-widgets/controls",
            "_model_module_version": "1.5.0",
            "_model_name": "DescriptionStyleModel",
            "_view_count": null,
            "_view_module": "@jupyter-widgets/base",
            "_view_module_version": "1.2.0",
            "_view_name": "StyleView",
            "description_width": ""
          }
        },
        "73eead137008430fadebf59558207cf8": {
          "model_module": "@jupyter-widgets/base",
          "model_name": "LayoutModel",
          "model_module_version": "1.2.0",
          "state": {
            "_model_module": "@jupyter-widgets/base",
            "_model_module_version": "1.2.0",
            "_model_name": "LayoutModel",
            "_view_count": null,
            "_view_module": "@jupyter-widgets/base",
            "_view_module_version": "1.2.0",
            "_view_name": "LayoutView",
            "align_content": null,
            "align_items": null,
            "align_self": null,
            "border": null,
            "bottom": null,
            "display": null,
            "flex": null,
            "flex_flow": null,
            "grid_area": null,
            "grid_auto_columns": null,
            "grid_auto_flow": null,
            "grid_auto_rows": null,
            "grid_column": null,
            "grid_gap": null,
            "grid_row": null,
            "grid_template_areas": null,
            "grid_template_columns": null,
            "grid_template_rows": null,
            "height": null,
            "justify_content": null,
            "justify_items": null,
            "left": null,
            "margin": null,
            "max_height": null,
            "max_width": null,
            "min_height": null,
            "min_width": null,
            "object_fit": null,
            "object_position": null,
            "order": null,
            "overflow": null,
            "overflow_x": null,
            "overflow_y": null,
            "padding": null,
            "right": null,
            "top": null,
            "visibility": null,
            "width": null
          }
        },
        "9853ed27f5084eaab03e194a31eaba35": {
          "model_module": "@jupyter-widgets/controls",
          "model_name": "ProgressStyleModel",
          "model_module_version": "1.5.0",
          "state": {
            "_model_module": "@jupyter-widgets/controls",
            "_model_module_version": "1.5.0",
            "_model_name": "ProgressStyleModel",
            "_view_count": null,
            "_view_module": "@jupyter-widgets/base",
            "_view_module_version": "1.2.0",
            "_view_name": "StyleView",
            "bar_color": null,
            "description_width": ""
          }
        },
        "2ccf3d6c3b2c4cb883d08d7eaf38fca4": {
          "model_module": "@jupyter-widgets/base",
          "model_name": "LayoutModel",
          "model_module_version": "1.2.0",
          "state": {
            "_model_module": "@jupyter-widgets/base",
            "_model_module_version": "1.2.0",
            "_model_name": "LayoutModel",
            "_view_count": null,
            "_view_module": "@jupyter-widgets/base",
            "_view_module_version": "1.2.0",
            "_view_name": "LayoutView",
            "align_content": null,
            "align_items": null,
            "align_self": null,
            "border": null,
            "bottom": null,
            "display": null,
            "flex": null,
            "flex_flow": null,
            "grid_area": null,
            "grid_auto_columns": null,
            "grid_auto_flow": null,
            "grid_auto_rows": null,
            "grid_column": null,
            "grid_gap": null,
            "grid_row": null,
            "grid_template_areas": null,
            "grid_template_columns": null,
            "grid_template_rows": null,
            "height": null,
            "justify_content": null,
            "justify_items": null,
            "left": null,
            "margin": null,
            "max_height": null,
            "max_width": null,
            "min_height": null,
            "min_width": null,
            "object_fit": null,
            "object_position": null,
            "order": null,
            "overflow": null,
            "overflow_x": null,
            "overflow_y": null,
            "padding": null,
            "right": null,
            "top": null,
            "visibility": null,
            "width": null
          }
        },
        "002abfe10a3141a0bb26f328dc82d9fd": {
          "model_module": "@jupyter-widgets/controls",
          "model_name": "DescriptionStyleModel",
          "model_module_version": "1.5.0",
          "state": {
            "_model_module": "@jupyter-widgets/controls",
            "_model_module_version": "1.5.0",
            "_model_name": "DescriptionStyleModel",
            "_view_count": null,
            "_view_module": "@jupyter-widgets/base",
            "_view_module_version": "1.2.0",
            "_view_name": "StyleView",
            "description_width": ""
          }
        },
        "2066484c220f4518bc34faf968deada8": {
          "model_module": "@jupyter-widgets/controls",
          "model_name": "HBoxModel",
          "model_module_version": "1.5.0",
          "state": {
            "_dom_classes": [],
            "_model_module": "@jupyter-widgets/controls",
            "_model_module_version": "1.5.0",
            "_model_name": "HBoxModel",
            "_view_count": null,
            "_view_module": "@jupyter-widgets/controls",
            "_view_module_version": "1.5.0",
            "_view_name": "HBoxView",
            "box_style": "",
            "children": [
              "IPY_MODEL_03c96dea070944aa9330789c7f998bfc",
              "IPY_MODEL_8faf8158a1984520aaf9bd0dfe0fad5d",
              "IPY_MODEL_f67f30337ff3473688d83e013c7e39b5"
            ],
            "layout": "IPY_MODEL_e5855569ec654893800d513323721e21"
          }
        },
        "03c96dea070944aa9330789c7f998bfc": {
          "model_module": "@jupyter-widgets/controls",
          "model_name": "HTMLModel",
          "model_module_version": "1.5.0",
          "state": {
            "_dom_classes": [],
            "_model_module": "@jupyter-widgets/controls",
            "_model_module_version": "1.5.0",
            "_model_name": "HTMLModel",
            "_view_count": null,
            "_view_module": "@jupyter-widgets/controls",
            "_view_module_version": "1.5.0",
            "_view_name": "HTMLView",
            "description": "",
            "description_tooltip": null,
            "layout": "IPY_MODEL_cd85cdcb39364946b2342e92b6cf4136",
            "placeholder": "​",
            "style": "IPY_MODEL_8aa8e10d427949fb88926127c4278314",
            "value": "esm_config.py: 100%"
          }
        },
        "8faf8158a1984520aaf9bd0dfe0fad5d": {
          "model_module": "@jupyter-widgets/controls",
          "model_name": "FloatProgressModel",
          "model_module_version": "1.5.0",
          "state": {
            "_dom_classes": [],
            "_model_module": "@jupyter-widgets/controls",
            "_model_module_version": "1.5.0",
            "_model_name": "FloatProgressModel",
            "_view_count": null,
            "_view_module": "@jupyter-widgets/controls",
            "_view_module_version": "1.5.0",
            "_view_name": "ProgressView",
            "bar_style": "success",
            "description": "",
            "description_tooltip": null,
            "layout": "IPY_MODEL_951b561f15d741f9816eae27a711c218",
            "max": 14876,
            "min": 0,
            "orientation": "horizontal",
            "style": "IPY_MODEL_0ca39ee836724de78f276deedaabc122",
            "value": 14876
          }
        },
        "f67f30337ff3473688d83e013c7e39b5": {
          "model_module": "@jupyter-widgets/controls",
          "model_name": "HTMLModel",
          "model_module_version": "1.5.0",
          "state": {
            "_dom_classes": [],
            "_model_module": "@jupyter-widgets/controls",
            "_model_module_version": "1.5.0",
            "_model_name": "HTMLModel",
            "_view_count": null,
            "_view_module": "@jupyter-widgets/controls",
            "_view_module_version": "1.5.0",
            "_view_name": "HTMLView",
            "description": "",
            "description_tooltip": null,
            "layout": "IPY_MODEL_9f378dc0e10048a9b2a1993deaf71259",
            "placeholder": "​",
            "style": "IPY_MODEL_939a42c5d8dc4db0963b07f944b49b1d",
            "value": " 14.9k/14.9k [00:00&lt;00:00, 1.10MB/s]"
          }
        },
        "e5855569ec654893800d513323721e21": {
          "model_module": "@jupyter-widgets/base",
          "model_name": "LayoutModel",
          "model_module_version": "1.2.0",
          "state": {
            "_model_module": "@jupyter-widgets/base",
            "_model_module_version": "1.2.0",
            "_model_name": "LayoutModel",
            "_view_count": null,
            "_view_module": "@jupyter-widgets/base",
            "_view_module_version": "1.2.0",
            "_view_name": "LayoutView",
            "align_content": null,
            "align_items": null,
            "align_self": null,
            "border": null,
            "bottom": null,
            "display": null,
            "flex": null,
            "flex_flow": null,
            "grid_area": null,
            "grid_auto_columns": null,
            "grid_auto_flow": null,
            "grid_auto_rows": null,
            "grid_column": null,
            "grid_gap": null,
            "grid_row": null,
            "grid_template_areas": null,
            "grid_template_columns": null,
            "grid_template_rows": null,
            "height": null,
            "justify_content": null,
            "justify_items": null,
            "left": null,
            "margin": null,
            "max_height": null,
            "max_width": null,
            "min_height": null,
            "min_width": null,
            "object_fit": null,
            "object_position": null,
            "order": null,
            "overflow": null,
            "overflow_x": null,
            "overflow_y": null,
            "padding": null,
            "right": null,
            "top": null,
            "visibility": null,
            "width": null
          }
        },
        "cd85cdcb39364946b2342e92b6cf4136": {
          "model_module": "@jupyter-widgets/base",
          "model_name": "LayoutModel",
          "model_module_version": "1.2.0",
          "state": {
            "_model_module": "@jupyter-widgets/base",
            "_model_module_version": "1.2.0",
            "_model_name": "LayoutModel",
            "_view_count": null,
            "_view_module": "@jupyter-widgets/base",
            "_view_module_version": "1.2.0",
            "_view_name": "LayoutView",
            "align_content": null,
            "align_items": null,
            "align_self": null,
            "border": null,
            "bottom": null,
            "display": null,
            "flex": null,
            "flex_flow": null,
            "grid_area": null,
            "grid_auto_columns": null,
            "grid_auto_flow": null,
            "grid_auto_rows": null,
            "grid_column": null,
            "grid_gap": null,
            "grid_row": null,
            "grid_template_areas": null,
            "grid_template_columns": null,
            "grid_template_rows": null,
            "height": null,
            "justify_content": null,
            "justify_items": null,
            "left": null,
            "margin": null,
            "max_height": null,
            "max_width": null,
            "min_height": null,
            "min_width": null,
            "object_fit": null,
            "object_position": null,
            "order": null,
            "overflow": null,
            "overflow_x": null,
            "overflow_y": null,
            "padding": null,
            "right": null,
            "top": null,
            "visibility": null,
            "width": null
          }
        },
        "8aa8e10d427949fb88926127c4278314": {
          "model_module": "@jupyter-widgets/controls",
          "model_name": "DescriptionStyleModel",
          "model_module_version": "1.5.0",
          "state": {
            "_model_module": "@jupyter-widgets/controls",
            "_model_module_version": "1.5.0",
            "_model_name": "DescriptionStyleModel",
            "_view_count": null,
            "_view_module": "@jupyter-widgets/base",
            "_view_module_version": "1.2.0",
            "_view_name": "StyleView",
            "description_width": ""
          }
        },
        "951b561f15d741f9816eae27a711c218": {
          "model_module": "@jupyter-widgets/base",
          "model_name": "LayoutModel",
          "model_module_version": "1.2.0",
          "state": {
            "_model_module": "@jupyter-widgets/base",
            "_model_module_version": "1.2.0",
            "_model_name": "LayoutModel",
            "_view_count": null,
            "_view_module": "@jupyter-widgets/base",
            "_view_module_version": "1.2.0",
            "_view_name": "LayoutView",
            "align_content": null,
            "align_items": null,
            "align_self": null,
            "border": null,
            "bottom": null,
            "display": null,
            "flex": null,
            "flex_flow": null,
            "grid_area": null,
            "grid_auto_columns": null,
            "grid_auto_flow": null,
            "grid_auto_rows": null,
            "grid_column": null,
            "grid_gap": null,
            "grid_row": null,
            "grid_template_areas": null,
            "grid_template_columns": null,
            "grid_template_rows": null,
            "height": null,
            "justify_content": null,
            "justify_items": null,
            "left": null,
            "margin": null,
            "max_height": null,
            "max_width": null,
            "min_height": null,
            "min_width": null,
            "object_fit": null,
            "object_position": null,
            "order": null,
            "overflow": null,
            "overflow_x": null,
            "overflow_y": null,
            "padding": null,
            "right": null,
            "top": null,
            "visibility": null,
            "width": null
          }
        },
        "0ca39ee836724de78f276deedaabc122": {
          "model_module": "@jupyter-widgets/controls",
          "model_name": "ProgressStyleModel",
          "model_module_version": "1.5.0",
          "state": {
            "_model_module": "@jupyter-widgets/controls",
            "_model_module_version": "1.5.0",
            "_model_name": "ProgressStyleModel",
            "_view_count": null,
            "_view_module": "@jupyter-widgets/base",
            "_view_module_version": "1.2.0",
            "_view_name": "StyleView",
            "bar_color": null,
            "description_width": ""
          }
        },
        "9f378dc0e10048a9b2a1993deaf71259": {
          "model_module": "@jupyter-widgets/base",
          "model_name": "LayoutModel",
          "model_module_version": "1.2.0",
          "state": {
            "_model_module": "@jupyter-widgets/base",
            "_model_module_version": "1.2.0",
            "_model_name": "LayoutModel",
            "_view_count": null,
            "_view_module": "@jupyter-widgets/base",
            "_view_module_version": "1.2.0",
            "_view_name": "LayoutView",
            "align_content": null,
            "align_items": null,
            "align_self": null,
            "border": null,
            "bottom": null,
            "display": null,
            "flex": null,
            "flex_flow": null,
            "grid_area": null,
            "grid_auto_columns": null,
            "grid_auto_flow": null,
            "grid_auto_rows": null,
            "grid_column": null,
            "grid_gap": null,
            "grid_row": null,
            "grid_template_areas": null,
            "grid_template_columns": null,
            "grid_template_rows": null,
            "height": null,
            "justify_content": null,
            "justify_items": null,
            "left": null,
            "margin": null,
            "max_height": null,
            "max_width": null,
            "min_height": null,
            "min_width": null,
            "object_fit": null,
            "object_position": null,
            "order": null,
            "overflow": null,
            "overflow_x": null,
            "overflow_y": null,
            "padding": null,
            "right": null,
            "top": null,
            "visibility": null,
            "width": null
          }
        },
        "939a42c5d8dc4db0963b07f944b49b1d": {
          "model_module": "@jupyter-widgets/controls",
          "model_name": "DescriptionStyleModel",
          "model_module_version": "1.5.0",
          "state": {
            "_model_module": "@jupyter-widgets/controls",
            "_model_module_version": "1.5.0",
            "_model_name": "DescriptionStyleModel",
            "_view_count": null,
            "_view_module": "@jupyter-widgets/base",
            "_view_module_version": "1.2.0",
            "_view_name": "StyleView",
            "description_width": ""
          }
        },
        "0b75dd8ae85b43dcbad49ef5bbb2857e": {
          "model_module": "@jupyter-widgets/controls",
          "model_name": "HBoxModel",
          "model_module_version": "1.5.0",
          "state": {
            "_dom_classes": [],
            "_model_module": "@jupyter-widgets/controls",
            "_model_module_version": "1.5.0",
            "_model_name": "HBoxModel",
            "_view_count": null,
            "_view_module": "@jupyter-widgets/controls",
            "_view_module_version": "1.5.0",
            "_view_name": "HBoxView",
            "box_style": "",
            "children": [
              "IPY_MODEL_f3a1510a34824b9ea795c1213cc65eaa",
              "IPY_MODEL_73bd1f48e25c403e83f17a95acb8343c",
              "IPY_MODEL_8af4e38069e3484684961368c3ff11bb"
            ],
            "layout": "IPY_MODEL_75580026d16a4b12ae5a82c831affb38"
          }
        },
        "f3a1510a34824b9ea795c1213cc65eaa": {
          "model_module": "@jupyter-widgets/controls",
          "model_name": "HTMLModel",
          "model_module_version": "1.5.0",
          "state": {
            "_dom_classes": [],
            "_model_module": "@jupyter-widgets/controls",
            "_model_module_version": "1.5.0",
            "_model_name": "HTMLModel",
            "_view_count": null,
            "_view_module": "@jupyter-widgets/controls",
            "_view_module_version": "1.5.0",
            "_view_name": "HTMLView",
            "description": "",
            "description_tooltip": null,
            "layout": "IPY_MODEL_8847131632024bef8a84fac21f2c021b",
            "placeholder": "​",
            "style": "IPY_MODEL_084b08dd78874cb2be079b07dc75a4be",
            "value": "modeling_esm.py: 100%"
          }
        },
        "73bd1f48e25c403e83f17a95acb8343c": {
          "model_module": "@jupyter-widgets/controls",
          "model_name": "FloatProgressModel",
          "model_module_version": "1.5.0",
          "state": {
            "_dom_classes": [],
            "_model_module": "@jupyter-widgets/controls",
            "_model_module_version": "1.5.0",
            "_model_name": "FloatProgressModel",
            "_view_count": null,
            "_view_module": "@jupyter-widgets/controls",
            "_view_module_version": "1.5.0",
            "_view_name": "ProgressView",
            "bar_style": "success",
            "description": "",
            "description_tooltip": null,
            "layout": "IPY_MODEL_f8deeea08b734c7e9f4fc9716b4b339e",
            "max": 58184,
            "min": 0,
            "orientation": "horizontal",
            "style": "IPY_MODEL_39d4718422c44542a9877a2279be038d",
            "value": 58184
          }
        },
        "8af4e38069e3484684961368c3ff11bb": {
          "model_module": "@jupyter-widgets/controls",
          "model_name": "HTMLModel",
          "model_module_version": "1.5.0",
          "state": {
            "_dom_classes": [],
            "_model_module": "@jupyter-widgets/controls",
            "_model_module_version": "1.5.0",
            "_model_name": "HTMLModel",
            "_view_count": null,
            "_view_module": "@jupyter-widgets/controls",
            "_view_module_version": "1.5.0",
            "_view_name": "HTMLView",
            "description": "",
            "description_tooltip": null,
            "layout": "IPY_MODEL_7f6160bae63e499e846084d759552daf",
            "placeholder": "​",
            "style": "IPY_MODEL_c5f93736ea8b40c6be5cd0cbd19f28be",
            "value": " 58.2k/58.2k [00:00&lt;00:00, 3.07MB/s]"
          }
        },
        "75580026d16a4b12ae5a82c831affb38": {
          "model_module": "@jupyter-widgets/base",
          "model_name": "LayoutModel",
          "model_module_version": "1.2.0",
          "state": {
            "_model_module": "@jupyter-widgets/base",
            "_model_module_version": "1.2.0",
            "_model_name": "LayoutModel",
            "_view_count": null,
            "_view_module": "@jupyter-widgets/base",
            "_view_module_version": "1.2.0",
            "_view_name": "LayoutView",
            "align_content": null,
            "align_items": null,
            "align_self": null,
            "border": null,
            "bottom": null,
            "display": null,
            "flex": null,
            "flex_flow": null,
            "grid_area": null,
            "grid_auto_columns": null,
            "grid_auto_flow": null,
            "grid_auto_rows": null,
            "grid_column": null,
            "grid_gap": null,
            "grid_row": null,
            "grid_template_areas": null,
            "grid_template_columns": null,
            "grid_template_rows": null,
            "height": null,
            "justify_content": null,
            "justify_items": null,
            "left": null,
            "margin": null,
            "max_height": null,
            "max_width": null,
            "min_height": null,
            "min_width": null,
            "object_fit": null,
            "object_position": null,
            "order": null,
            "overflow": null,
            "overflow_x": null,
            "overflow_y": null,
            "padding": null,
            "right": null,
            "top": null,
            "visibility": null,
            "width": null
          }
        },
        "8847131632024bef8a84fac21f2c021b": {
          "model_module": "@jupyter-widgets/base",
          "model_name": "LayoutModel",
          "model_module_version": "1.2.0",
          "state": {
            "_model_module": "@jupyter-widgets/base",
            "_model_module_version": "1.2.0",
            "_model_name": "LayoutModel",
            "_view_count": null,
            "_view_module": "@jupyter-widgets/base",
            "_view_module_version": "1.2.0",
            "_view_name": "LayoutView",
            "align_content": null,
            "align_items": null,
            "align_self": null,
            "border": null,
            "bottom": null,
            "display": null,
            "flex": null,
            "flex_flow": null,
            "grid_area": null,
            "grid_auto_columns": null,
            "grid_auto_flow": null,
            "grid_auto_rows": null,
            "grid_column": null,
            "grid_gap": null,
            "grid_row": null,
            "grid_template_areas": null,
            "grid_template_columns": null,
            "grid_template_rows": null,
            "height": null,
            "justify_content": null,
            "justify_items": null,
            "left": null,
            "margin": null,
            "max_height": null,
            "max_width": null,
            "min_height": null,
            "min_width": null,
            "object_fit": null,
            "object_position": null,
            "order": null,
            "overflow": null,
            "overflow_x": null,
            "overflow_y": null,
            "padding": null,
            "right": null,
            "top": null,
            "visibility": null,
            "width": null
          }
        },
        "084b08dd78874cb2be079b07dc75a4be": {
          "model_module": "@jupyter-widgets/controls",
          "model_name": "DescriptionStyleModel",
          "model_module_version": "1.5.0",
          "state": {
            "_model_module": "@jupyter-widgets/controls",
            "_model_module_version": "1.5.0",
            "_model_name": "DescriptionStyleModel",
            "_view_count": null,
            "_view_module": "@jupyter-widgets/base",
            "_view_module_version": "1.2.0",
            "_view_name": "StyleView",
            "description_width": ""
          }
        },
        "f8deeea08b734c7e9f4fc9716b4b339e": {
          "model_module": "@jupyter-widgets/base",
          "model_name": "LayoutModel",
          "model_module_version": "1.2.0",
          "state": {
            "_model_module": "@jupyter-widgets/base",
            "_model_module_version": "1.2.0",
            "_model_name": "LayoutModel",
            "_view_count": null,
            "_view_module": "@jupyter-widgets/base",
            "_view_module_version": "1.2.0",
            "_view_name": "LayoutView",
            "align_content": null,
            "align_items": null,
            "align_self": null,
            "border": null,
            "bottom": null,
            "display": null,
            "flex": null,
            "flex_flow": null,
            "grid_area": null,
            "grid_auto_columns": null,
            "grid_auto_flow": null,
            "grid_auto_rows": null,
            "grid_column": null,
            "grid_gap": null,
            "grid_row": null,
            "grid_template_areas": null,
            "grid_template_columns": null,
            "grid_template_rows": null,
            "height": null,
            "justify_content": null,
            "justify_items": null,
            "left": null,
            "margin": null,
            "max_height": null,
            "max_width": null,
            "min_height": null,
            "min_width": null,
            "object_fit": null,
            "object_position": null,
            "order": null,
            "overflow": null,
            "overflow_x": null,
            "overflow_y": null,
            "padding": null,
            "right": null,
            "top": null,
            "visibility": null,
            "width": null
          }
        },
        "39d4718422c44542a9877a2279be038d": {
          "model_module": "@jupyter-widgets/controls",
          "model_name": "ProgressStyleModel",
          "model_module_version": "1.5.0",
          "state": {
            "_model_module": "@jupyter-widgets/controls",
            "_model_module_version": "1.5.0",
            "_model_name": "ProgressStyleModel",
            "_view_count": null,
            "_view_module": "@jupyter-widgets/base",
            "_view_module_version": "1.2.0",
            "_view_name": "StyleView",
            "bar_color": null,
            "description_width": ""
          }
        },
        "7f6160bae63e499e846084d759552daf": {
          "model_module": "@jupyter-widgets/base",
          "model_name": "LayoutModel",
          "model_module_version": "1.2.0",
          "state": {
            "_model_module": "@jupyter-widgets/base",
            "_model_module_version": "1.2.0",
            "_model_name": "LayoutModel",
            "_view_count": null,
            "_view_module": "@jupyter-widgets/base",
            "_view_module_version": "1.2.0",
            "_view_name": "LayoutView",
            "align_content": null,
            "align_items": null,
            "align_self": null,
            "border": null,
            "bottom": null,
            "display": null,
            "flex": null,
            "flex_flow": null,
            "grid_area": null,
            "grid_auto_columns": null,
            "grid_auto_flow": null,
            "grid_auto_rows": null,
            "grid_column": null,
            "grid_gap": null,
            "grid_row": null,
            "grid_template_areas": null,
            "grid_template_columns": null,
            "grid_template_rows": null,
            "height": null,
            "justify_content": null,
            "justify_items": null,
            "left": null,
            "margin": null,
            "max_height": null,
            "max_width": null,
            "min_height": null,
            "min_width": null,
            "object_fit": null,
            "object_position": null,
            "order": null,
            "overflow": null,
            "overflow_x": null,
            "overflow_y": null,
            "padding": null,
            "right": null,
            "top": null,
            "visibility": null,
            "width": null
          }
        },
        "c5f93736ea8b40c6be5cd0cbd19f28be": {
          "model_module": "@jupyter-widgets/controls",
          "model_name": "DescriptionStyleModel",
          "model_module_version": "1.5.0",
          "state": {
            "_model_module": "@jupyter-widgets/controls",
            "_model_module_version": "1.5.0",
            "_model_name": "DescriptionStyleModel",
            "_view_count": null,
            "_view_module": "@jupyter-widgets/base",
            "_view_module_version": "1.2.0",
            "_view_name": "StyleView",
            "description_width": ""
          }
        },
        "81820eedf67c42b29919f116ed3d67ee": {
          "model_module": "@jupyter-widgets/controls",
          "model_name": "HBoxModel",
          "model_module_version": "1.5.0",
          "state": {
            "_dom_classes": [],
            "_model_module": "@jupyter-widgets/controls",
            "_model_module_version": "1.5.0",
            "_model_name": "HBoxModel",
            "_view_count": null,
            "_view_module": "@jupyter-widgets/controls",
            "_view_module_version": "1.5.0",
            "_view_name": "HBoxView",
            "box_style": "",
            "children": [
              "IPY_MODEL_64221c9ff87c4a7e8c12377ed37b4018",
              "IPY_MODEL_209a35888cae4515942222ce115501d9",
              "IPY_MODEL_c3c70eaae39847a69ae7a711dac9fb4e"
            ],
            "layout": "IPY_MODEL_cec063d881ab43d59f4e2d642881f814"
          }
        },
        "64221c9ff87c4a7e8c12377ed37b4018": {
          "model_module": "@jupyter-widgets/controls",
          "model_name": "HTMLModel",
          "model_module_version": "1.5.0",
          "state": {
            "_dom_classes": [],
            "_model_module": "@jupyter-widgets/controls",
            "_model_module_version": "1.5.0",
            "_model_name": "HTMLModel",
            "_view_count": null,
            "_view_module": "@jupyter-widgets/controls",
            "_view_module_version": "1.5.0",
            "_view_name": "HTMLView",
            "description": "",
            "description_tooltip": null,
            "layout": "IPY_MODEL_39dbc2a2a80f4b63a2e1706c64005a0a",
            "placeholder": "​",
            "style": "IPY_MODEL_61ee0eaacf154e7c8c44709262c09042",
            "value": "model.safetensors: 100%"
          }
        },
        "209a35888cae4515942222ce115501d9": {
          "model_module": "@jupyter-widgets/controls",
          "model_name": "FloatProgressModel",
          "model_module_version": "1.5.0",
          "state": {
            "_dom_classes": [],
            "_model_module": "@jupyter-widgets/controls",
            "_model_module_version": "1.5.0",
            "_model_name": "FloatProgressModel",
            "_view_count": null,
            "_view_module": "@jupyter-widgets/controls",
            "_view_module_version": "1.5.0",
            "_view_name": "ProgressView",
            "bar_style": "success",
            "description": "",
            "description_tooltip": null,
            "layout": "IPY_MODEL_4b592f2a28564ec29e50cea4f986a566",
            "max": 391597600,
            "min": 0,
            "orientation": "horizontal",
            "style": "IPY_MODEL_b1ef4e669fad44f69577bcb538dd32e7",
            "value": 391597600
          }
        },
        "c3c70eaae39847a69ae7a711dac9fb4e": {
          "model_module": "@jupyter-widgets/controls",
          "model_name": "HTMLModel",
          "model_module_version": "1.5.0",
          "state": {
            "_dom_classes": [],
            "_model_module": "@jupyter-widgets/controls",
            "_model_module_version": "1.5.0",
            "_model_name": "HTMLModel",
            "_view_count": null,
            "_view_module": "@jupyter-widgets/controls",
            "_view_module_version": "1.5.0",
            "_view_name": "HTMLView",
            "description": "",
            "description_tooltip": null,
            "layout": "IPY_MODEL_77fd27880aea432b8a6ffc4358ef0362",
            "placeholder": "​",
            "style": "IPY_MODEL_b207b70ea4ab4ce5bfa0f1b40d2bb138",
            "value": " 392M/392M [00:06&lt;00:00, 57.3MB/s]"
          }
        },
        "cec063d881ab43d59f4e2d642881f814": {
          "model_module": "@jupyter-widgets/base",
          "model_name": "LayoutModel",
          "model_module_version": "1.2.0",
          "state": {
            "_model_module": "@jupyter-widgets/base",
            "_model_module_version": "1.2.0",
            "_model_name": "LayoutModel",
            "_view_count": null,
            "_view_module": "@jupyter-widgets/base",
            "_view_module_version": "1.2.0",
            "_view_name": "LayoutView",
            "align_content": null,
            "align_items": null,
            "align_self": null,
            "border": null,
            "bottom": null,
            "display": null,
            "flex": null,
            "flex_flow": null,
            "grid_area": null,
            "grid_auto_columns": null,
            "grid_auto_flow": null,
            "grid_auto_rows": null,
            "grid_column": null,
            "grid_gap": null,
            "grid_row": null,
            "grid_template_areas": null,
            "grid_template_columns": null,
            "grid_template_rows": null,
            "height": null,
            "justify_content": null,
            "justify_items": null,
            "left": null,
            "margin": null,
            "max_height": null,
            "max_width": null,
            "min_height": null,
            "min_width": null,
            "object_fit": null,
            "object_position": null,
            "order": null,
            "overflow": null,
            "overflow_x": null,
            "overflow_y": null,
            "padding": null,
            "right": null,
            "top": null,
            "visibility": null,
            "width": null
          }
        },
        "39dbc2a2a80f4b63a2e1706c64005a0a": {
          "model_module": "@jupyter-widgets/base",
          "model_name": "LayoutModel",
          "model_module_version": "1.2.0",
          "state": {
            "_model_module": "@jupyter-widgets/base",
            "_model_module_version": "1.2.0",
            "_model_name": "LayoutModel",
            "_view_count": null,
            "_view_module": "@jupyter-widgets/base",
            "_view_module_version": "1.2.0",
            "_view_name": "LayoutView",
            "align_content": null,
            "align_items": null,
            "align_self": null,
            "border": null,
            "bottom": null,
            "display": null,
            "flex": null,
            "flex_flow": null,
            "grid_area": null,
            "grid_auto_columns": null,
            "grid_auto_flow": null,
            "grid_auto_rows": null,
            "grid_column": null,
            "grid_gap": null,
            "grid_row": null,
            "grid_template_areas": null,
            "grid_template_columns": null,
            "grid_template_rows": null,
            "height": null,
            "justify_content": null,
            "justify_items": null,
            "left": null,
            "margin": null,
            "max_height": null,
            "max_width": null,
            "min_height": null,
            "min_width": null,
            "object_fit": null,
            "object_position": null,
            "order": null,
            "overflow": null,
            "overflow_x": null,
            "overflow_y": null,
            "padding": null,
            "right": null,
            "top": null,
            "visibility": null,
            "width": null
          }
        },
        "61ee0eaacf154e7c8c44709262c09042": {
          "model_module": "@jupyter-widgets/controls",
          "model_name": "DescriptionStyleModel",
          "model_module_version": "1.5.0",
          "state": {
            "_model_module": "@jupyter-widgets/controls",
            "_model_module_version": "1.5.0",
            "_model_name": "DescriptionStyleModel",
            "_view_count": null,
            "_view_module": "@jupyter-widgets/base",
            "_view_module_version": "1.2.0",
            "_view_name": "StyleView",
            "description_width": ""
          }
        },
        "4b592f2a28564ec29e50cea4f986a566": {
          "model_module": "@jupyter-widgets/base",
          "model_name": "LayoutModel",
          "model_module_version": "1.2.0",
          "state": {
            "_model_module": "@jupyter-widgets/base",
            "_model_module_version": "1.2.0",
            "_model_name": "LayoutModel",
            "_view_count": null,
            "_view_module": "@jupyter-widgets/base",
            "_view_module_version": "1.2.0",
            "_view_name": "LayoutView",
            "align_content": null,
            "align_items": null,
            "align_self": null,
            "border": null,
            "bottom": null,
            "display": null,
            "flex": null,
            "flex_flow": null,
            "grid_area": null,
            "grid_auto_columns": null,
            "grid_auto_flow": null,
            "grid_auto_rows": null,
            "grid_column": null,
            "grid_gap": null,
            "grid_row": null,
            "grid_template_areas": null,
            "grid_template_columns": null,
            "grid_template_rows": null,
            "height": null,
            "justify_content": null,
            "justify_items": null,
            "left": null,
            "margin": null,
            "max_height": null,
            "max_width": null,
            "min_height": null,
            "min_width": null,
            "object_fit": null,
            "object_position": null,
            "order": null,
            "overflow": null,
            "overflow_x": null,
            "overflow_y": null,
            "padding": null,
            "right": null,
            "top": null,
            "visibility": null,
            "width": null
          }
        },
        "b1ef4e669fad44f69577bcb538dd32e7": {
          "model_module": "@jupyter-widgets/controls",
          "model_name": "ProgressStyleModel",
          "model_module_version": "1.5.0",
          "state": {
            "_model_module": "@jupyter-widgets/controls",
            "_model_module_version": "1.5.0",
            "_model_name": "ProgressStyleModel",
            "_view_count": null,
            "_view_module": "@jupyter-widgets/base",
            "_view_module_version": "1.2.0",
            "_view_name": "StyleView",
            "bar_color": null,
            "description_width": ""
          }
        },
        "77fd27880aea432b8a6ffc4358ef0362": {
          "model_module": "@jupyter-widgets/base",
          "model_name": "LayoutModel",
          "model_module_version": "1.2.0",
          "state": {
            "_model_module": "@jupyter-widgets/base",
            "_model_module_version": "1.2.0",
            "_model_name": "LayoutModel",
            "_view_count": null,
            "_view_module": "@jupyter-widgets/base",
            "_view_module_version": "1.2.0",
            "_view_name": "LayoutView",
            "align_content": null,
            "align_items": null,
            "align_self": null,
            "border": null,
            "bottom": null,
            "display": null,
            "flex": null,
            "flex_flow": null,
            "grid_area": null,
            "grid_auto_columns": null,
            "grid_auto_flow": null,
            "grid_auto_rows": null,
            "grid_column": null,
            "grid_gap": null,
            "grid_row": null,
            "grid_template_areas": null,
            "grid_template_columns": null,
            "grid_template_rows": null,
            "height": null,
            "justify_content": null,
            "justify_items": null,
            "left": null,
            "margin": null,
            "max_height": null,
            "max_width": null,
            "min_height": null,
            "min_width": null,
            "object_fit": null,
            "object_position": null,
            "order": null,
            "overflow": null,
            "overflow_x": null,
            "overflow_y": null,
            "padding": null,
            "right": null,
            "top": null,
            "visibility": null,
            "width": null
          }
        },
        "b207b70ea4ab4ce5bfa0f1b40d2bb138": {
          "model_module": "@jupyter-widgets/controls",
          "model_name": "DescriptionStyleModel",
          "model_module_version": "1.5.0",
          "state": {
            "_model_module": "@jupyter-widgets/controls",
            "_model_module_version": "1.5.0",
            "_model_name": "DescriptionStyleModel",
            "_view_count": null,
            "_view_module": "@jupyter-widgets/base",
            "_view_module_version": "1.2.0",
            "_view_name": "StyleView",
            "description_width": ""
          }
        }
      }
    }
  },
  "nbformat": 4,
  "nbformat_minor": 0
}