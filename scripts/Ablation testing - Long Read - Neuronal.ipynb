{
 "cells": [
  {
   "cell_type": "code",
   "execution_count": 1,
   "metadata": {
    "colab": {
     "base_uri": "https://localhost:8080/"
    },
    "id": "CDQlvkAJFZ5-",
    "outputId": "d8d7f6c4-e520-4268-a252-1cd511d98e22"
   },
   "outputs": [
    {
     "name": "stdout",
     "output_type": "stream",
     "text": [
      "Mounted at /content/drive\n"
     ]
    }
   ],
   "source": [
    "from google.colab import drive\n",
    "drive.mount('/content/drive')"
   ]
  },
  {
   "cell_type": "code",
   "execution_count": null,
   "metadata": {
    "colab": {
     "base_uri": "https://localhost:8080/"
    },
    "id": "hXsdKNRhEhZD",
    "outputId": "3a69b954-6a69-4827-8c7a-b0265b2d5c36"
   },
   "outputs": [
    {
     "name": "stdout",
     "output_type": "stream",
     "text": [
      "Collecting captum\n",
      "  Downloading captum-0.7.0-py3-none-any.whl.metadata (26 kB)\n",
      "Requirement already satisfied: matplotlib in /usr/local/lib/python3.10/dist-packages (from captum) (3.8.0)\n",
      "Requirement already satisfied: numpy in /usr/local/lib/python3.10/dist-packages (from captum) (1.26.4)\n",
      "Requirement already satisfied: torch>=1.6 in /usr/local/lib/python3.10/dist-packages (from captum) (2.5.1+cu121)\n",
      "Requirement already satisfied: tqdm in /usr/local/lib/python3.10/dist-packages (from captum) (4.66.6)\n",
      "Requirement already satisfied: filelock in /usr/local/lib/python3.10/dist-packages (from torch>=1.6->captum) (3.16.1)\n",
      "Requirement already satisfied: typing-extensions>=4.8.0 in /usr/local/lib/python3.10/dist-packages (from torch>=1.6->captum) (4.12.2)\n",
      "Requirement already satisfied: networkx in /usr/local/lib/python3.10/dist-packages (from torch>=1.6->captum) (3.4.2)\n",
      "Requirement already satisfied: jinja2 in /usr/local/lib/python3.10/dist-packages (from torch>=1.6->captum) (3.1.4)\n",
      "Requirement already satisfied: fsspec in /usr/local/lib/python3.10/dist-packages (from torch>=1.6->captum) (2024.10.0)\n",
      "Requirement already satisfied: sympy==1.13.1 in /usr/local/lib/python3.10/dist-packages (from torch>=1.6->captum) (1.13.1)\n",
      "Requirement already satisfied: mpmath<1.4,>=1.1.0 in /usr/local/lib/python3.10/dist-packages (from sympy==1.13.1->torch>=1.6->captum) (1.3.0)\n",
      "Requirement already satisfied: contourpy>=1.0.1 in /usr/local/lib/python3.10/dist-packages (from matplotlib->captum) (1.3.1)\n",
      "Requirement already satisfied: cycler>=0.10 in /usr/local/lib/python3.10/dist-packages (from matplotlib->captum) (0.12.1)\n",
      "Requirement already satisfied: fonttools>=4.22.0 in /usr/local/lib/python3.10/dist-packages (from matplotlib->captum) (4.55.0)\n",
      "Requirement already satisfied: kiwisolver>=1.0.1 in /usr/local/lib/python3.10/dist-packages (from matplotlib->captum) (1.4.7)\n",
      "Requirement already satisfied: packaging>=20.0 in /usr/local/lib/python3.10/dist-packages (from matplotlib->captum) (24.2)\n",
      "Requirement already satisfied: pillow>=6.2.0 in /usr/local/lib/python3.10/dist-packages (from matplotlib->captum) (11.0.0)\n",
      "Requirement already satisfied: pyparsing>=2.3.1 in /usr/local/lib/python3.10/dist-packages (from matplotlib->captum) (3.2.0)\n",
      "Requirement already satisfied: python-dateutil>=2.7 in /usr/local/lib/python3.10/dist-packages (from matplotlib->captum) (2.8.2)\n",
      "Requirement already satisfied: six>=1.5 in /usr/local/lib/python3.10/dist-packages (from python-dateutil>=2.7->matplotlib->captum) (1.16.0)\n",
      "Requirement already satisfied: MarkupSafe>=2.0 in /usr/local/lib/python3.10/dist-packages (from jinja2->torch>=1.6->captum) (3.0.2)\n",
      "Downloading captum-0.7.0-py3-none-any.whl (1.3 MB)\n",
      "\u001b[2K   \u001b[90m━━━━━━━━━━━━━━━━━━━━━━━━━━━━━━━━━━━━━━━━\u001b[0m \u001b[32m1.3/1.3 MB\u001b[0m \u001b[31m18.3 MB/s\u001b[0m eta \u001b[36m0:00:00\u001b[0m\n",
      "\u001b[?25hInstalling collected packages: captum\n",
      "Successfully installed captum-0.7.0\n"
     ]
    }
   ],
   "source": [
    "!pip install captum"
   ]
  },
  {
   "cell_type": "code",
   "execution_count": 2,
   "metadata": {
    "id": "nqNK-gj3CnEc"
   },
   "outputs": [],
   "source": [
    "from transformers import AutoModelForSequenceClassification, AutoTokenizer\n",
    "import torch\n",
    "import numpy as np\n",
    "from sklearn.decomposition import PCA\n",
    "import matplotlib.pyplot as plt\n",
    "from sklearn.cluster import KMeans\n",
    "# from captum.attr import IntegratedGradients\n",
    "import pandas as pd\n",
    "from sklearn.preprocessing import LabelEncoder\n",
    "from sklearn.manifold import TSNE\n",
    "import seaborn as sns\n",
    "from torch.utils.data import Dataset, DataLoader\n",
    "from sklearn.model_selection import train_test_split\n",
    "from sklearn.metrics import classification_report, accuracy_score, precision_recall_fscore_support\n",
    "import copy\n",
    "from transformers import Trainer, TrainingArguments"
   ]
  },
  {
   "cell_type": "code",
   "execution_count": 3,
   "metadata": {
    "colab": {
     "base_uri": "https://localhost:8080/",
     "height": 475,
     "referenced_widgets": [
      "2898ee20cc584f24b640e0776727d95c",
      "e1892ab6f23246dfbbc11afe676fcc27",
      "e8412d24e9b54c3a961e8ba9a0285eb1",
      "0cdfe60ffb834701a0076b7e3f49e0bd",
      "62d6a4e89b2b488d84fd5e1240d95688",
      "683017d06ecc4fc194608c7b8c2a997a",
      "d17436870a3c45088fe31db97f3df1df",
      "b92c51be7383417fa55883b6f8cb8982",
      "e742edaf1cad49d2bb203dcd19c41545",
      "b9a6b9b91e214f34b3b6b5c5d962bad0",
      "b91632b2c48141fbab75b11b8cc1b9a2",
      "b1a71816980b490c98a289b9e43d2670",
      "8ea076468e7a490b8d161ec9ffcfaf95",
      "95b44691705a4572afad9bb5df35fda5",
      "cf89779ad66e448ea761284e40d703af",
      "51eb8cb64d66476490b6912211542119",
      "843a1d910eca4c86bdb08be1654e0239",
      "487a5a8cd6c34749b3796b1805e8c427",
      "7e8d3d59f940407d956a477c4000044a",
      "65f2a32a636a4a89bc2395c7397ffd13",
      "768c41ea0846447d8495d51e4e9ac721",
      "5db4025320fd47edab4dff934de4f0b3",
      "5c8414fdce6a435aa0286548d6566fa5",
      "95e4375699a1438fae3ae72ceaadef41",
      "5bfdb604795340dfa130902c8d37085c",
      "4ee71bff372f42f7929a91f6f96dcc56",
      "c1b75b44330347ad9dddebcd9aa70e96",
      "d9cf0165537f458291b8a47b79e68973",
      "ab314156047744f1a84b249fd66021b6",
      "5aabe5d8a900488587468adfdb6badf7",
      "aecd5db59cd045059d42b85fec4f04e2",
      "17621a88afa148ea954109ab8a76c78f",
      "657f3be5ce4f4a7ea37f7fe974b024c8",
      "3675c06a5bef4a4e8303a57e284d70b7",
      "a3a8fbf267174c339da1fda8f2c5a749",
      "0efd60876fd548079976e2685029ed71",
      "555f10d7a8ef48b38a07dc7bc55d700b",
      "b740cd0b36294f3fb19262dccfdb0731",
      "c09420b682124873bfa45c9f45f08e97",
      "c9539e984cb743af912f4cc91734b89d",
      "d91787001d2747ba99ab40883cefd758",
      "3943ffd898c144a9b0e09e7242501f13",
      "60cd56d29c59477f9d33e255399bf6da",
      "fbce326773024f79b201c2fd94032f5a",
      "7a551bcb71c54b198b13bbf47b5e8b60",
      "4f638064c5e148cfa4bafc5ed37ab0dc",
      "8df5aecc7cd949459e6f1c80ea6a284c",
      "40f347c3d4914a8fbe5ff705af3bc32f",
      "3732df5031774f43b97bd3416d1e973a",
      "21f24c6cd12c462ca88b064dab5c64f1",
      "6453862794bd43709b1d160ce7f180dc",
      "8bbb5fb9fe7d4eb380fb4be9507f7cc7",
      "2cb12353d54f4c18a0a9b8d081f60ecb",
      "4bbe71163a5b4850a4670739186ec3d3",
      "e59d0cb38f6e4cc892f64b7e678049a7",
      "260e4913ea784c2f99ae10fb6f3b70a1",
      "52ab5902a1124af981ec040c54e53a9d",
      "2775096d609e4eb698ca6167992af815",
      "2cea2d714b96498190aac8a8bc2e2242",
      "bd11150556fb4f319b9870d93a312e30",
      "76d443d4878a41509b74234fc8ddb6ad",
      "45ab95c33eab4ab09d86f9a2199dc032",
      "d83af8399e944774b9378a968cbeebb8",
      "37d855a8c4164b1daf46aa9cb32fa628",
      "96986ee290394c0abdd529a28c98bdbb",
      "62f9b7bfd42448cbab53e7f87a8e5ae6",
      "2b639a3ad68d439da3afb51d8c7f7497",
      "01b1285ddbef4c978e91b119e0a9837c",
      "f7b73bdaa3c4415882805ef520187430",
      "68c1a0524df040e7843c644ea4dfa47b",
      "8c23101c6b8b419dba802344af5a996b",
      "e7a5c7e4b8b149859edc0ec8209435dc",
      "950c5a762f3d4bb3acbf0eb9bb21fa02",
      "87efb85fb33e4f61af79dff8f4615453",
      "d8b5f59f214c4cfcae3bd3172f859d8d",
      "8eb30e800d3742de8f306a2956152ace",
      "11079b895f2e4068b227a45ffb5cd5f7"
     ]
    },
    "id": "NbF-ZJaPCqY7",
    "outputId": "307eac1d-c466-45f9-f681-a7f77e2b02aa"
   },
   "outputs": [
    {
     "name": "stderr",
     "output_type": "stream",
     "text": [
      "/usr/local/lib/python3.10/dist-packages/huggingface_hub/utils/_auth.py:94: UserWarning: \n",
      "The secret `HF_TOKEN` does not exist in your Colab secrets.\n",
      "To authenticate with the Hugging Face Hub, create a token in your settings tab (https://huggingface.co/settings/tokens), set it as secret in your Google Colab and restart your session.\n",
      "You will be able to reuse this secret in all of your notebooks.\n",
      "Please note that authentication is recommended but still optional to access public models or datasets.\n",
      "  warnings.warn(\n"
     ]
    },
    {
     "data": {
      "application/vnd.jupyter.widget-view+json": {
       "model_id": "2898ee20cc584f24b640e0776727d95c",
       "version_major": 2,
       "version_minor": 0
      },
      "text/plain": [
       "config.json:   0%|          | 0.00/2.35k [00:00<?, ?B/s]"
      ]
     },
     "metadata": {},
     "output_type": "display_data"
    },
    {
     "data": {
      "application/vnd.jupyter.widget-view+json": {
       "model_id": "b1a71816980b490c98a289b9e43d2670",
       "version_major": 2,
       "version_minor": 0
      },
      "text/plain": [
       "esm_config.py:   0%|          | 0.00/14.9k [00:00<?, ?B/s]"
      ]
     },
     "metadata": {},
     "output_type": "display_data"
    },
    {
     "name": "stderr",
     "output_type": "stream",
     "text": [
      "A new version of the following files was downloaded from https://huggingface.co/InstaDeepAI/nucleotide-transformer-v2-100m-multi-species:\n",
      "- esm_config.py\n",
      ". Make sure to double-check they do not contain any added malicious code. To avoid downloading new versions of the code file, you can pin a revision.\n"
     ]
    },
    {
     "data": {
      "application/vnd.jupyter.widget-view+json": {
       "model_id": "5c8414fdce6a435aa0286548d6566fa5",
       "version_major": 2,
       "version_minor": 0
      },
      "text/plain": [
       "modeling_esm.py:   0%|          | 0.00/58.2k [00:00<?, ?B/s]"
      ]
     },
     "metadata": {},
     "output_type": "display_data"
    },
    {
     "name": "stderr",
     "output_type": "stream",
     "text": [
      "A new version of the following files was downloaded from https://huggingface.co/InstaDeepAI/nucleotide-transformer-v2-100m-multi-species:\n",
      "- modeling_esm.py\n",
      ". Make sure to double-check they do not contain any added malicious code. To avoid downloading new versions of the code file, you can pin a revision.\n"
     ]
    },
    {
     "data": {
      "application/vnd.jupyter.widget-view+json": {
       "model_id": "3675c06a5bef4a4e8303a57e284d70b7",
       "version_major": 2,
       "version_minor": 0
      },
      "text/plain": [
       "model.safetensors:   0%|          | 0.00/383M [00:00<?, ?B/s]"
      ]
     },
     "metadata": {},
     "output_type": "display_data"
    },
    {
     "data": {
      "application/vnd.jupyter.widget-view+json": {
       "model_id": "7a551bcb71c54b198b13bbf47b5e8b60",
       "version_major": 2,
       "version_minor": 0
      },
      "text/plain": [
       "tokenizer_config.json:   0%|          | 0.00/928 [00:00<?, ?B/s]"
      ]
     },
     "metadata": {},
     "output_type": "display_data"
    },
    {
     "data": {
      "application/vnd.jupyter.widget-view+json": {
       "model_id": "260e4913ea784c2f99ae10fb6f3b70a1",
       "version_major": 2,
       "version_minor": 0
      },
      "text/plain": [
       "vocab.txt:   0%|          | 0.00/28.7k [00:00<?, ?B/s]"
      ]
     },
     "metadata": {},
     "output_type": "display_data"
    },
    {
     "data": {
      "application/vnd.jupyter.widget-view+json": {
       "model_id": "2b639a3ad68d439da3afb51d8c7f7497",
       "version_major": 2,
       "version_minor": 0
      },
      "text/plain": [
       "special_tokens_map.json:   0%|          | 0.00/101 [00:00<?, ?B/s]"
      ]
     },
     "metadata": {},
     "output_type": "display_data"
    }
   ],
   "source": [
    "model_name = \"vedantM/NucArg_LongRead\"\n",
    "model = AutoModelForSequenceClassification.from_pretrained(model_name, ignore_mismatched_sizes=True, trust_remote_code=True)\n",
    "tokenizer = AutoTokenizer.from_pretrained(model_name)"
   ]
  },
  {
   "cell_type": "markdown",
   "metadata": {},
   "source": [
    "## Prepare test data"
   ]
  },
  {
   "cell_type": "code",
   "execution_count": 4,
   "metadata": {
    "colab": {
     "base_uri": "https://localhost:8080/",
     "height": 226
    },
    "id": "Yywik1p9Fgjo",
    "outputId": "cf7b66aa-99bc-4580-d223-6c5280495792"
   },
   "outputs": [
    {
     "data": {
      "application/vnd.google.colaboratory.intrinsic+json": {
       "summary": "{\n  \"name\": \"ds_arg\",\n  \"rows\": 13362,\n  \"fields\": [\n    {\n      \"column\": \"id\",\n      \"properties\": {\n        \"dtype\": \"string\",\n        \"num_unique_values\": 13362,\n        \"samples\": [\n          \"A0A109BKN4\",\n          \"A0A0R2AGR4\",\n          \"A0A089G7P8\"\n        ],\n        \"semantic_type\": \"\",\n        \"description\": \"\"\n      }\n    },\n    {\n      \"column\": \"db\",\n      \"properties\": {\n        \"dtype\": \"category\",\n        \"num_unique_values\": 4,\n        \"samples\": [\n          \"CARD\",\n          \"NCBI\",\n          \"UNIPROT\"\n        ],\n        \"semantic_type\": \"\",\n        \"description\": \"\"\n      }\n    },\n    {\n      \"column\": \"type\",\n      \"properties\": {\n        \"dtype\": \"category\",\n        \"num_unique_values\": 26,\n        \"samples\": [\n          \"sulfonamide\",\n          \"peptide\",\n          \"beta_lactam\"\n        ],\n        \"semantic_type\": \"\",\n        \"description\": \"\"\n      }\n    },\n    {\n      \"column\": \"sequence\",\n      \"properties\": {\n        \"dtype\": \"string\",\n        \"num_unique_values\": 12907,\n        \"samples\": [\n          \"MNIKALLLITSAIFISACSPYIVTANPNHSASKSDEKAEKIKNLFNEAHTTGVLVIQQGQTQQSYGNDLARASTEYVPASTFKMLNALIGLEHHKTTTTEVFKWDGQKRLFPEWEKDMTLGDAMKASALPVYQDLARRIGLELMSKEVKRVGYGNADIGTQVDNFWLVGPLKITPQQEAQFAYKLANKTLPFSPKVQDEVQSMLFIEEKNGNKIYAKSGWGWDVDPQVGWLTGWVVQPQGNIVAFSLNLEMKKGIPSSVRKEITYKSLEQLGIL\",\n          \"MRKEPGLPVATVRGCADHLREWSRLRAALWPSHSSGYHADELDTMIARNSDEMFGIVAPLPDGVLAGFAEACLRHDYVNGCSSSPVLFLEGIYVEPAYRRQGIGRALFDAVRSAGKALGCVEFASDASIDNIESHLFHRALGFEEAERVVFFRQSL\",\n          \"MKAVVFAYHDMGCQGVQALLDAGYDIAAIFTHADNPGEKAFFGSVSRLAASAGIPVYAPDEVNHPLWIERIGQLAPDMIFSFYYRHLLSDEILRLAPAGAFNLHGSLLPKYRGRAPLNWVLVNGETETGVTLHRMVKRADAGAIVAQQRITISPDDVALTLHHKLCQSAREVLAQALPAIKAGDFQEYPQQEADATCFGRRTPEDSFLDWNNPCAQLHNMVRAVSDPWPGAFSYAGTQKFTIWSSRQSANTSAALPGTVISVSPLLIACADGALEIITGQAGDGITMQGSQLAQVLGLVAGSRLNSQPVSASKRRTRVLILGVNGFIGNHLTERLLREDNYEIYGLDIGSDAIERFLQHPRFHFVEGDISIHSEWIEYHVKKCDVVLPLVAIATPIEYTRNPLRVFELDFEENLKIIRYCVKYRKRIIFPSTSEVYGMCTDKDFDEDSSNLIVGPVNKPRWIYSVSKQLLDRVIWAYGEKEGLRFTLFRPFNWMGPRLDSLNAARIGSSRAITQLILNLVEGSPIKLIEGGKQKRCFTDIRDGIEALFRIIENEGGRCDGEIINIGNPDNEASIQELAEMLLSCFEKHPLRQHFPPFAGFRDVESSSYYGKGYQDVEHRKPSIRNAKRCLNWEPTIEMQETVEETLDFFLRSVDITEHTS\"\n        ],\n        \"semantic_type\": \"\",\n        \"description\": \"\"\n      }\n    },\n    {\n      \"column\": \"dna_seq\",\n      \"properties\": {\n        \"dtype\": \"string\",\n        \"num_unique_values\": 13186,\n        \"samples\": [\n          \"TCATCCCTGCGCGGTGCTCCAGTCGATCAGTTGCAGTTGCCAGGTGGCGAGGATCAGCAGACCGAAGCCAATGCGGTACCAGGCGAACAGAGCGTAGCTGTGGTTGGCGATGAACTTGAGCAATGCCCGCACGGTGAACATCGCCACGATAAAGGTGGTGACGAAGCCAATGGCAAAGGTGGGCAGGTCGCTCAGTTGCAGGATGTCGCGATACTTGAACAGGGAGTAGACGGTCGCGGCGACCATGGTCGGCATGGCCAGGAAGAAGGAAAACTCGGTGGCCGCCTTGCGTGACAGGCCGAACACCAGTCCACCGATGATGGTGGCGCCGGAGCGGGAAGTGCCGGGAATCAGCGCCAGGCATTGGGCGAAGCCGACCTTGAGGGCCAGGCTCCAGGTCATGTCGTCGACCGTTTCGGCCTTGATCTCGTGCTCGCGCTTCTCTGCCCAGATCATCACGATGCCGCCTACTATCAAGGCAGTGGCCACGGTGATGGGGTTGAACAGCCAGTGCTCGATGAGATCGGCGAAGGCCAGACCGAGGATCACCGCCGGAATGAAGGCCAGCAGCAGGTTGAAGGTGAAGCGTTGCGCCTGCGGCTCGCTCGGCAGCCCGCACACCACGTCGAAGATCCTCTGGCGAAACTCCCACATCACCGCGAGGATGGCGCCCAACTGGATGATGATCTTGAACGCGGTGGCGGTCTCGCCGTTGAAGTCCAGCAGGTCGCCGACCACGATCAGGTGTCCGGTACTGGAAATCGGCAGGAACTCGGTCAGCCCTTCCACTATGCCCAGAATCAAGGCCTTCATGGCCGTCCAGATGTCCAT\",\n          \"ATGAACGTCAAAACCGTTGTCTTTGCCTATCACGATATCGGTTGCACCGGCATCGAATCACTTCTCGAGGCCGGCTACGATATTTGCGCGGTCTTCACCCACATCGATCAGCCTCAGGAACGGATCTTCTTCGGCTCCGTAGCGCGTCTGTGCGCTGAGCGTGGCATCCCGGTTTACGCCCCCGAAGACGTCAATCATCCCCTGTGGGTGCAGCGCATTCGCGAGCTCGAGCCGGACTTCCTGTTTTCCTTCTATTACCGCCAGCTCTTGGGCGAGTGTATCCTCGCCTGCGCCAAGCGCGGCGCATTCAACCTGCACGGGTCCCTGCTGCCACGCTACCGAGGCAGAGCCCCAGCGAACTGGGCCATCATCAACGGCGAGACGCAGACCGGCGTCACCCTGCACCGAATGGTCGGACGCGCCGATGCCGGACCGATCCTTGCTCAAGTTCCGGTAGCCATCGCCGAGACCGATACTGGTCTGAGGCTTCAACAGAAACTGCGCGCAGCAACCATTGGCTTGCTGCGCGAAAAGCTACCACTACTGGCGGCCGGTGGTCTCTCAGAGGTGCGGCAGGATGAAGCCCAGGCCAGCTACTACGGCCGCCGTACGGCCGCCGATGGCCTGATCGACTGGCAGCACCCGGCCAAACGACTCTACGACCTGATCCGCGCGTTGACCCATCCCTACCCTAGCGCCTATTGCCAGACCAGTGAGCACAAGTTGTTGATCTGGGACGCCGATGTCATCCTGGGCAACCTCGGTCAGCCGCCTGGCACGGTGCTGTGCGCCGATCCGTTGCGCATCGCCTGCGGGGAAGATTCGCTGGTGGTGCGCCATGCACAGCGCGGCGACCATGGTCTGTATCTCTGCGGTGCGGGCTTGGCCCGTGAGCTGGGCCTTGTGGAGGGAGCGTCGCTGAACGCGGCGCACCCGCCTGCAAAACGCCCGACGCGGGTGCTGATCCTCGGCGTCAATGGCTTCATCGGCAATCACCTGTCCGAGCGACTGTTGAGTGACGGCAACTACGAAATCCATGGCATGGACATTGGCTCGGATGCCATCGAACGGTTGAAGGACAATCCACAGTTCCACTTCGTCGAGGGCGACATCAGCATCCACAGCGAATGGATCGAATACCACGTCAAGAAATGCGACGTCGTACTGCCGCTGGTCGCCATCGCCACCCCCATCGAGTACACCCGCAACCCGTTGCGCGTCTTCGAACTGGACTTCGAAGAAAACCTCAAGATCATCCGCTACTGCGTGAAGTACGGAAAACGCGTGATATTCCCTTCCACTTCGGAAGTCTATGGCATGTGCCAGGATCCGGAGTTCGACGAGGACAGGTCGAACCTGGTCGTAGGCCCCATCAACAAACAGCGCTGGATCTACTCGGTTTCCAAGCAACTGCTGGACCGAGTCATCTGGGCCTACGGGAAGCAAGGTCTGCGTTTTACTTTGTTCCGTCCGTTCAACTGGGTAGGCCCGCGCCTGGATCGCCTGGACTCGGCGCGCATTGGCAGCTCGCGAGCGATCACCCAGCTGATCCTGCACCTGGTGGAAGGCACCCCCATACGCCTGGTCGACGGTGGCGAACAGAAGCGCTGCTTCACCGATGTCGCCGACGGCATCGAAGCGCTGGCGCGCATTATCGACAACGAAGGAAGTTGTTGCGATGGGCAGATCATCAATATAGGCAACCCCGAGAACGAGGCGAGCATCCGCGAGTTGGGCGAAGCCTTGCTGCGTCAGTTCGATGCGCACCCGCTACGCGGCGAGTTCCCGCCCTTTGCCGGGTTTCAGTTGGTGGAGAACCGCACGTTCTACGGCGACGGCTACCAGGATGTCAGCCACCGCAAACCGCGCATCGCCAATGCACGGCGCTTGCTGCACTGGCAGCCGACCGTCGATCTGGAACAGACCATCGCCAAGACCCTGGACTTTTTCCTCAACGAAGCGCTCCGCGAGCGCGGGAGAGGCCAATGA\",\n          \"TTAATGTACGAACACCATATAGACGGCGAAGGCGATGACGAATCGATAGATGGCAAAAGGCACGAAATCGAGACGACGGATCAGCGCCAGGAAGGTGCGGATGGCGAACATGGCCACCACGAAGGCGGTGACAAAACCAACCGCAAACATGGGGAAGTCGGCCATGGAGAGGAAATCCCGGCTCTTGTAGAGATCCAGGCCACTCGCCGCGATCATCATGGGTACCGCCAGAATGAAGGAGAACTCGGCCGCCGCCTGACGACTGATACCCATCAGCATGCCGCCACTGATGGTGGCCCCCGAGCGGGAGAAACCGGGCCAGAGTGCCAGACATTGGAACAGACCTATGCCAAACGCCTGCTTGTAGCTGATGTCATCCAGGGTTTCGGAGCGTACCGCGGGGCGCTTCCATTCGGCTATCAACAGCAAGATGCCGCCGGCGACCAAGGCATACATCACCGTCTGGGGACCGAACAGGTTGGCCTTTATCCAGCTGTGAATGGCGAGGCCTATCACTACGGCGGGTAGCATGCCGAGGATGATGTGCACCAGGGAGAGGGTGGCGTGATCCTGGGATGGCTTCTGACCGAAATGTATGCCGATAAGGCCGAACAGGCGGCGCCAGAACACCACGACCACGGCCAGTATGGAGCCGAGCTGGATCACCACCTCGAAGGTGGCGGCCTTGGGACCTTCGAAGCCCAGCAGATGGCCGACGATGATCAGGTGACCTGTGGAGGAAACGGGCAGAAACTCGGTCAGGCCTTCCACTACGCCTAACACGAATGCGACAAACAGGGTGTAGTACTCTGTCAT\"\n        ],\n        \"semantic_type\": \"\",\n        \"description\": \"\"\n      }\n    }\n  ]\n}",
       "type": "dataframe",
       "variable_name": "ds_arg"
      },
      "text/html": [
       "\n",
       "  <div id=\"df-c736a13f-9c56-47f4-9dbf-aa30a8277771\" class=\"colab-df-container\">\n",
       "    <div>\n",
       "<style scoped>\n",
       "    .dataframe tbody tr th:only-of-type {\n",
       "        vertical-align: middle;\n",
       "    }\n",
       "\n",
       "    .dataframe tbody tr th {\n",
       "        vertical-align: top;\n",
       "    }\n",
       "\n",
       "    .dataframe thead th {\n",
       "        text-align: right;\n",
       "    }\n",
       "</style>\n",
       "<table border=\"1\" class=\"dataframe\">\n",
       "  <thead>\n",
       "    <tr style=\"text-align: right;\">\n",
       "      <th></th>\n",
       "      <th>id</th>\n",
       "      <th>db</th>\n",
       "      <th>type</th>\n",
       "      <th>sequence</th>\n",
       "      <th>dna_seq</th>\n",
       "    </tr>\n",
       "  </thead>\n",
       "  <tbody>\n",
       "    <tr>\n",
       "      <th>0</th>\n",
       "      <td>B9J113</td>\n",
       "      <td>UNIPROT</td>\n",
       "      <td>beta_lactam</td>\n",
       "      <td>MKHKNQATHKEFSQLEKKFDARLGLYAIDTGTNQTIAYRPNERFAF...</td>\n",
       "      <td>GTGAAACATAAAAATCAGGCGACGCATAAAGAGTTCTCTCAACTTG...</td>\n",
       "    </tr>\n",
       "    <tr>\n",
       "      <th>1</th>\n",
       "      <td>A0A147H3Q5</td>\n",
       "      <td>UNIPROT</td>\n",
       "      <td>bacitracin</td>\n",
       "      <td>MDLWSALQALILGIVEGITEFLPISSTGHQIIVADLIGFGGERAIA...</td>\n",
       "      <td>ATGAATTGGTGGGAGCTGTTTGTTGCTTTAATTCTTGGTCTAGTGG...</td>\n",
       "    </tr>\n",
       "    <tr>\n",
       "      <th>2</th>\n",
       "      <td>A0A133N6E2</td>\n",
       "      <td>UNIPROT</td>\n",
       "      <td>bacitracin</td>\n",
       "      <td>MGIDFLFILKALIIAVVEGLTEFVPVSSTGHMILVGDLIHFNTQSG...</td>\n",
       "      <td>ATGGGAATTGATTTTTTATTCATACTTAAGGCCTTAATAATCGCAG...</td>\n",
       "    </tr>\n",
       "    <tr>\n",
       "      <th>3</th>\n",
       "      <td>A0A024P8A8</td>\n",
       "      <td>UNIPROT</td>\n",
       "      <td>beta_lactam</td>\n",
       "      <td>MKKIYESKFSMRQVKMFMSLLVLITLAACFDSTNSTNVSSKEGNEV...</td>\n",
       "      <td>TCACTTTAGGGCATTAAGAGCGACCTTGGCAGCCTGCGCAATTAGC...</td>\n",
       "    </tr>\n",
       "    <tr>\n",
       "      <th>4</th>\n",
       "      <td>A0A0Q3WM94</td>\n",
       "      <td>UNIPROT</td>\n",
       "      <td>chloramphenicol</td>\n",
       "      <td>MFKQIDENYPRKEHFHHYMTVTRCTYSLVIDLDITKLYAILKEKRL...</td>\n",
       "      <td>ATGAATGCAATTATGTTAGTTATCATTCTTGCACTAGTTGAAGGTA...</td>\n",
       "    </tr>\n",
       "  </tbody>\n",
       "</table>\n",
       "</div>\n",
       "    <div class=\"colab-df-buttons\">\n",
       "\n",
       "  <div class=\"colab-df-container\">\n",
       "    <button class=\"colab-df-convert\" onclick=\"convertToInteractive('df-c736a13f-9c56-47f4-9dbf-aa30a8277771')\"\n",
       "            title=\"Convert this dataframe to an interactive table.\"\n",
       "            style=\"display:none;\">\n",
       "\n",
       "  <svg xmlns=\"http://www.w3.org/2000/svg\" height=\"24px\" viewBox=\"0 -960 960 960\">\n",
       "    <path d=\"M120-120v-720h720v720H120Zm60-500h600v-160H180v160Zm220 220h160v-160H400v160Zm0 220h160v-160H400v160ZM180-400h160v-160H180v160Zm440 0h160v-160H620v160ZM180-180h160v-160H180v160Zm440 0h160v-160H620v160Z\"/>\n",
       "  </svg>\n",
       "    </button>\n",
       "\n",
       "  <style>\n",
       "    .colab-df-container {\n",
       "      display:flex;\n",
       "      gap: 12px;\n",
       "    }\n",
       "\n",
       "    .colab-df-convert {\n",
       "      background-color: #E8F0FE;\n",
       "      border: none;\n",
       "      border-radius: 50%;\n",
       "      cursor: pointer;\n",
       "      display: none;\n",
       "      fill: #1967D2;\n",
       "      height: 32px;\n",
       "      padding: 0 0 0 0;\n",
       "      width: 32px;\n",
       "    }\n",
       "\n",
       "    .colab-df-convert:hover {\n",
       "      background-color: #E2EBFA;\n",
       "      box-shadow: 0px 1px 2px rgba(60, 64, 67, 0.3), 0px 1px 3px 1px rgba(60, 64, 67, 0.15);\n",
       "      fill: #174EA6;\n",
       "    }\n",
       "\n",
       "    .colab-df-buttons div {\n",
       "      margin-bottom: 4px;\n",
       "    }\n",
       "\n",
       "    [theme=dark] .colab-df-convert {\n",
       "      background-color: #3B4455;\n",
       "      fill: #D2E3FC;\n",
       "    }\n",
       "\n",
       "    [theme=dark] .colab-df-convert:hover {\n",
       "      background-color: #434B5C;\n",
       "      box-shadow: 0px 1px 3px 1px rgba(0, 0, 0, 0.15);\n",
       "      filter: drop-shadow(0px 1px 2px rgba(0, 0, 0, 0.3));\n",
       "      fill: #FFFFFF;\n",
       "    }\n",
       "  </style>\n",
       "\n",
       "    <script>\n",
       "      const buttonEl =\n",
       "        document.querySelector('#df-c736a13f-9c56-47f4-9dbf-aa30a8277771 button.colab-df-convert');\n",
       "      buttonEl.style.display =\n",
       "        google.colab.kernel.accessAllowed ? 'block' : 'none';\n",
       "\n",
       "      async function convertToInteractive(key) {\n",
       "        const element = document.querySelector('#df-c736a13f-9c56-47f4-9dbf-aa30a8277771');\n",
       "        const dataTable =\n",
       "          await google.colab.kernel.invokeFunction('convertToInteractive',\n",
       "                                                    [key], {});\n",
       "        if (!dataTable) return;\n",
       "\n",
       "        const docLinkHtml = 'Like what you see? Visit the ' +\n",
       "          '<a target=\"_blank\" href=https://colab.research.google.com/notebooks/data_table.ipynb>data table notebook</a>'\n",
       "          + ' to learn more about interactive tables.';\n",
       "        element.innerHTML = '';\n",
       "        dataTable['output_type'] = 'display_data';\n",
       "        await google.colab.output.renderOutput(dataTable, element);\n",
       "        const docLink = document.createElement('div');\n",
       "        docLink.innerHTML = docLinkHtml;\n",
       "        element.appendChild(docLink);\n",
       "      }\n",
       "    </script>\n",
       "  </div>\n",
       "\n",
       "\n",
       "<div id=\"df-df16870d-38ee-401c-925f-277b62ccd325\">\n",
       "  <button class=\"colab-df-quickchart\" onclick=\"quickchart('df-df16870d-38ee-401c-925f-277b62ccd325')\"\n",
       "            title=\"Suggest charts\"\n",
       "            style=\"display:none;\">\n",
       "\n",
       "<svg xmlns=\"http://www.w3.org/2000/svg\" height=\"24px\"viewBox=\"0 0 24 24\"\n",
       "     width=\"24px\">\n",
       "    <g>\n",
       "        <path d=\"M19 3H5c-1.1 0-2 .9-2 2v14c0 1.1.9 2 2 2h14c1.1 0 2-.9 2-2V5c0-1.1-.9-2-2-2zM9 17H7v-7h2v7zm4 0h-2V7h2v10zm4 0h-2v-4h2v4z\"/>\n",
       "    </g>\n",
       "</svg>\n",
       "  </button>\n",
       "\n",
       "<style>\n",
       "  .colab-df-quickchart {\n",
       "      --bg-color: #E8F0FE;\n",
       "      --fill-color: #1967D2;\n",
       "      --hover-bg-color: #E2EBFA;\n",
       "      --hover-fill-color: #174EA6;\n",
       "      --disabled-fill-color: #AAA;\n",
       "      --disabled-bg-color: #DDD;\n",
       "  }\n",
       "\n",
       "  [theme=dark] .colab-df-quickchart {\n",
       "      --bg-color: #3B4455;\n",
       "      --fill-color: #D2E3FC;\n",
       "      --hover-bg-color: #434B5C;\n",
       "      --hover-fill-color: #FFFFFF;\n",
       "      --disabled-bg-color: #3B4455;\n",
       "      --disabled-fill-color: #666;\n",
       "  }\n",
       "\n",
       "  .colab-df-quickchart {\n",
       "    background-color: var(--bg-color);\n",
       "    border: none;\n",
       "    border-radius: 50%;\n",
       "    cursor: pointer;\n",
       "    display: none;\n",
       "    fill: var(--fill-color);\n",
       "    height: 32px;\n",
       "    padding: 0;\n",
       "    width: 32px;\n",
       "  }\n",
       "\n",
       "  .colab-df-quickchart:hover {\n",
       "    background-color: var(--hover-bg-color);\n",
       "    box-shadow: 0 1px 2px rgba(60, 64, 67, 0.3), 0 1px 3px 1px rgba(60, 64, 67, 0.15);\n",
       "    fill: var(--button-hover-fill-color);\n",
       "  }\n",
       "\n",
       "  .colab-df-quickchart-complete:disabled,\n",
       "  .colab-df-quickchart-complete:disabled:hover {\n",
       "    background-color: var(--disabled-bg-color);\n",
       "    fill: var(--disabled-fill-color);\n",
       "    box-shadow: none;\n",
       "  }\n",
       "\n",
       "  .colab-df-spinner {\n",
       "    border: 2px solid var(--fill-color);\n",
       "    border-color: transparent;\n",
       "    border-bottom-color: var(--fill-color);\n",
       "    animation:\n",
       "      spin 1s steps(1) infinite;\n",
       "  }\n",
       "\n",
       "  @keyframes spin {\n",
       "    0% {\n",
       "      border-color: transparent;\n",
       "      border-bottom-color: var(--fill-color);\n",
       "      border-left-color: var(--fill-color);\n",
       "    }\n",
       "    20% {\n",
       "      border-color: transparent;\n",
       "      border-left-color: var(--fill-color);\n",
       "      border-top-color: var(--fill-color);\n",
       "    }\n",
       "    30% {\n",
       "      border-color: transparent;\n",
       "      border-left-color: var(--fill-color);\n",
       "      border-top-color: var(--fill-color);\n",
       "      border-right-color: var(--fill-color);\n",
       "    }\n",
       "    40% {\n",
       "      border-color: transparent;\n",
       "      border-right-color: var(--fill-color);\n",
       "      border-top-color: var(--fill-color);\n",
       "    }\n",
       "    60% {\n",
       "      border-color: transparent;\n",
       "      border-right-color: var(--fill-color);\n",
       "    }\n",
       "    80% {\n",
       "      border-color: transparent;\n",
       "      border-right-color: var(--fill-color);\n",
       "      border-bottom-color: var(--fill-color);\n",
       "    }\n",
       "    90% {\n",
       "      border-color: transparent;\n",
       "      border-bottom-color: var(--fill-color);\n",
       "    }\n",
       "  }\n",
       "</style>\n",
       "\n",
       "  <script>\n",
       "    async function quickchart(key) {\n",
       "      const quickchartButtonEl =\n",
       "        document.querySelector('#' + key + ' button');\n",
       "      quickchartButtonEl.disabled = true;  // To prevent multiple clicks.\n",
       "      quickchartButtonEl.classList.add('colab-df-spinner');\n",
       "      try {\n",
       "        const charts = await google.colab.kernel.invokeFunction(\n",
       "            'suggestCharts', [key], {});\n",
       "      } catch (error) {\n",
       "        console.error('Error during call to suggestCharts:', error);\n",
       "      }\n",
       "      quickchartButtonEl.classList.remove('colab-df-spinner');\n",
       "      quickchartButtonEl.classList.add('colab-df-quickchart-complete');\n",
       "    }\n",
       "    (() => {\n",
       "      let quickchartButtonEl =\n",
       "        document.querySelector('#df-df16870d-38ee-401c-925f-277b62ccd325 button');\n",
       "      quickchartButtonEl.style.display =\n",
       "        google.colab.kernel.accessAllowed ? 'block' : 'none';\n",
       "    })();\n",
       "  </script>\n",
       "</div>\n",
       "\n",
       "    </div>\n",
       "  </div>\n"
      ],
      "text/plain": [
       "           id       db             type  \\\n",
       "0      B9J113  UNIPROT      beta_lactam   \n",
       "1  A0A147H3Q5  UNIPROT       bacitracin   \n",
       "2  A0A133N6E2  UNIPROT       bacitracin   \n",
       "3  A0A024P8A8  UNIPROT      beta_lactam   \n",
       "4  A0A0Q3WM94  UNIPROT  chloramphenicol   \n",
       "\n",
       "                                            sequence  \\\n",
       "0  MKHKNQATHKEFSQLEKKFDARLGLYAIDTGTNQTIAYRPNERFAF...   \n",
       "1  MDLWSALQALILGIVEGITEFLPISSTGHQIIVADLIGFGGERAIA...   \n",
       "2  MGIDFLFILKALIIAVVEGLTEFVPVSSTGHMILVGDLIHFNTQSG...   \n",
       "3  MKKIYESKFSMRQVKMFMSLLVLITLAACFDSTNSTNVSSKEGNEV...   \n",
       "4  MFKQIDENYPRKEHFHHYMTVTRCTYSLVIDLDITKLYAILKEKRL...   \n",
       "\n",
       "                                             dna_seq  \n",
       "0  GTGAAACATAAAAATCAGGCGACGCATAAAGAGTTCTCTCAACTTG...  \n",
       "1  ATGAATTGGTGGGAGCTGTTTGTTGCTTTAATTCTTGGTCTAGTGG...  \n",
       "2  ATGGGAATTGATTTTTTATTCATACTTAAGGCCTTAATAATCGCAG...  \n",
       "3  TCACTTTAGGGCATTAAGAGCGACCTTGGCAGCCTGCGCAATTAGC...  \n",
       "4  ATGAATGCAATTATGTTAGTTATCATTCTTGCACTAGTTGAAGGTA...  "
      ]
     },
     "execution_count": 4,
     "metadata": {},
     "output_type": "execute_result"
    }
   ],
   "source": [
    "ds_arg = pd.read_csv('/content/drive/MyDrive/PUBH 8885 CB/long_read_arg_dataset.csv')\n",
    "ds_arg.head()"
   ]
  },
  {
   "cell_type": "code",
   "execution_count": 5,
   "metadata": {
    "id": "Tth4XnXSF8cY"
   },
   "outputs": [],
   "source": [
    "type_counts = ds_arg['type'].value_counts()\n",
    "ds_arg = ds_arg[ds_arg['type'].isin(type_counts[type_counts > 1].index)]"
   ]
  },
  {
   "cell_type": "code",
   "execution_count": 6,
   "metadata": {
    "id": "bqGIei2hxmhN"
   },
   "outputs": [],
   "source": [
    "# Create label encoder for drug resistance types\n",
    "label_encoder = LabelEncoder()\n",
    "labels = label_encoder.fit_transform(ds_arg['type'])"
   ]
  },
  {
   "cell_type": "code",
   "execution_count": 7,
   "metadata": {
    "colab": {
     "base_uri": "https://localhost:8080/"
    },
    "id": "spPmXfakGY9Z",
    "outputId": "75200f1e-0308-4026-92e0-dfe4f72017bd"
   },
   "outputs": [
    {
     "name": "stdout",
     "output_type": "stream",
     "text": [
      "                                                sequence  label\n",
      "0      GTGAAACATAAAAATCAGGCGACGCATAAAGAGTTCTCTCAACTTG...      2\n",
      "1      ATGAATTGGTGGGAGCTGTTTGTTGCTTTAATTCTTGGTCTAGTGG...      1\n",
      "2      ATGGGAATTGATTTTTTATTCATACTTAAGGCCTTAATAATCGCAG...      1\n",
      "3      TCACTTTAGGGCATTAAGAGCGACCTTGGCAGCCTGCGCAATTAGC...      2\n",
      "4      ATGAATGCAATTATGTTAGTTATCATTCTTGCACTAGTTGAAGGTA...      3\n",
      "...                                                  ...    ...\n",
      "13354  TAACGAATTTATGATGGAATTCCATCATCGACATAGTGCTTGTCAA...     12\n",
      "13355  TAACGAATTTATGATGGAATTCCATCATCGACATAGTGCTTGTCAA...     12\n",
      "13356  ATCGAATTGATGATGGAATTCCATCATCAATAAATTGCTTGTCAAA...     12\n",
      "13357  ATCGAATTGATGATGGAATTCCATCATCAATAAATTGCTTGTCAAA...     12\n",
      "13358  ATCGAATTGATGATGGAATTCCATCATCAATAAATTGCTTGTCAAA...     12\n",
      "\n",
      "[13359 rows x 2 columns]\n"
     ]
    }
   ],
   "source": [
    "# Split data\n",
    "sequences = ds_arg['dna_seq'].values\n",
    "\n",
    "\n",
    "dataset = pd.DataFrame({\n",
    "    'sequence': sequences,\n",
    "    'label': labels\n",
    "})\n",
    "print(dataset)"
   ]
  },
  {
   "cell_type": "code",
   "execution_count": 8,
   "metadata": {
    "colab": {
     "base_uri": "https://localhost:8080/"
    },
    "id": "8L8TPq08xSEI",
    "outputId": "311e8cbf-777e-4603-c70c-1174bb455d08"
   },
   "outputs": [
    {
     "name": "stdout",
     "output_type": "stream",
     "text": [
      "{'aminoglycoside': 0, 'bacitracin': 1, 'beta_lactam': 2, 'chloramphenicol': 3, 'fosfomycin': 4, 'fosmidomycin': 5, 'fusidic_acid': 6, 'glycopeptide': 7, 'kasugamycin': 8, 'macrolide-lincosamide-streptogramin': 9, 'multidrug': 10, 'mupirocin': 11, 'non_resistant': 12, 'peptide': 13, 'polymyxin': 14, 'qa_compound': 15, 'quinolone': 16, 'rifampin': 17, 'sulfonamide': 18, 'tetracenomycin': 19, 'tetracycline': 20, 'trimethoprim': 21, 'tunicamycin': 22}\n"
     ]
    }
   ],
   "source": [
    "class_mapping = dict(zip(label_encoder.classes_, label_encoder.transform(label_encoder.classes_)))\n",
    "print(class_mapping)"
   ]
  },
  {
   "cell_type": "code",
   "execution_count": null,
   "metadata": {
    "id": "OGw0uxTShzEl"
   },
   "outputs": [],
   "source": [
    "torch.cuda.empty_cache()"
   ]
  },
  {
   "cell_type": "code",
   "execution_count": 9,
   "metadata": {
    "id": "dwgFIf64eVot"
   },
   "outputs": [],
   "source": [
    "train_sequences, test_sequences, train_labels, test_labels = train_test_split(dataset['sequence'], dataset['label'], test_size=0.08, random_state=42)"
   ]
  },
  {
   "cell_type": "code",
   "execution_count": 10,
   "metadata": {
    "id": "NRatKLTfgP6x"
   },
   "outputs": [],
   "source": [
    "# Sequence splitting function\n",
    "def split_sequence(sequence, max_len=1024, overlap=512):\n",
    "    chunks = []\n",
    "    for i in range(0, len(sequence), max_len - overlap):\n",
    "        chunk = sequence[i:i + max_len]\n",
    "        if len(chunk) > 0:\n",
    "            chunks.append(chunk)\n",
    "    return chunks\n",
    "# Preprocess data (split and label encoding)\n",
    "def preprocess_data(sequences, labels, max_len=1024, overlap=512):\n",
    "    split_sequences = []\n",
    "    split_labels = []\n",
    "    for seq, label in zip(sequences, labels):\n",
    "        chunks = split_sequence(seq, max_len=max_len, overlap=overlap)\n",
    "        split_sequences.extend(chunks)\n",
    "        split_labels.extend([label] * len(chunks))\n",
    "    return split_sequences, split_labels\n",
    "\n",
    "# Tokenization and Dataset class\n",
    "class ArgDataset(Dataset):\n",
    "    def __init__(self, sequences, labels, tokenizer, max_len=1024):\n",
    "        self.encodings = tokenizer(\n",
    "            sequences,\n",
    "            truncation=True,\n",
    "            padding=True,\n",
    "            max_length=max_len,\n",
    "            return_tensors=\"pt\",\n",
    "        )\n",
    "        self.labels = torch.tensor(labels)\n",
    "\n",
    "    def __len__(self):\n",
    "        return len(self.labels)\n",
    "\n",
    "    def __getitem__(self, idx):\n",
    "        item = {key: val[idx] for key, val in self.encodings.items()}\n",
    "        item[\"labels\"] = self.labels[idx]\n",
    "        return item"
   ]
  },
  {
   "cell_type": "code",
   "execution_count": 11,
   "metadata": {
    "id": "XJUNd5z5gl8J"
   },
   "outputs": [],
   "source": [
    "# Split and preprocess the sequences\n",
    "test_sequences, test_labels = preprocess_data(test_sequences, test_labels)"
   ]
  },
  {
   "cell_type": "code",
   "execution_count": 12,
   "metadata": {
    "id": "pHJnlUPZgrUH"
   },
   "outputs": [],
   "source": [
    "# Create datasets\n",
    "test_dataset = ArgDataset(test_sequences, test_labels, tokenizer)"
   ]
  },
  {
   "cell_type": "code",
   "execution_count": 13,
   "metadata": {
    "id": "hGzXNueOhEh7"
   },
   "outputs": [],
   "source": [
    "test_dataloader = DataLoader(test_dataset, batch_size=16)"
   ]
  },
  {
   "cell_type": "code",
   "execution_count": 14,
   "metadata": {
    "colab": {
     "base_uri": "https://localhost:8080/"
    },
    "id": "lfuCRjmKwpW7",
    "outputId": "88cc0bf1-3258-468a-fc5c-14fd31c369fa"
   },
   "outputs": [
    {
     "data": {
      "text/plain": [
       "{0, 1, 2, 3, 4, 7, 8, 9, 10, 11, 12, 14, 16, 17, 18, 20, 21}"
      ]
     },
     "execution_count": 14,
     "metadata": {},
     "output_type": "execute_result"
    }
   ],
   "source": [
    "set(test_labels)"
   ]
  },
  {
   "cell_type": "markdown",
   "metadata": {
    "id": "SQL09jN_sYZ0"
   },
   "source": [
    "## Ablation Tests"
   ]
  },
  {
   "cell_type": "code",
   "execution_count": 15,
   "metadata": {
    "id": "bCcn-QsIsdJh"
   },
   "outputs": [],
   "source": [
    "def ablate_neurons(tensor, percentage):\n",
    "    num_neurons = tensor.size(-1)\n",
    "    num_to_ablate = int(percentage * num_neurons)\n",
    "\n",
    "    # Create a mask for keeping or dropping neurons\n",
    "    mask = torch.ones(num_neurons, device=tensor.device)\n",
    "    mask[:num_to_ablate] = 0\n",
    "    mask = mask[torch.randperm(num_neurons)]  # Shuffle mask\n",
    "\n",
    "    return tensor * mask"
   ]
  },
  {
   "cell_type": "code",
   "execution_count": 14,
   "metadata": {
    "id": "aX9GZXrbsohF"
   },
   "outputs": [],
   "source": [
    "# # Apply ablation to the classification head's dense layer\n",
    "# with torch.no_grad():\n",
    "#     # Convert the output of ablate_neurons to a Parameter\n",
    "#     ablated_weight = ablate_neurons(model.classifier.dense.weight, percentage=0.2)\n",
    "#     model.classifier.dense.weight = torch.nn.Parameter(ablated_weight)"
   ]
  },
  {
   "cell_type": "code",
   "execution_count": 16,
   "metadata": {
    "id": "iF4tI2-Iswsw"
   },
   "outputs": [],
   "source": [
    "# Define evaluation metrics\n",
    "def compute_metrics(eval_pred):\n",
    "    logits, labels = eval_pred\n",
    "    predictions = logits.argmax(axis=-1)\n",
    "    precision, recall, f1, _ = precision_recall_fscore_support(labels, predictions, average=\"weighted\")\n",
    "    acc = accuracy_score(labels, predictions)\n",
    "    return {\"accuracy\": acc, \"precision\": precision, \"recall\": recall, \"f1\": f1}\n"
   ]
  },
  {
   "cell_type": "code",
   "execution_count": 17,
   "metadata": {
    "id": "wDqqM-vEvphx"
   },
   "outputs": [],
   "source": [
    "device = torch.device('cuda' if torch.cuda.is_available() else 'cpu')"
   ]
  },
  {
   "cell_type": "code",
   "execution_count": 18,
   "metadata": {
    "id": "IV4GDKePwWFn"
   },
   "outputs": [],
   "source": [
    "model = model.to(device)"
   ]
  },
  {
   "cell_type": "code",
   "execution_count": 19,
   "metadata": {
    "id": "J40gKzYKszKS"
   },
   "outputs": [],
   "source": [
    "# Setup Trainer\n",
    "trainer = Trainer(\n",
    "    model=model.to(device),\n",
    "    eval_dataset=test_dataset,\n",
    "    compute_metrics=compute_metrics\n",
    ")"
   ]
  },
  {
   "cell_type": "code",
   "execution_count": 20,
   "metadata": {
    "colab": {
     "base_uri": "https://localhost:8080/",
     "height": 305
    },
    "id": "FUzAIjBLs0wZ",
    "outputId": "9d1f1042-3acc-412a-dd3f-3cb30408bea9"
   },
   "outputs": [
    {
     "data": {
      "text/html": [
       "\n",
       "    <div>\n",
       "      \n",
       "      <progress value='314' max='314' style='width:300px; height:20px; vertical-align: middle;'></progress>\n",
       "      [314/314 02:53]\n",
       "    </div>\n",
       "    "
      ],
      "text/plain": [
       "<IPython.core.display.HTML object>"
      ]
     },
     "metadata": {},
     "output_type": "display_data"
    },
    {
     "name": "stderr",
     "output_type": "stream",
     "text": [
      "/usr/local/lib/python3.10/dist-packages/sklearn/metrics/_classification.py:1531: UndefinedMetricWarning: Precision is ill-defined and being set to 0.0 in labels with no predicted samples. Use `zero_division` parameter to control this behavior.\n",
      "  _warn_prf(average, modifier, f\"{metric.capitalize()} is\", len(result))\n",
      "\u001b[34m\u001b[1mwandb\u001b[0m: \u001b[33mWARNING\u001b[0m The `run_name` is currently set to the same value as `TrainingArguments.output_dir`. If this was not intended, please specify a different run name by setting the `TrainingArguments.run_name` parameter.\n",
      "\u001b[34m\u001b[1mwandb\u001b[0m: Using wandb-core as the SDK backend.  Please refer to https://wandb.me/wandb-core for more information.\n"
     ]
    },
    {
     "data": {
      "application/javascript": "\n        window._wandbApiKey = new Promise((resolve, reject) => {\n            function loadScript(url) {\n            return new Promise(function(resolve, reject) {\n                let newScript = document.createElement(\"script\");\n                newScript.onerror = reject;\n                newScript.onload = resolve;\n                document.body.appendChild(newScript);\n                newScript.src = url;\n            });\n            }\n            loadScript(\"https://cdn.jsdelivr.net/npm/postmate/build/postmate.min.js\").then(() => {\n            const iframe = document.createElement('iframe')\n            iframe.style.cssText = \"width:0;height:0;border:none\"\n            document.body.appendChild(iframe)\n            const handshake = new Postmate({\n                container: iframe,\n                url: 'https://wandb.ai/authorize'\n            });\n            const timeout = setTimeout(() => reject(\"Couldn't auto authenticate\"), 5000)\n            handshake.then(function(child) {\n                child.on('authorize', data => {\n                    clearTimeout(timeout)\n                    resolve(data)\n                });\n            });\n            })\n        });\n    ",
      "text/plain": [
       "<IPython.core.display.Javascript object>"
      ]
     },
     "metadata": {},
     "output_type": "display_data"
    },
    {
     "name": "stderr",
     "output_type": "stream",
     "text": [
      "\u001b[34m\u001b[1mwandb\u001b[0m: Logging into wandb.ai. (Learn how to deploy a W&B server locally: https://wandb.me/wandb-server)\n",
      "\u001b[34m\u001b[1mwandb\u001b[0m: You can find your API key in your browser here: https://wandb.ai/authorize\n",
      "wandb: Paste an API key from your profile and hit enter, or press ctrl+c to quit:"
     ]
    },
    {
     "name": "stdout",
     "output_type": "stream",
     "text": [
      " ··········\n"
     ]
    },
    {
     "name": "stderr",
     "output_type": "stream",
     "text": [
      "\u001b[34m\u001b[1mwandb\u001b[0m: Appending key for api.wandb.ai to your netrc file: /root/.netrc\n"
     ]
    },
    {
     "data": {
      "text/html": [
       "Tracking run with wandb version 0.18.7"
      ],
      "text/plain": [
       "<IPython.core.display.HTML object>"
      ]
     },
     "metadata": {},
     "output_type": "display_data"
    },
    {
     "data": {
      "text/html": [
       "Run data is saved locally in <code>/content/wandb/run-20241202_003718-y70evdb2</code>"
      ],
      "text/plain": [
       "<IPython.core.display.HTML object>"
      ]
     },
     "metadata": {},
     "output_type": "display_data"
    },
    {
     "data": {
      "text/html": [
       "Syncing run <strong><a href='https://wandb.ai/vedant-mahangade-the-george-washington-university/huggingface/runs/y70evdb2' target=\"_blank\">tmp_trainer</a></strong> to <a href='https://wandb.ai/vedant-mahangade-the-george-washington-university/huggingface' target=\"_blank\">Weights & Biases</a> (<a href='https://wandb.me/developer-guide' target=\"_blank\">docs</a>)<br/>"
      ],
      "text/plain": [
       "<IPython.core.display.HTML object>"
      ]
     },
     "metadata": {},
     "output_type": "display_data"
    },
    {
     "data": {
      "text/html": [
       " View project at <a href='https://wandb.ai/vedant-mahangade-the-george-washington-university/huggingface' target=\"_blank\">https://wandb.ai/vedant-mahangade-the-george-washington-university/huggingface</a>"
      ],
      "text/plain": [
       "<IPython.core.display.HTML object>"
      ]
     },
     "metadata": {},
     "output_type": "display_data"
    },
    {
     "data": {
      "text/html": [
       " View run at <a href='https://wandb.ai/vedant-mahangade-the-george-washington-university/huggingface/runs/y70evdb2' target=\"_blank\">https://wandb.ai/vedant-mahangade-the-george-washington-university/huggingface/runs/y70evdb2</a>"
      ],
      "text/plain": [
       "<IPython.core.display.HTML object>"
      ]
     },
     "metadata": {},
     "output_type": "display_data"
    }
   ],
   "source": [
    "results = trainer.evaluate()"
   ]
  },
  {
   "cell_type": "code",
   "execution_count": 28,
   "metadata": {
    "colab": {
     "base_uri": "https://localhost:8080/"
    },
    "id": "i7UDmQGX6n8q",
    "outputId": "7db271c6-e6e9-4475-fce4-32ee076a4146"
   },
   "outputs": [
    {
     "data": {
      "text/plain": [
       "{'eval_loss': 0.40833431482315063,\n",
       " 'eval_model_preparation_time': 0.0059,\n",
       " 'eval_accuracy': 0.9018355945730248,\n",
       " 'eval_precision': 0.9018952614165529,\n",
       " 'eval_recall': 0.9018355945730248,\n",
       " 'eval_f1': 0.9007492032358536,\n",
       " 'eval_runtime': 175.0364,\n",
       " 'eval_samples_per_second': 14.317,\n",
       " 'eval_steps_per_second': 1.794}"
      ]
     },
     "execution_count": 28,
     "metadata": {},
     "output_type": "execute_result"
    }
   ],
   "source": [
    "results"
   ]
  },
  {
   "cell_type": "code",
   "execution_count": 21,
   "metadata": {
    "id": "7WLzowEXtLH4"
   },
   "outputs": [],
   "source": [
    "percentages = [0.0, 0.1, 0.2, 0.3, 0.4, 0.5, 0.6, 0.7, 0.8, 0.9]\n",
    "accuracies = []"
   ]
  },
  {
   "cell_type": "markdown",
   "metadata": {
    "id": "mJ_GwtTe7BBB"
   },
   "source": [
    "### Neuron Ablation"
   ]
  },
  {
   "cell_type": "code",
   "execution_count": 23,
   "metadata": {
    "colab": {
     "base_uri": "https://localhost:8080/",
     "height": 414
    },
    "id": "rO-owcdztNbA",
    "outputId": "46077be7-ba84-49ca-e912-f3ffb4bfe906"
   },
   "outputs": [
    {
     "data": {
      "text/html": [
       "\n",
       "    <div>\n",
       "      \n",
       "      <progress value='3454' max='314' style='width:300px; height:20px; vertical-align: middle;'></progress>\n",
       "      [314/314 33:28]\n",
       "    </div>\n",
       "    "
      ],
      "text/plain": [
       "<IPython.core.display.HTML object>"
      ]
     },
     "metadata": {},
     "output_type": "display_data"
    },
    {
     "name": "stderr",
     "output_type": "stream",
     "text": [
      "/usr/local/lib/python3.10/dist-packages/sklearn/metrics/_classification.py:1531: UndefinedMetricWarning: Precision is ill-defined and being set to 0.0 in labels with no predicted samples. Use `zero_division` parameter to control this behavior.\n",
      "  _warn_prf(average, modifier, f\"{metric.capitalize()} is\", len(result))\n",
      "/usr/local/lib/python3.10/dist-packages/sklearn/metrics/_classification.py:1531: UndefinedMetricWarning: Precision is ill-defined and being set to 0.0 in labels with no predicted samples. Use `zero_division` parameter to control this behavior.\n",
      "  _warn_prf(average, modifier, f\"{metric.capitalize()} is\", len(result))\n",
      "/usr/local/lib/python3.10/dist-packages/sklearn/metrics/_classification.py:1531: UndefinedMetricWarning: Precision is ill-defined and being set to 0.0 in labels with no predicted samples. Use `zero_division` parameter to control this behavior.\n",
      "  _warn_prf(average, modifier, f\"{metric.capitalize()} is\", len(result))\n",
      "/usr/local/lib/python3.10/dist-packages/sklearn/metrics/_classification.py:1531: UndefinedMetricWarning: Precision is ill-defined and being set to 0.0 in labels with no predicted samples. Use `zero_division` parameter to control this behavior.\n",
      "  _warn_prf(average, modifier, f\"{metric.capitalize()} is\", len(result))\n",
      "/usr/local/lib/python3.10/dist-packages/sklearn/metrics/_classification.py:1531: UndefinedMetricWarning: Precision is ill-defined and being set to 0.0 in labels with no predicted samples. Use `zero_division` parameter to control this behavior.\n",
      "  _warn_prf(average, modifier, f\"{metric.capitalize()} is\", len(result))\n",
      "/usr/local/lib/python3.10/dist-packages/sklearn/metrics/_classification.py:1531: UndefinedMetricWarning: Precision is ill-defined and being set to 0.0 in labels with no predicted samples. Use `zero_division` parameter to control this behavior.\n",
      "  _warn_prf(average, modifier, f\"{metric.capitalize()} is\", len(result))\n",
      "/usr/local/lib/python3.10/dist-packages/sklearn/metrics/_classification.py:1531: UndefinedMetricWarning: Precision is ill-defined and being set to 0.0 in labels with no predicted samples. Use `zero_division` parameter to control this behavior.\n",
      "  _warn_prf(average, modifier, f\"{metric.capitalize()} is\", len(result))\n",
      "/usr/local/lib/python3.10/dist-packages/sklearn/metrics/_classification.py:1531: UndefinedMetricWarning: Precision is ill-defined and being set to 0.0 in labels with no predicted samples. Use `zero_division` parameter to control this behavior.\n",
      "  _warn_prf(average, modifier, f\"{metric.capitalize()} is\", len(result))\n",
      "/usr/local/lib/python3.10/dist-packages/sklearn/metrics/_classification.py:1531: UndefinedMetricWarning: Precision is ill-defined and being set to 0.0 in labels with no predicted samples. Use `zero_division` parameter to control this behavior.\n",
      "  _warn_prf(average, modifier, f\"{metric.capitalize()} is\", len(result))\n",
      "/usr/local/lib/python3.10/dist-packages/sklearn/metrics/_classification.py:1531: UndefinedMetricWarning: Precision is ill-defined and being set to 0.0 in labels with no predicted samples. Use `zero_division` parameter to control this behavior.\n",
      "  _warn_prf(average, modifier, f\"{metric.capitalize()} is\", len(result))\n"
     ]
    }
   ],
   "source": [
    "for p in percentages:\n",
    "    # Apply ablation\n",
    "    with torch.no_grad():\n",
    "        ablated_weight = ablate_neurons(\n",
    "            model.classifier.dense.weight, percentage=p\n",
    "        )\n",
    "        # Convert the ablated weight to a Parameter\n",
    "        model.classifier.dense.weight = torch.nn.Parameter(ablated_weight)\n",
    "    # Evaluate model\n",
    "    result = trainer.evaluate()\n",
    "    accuracies.append(result[\"eval_accuracy\"])"
   ]
  },
  {
   "cell_type": "code",
   "execution_count": 24,
   "metadata": {
    "colab": {
     "base_uri": "https://localhost:8080/"
    },
    "id": "L8m4Lo-x6NfI",
    "outputId": "2d73d228-9ae7-4a06-ac32-1572b0bb2fed"
   },
   "outputs": [
    {
     "data": {
      "text/plain": [
       "[0.9018355945730248,\n",
       " 0.9022346368715084,\n",
       " 0.9022346368715084,\n",
       " 0.9014365522745411,\n",
       " 0.8986432561851556,\n",
       " 0.8950518754988028,\n",
       " 0.8563447725458898,\n",
       " 0.7913008778930567,\n",
       " 0.518754988028731,\n",
       " 0.3583399840383081]"
      ]
     },
     "execution_count": 24,
     "metadata": {},
     "output_type": "execute_result"
    }
   ],
   "source": [
    "accuracies"
   ]
  },
  {
   "cell_type": "code",
   "execution_count": 25,
   "metadata": {
    "colab": {
     "base_uri": "https://localhost:8080/",
     "height": 472
    },
    "id": "zwiirFS4tPUH",
    "outputId": "76ff7526-6081-4fc5-c880-f9b8d054a09d"
   },
   "outputs": [
    {
     "data": {
      "image/png": "[encoded data removed]",
      "text/plain": [
       "<Figure size 640x480 with 1 Axes>"
      ]
     },
     "metadata": {},
     "output_type": "display_data"
    }
   ],
   "source": [
    "# Plot performance vs. neurons removed\n",
    "plt.plot([p * 100 for p in percentages], accuracies, marker=\"o\", label=\"Accuracy\")\n",
    "plt.title(\"Performance vs. Neurons Ablated\")\n",
    "plt.xlabel(\"Percentage of Neurons Ablated\")\n",
    "plt.ylabel(\"Accuracy\")\n",
    "plt.legend()\n",
    "plt.grid(True)\n",
    "plt.show()"
   ]
  },
  {
   "cell_type": "markdown",
   "metadata": {
    "id": "ArgcK3E67EkW"
   },
   "source": [
    "### Layer-Wise Sensitivity Heatmap"
   ]
  },
  {
   "cell_type": "code",
   "execution_count": 50,
   "metadata": {
    "id": "M5Lhe0zh6sHj"
   },
   "outputs": [],
   "source": [
    "# Define layers to test and percentages to ablate\n",
    "layers = [\"classifier.dense\",\n",
    "          \"esm.encoder.layer[0].intermediate.dense\",\n",
    "          \"esm.encoder.layer[1].intermediate.dense\"]\n",
    "\n",
    "# Store results in a matrix\n",
    "layer_data = []\n",
    "percentages = [0.1, 0.2, 0.5]"
   ]
  },
  {
   "cell_type": "code",
   "execution_count": 31,
   "metadata": {
    "colab": {
     "base_uri": "https://localhost:8080/",
     "height": 649
    },
    "id": "LnGdaD8u66Yg",
    "outputId": "5eb6abd1-5990-4ee8-d12d-7dd1d3d1b4ac"
   },
   "outputs": [
    {
     "data": {
      "text/html": [
       "\n",
       "    <div>\n",
       "      \n",
       "      <progress value='6594' max='314' style='width:300px; height:20px; vertical-align: middle;'></progress>\n",
       "      [314/314 1:09:07]\n",
       "    </div>\n",
       "    "
      ],
      "text/plain": [
       "<IPython.core.display.HTML object>"
      ]
     },
     "metadata": {},
     "output_type": "display_data"
    },
    {
     "name": "stderr",
     "output_type": "stream",
     "text": [
      "/usr/local/lib/python3.10/dist-packages/sklearn/metrics/_classification.py:1531: UndefinedMetricWarning: Precision is ill-defined and being set to 0.0 in labels with no predicted samples. Use `zero_division` parameter to control this behavior.\n",
      "  _warn_prf(average, modifier, f\"{metric.capitalize()} is\", len(result))\n",
      "/usr/local/lib/python3.10/dist-packages/sklearn/metrics/_classification.py:1531: UndefinedMetricWarning: Precision is ill-defined and being set to 0.0 in labels with no predicted samples. Use `zero_division` parameter to control this behavior.\n",
      "  _warn_prf(average, modifier, f\"{metric.capitalize()} is\", len(result))\n",
      "/usr/local/lib/python3.10/dist-packages/sklearn/metrics/_classification.py:1531: UndefinedMetricWarning: Precision is ill-defined and being set to 0.0 in labels with no predicted samples. Use `zero_division` parameter to control this behavior.\n",
      "  _warn_prf(average, modifier, f\"{metric.capitalize()} is\", len(result))\n",
      "/usr/local/lib/python3.10/dist-packages/sklearn/metrics/_classification.py:1531: UndefinedMetricWarning: Precision is ill-defined and being set to 0.0 in labels with no predicted samples. Use `zero_division` parameter to control this behavior.\n",
      "  _warn_prf(average, modifier, f\"{metric.capitalize()} is\", len(result))\n",
      "/usr/local/lib/python3.10/dist-packages/sklearn/metrics/_classification.py:1531: UndefinedMetricWarning: Precision is ill-defined and being set to 0.0 in labels with no predicted samples. Use `zero_division` parameter to control this behavior.\n",
      "  _warn_prf(average, modifier, f\"{metric.capitalize()} is\", len(result))\n",
      "/usr/local/lib/python3.10/dist-packages/sklearn/metrics/_classification.py:1531: UndefinedMetricWarning: Precision is ill-defined and being set to 0.0 in labels with no predicted samples. Use `zero_division` parameter to control this behavior.\n",
      "  _warn_prf(average, modifier, f\"{metric.capitalize()} is\", len(result))\n",
      "/usr/local/lib/python3.10/dist-packages/sklearn/metrics/_classification.py:1531: UndefinedMetricWarning: Precision is ill-defined and being set to 0.0 in labels with no predicted samples. Use `zero_division` parameter to control this behavior.\n",
      "  _warn_prf(average, modifier, f\"{metric.capitalize()} is\", len(result))\n",
      "/usr/local/lib/python3.10/dist-packages/sklearn/metrics/_classification.py:1531: UndefinedMetricWarning: Precision is ill-defined and being set to 0.0 in labels with no predicted samples. Use `zero_division` parameter to control this behavior.\n",
      "  _warn_prf(average, modifier, f\"{metric.capitalize()} is\", len(result))\n",
      "/usr/local/lib/python3.10/dist-packages/sklearn/metrics/_classification.py:1531: UndefinedMetricWarning: Precision is ill-defined and being set to 0.0 in labels with no predicted samples. Use `zero_division` parameter to control this behavior.\n",
      "  _warn_prf(average, modifier, f\"{metric.capitalize()} is\", len(result))\n",
      "/usr/local/lib/python3.10/dist-packages/sklearn/metrics/_classification.py:1531: UndefinedMetricWarning: Precision is ill-defined and being set to 0.0 in labels with no predicted samples. Use `zero_division` parameter to control this behavior.\n",
      "  _warn_prf(average, modifier, f\"{metric.capitalize()} is\", len(result))\n"
     ]
    },
    {
     "ename": "SyntaxError",
     "evalue": "invalid syntax (<string>, line 1)",
     "output_type": "error",
     "traceback": [
      "Traceback \u001b[0;36m(most recent call last)\u001b[0m:\n",
      "  File \u001b[1;32m\"/usr/local/lib/python3.10/dist-packages/IPython/core/interactiveshell.py\"\u001b[0m, line \u001b[1;32m3553\u001b[0m, in \u001b[1;35mrun_code\u001b[0m\n    exec(code_obj, self.user_global_ns, self.user_ns)\n",
      "\u001b[0;36m  File \u001b[0;32m\"<ipython-input-31-cb81265c37b2>\"\u001b[0;36m, line \u001b[0;32m5\u001b[0;36m, in \u001b[0;35m<cell line: 1>\u001b[0;36m\u001b[0m\n\u001b[0;31m    layer = eval(f\"model.{layer_name}\")\u001b[0m\n",
      "\u001b[0;36m  File \u001b[0;32m\"<string>\"\u001b[0;36m, line \u001b[0;32m1\u001b[0m\n\u001b[0;31m    model.encoder.layer.0.intermediate.dense\u001b[0m\n\u001b[0m                       ^\u001b[0m\n\u001b[0;31mSyntaxError\u001b[0m\u001b[0;31m:\u001b[0m invalid syntax\n"
     ]
    }
   ],
   "source": [
    "for layer_name in layers:\n",
    "    layer_results = []\n",
    "    for p in percentages:\n",
    "        # Ablate neurons in the selected layer\n",
    "        layer = eval(f\"model.{layer_name}\")\n",
    "        with torch.no_grad():\n",
    "            layer.weight = torch.nn.Parameter(ablate_neurons(layer.weight, percentage=p))\n",
    "\n",
    "        # Evaluate performance\n",
    "        result = trainer.evaluate()\n",
    "        layer_results.append(result[\"eval_accuracy\"])\n",
    "    layer_data.append(layer_results)"
   ]
  },
  {
   "cell_type": "code",
   "execution_count": 32,
   "metadata": {
    "colab": {
     "base_uri": "https://localhost:8080/"
    },
    "id": "C8S2zqkXCUYP",
    "outputId": "13b7e127-f800-4e64-c23e-ebf232f10269"
   },
   "outputs": [
    {
     "data": {
      "text/plain": [
       "[[0.3583399840383081,\n",
       "  0.3583399840383081,\n",
       "  0.3583399840383081,\n",
       "  0.3583399840383081,\n",
       "  0.3583399840383081,\n",
       "  0.3583399840383081,\n",
       "  0.3583399840383081,\n",
       "  0.3583399840383081,\n",
       "  0.3583399840383081,\n",
       "  0.3583399840383081]]"
      ]
     },
     "execution_count": 32,
     "metadata": {},
     "output_type": "execute_result"
    }
   ],
   "source": [
    "layer_data"
   ]
  },
  {
   "cell_type": "code",
   "execution_count": 33,
   "metadata": {
    "id": "LMoMvpZzCSFX"
   },
   "outputs": [],
   "source": [
    "# Convert to a NumPy array for visualization\n",
    "layer_data = np.array(layer_data)"
   ]
  },
  {
   "cell_type": "code",
   "execution_count": 34,
   "metadata": {
    "colab": {
     "base_uri": "https://localhost:8080/",
     "height": 472
    },
    "id": "CnsFyrkJ7Hzz",
    "outputId": "b551fc20-79de-4794-cfb8-0a3e4204f236"
   },
   "outputs": [
    {
     "data": {
      "image/png": "[encoded data removed]",
      "text/plain": [
       "<Figure size 640x480 with 2 Axes>"
      ]
     },
     "metadata": {},
     "output_type": "display_data"
    }
   ],
   "source": [
    "# Plot heatmap\n",
    "sns.heatmap(layer_data, annot=True, cmap=\"viridis\", xticklabels=[p * 100 for p in percentages], yticklabels=layers)\n",
    "plt.title(\"Layer Sensitivity to Neuronal Ablation\")\n",
    "plt.xlabel(\"Percentage of Neurons Ablated\")\n",
    "plt.ylabel(\"Layer\")\n",
    "plt.show()"
   ]
  },
  {
   "cell_type": "markdown",
   "metadata": {
    "id": "oAsgwdn77mPi"
   },
   "source": [
    "### Clustering"
   ]
  },
  {
   "cell_type": "code",
   "execution_count": 64,
   "metadata": {
    "id": "s6lkFZl2E-j3"
   },
   "outputs": [],
   "source": [
    "model_h = AutoModelForSequenceClassification.from_pretrained(model_name,\n",
    "                                                           ignore_mismatched_sizes=True,\n",
    "                                                           trust_remote_code=True,\n",
    "                                                           output_hidden_states=True)"
   ]
  },
  {
   "cell_type": "code",
   "execution_count": 62,
   "metadata": {
    "id": "N8_s5MPT7nSm"
   },
   "outputs": [],
   "source": [
    "def get_embeddings(model, dataloader):\n",
    "    model.eval()\n",
    "    embeddings = []\n",
    "    labels = []\n",
    "    with torch.no_grad():\n",
    "        for batch in dataloader:\n",
    "            # Move inputs to the same device as the model\n",
    "            input_ids = batch[\"input_ids\"].to(model.device)\n",
    "            attention_mask = batch[\"attention_mask\"].to(model.device)\n",
    "            labels_batch = batch[\"labels\"].to(model.device) if \"labels\" in batch else None\n",
    "\n",
    "            # Forward pass\n",
    "            outputs = model(input_ids=input_ids, attention_mask=attention_mask)\n",
    "\n",
    "            # Extract the last hidden state (or desired layer)\n",
    "            hidden_states = outputs.hidden_states  # Tuple of hidden states\n",
    "            last_hidden_state = hidden_states[-1]  # Take the last layer\n",
    "\n",
    "            # Pool embeddings (mean pooling across sequence length)\n",
    "            pooled_embeddings = last_hidden_state.mean(dim=1).cpu().numpy()\n",
    "            embeddings.append(pooled_embeddings)\n",
    "\n",
    "            # Collect labels\n",
    "            if labels_batch is not None:\n",
    "                labels.append(labels_batch.cpu().numpy())\n",
    "\n",
    "    # Concatenate all embeddings and labels\n",
    "    embeddings = np.vstack(embeddings)\n",
    "    labels = np.hstack(labels) if labels else None\n",
    "\n",
    "    return embeddings, labels"
   ]
  },
  {
   "cell_type": "code",
   "execution_count": 61,
   "metadata": {
    "id": "n05apElbEv5l"
   },
   "outputs": [],
   "source": [
    "test_dataloader = DataLoader(test_dataset, batch_size=16)"
   ]
  },
  {
   "cell_type": "code",
   "execution_count": 65,
   "metadata": {
    "id": "akdj9V6a7q9n"
   },
   "outputs": [],
   "source": [
    "embeddings, labels = get_embeddings(model_h, test_dataloader)"
   ]
  },
  {
   "cell_type": "code",
   "execution_count": 70,
   "metadata": {
    "colab": {
     "base_uri": "https://localhost:8080/"
    },
    "id": "Ue7I7EHFWN-K",
    "outputId": "02759602-9afd-4f9e-d8c0-29da0a64f3d4"
   },
   "outputs": [
    {
     "data": {
      "text/plain": [
       "array([[ 0.4333652 ,  0.4769534 , -0.6375476 , ...,  0.37277496,\n",
       "        -0.6552095 ,  0.29958868],\n",
       "       [ 0.96535945,  0.8306975 , -0.79558796, ...,  0.02952645,\n",
       "        -0.63702124,  0.22937869],\n",
       "       [ 0.01038288,  0.29065326,  0.16204399, ...,  0.23009133,\n",
       "        -0.00931367,  1.0118687 ],\n",
       "       ...,\n",
       "       [ 0.7501196 ,  0.95851505, -0.7178182 , ...,  0.6238857 ,\n",
       "        -0.673432  ,  0.55878776],\n",
       "       [ 0.14598516,  0.15790042, -0.3284515 , ...,  0.03022845,\n",
       "         0.07713453,  0.67309135],\n",
       "       [ 0.26777104,  0.8777506 , -0.23357737, ...,  0.39114982,\n",
       "        -0.48681396,  0.21170932]], dtype=float32)"
      ]
     },
     "execution_count": 70,
     "metadata": {},
     "output_type": "execute_result"
    }
   ],
   "source": [
    "embeddings"
   ]
  },
  {
   "cell_type": "code",
   "execution_count": 71,
   "metadata": {
    "id": "JuO5E30VWVnh"
   },
   "outputs": [],
   "source": [
    "import pickle\n",
    "\n",
    "# Assuming you have your embeddings in a variable called 'embeddings'\n",
    "with open('/content/drive/MyDrive/PUBH 8885 CB/embeddings.pkl', 'wb') as f:\n",
    "    pickle.dump(embeddings, f)"
   ]
  },
  {
   "cell_type": "code",
   "execution_count": 73,
   "metadata": {
    "colab": {
     "base_uri": "https://localhost:8080/"
    },
    "id": "aHcVO_OOWl-G",
    "outputId": "e18e0a5a-b472-411f-85f9-6796c50802e8"
   },
   "outputs": [
    {
     "name": "stdout",
     "output_type": "stream",
     "text": [
      "{0: 'aminoglycoside', 1: 'bacitracin', 2: 'beta_lactam', 3: 'chloramphenicol', 4: 'fosfomycin', 5: 'fosmidomycin', 6: 'fusidic_acid', 7: 'glycopeptide', 8: 'kasugamycin', 9: 'macrolide-lincosamide-streptogramin', 10: 'multidrug', 11: 'mupirocin', 12: 'non_resistant', 13: 'peptide', 14: 'polymyxin', 15: 'qa_compound', 16: 'quinolone', 17: 'rifampin', 18: 'sulfonamide', 19: 'tetracenomycin', 20: 'tetracycline', 21: 'trimethoprim', 22: 'tunicamycin'}\n"
     ]
    }
   ],
   "source": [
    "class_mapping2 = dict(zip(label_encoder.transform(label_encoder.classes_), label_encoder.classes_))\n",
    "print(class_mapping2)"
   ]
  },
  {
   "cell_type": "code",
   "execution_count": 66,
   "metadata": {
    "id": "-Y5fLCVY7t3W"
   },
   "outputs": [],
   "source": [
    "# Dimensionality reduction with PCA\n",
    "pca = PCA(n_components=2)\n",
    "reduced_embeddings = pca.fit_transform(embeddings)"
   ]
  },
  {
   "cell_type": "code",
   "execution_count": 67,
   "metadata": {
    "colab": {
     "base_uri": "https://localhost:8080/",
     "height": 564
    },
    "id": "oDZpS9Qw7ujW",
    "outputId": "d046732d-d070-43a5-bf50-5960bfa7db62"
   },
   "outputs": [
    {
     "data": {
      "image/png": "[encoded data removed]",
      "text/plain": [
       "<Figure size 800x600 with 2 Axes>"
      ]
     },
     "metadata": {},
     "output_type": "display_data"
    }
   ],
   "source": [
    "# Scatter plot of embeddings\n",
    "plt.figure(figsize=(8, 6))\n",
    "scatter = plt.scatter(reduced_embeddings[:, 0], reduced_embeddings[:, 1], c=labels, cmap=\"viridis\", alpha=0.7)\n",
    "plt.colorbar(scatter, label=\"ARG Type\")\n",
    "plt.title(\"PCA of Embeddings\")\n",
    "plt.xlabel(\"PCA Component 1\")\n",
    "plt.ylabel(\"PCA Component 2\")\n",
    "plt.show()"
   ]
  },
  {
   "cell_type": "code",
   "execution_count": 68,
   "metadata": {
    "colab": {
     "base_uri": "https://localhost:8080/",
     "height": 472
    },
    "id": "EtA1p4UKV7Nn",
    "outputId": "70825991-a164-40c7-af0d-9ce73977ea76"
   },
   "outputs": [
    {
     "data": {
      "image/png": "[encoded data removed]",
      "text/plain": [
       "<Figure size 640x480 with 1 Axes>"
      ]
     },
     "metadata": {},
     "output_type": "display_data"
    }
   ],
   "source": [
    "df = pd.DataFrame({'PCA Component 1': reduced_embeddings[:, 0], 'ARG Type': labels})\n",
    "\n",
    "# Create a density plot for one PCA component\n",
    "sns.kdeplot(data=df, fill=True, palette=\"viridis\")\n",
    "plt.title(\"Density Plot for PCA Component 1\")\n",
    "plt.xlabel(\"PCA Component 1\")\n",
    "plt.ylabel(\"Density\")\n",
    "plt.show()"
   ]
  },
  {
   "cell_type": "code",
   "execution_count": 69,
   "metadata": {
    "colab": {
     "base_uri": "https://localhost:8080/",
     "height": 472
    },
    "id": "T5gH3WgZWCl8",
    "outputId": "bd916942-3415-47cb-eb13-04568a4a61c4"
   },
   "outputs": [
    {
     "data": {
      "image/png": "[encoded data removed]",
      "text/plain": [
       "<Figure size 640x480 with 1 Axes>"
      ]
     },
     "metadata": {},
     "output_type": "display_data"
    }
   ],
   "source": [
    "df = pd.DataFrame({'PCA Component 2': reduced_embeddings[:, 1], 'ARG Type': labels})\n",
    "\n",
    "# Create a density plot for one PCA component\n",
    "sns.kdeplot(data=df, fill=True, palette=\"viridis\")\n",
    "plt.title(\"Density Plot for PCA Component 2\")\n",
    "plt.xlabel(\"PCA Component 2\")\n",
    "plt.ylabel(\"Density\")\n",
    "plt.show()"
   ]
  },
  {
   "cell_type": "code",
   "execution_count": 74,
   "metadata": {
    "id": "fO2knPBLWKUE"
   },
   "outputs": [],
   "source": [
    "# Generate t-SNE embeddings\n",
    "tsne = TSNE(n_components=2, random_state=42)\n",
    "tsne_embeddings = tsne.fit_transform(embeddings)"
   ]
  },
  {
   "cell_type": "code",
   "execution_count": 75,
   "metadata": {
    "colab": {
     "base_uri": "https://localhost:8080/",
     "height": 472
    },
    "id": "5p11R8nLXA5j",
    "outputId": "48e21e86-5848-486b-80d8-c6d4c458af0b"
   },
   "outputs": [
    {
     "data": {
      "image/png": "[encoded data removed]",
      "text/plain": [
       "<Figure size 640x480 with 1 Axes>"
      ]
     },
     "metadata": {},
     "output_type": "display_data"
    }
   ],
   "source": [
    "tdf = pd.DataFrame({'tSNE Component 1': tsne_embeddings[:, 0], 'ARG Type': labels})\n",
    "\n",
    "# Create a density plot for one tSNE component\n",
    "sns.kdeplot(data=tdf, fill=True, palette=\"viridis\")\n",
    "plt.title(\"Density Plot for tSNE Component 1\")\n",
    "plt.xlabel(\"tSNE Component 1\")\n",
    "plt.ylabel(\"Density\")\n",
    "plt.show()"
   ]
  },
  {
   "cell_type": "code",
   "execution_count": 76,
   "metadata": {
    "colab": {
     "base_uri": "https://localhost:8080/",
     "height": 472
    },
    "id": "Yhc5f3iXXFmO",
    "outputId": "b45cb1d6-d157-4dd3-a32e-5be2c0048a35"
   },
   "outputs": [
    {
     "data": {
      "image/png": "[encoded data removed]",
      "text/plain": [
       "<Figure size 640x480 with 1 Axes>"
      ]
     },
     "metadata": {},
     "output_type": "display_data"
    }
   ],
   "source": [
    "tdf = pd.DataFrame({'tSNE Component 2': tsne_embeddings[:, 1], 'ARG Type': labels})\n",
    "\n",
    "# Create a density plot for one tSNE component\n",
    "sns.kdeplot(data=tdf, fill=True, palette=\"viridis\")\n",
    "plt.title(\"Density Plot for tSNE Component 2\")\n",
    "plt.xlabel(\"tSNE Component 2\")\n",
    "plt.ylabel(\"Density\")\n",
    "plt.show()"
   ]
  },
  {
   "cell_type": "code",
   "execution_count": null,
   "metadata": {
    "id": "S1uJxZn3XJHc"
   },
   "outputs": [],
   "source": [
    "from sklearn.cluster import KMeans\n",
    "\n",
    "# Cluster feature importance scores\n",
    "n_clusters = 10  # Adjust based on your dataset\n",
    "kmeans = KMeans(n_clusters=n_clusters, random_state=42)\n",
    "clusters = kmeans.fit_predict(np.abs(logreg.coef_))\n",
    "\n",
    "# Plot cluster importance\n",
    "plt.bar(range(n_clusters), np.bincount(clusters))\n",
    "plt.title(\"Clustered Feature Importances\")\n",
    "plt.xlabel(\"Cluster\")\n",
    "plt.ylabel(\"Number of Features\")\n",
    "plt.show()"
   ]
  }
 ],
 "metadata": {
  "accelerator": "GPU",
  "colab": {
   "gpuType": "L4",
   "machine_shape": "hm",
   "provenance": []
  },
  "kernelspec": {
   "display_name": "Python 3",
   "name": "python3"
  },
  "language_info": {
   "name": "python"
  },
  "widgets": {
   "application/vnd.jupyter.widget-state+json": {
    "01b1285ddbef4c978e91b119e0a9837c": {
     "model_module": "@jupyter-widgets/controls",
     "model_module_version": "1.5.0",
     "model_name": "HTMLModel",
     "state": {
      "_dom_classes": [],
      "_model_module": "@jupyter-widgets/controls",
      "_model_module_version": "1.5.0",
      "_model_name": "HTMLModel",
      "_view_count": null,
      "_view_module": "@jupyter-widgets/controls",
      "_view_module_version": "1.5.0",
      "_view_name": "HTMLView",
      "description": "",
      "description_tooltip": null,
      "layout": "IPY_MODEL_e7a5c7e4b8b149859edc0ec8209435dc",
      "placeholder": "​",
      "style": "IPY_MODEL_950c5a762f3d4bb3acbf0eb9bb21fa02",
      "value": "special_tokens_map.json: 100%"
     }
    },
    "0cdfe60ffb834701a0076b7e3f49e0bd": {
     "model_module": "@jupyter-widgets/controls",
     "model_module_version": "1.5.0",
     "model_name": "HTMLModel",
     "state": {
      "_dom_classes": [],
      "_model_module": "@jupyter-widgets/controls",
      "_model_module_version": "1.5.0",
      "_model_name": "HTMLModel",
      "_view_count": null,
      "_view_module": "@jupyter-widgets/controls",
      "_view_module_version": "1.5.0",
      "_view_name": "HTMLView",
      "description": "",
      "description_tooltip": null,
      "layout": "IPY_MODEL_b9a6b9b91e214f34b3b6b5c5d962bad0",
      "placeholder": "​",
      "style": "IPY_MODEL_b91632b2c48141fbab75b11b8cc1b9a2",
      "value": " 2.35k/2.35k [00:00&lt;00:00, 185kB/s]"
     }
    },
    "0efd60876fd548079976e2685029ed71": {
     "model_module": "@jupyter-widgets/controls",
     "model_module_version": "1.5.0",
     "model_name": "FloatProgressModel",
     "state": {
      "_dom_classes": [],
      "_model_module": "@jupyter-widgets/controls",
      "_model_module_version": "1.5.0",
      "_model_name": "FloatProgressModel",
      "_view_count": null,
      "_view_module": "@jupyter-widgets/controls",
      "_view_module_version": "1.5.0",
      "_view_name": "ProgressView",
      "bar_style": "success",
      "description": "",
      "description_tooltip": null,
      "layout": "IPY_MODEL_d91787001d2747ba99ab40883cefd758",
      "max": 383212968,
      "min": 0,
      "orientation": "horizontal",
      "style": "IPY_MODEL_3943ffd898c144a9b0e09e7242501f13",
      "value": 383212968
     }
    },
    "11079b895f2e4068b227a45ffb5cd5f7": {
     "model_module": "@jupyter-widgets/controls",
     "model_module_version": "1.5.0",
     "model_name": "DescriptionStyleModel",
     "state": {
      "_model_module": "@jupyter-widgets/controls",
      "_model_module_version": "1.5.0",
      "_model_name": "DescriptionStyleModel",
      "_view_count": null,
      "_view_module": "@jupyter-widgets/base",
      "_view_module_version": "1.2.0",
      "_view_name": "StyleView",
      "description_width": ""
     }
    },
    "17621a88afa148ea954109ab8a76c78f": {
     "model_module": "@jupyter-widgets/base",
     "model_module_version": "1.2.0",
     "model_name": "LayoutModel",
     "state": {
      "_model_module": "@jupyter-widgets/base",
      "_model_module_version": "1.2.0",
      "_model_name": "LayoutModel",
      "_view_count": null,
      "_view_module": "@jupyter-widgets/base",
      "_view_module_version": "1.2.0",
      "_view_name": "LayoutView",
      "align_content": null,
      "align_items": null,
      "align_self": null,
      "border": null,
      "bottom": null,
      "display": null,
      "flex": null,
      "flex_flow": null,
      "grid_area": null,
      "grid_auto_columns": null,
      "grid_auto_flow": null,
      "grid_auto_rows": null,
      "grid_column": null,
      "grid_gap": null,
      "grid_row": null,
      "grid_template_areas": null,
      "grid_template_columns": null,
      "grid_template_rows": null,
      "height": null,
      "justify_content": null,
      "justify_items": null,
      "left": null,
      "margin": null,
      "max_height": null,
      "max_width": null,
      "min_height": null,
      "min_width": null,
      "object_fit": null,
      "object_position": null,
      "order": null,
      "overflow": null,
      "overflow_x": null,
      "overflow_y": null,
      "padding": null,
      "right": null,
      "top": null,
      "visibility": null,
      "width": null
     }
    },
    "21f24c6cd12c462ca88b064dab5c64f1": {
     "model_module": "@jupyter-widgets/base",
     "model_module_version": "1.2.0",
     "model_name": "LayoutModel",
     "state": {
      "_model_module": "@jupyter-widgets/base",
      "_model_module_version": "1.2.0",
      "_model_name": "LayoutModel",
      "_view_count": null,
      "_view_module": "@jupyter-widgets/base",
      "_view_module_version": "1.2.0",
      "_view_name": "LayoutView",
      "align_content": null,
      "align_items": null,
      "align_self": null,
      "border": null,
      "bottom": null,
      "display": null,
      "flex": null,
      "flex_flow": null,
      "grid_area": null,
      "grid_auto_columns": null,
      "grid_auto_flow": null,
      "grid_auto_rows": null,
      "grid_column": null,
      "grid_gap": null,
      "grid_row": null,
      "grid_template_areas": null,
      "grid_template_columns": null,
      "grid_template_rows": null,
      "height": null,
      "justify_content": null,
      "justify_items": null,
      "left": null,
      "margin": null,
      "max_height": null,
      "max_width": null,
      "min_height": null,
      "min_width": null,
      "object_fit": null,
      "object_position": null,
      "order": null,
      "overflow": null,
      "overflow_x": null,
      "overflow_y": null,
      "padding": null,
      "right": null,
      "top": null,
      "visibility": null,
      "width": null
     }
    },
    "260e4913ea784c2f99ae10fb6f3b70a1": {
     "model_module": "@jupyter-widgets/controls",
     "model_module_version": "1.5.0",
     "model_name": "HBoxModel",
     "state": {
      "_dom_classes": [],
      "_model_module": "@jupyter-widgets/controls",
      "_model_module_version": "1.5.0",
      "_model_name": "HBoxModel",
      "_view_count": null,
      "_view_module": "@jupyter-widgets/controls",
      "_view_module_version": "1.5.0",
      "_view_name": "HBoxView",
      "box_style": "",
      "children": [
       "IPY_MODEL_52ab5902a1124af981ec040c54e53a9d",
       "IPY_MODEL_2775096d609e4eb698ca6167992af815",
       "IPY_MODEL_2cea2d714b96498190aac8a8bc2e2242"
      ],
      "layout": "IPY_MODEL_bd11150556fb4f319b9870d93a312e30"
     }
    },
    "2775096d609e4eb698ca6167992af815": {
     "model_module": "@jupyter-widgets/controls",
     "model_module_version": "1.5.0",
     "model_name": "FloatProgressModel",
     "state": {
      "_dom_classes": [],
      "_model_module": "@jupyter-widgets/controls",
      "_model_module_version": "1.5.0",
      "_model_name": "FloatProgressModel",
      "_view_count": null,
      "_view_module": "@jupyter-widgets/controls",
      "_view_module_version": "1.5.0",
      "_view_name": "ProgressView",
      "bar_style": "success",
      "description": "",
      "description_tooltip": null,
      "layout": "IPY_MODEL_d83af8399e944774b9378a968cbeebb8",
      "max": 28718,
      "min": 0,
      "orientation": "horizontal",
      "style": "IPY_MODEL_37d855a8c4164b1daf46aa9cb32fa628",
      "value": 28718
     }
    },
    "2898ee20cc584f24b640e0776727d95c": {
     "model_module": "@jupyter-widgets/controls",
     "model_module_version": "1.5.0",
     "model_name": "HBoxModel",
     "state": {
      "_dom_classes": [],
      "_model_module": "@jupyter-widgets/controls",
      "_model_module_version": "1.5.0",
      "_model_name": "HBoxModel",
      "_view_count": null,
      "_view_module": "@jupyter-widgets/controls",
      "_view_module_version": "1.5.0",
      "_view_name": "HBoxView",
      "box_style": "",
      "children": [
       "IPY_MODEL_e1892ab6f23246dfbbc11afe676fcc27",
       "IPY_MODEL_e8412d24e9b54c3a961e8ba9a0285eb1",
       "IPY_MODEL_0cdfe60ffb834701a0076b7e3f49e0bd"
      ],
      "layout": "IPY_MODEL_62d6a4e89b2b488d84fd5e1240d95688"
     }
    },
    "2b639a3ad68d439da3afb51d8c7f7497": {
     "model_module": "@jupyter-widgets/controls",
     "model_module_version": "1.5.0",
     "model_name": "HBoxModel",
     "state": {
      "_dom_classes": [],
      "_model_module": "@jupyter-widgets/controls",
      "_model_module_version": "1.5.0",
      "_model_name": "HBoxModel",
      "_view_count": null,
      "_view_module": "@jupyter-widgets/controls",
      "_view_module_version": "1.5.0",
      "_view_name": "HBoxView",
      "box_style": "",
      "children": [
       "IPY_MODEL_01b1285ddbef4c978e91b119e0a9837c",
       "IPY_MODEL_f7b73bdaa3c4415882805ef520187430",
       "IPY_MODEL_68c1a0524df040e7843c644ea4dfa47b"
      ],
      "layout": "IPY_MODEL_8c23101c6b8b419dba802344af5a996b"
     }
    },
    "2cb12353d54f4c18a0a9b8d081f60ecb": {
     "model_module": "@jupyter-widgets/controls",
     "model_module_version": "1.5.0",
     "model_name": "ProgressStyleModel",
     "state": {
      "_model_module": "@jupyter-widgets/controls",
      "_model_module_version": "1.5.0",
      "_model_name": "ProgressStyleModel",
      "_view_count": null,
      "_view_module": "@jupyter-widgets/base",
      "_view_module_version": "1.2.0",
      "_view_name": "StyleView",
      "bar_color": null,
      "description_width": ""
     }
    },
    "2cea2d714b96498190aac8a8bc2e2242": {
     "model_module": "@jupyter-widgets/controls",
     "model_module_version": "1.5.0",
     "model_name": "HTMLModel",
     "state": {
      "_dom_classes": [],
      "_model_module": "@jupyter-widgets/controls",
      "_model_module_version": "1.5.0",
      "_model_name": "HTMLModel",
      "_view_count": null,
      "_view_module": "@jupyter-widgets/controls",
      "_view_module_version": "1.5.0",
      "_view_name": "HTMLView",
      "description": "",
      "description_tooltip": null,
      "layout": "IPY_MODEL_96986ee290394c0abdd529a28c98bdbb",
      "placeholder": "​",
      "style": "IPY_MODEL_62f9b7bfd42448cbab53e7f87a8e5ae6",
      "value": " 28.7k/28.7k [00:00&lt;00:00, 2.17MB/s]"
     }
    },
    "3675c06a5bef4a4e8303a57e284d70b7": {
     "model_module": "@jupyter-widgets/controls",
     "model_module_version": "1.5.0",
     "model_name": "HBoxModel",
     "state": {
      "_dom_classes": [],
      "_model_module": "@jupyter-widgets/controls",
      "_model_module_version": "1.5.0",
      "_model_name": "HBoxModel",
      "_view_count": null,
      "_view_module": "@jupyter-widgets/controls",
      "_view_module_version": "1.5.0",
      "_view_name": "HBoxView",
      "box_style": "",
      "children": [
       "IPY_MODEL_a3a8fbf267174c339da1fda8f2c5a749",
       "IPY_MODEL_0efd60876fd548079976e2685029ed71",
       "IPY_MODEL_555f10d7a8ef48b38a07dc7bc55d700b"
      ],
      "layout": "IPY_MODEL_b740cd0b36294f3fb19262dccfdb0731"
     }
    },
    "3732df5031774f43b97bd3416d1e973a": {
     "model_module": "@jupyter-widgets/base",
     "model_module_version": "1.2.0",
     "model_name": "LayoutModel",
     "state": {
      "_model_module": "@jupyter-widgets/base",
      "_model_module_version": "1.2.0",
      "_model_name": "LayoutModel",
      "_view_count": null,
      "_view_module": "@jupyter-widgets/base",
      "_view_module_version": "1.2.0",
      "_view_name": "LayoutView",
      "align_content": null,
      "align_items": null,
      "align_self": null,
      "border": null,
      "bottom": null,
      "display": null,
      "flex": null,
      "flex_flow": null,
      "grid_area": null,
      "grid_auto_columns": null,
      "grid_auto_flow": null,
      "grid_auto_rows": null,
      "grid_column": null,
      "grid_gap": null,
      "grid_row": null,
      "grid_template_areas": null,
      "grid_template_columns": null,
      "grid_template_rows": null,
      "height": null,
      "justify_content": null,
      "justify_items": null,
      "left": null,
      "margin": null,
      "max_height": null,
      "max_width": null,
      "min_height": null,
      "min_width": null,
      "object_fit": null,
      "object_position": null,
      "order": null,
      "overflow": null,
      "overflow_x": null,
      "overflow_y": null,
      "padding": null,
      "right": null,
      "top": null,
      "visibility": null,
      "width": null
     }
    },
    "37d855a8c4164b1daf46aa9cb32fa628": {
     "model_module": "@jupyter-widgets/controls",
     "model_module_version": "1.5.0",
     "model_name": "ProgressStyleModel",
     "state": {
      "_model_module": "@jupyter-widgets/controls",
      "_model_module_version": "1.5.0",
      "_model_name": "ProgressStyleModel",
      "_view_count": null,
      "_view_module": "@jupyter-widgets/base",
      "_view_module_version": "1.2.0",
      "_view_name": "StyleView",
      "bar_color": null,
      "description_width": ""
     }
    },
    "3943ffd898c144a9b0e09e7242501f13": {
     "model_module": "@jupyter-widgets/controls",
     "model_module_version": "1.5.0",
     "model_name": "ProgressStyleModel",
     "state": {
      "_model_module": "@jupyter-widgets/controls",
      "_model_module_version": "1.5.0",
      "_model_name": "ProgressStyleModel",
      "_view_count": null,
      "_view_module": "@jupyter-widgets/base",
      "_view_module_version": "1.2.0",
      "_view_name": "StyleView",
      "bar_color": null,
      "description_width": ""
     }
    },
    "40f347c3d4914a8fbe5ff705af3bc32f": {
     "model_module": "@jupyter-widgets/controls",
     "model_module_version": "1.5.0",
     "model_name": "HTMLModel",
     "state": {
      "_dom_classes": [],
      "_model_module": "@jupyter-widgets/controls",
      "_model_module_version": "1.5.0",
      "_model_name": "HTMLModel",
      "_view_count": null,
      "_view_module": "@jupyter-widgets/controls",
      "_view_module_version": "1.5.0",
      "_view_name": "HTMLView",
      "description": "",
      "description_tooltip": null,
      "layout": "IPY_MODEL_4bbe71163a5b4850a4670739186ec3d3",
      "placeholder": "​",
      "style": "IPY_MODEL_e59d0cb38f6e4cc892f64b7e678049a7",
      "value": " 928/928 [00:00&lt;00:00, 75.3kB/s]"
     }
    },
    "45ab95c33eab4ab09d86f9a2199dc032": {
     "model_module": "@jupyter-widgets/controls",
     "model_module_version": "1.5.0",
     "model_name": "DescriptionStyleModel",
     "state": {
      "_model_module": "@jupyter-widgets/controls",
      "_model_module_version": "1.5.0",
      "_model_name": "DescriptionStyleModel",
      "_view_count": null,
      "_view_module": "@jupyter-widgets/base",
      "_view_module_version": "1.2.0",
      "_view_name": "StyleView",
      "description_width": ""
     }
    },
    "487a5a8cd6c34749b3796b1805e8c427": {
     "model_module": "@jupyter-widgets/controls",
     "model_module_version": "1.5.0",
     "model_name": "DescriptionStyleModel",
     "state": {
      "_model_module": "@jupyter-widgets/controls",
      "_model_module_version": "1.5.0",
      "_model_name": "DescriptionStyleModel",
      "_view_count": null,
      "_view_module": "@jupyter-widgets/base",
      "_view_module_version": "1.2.0",
      "_view_name": "StyleView",
      "description_width": ""
     }
    },
    "4bbe71163a5b4850a4670739186ec3d3": {
     "model_module": "@jupyter-widgets/base",
     "model_module_version": "1.2.0",
     "model_name": "LayoutModel",
     "state": {
      "_model_module": "@jupyter-widgets/base",
      "_model_module_version": "1.2.0",
      "_model_name": "LayoutModel",
      "_view_count": null,
      "_view_module": "@jupyter-widgets/base",
      "_view_module_version": "1.2.0",
      "_view_name": "LayoutView",
      "align_content": null,
      "align_items": null,
      "align_self": null,
      "border": null,
      "bottom": null,
      "display": null,
      "flex": null,
      "flex_flow": null,
      "grid_area": null,
      "grid_auto_columns": null,
      "grid_auto_flow": null,
      "grid_auto_rows": null,
      "grid_column": null,
      "grid_gap": null,
      "grid_row": null,
      "grid_template_areas": null,
      "grid_template_columns": null,
      "grid_template_rows": null,
      "height": null,
      "justify_content": null,
      "justify_items": null,
      "left": null,
      "margin": null,
      "max_height": null,
      "max_width": null,
      "min_height": null,
      "min_width": null,
      "object_fit": null,
      "object_position": null,
      "order": null,
      "overflow": null,
      "overflow_x": null,
      "overflow_y": null,
      "padding": null,
      "right": null,
      "top": null,
      "visibility": null,
      "width": null
     }
    },
    "4ee71bff372f42f7929a91f6f96dcc56": {
     "model_module": "@jupyter-widgets/controls",
     "model_module_version": "1.5.0",
     "model_name": "HTMLModel",
     "state": {
      "_dom_classes": [],
      "_model_module": "@jupyter-widgets/controls",
      "_model_module_version": "1.5.0",
      "_model_name": "HTMLModel",
      "_view_count": null,
      "_view_module": "@jupyter-widgets/controls",
      "_view_module_version": "1.5.0",
      "_view_name": "HTMLView",
      "description": "",
      "description_tooltip": null,
      "layout": "IPY_MODEL_17621a88afa148ea954109ab8a76c78f",
      "placeholder": "​",
      "style": "IPY_MODEL_657f3be5ce4f4a7ea37f7fe974b024c8",
      "value": " 58.2k/58.2k [00:00&lt;00:00, 4.68MB/s]"
     }
    },
    "4f638064c5e148cfa4bafc5ed37ab0dc": {
     "model_module": "@jupyter-widgets/controls",
     "model_module_version": "1.5.0",
     "model_name": "HTMLModel",
     "state": {
      "_dom_classes": [],
      "_model_module": "@jupyter-widgets/controls",
      "_model_module_version": "1.5.0",
      "_model_name": "HTMLModel",
      "_view_count": null,
      "_view_module": "@jupyter-widgets/controls",
      "_view_module_version": "1.5.0",
      "_view_name": "HTMLView",
      "description": "",
      "description_tooltip": null,
      "layout": "IPY_MODEL_21f24c6cd12c462ca88b064dab5c64f1",
      "placeholder": "​",
      "style": "IPY_MODEL_6453862794bd43709b1d160ce7f180dc",
      "value": "tokenizer_config.json: 100%"
     }
    },
    "51eb8cb64d66476490b6912211542119": {
     "model_module": "@jupyter-widgets/base",
     "model_module_version": "1.2.0",
     "model_name": "LayoutModel",
     "state": {
      "_model_module": "@jupyter-widgets/base",
      "_model_module_version": "1.2.0",
      "_model_name": "LayoutModel",
      "_view_count": null,
      "_view_module": "@jupyter-widgets/base",
      "_view_module_version": "1.2.0",
      "_view_name": "LayoutView",
      "align_content": null,
      "align_items": null,
      "align_self": null,
      "border": null,
      "bottom": null,
      "display": null,
      "flex": null,
      "flex_flow": null,
      "grid_area": null,
      "grid_auto_columns": null,
      "grid_auto_flow": null,
      "grid_auto_rows": null,
      "grid_column": null,
      "grid_gap": null,
      "grid_row": null,
      "grid_template_areas": null,
      "grid_template_columns": null,
      "grid_template_rows": null,
      "height": null,
      "justify_content": null,
      "justify_items": null,
      "left": null,
      "margin": null,
      "max_height": null,
      "max_width": null,
      "min_height": null,
      "min_width": null,
      "object_fit": null,
      "object_position": null,
      "order": null,
      "overflow": null,
      "overflow_x": null,
      "overflow_y": null,
      "padding": null,
      "right": null,
      "top": null,
      "visibility": null,
      "width": null
     }
    },
    "52ab5902a1124af981ec040c54e53a9d": {
     "model_module": "@jupyter-widgets/controls",
     "model_module_version": "1.5.0",
     "model_name": "HTMLModel",
     "state": {
      "_dom_classes": [],
      "_model_module": "@jupyter-widgets/controls",
      "_model_module_version": "1.5.0",
      "_model_name": "HTMLModel",
      "_view_count": null,
      "_view_module": "@jupyter-widgets/controls",
      "_view_module_version": "1.5.0",
      "_view_name": "HTMLView",
      "description": "",
      "description_tooltip": null,
      "layout": "IPY_MODEL_76d443d4878a41509b74234fc8ddb6ad",
      "placeholder": "​",
      "style": "IPY_MODEL_45ab95c33eab4ab09d86f9a2199dc032",
      "value": "vocab.txt: 100%"
     }
    },
    "555f10d7a8ef48b38a07dc7bc55d700b": {
     "model_module": "@jupyter-widgets/controls",
     "model_module_version": "1.5.0",
     "model_name": "HTMLModel",
     "state": {
      "_dom_classes": [],
      "_model_module": "@jupyter-widgets/controls",
      "_model_module_version": "1.5.0",
      "_model_name": "HTMLModel",
      "_view_count": null,
      "_view_module": "@jupyter-widgets/controls",
      "_view_module_version": "1.5.0",
      "_view_name": "HTMLView",
      "description": "",
      "description_tooltip": null,
      "layout": "IPY_MODEL_60cd56d29c59477f9d33e255399bf6da",
      "placeholder": "​",
      "style": "IPY_MODEL_fbce326773024f79b201c2fd94032f5a",
      "value": " 383M/383M [00:09&lt;00:00, 42.5MB/s]"
     }
    },
    "5aabe5d8a900488587468adfdb6badf7": {
     "model_module": "@jupyter-widgets/base",
     "model_module_version": "1.2.0",
     "model_name": "LayoutModel",
     "state": {
      "_model_module": "@jupyter-widgets/base",
      "_model_module_version": "1.2.0",
      "_model_name": "LayoutModel",
      "_view_count": null,
      "_view_module": "@jupyter-widgets/base",
      "_view_module_version": "1.2.0",
      "_view_name": "LayoutView",
      "align_content": null,
      "align_items": null,
      "align_self": null,
      "border": null,
      "bottom": null,
      "display": null,
      "flex": null,
      "flex_flow": null,
      "grid_area": null,
      "grid_auto_columns": null,
      "grid_auto_flow": null,
      "grid_auto_rows": null,
      "grid_column": null,
      "grid_gap": null,
      "grid_row": null,
      "grid_template_areas": null,
      "grid_template_columns": null,
      "grid_template_rows": null,
      "height": null,
      "justify_content": null,
      "justify_items": null,
      "left": null,
      "margin": null,
      "max_height": null,
      "max_width": null,
      "min_height": null,
      "min_width": null,
      "object_fit": null,
      "object_position": null,
      "order": null,
      "overflow": null,
      "overflow_x": null,
      "overflow_y": null,
      "padding": null,
      "right": null,
      "top": null,
      "visibility": null,
      "width": null
     }
    },
    "5bfdb604795340dfa130902c8d37085c": {
     "model_module": "@jupyter-widgets/controls",
     "model_module_version": "1.5.0",
     "model_name": "FloatProgressModel",
     "state": {
      "_dom_classes": [],
      "_model_module": "@jupyter-widgets/controls",
      "_model_module_version": "1.5.0",
      "_model_name": "FloatProgressModel",
      "_view_count": null,
      "_view_module": "@jupyter-widgets/controls",
      "_view_module_version": "1.5.0",
      "_view_name": "ProgressView",
      "bar_style": "success",
      "description": "",
      "description_tooltip": null,
      "layout": "IPY_MODEL_5aabe5d8a900488587468adfdb6badf7",
      "max": 58184,
      "min": 0,
      "orientation": "horizontal",
      "style": "IPY_MODEL_aecd5db59cd045059d42b85fec4f04e2",
      "value": 58184
     }
    },
    "5c8414fdce6a435aa0286548d6566fa5": {
     "model_module": "@jupyter-widgets/controls",
     "model_module_version": "1.5.0",
     "model_name": "HBoxModel",
     "state": {
      "_dom_classes": [],
      "_model_module": "@jupyter-widgets/controls",
      "_model_module_version": "1.5.0",
      "_model_name": "HBoxModel",
      "_view_count": null,
      "_view_module": "@jupyter-widgets/controls",
      "_view_module_version": "1.5.0",
      "_view_name": "HBoxView",
      "box_style": "",
      "children": [
       "IPY_MODEL_95e4375699a1438fae3ae72ceaadef41",
       "IPY_MODEL_5bfdb604795340dfa130902c8d37085c",
       "IPY_MODEL_4ee71bff372f42f7929a91f6f96dcc56"
      ],
      "layout": "IPY_MODEL_c1b75b44330347ad9dddebcd9aa70e96"
     }
    },
    "5db4025320fd47edab4dff934de4f0b3": {
     "model_module": "@jupyter-widgets/controls",
     "model_module_version": "1.5.0",
     "model_name": "DescriptionStyleModel",
     "state": {
      "_model_module": "@jupyter-widgets/controls",
      "_model_module_version": "1.5.0",
      "_model_name": "DescriptionStyleModel",
      "_view_count": null,
      "_view_module": "@jupyter-widgets/base",
      "_view_module_version": "1.2.0",
      "_view_name": "StyleView",
      "description_width": ""
     }
    },
    "60cd56d29c59477f9d33e255399bf6da": {
     "model_module": "@jupyter-widgets/base",
     "model_module_version": "1.2.0",
     "model_name": "LayoutModel",
     "state": {
      "_model_module": "@jupyter-widgets/base",
      "_model_module_version": "1.2.0",
      "_model_name": "LayoutModel",
      "_view_count": null,
      "_view_module": "@jupyter-widgets/base",
      "_view_module_version": "1.2.0",
      "_view_name": "LayoutView",
      "align_content": null,
      "align_items": null,
      "align_self": null,
      "border": null,
      "bottom": null,
      "display": null,
      "flex": null,
      "flex_flow": null,
      "grid_area": null,
      "grid_auto_columns": null,
      "grid_auto_flow": null,
      "grid_auto_rows": null,
      "grid_column": null,
      "grid_gap": null,
      "grid_row": null,
      "grid_template_areas": null,
      "grid_template_columns": null,
      "grid_template_rows": null,
      "height": null,
      "justify_content": null,
      "justify_items": null,
      "left": null,
      "margin": null,
      "max_height": null,
      "max_width": null,
      "min_height": null,
      "min_width": null,
      "object_fit": null,
      "object_position": null,
      "order": null,
      "overflow": null,
      "overflow_x": null,
      "overflow_y": null,
      "padding": null,
      "right": null,
      "top": null,
      "visibility": null,
      "width": null
     }
    },
    "62d6a4e89b2b488d84fd5e1240d95688": {
     "model_module": "@jupyter-widgets/base",
     "model_module_version": "1.2.0",
     "model_name": "LayoutModel",
     "state": {
      "_model_module": "@jupyter-widgets/base",
      "_model_module_version": "1.2.0",
      "_model_name": "LayoutModel",
      "_view_count": null,
      "_view_module": "@jupyter-widgets/base",
      "_view_module_version": "1.2.0",
      "_view_name": "LayoutView",
      "align_content": null,
      "align_items": null,
      "align_self": null,
      "border": null,
      "bottom": null,
      "display": null,
      "flex": null,
      "flex_flow": null,
      "grid_area": null,
      "grid_auto_columns": null,
      "grid_auto_flow": null,
      "grid_auto_rows": null,
      "grid_column": null,
      "grid_gap": null,
      "grid_row": null,
      "grid_template_areas": null,
      "grid_template_columns": null,
      "grid_template_rows": null,
      "height": null,
      "justify_content": null,
      "justify_items": null,
      "left": null,
      "margin": null,
      "max_height": null,
      "max_width": null,
      "min_height": null,
      "min_width": null,
      "object_fit": null,
      "object_position": null,
      "order": null,
      "overflow": null,
      "overflow_x": null,
      "overflow_y": null,
      "padding": null,
      "right": null,
      "top": null,
      "visibility": null,
      "width": null
     }
    },
    "62f9b7bfd42448cbab53e7f87a8e5ae6": {
     "model_module": "@jupyter-widgets/controls",
     "model_module_version": "1.5.0",
     "model_name": "DescriptionStyleModel",
     "state": {
      "_model_module": "@jupyter-widgets/controls",
      "_model_module_version": "1.5.0",
      "_model_name": "DescriptionStyleModel",
      "_view_count": null,
      "_view_module": "@jupyter-widgets/base",
      "_view_module_version": "1.2.0",
      "_view_name": "StyleView",
      "description_width": ""
     }
    },
    "6453862794bd43709b1d160ce7f180dc": {
     "model_module": "@jupyter-widgets/controls",
     "model_module_version": "1.5.0",
     "model_name": "DescriptionStyleModel",
     "state": {
      "_model_module": "@jupyter-widgets/controls",
      "_model_module_version": "1.5.0",
      "_model_name": "DescriptionStyleModel",
      "_view_count": null,
      "_view_module": "@jupyter-widgets/base",
      "_view_module_version": "1.2.0",
      "_view_name": "StyleView",
      "description_width": ""
     }
    },
    "657f3be5ce4f4a7ea37f7fe974b024c8": {
     "model_module": "@jupyter-widgets/controls",
     "model_module_version": "1.5.0",
     "model_name": "DescriptionStyleModel",
     "state": {
      "_model_module": "@jupyter-widgets/controls",
      "_model_module_version": "1.5.0",
      "_model_name": "DescriptionStyleModel",
      "_view_count": null,
      "_view_module": "@jupyter-widgets/base",
      "_view_module_version": "1.2.0",
      "_view_name": "StyleView",
      "description_width": ""
     }
    },
    "65f2a32a636a4a89bc2395c7397ffd13": {
     "model_module": "@jupyter-widgets/controls",
     "model_module_version": "1.5.0",
     "model_name": "ProgressStyleModel",
     "state": {
      "_model_module": "@jupyter-widgets/controls",
      "_model_module_version": "1.5.0",
      "_model_name": "ProgressStyleModel",
      "_view_count": null,
      "_view_module": "@jupyter-widgets/base",
      "_view_module_version": "1.2.0",
      "_view_name": "StyleView",
      "bar_color": null,
      "description_width": ""
     }
    },
    "683017d06ecc4fc194608c7b8c2a997a": {
     "model_module": "@jupyter-widgets/base",
     "model_module_version": "1.2.0",
     "model_name": "LayoutModel",
     "state": {
      "_model_module": "@jupyter-widgets/base",
      "_model_module_version": "1.2.0",
      "_model_name": "LayoutModel",
      "_view_count": null,
      "_view_module": "@jupyter-widgets/base",
      "_view_module_version": "1.2.0",
      "_view_name": "LayoutView",
      "align_content": null,
      "align_items": null,
      "align_self": null,
      "border": null,
      "bottom": null,
      "display": null,
      "flex": null,
      "flex_flow": null,
      "grid_area": null,
      "grid_auto_columns": null,
      "grid_auto_flow": null,
      "grid_auto_rows": null,
      "grid_column": null,
      "grid_gap": null,
      "grid_row": null,
      "grid_template_areas": null,
      "grid_template_columns": null,
      "grid_template_rows": null,
      "height": null,
      "justify_content": null,
      "justify_items": null,
      "left": null,
      "margin": null,
      "max_height": null,
      "max_width": null,
      "min_height": null,
      "min_width": null,
      "object_fit": null,
      "object_position": null,
      "order": null,
      "overflow": null,
      "overflow_x": null,
      "overflow_y": null,
      "padding": null,
      "right": null,
      "top": null,
      "visibility": null,
      "width": null
     }
    },
    "68c1a0524df040e7843c644ea4dfa47b": {
     "model_module": "@jupyter-widgets/controls",
     "model_module_version": "1.5.0",
     "model_name": "HTMLModel",
     "state": {
      "_dom_classes": [],
      "_model_module": "@jupyter-widgets/controls",
      "_model_module_version": "1.5.0",
      "_model_name": "HTMLModel",
      "_view_count": null,
      "_view_module": "@jupyter-widgets/controls",
      "_view_module_version": "1.5.0",
      "_view_name": "HTMLView",
      "description": "",
      "description_tooltip": null,
      "layout": "IPY_MODEL_8eb30e800d3742de8f306a2956152ace",
      "placeholder": "​",
      "style": "IPY_MODEL_11079b895f2e4068b227a45ffb5cd5f7",
      "value": " 101/101 [00:00&lt;00:00, 8.00kB/s]"
     }
    },
    "768c41ea0846447d8495d51e4e9ac721": {
     "model_module": "@jupyter-widgets/base",
     "model_module_version": "1.2.0",
     "model_name": "LayoutModel",
     "state": {
      "_model_module": "@jupyter-widgets/base",
      "_model_module_version": "1.2.0",
      "_model_name": "LayoutModel",
      "_view_count": null,
      "_view_module": "@jupyter-widgets/base",
      "_view_module_version": "1.2.0",
      "_view_name": "LayoutView",
      "align_content": null,
      "align_items": null,
      "align_self": null,
      "border": null,
      "bottom": null,
      "display": null,
      "flex": null,
      "flex_flow": null,
      "grid_area": null,
      "grid_auto_columns": null,
      "grid_auto_flow": null,
      "grid_auto_rows": null,
      "grid_column": null,
      "grid_gap": null,
      "grid_row": null,
      "grid_template_areas": null,
      "grid_template_columns": null,
      "grid_template_rows": null,
      "height": null,
      "justify_content": null,
      "justify_items": null,
      "left": null,
      "margin": null,
      "max_height": null,
      "max_width": null,
      "min_height": null,
      "min_width": null,
      "object_fit": null,
      "object_position": null,
      "order": null,
      "overflow": null,
      "overflow_x": null,
      "overflow_y": null,
      "padding": null,
      "right": null,
      "top": null,
      "visibility": null,
      "width": null
     }
    },
    "76d443d4878a41509b74234fc8ddb6ad": {
     "model_module": "@jupyter-widgets/base",
     "model_module_version": "1.2.0",
     "model_name": "LayoutModel",
     "state": {
      "_model_module": "@jupyter-widgets/base",
      "_model_module_version": "1.2.0",
      "_model_name": "LayoutModel",
      "_view_count": null,
      "_view_module": "@jupyter-widgets/base",
      "_view_module_version": "1.2.0",
      "_view_name": "LayoutView",
      "align_content": null,
      "align_items": null,
      "align_self": null,
      "border": null,
      "bottom": null,
      "display": null,
      "flex": null,
      "flex_flow": null,
      "grid_area": null,
      "grid_auto_columns": null,
      "grid_auto_flow": null,
      "grid_auto_rows": null,
      "grid_column": null,
      "grid_gap": null,
      "grid_row": null,
      "grid_template_areas": null,
      "grid_template_columns": null,
      "grid_template_rows": null,
      "height": null,
      "justify_content": null,
      "justify_items": null,
      "left": null,
      "margin": null,
      "max_height": null,
      "max_width": null,
      "min_height": null,
      "min_width": null,
      "object_fit": null,
      "object_position": null,
      "order": null,
      "overflow": null,
      "overflow_x": null,
      "overflow_y": null,
      "padding": null,
      "right": null,
      "top": null,
      "visibility": null,
      "width": null
     }
    },
    "7a551bcb71c54b198b13bbf47b5e8b60": {
     "model_module": "@jupyter-widgets/controls",
     "model_module_version": "1.5.0",
     "model_name": "HBoxModel",
     "state": {
      "_dom_classes": [],
      "_model_module": "@jupyter-widgets/controls",
      "_model_module_version": "1.5.0",
      "_model_name": "HBoxModel",
      "_view_count": null,
      "_view_module": "@jupyter-widgets/controls",
      "_view_module_version": "1.5.0",
      "_view_name": "HBoxView",
      "box_style": "",
      "children": [
       "IPY_MODEL_4f638064c5e148cfa4bafc5ed37ab0dc",
       "IPY_MODEL_8df5aecc7cd949459e6f1c80ea6a284c",
       "IPY_MODEL_40f347c3d4914a8fbe5ff705af3bc32f"
      ],
      "layout": "IPY_MODEL_3732df5031774f43b97bd3416d1e973a"
     }
    },
    "7e8d3d59f940407d956a477c4000044a": {
     "model_module": "@jupyter-widgets/base",
     "model_module_version": "1.2.0",
     "model_name": "LayoutModel",
     "state": {
      "_model_module": "@jupyter-widgets/base",
      "_model_module_version": "1.2.0",
      "_model_name": "LayoutModel",
      "_view_count": null,
      "_view_module": "@jupyter-widgets/base",
      "_view_module_version": "1.2.0",
      "_view_name": "LayoutView",
      "align_content": null,
      "align_items": null,
      "align_self": null,
      "border": null,
      "bottom": null,
      "display": null,
      "flex": null,
      "flex_flow": null,
      "grid_area": null,
      "grid_auto_columns": null,
      "grid_auto_flow": null,
      "grid_auto_rows": null,
      "grid_column": null,
      "grid_gap": null,
      "grid_row": null,
      "grid_template_areas": null,
      "grid_template_columns": null,
      "grid_template_rows": null,
      "height": null,
      "justify_content": null,
      "justify_items": null,
      "left": null,
      "margin": null,
      "max_height": null,
      "max_width": null,
      "min_height": null,
      "min_width": null,
      "object_fit": null,
      "object_position": null,
      "order": null,
      "overflow": null,
      "overflow_x": null,
      "overflow_y": null,
      "padding": null,
      "right": null,
      "top": null,
      "visibility": null,
      "width": null
     }
    },
    "843a1d910eca4c86bdb08be1654e0239": {
     "model_module": "@jupyter-widgets/base",
     "model_module_version": "1.2.0",
     "model_name": "LayoutModel",
     "state": {
      "_model_module": "@jupyter-widgets/base",
      "_model_module_version": "1.2.0",
      "_model_name": "LayoutModel",
      "_view_count": null,
      "_view_module": "@jupyter-widgets/base",
      "_view_module_version": "1.2.0",
      "_view_name": "LayoutView",
      "align_content": null,
      "align_items": null,
      "align_self": null,
      "border": null,
      "bottom": null,
      "display": null,
      "flex": null,
      "flex_flow": null,
      "grid_area": null,
      "grid_auto_columns": null,
      "grid_auto_flow": null,
      "grid_auto_rows": null,
      "grid_column": null,
      "grid_gap": null,
      "grid_row": null,
      "grid_template_areas": null,
      "grid_template_columns": null,
      "grid_template_rows": null,
      "height": null,
      "justify_content": null,
      "justify_items": null,
      "left": null,
      "margin": null,
      "max_height": null,
      "max_width": null,
      "min_height": null,
      "min_width": null,
      "object_fit": null,
      "object_position": null,
      "order": null,
      "overflow": null,
      "overflow_x": null,
      "overflow_y": null,
      "padding": null,
      "right": null,
      "top": null,
      "visibility": null,
      "width": null
     }
    },
    "87efb85fb33e4f61af79dff8f4615453": {
     "model_module": "@jupyter-widgets/base",
     "model_module_version": "1.2.0",
     "model_name": "LayoutModel",
     "state": {
      "_model_module": "@jupyter-widgets/base",
      "_model_module_version": "1.2.0",
      "_model_name": "LayoutModel",
      "_view_count": null,
      "_view_module": "@jupyter-widgets/base",
      "_view_module_version": "1.2.0",
      "_view_name": "LayoutView",
      "align_content": null,
      "align_items": null,
      "align_self": null,
      "border": null,
      "bottom": null,
      "display": null,
      "flex": null,
      "flex_flow": null,
      "grid_area": null,
      "grid_auto_columns": null,
      "grid_auto_flow": null,
      "grid_auto_rows": null,
      "grid_column": null,
      "grid_gap": null,
      "grid_row": null,
      "grid_template_areas": null,
      "grid_template_columns": null,
      "grid_template_rows": null,
      "height": null,
      "justify_content": null,
      "justify_items": null,
      "left": null,
      "margin": null,
      "max_height": null,
      "max_width": null,
      "min_height": null,
      "min_width": null,
      "object_fit": null,
      "object_position": null,
      "order": null,
      "overflow": null,
      "overflow_x": null,
      "overflow_y": null,
      "padding": null,
      "right": null,
      "top": null,
      "visibility": null,
      "width": null
     }
    },
    "8bbb5fb9fe7d4eb380fb4be9507f7cc7": {
     "model_module": "@jupyter-widgets/base",
     "model_module_version": "1.2.0",
     "model_name": "LayoutModel",
     "state": {
      "_model_module": "@jupyter-widgets/base",
      "_model_module_version": "1.2.0",
      "_model_name": "LayoutModel",
      "_view_count": null,
      "_view_module": "@jupyter-widgets/base",
      "_view_module_version": "1.2.0",
      "_view_name": "LayoutView",
      "align_content": null,
      "align_items": null,
      "align_self": null,
      "border": null,
      "bottom": null,
      "display": null,
      "flex": null,
      "flex_flow": null,
      "grid_area": null,
      "grid_auto_columns": null,
      "grid_auto_flow": null,
      "grid_auto_rows": null,
      "grid_column": null,
      "grid_gap": null,
      "grid_row": null,
      "grid_template_areas": null,
      "grid_template_columns": null,
      "grid_template_rows": null,
      "height": null,
      "justify_content": null,
      "justify_items": null,
      "left": null,
      "margin": null,
      "max_height": null,
      "max_width": null,
      "min_height": null,
      "min_width": null,
      "object_fit": null,
      "object_position": null,
      "order": null,
      "overflow": null,
      "overflow_x": null,
      "overflow_y": null,
      "padding": null,
      "right": null,
      "top": null,
      "visibility": null,
      "width": null
     }
    },
    "8c23101c6b8b419dba802344af5a996b": {
     "model_module": "@jupyter-widgets/base",
     "model_module_version": "1.2.0",
     "model_name": "LayoutModel",
     "state": {
      "_model_module": "@jupyter-widgets/base",
      "_model_module_version": "1.2.0",
      "_model_name": "LayoutModel",
      "_view_count": null,
      "_view_module": "@jupyter-widgets/base",
      "_view_module_version": "1.2.0",
      "_view_name": "LayoutView",
      "align_content": null,
      "align_items": null,
      "align_self": null,
      "border": null,
      "bottom": null,
      "display": null,
      "flex": null,
      "flex_flow": null,
      "grid_area": null,
      "grid_auto_columns": null,
      "grid_auto_flow": null,
      "grid_auto_rows": null,
      "grid_column": null,
      "grid_gap": null,
      "grid_row": null,
      "grid_template_areas": null,
      "grid_template_columns": null,
      "grid_template_rows": null,
      "height": null,
      "justify_content": null,
      "justify_items": null,
      "left": null,
      "margin": null,
      "max_height": null,
      "max_width": null,
      "min_height": null,
      "min_width": null,
      "object_fit": null,
      "object_position": null,
      "order": null,
      "overflow": null,
      "overflow_x": null,
      "overflow_y": null,
      "padding": null,
      "right": null,
      "top": null,
      "visibility": null,
      "width": null
     }
    },
    "8df5aecc7cd949459e6f1c80ea6a284c": {
     "model_module": "@jupyter-widgets/controls",
     "model_module_version": "1.5.0",
     "model_name": "FloatProgressModel",
     "state": {
      "_dom_classes": [],
      "_model_module": "@jupyter-widgets/controls",
      "_model_module_version": "1.5.0",
      "_model_name": "FloatProgressModel",
      "_view_count": null,
      "_view_module": "@jupyter-widgets/controls",
      "_view_module_version": "1.5.0",
      "_view_name": "ProgressView",
      "bar_style": "success",
      "description": "",
      "description_tooltip": null,
      "layout": "IPY_MODEL_8bbb5fb9fe7d4eb380fb4be9507f7cc7",
      "max": 928,
      "min": 0,
      "orientation": "horizontal",
      "style": "IPY_MODEL_2cb12353d54f4c18a0a9b8d081f60ecb",
      "value": 928
     }
    },
    "8ea076468e7a490b8d161ec9ffcfaf95": {
     "model_module": "@jupyter-widgets/controls",
     "model_module_version": "1.5.0",
     "model_name": "HTMLModel",
     "state": {
      "_dom_classes": [],
      "_model_module": "@jupyter-widgets/controls",
      "_model_module_version": "1.5.0",
      "_model_name": "HTMLModel",
      "_view_count": null,
      "_view_module": "@jupyter-widgets/controls",
      "_view_module_version": "1.5.0",
      "_view_name": "HTMLView",
      "description": "",
      "description_tooltip": null,
      "layout": "IPY_MODEL_843a1d910eca4c86bdb08be1654e0239",
      "placeholder": "​",
      "style": "IPY_MODEL_487a5a8cd6c34749b3796b1805e8c427",
      "value": "esm_config.py: 100%"
     }
    },
    "8eb30e800d3742de8f306a2956152ace": {
     "model_module": "@jupyter-widgets/base",
     "model_module_version": "1.2.0",
     "model_name": "LayoutModel",
     "state": {
      "_model_module": "@jupyter-widgets/base",
      "_model_module_version": "1.2.0",
      "_model_name": "LayoutModel",
      "_view_count": null,
      "_view_module": "@jupyter-widgets/base",
      "_view_module_version": "1.2.0",
      "_view_name": "LayoutView",
      "align_content": null,
      "align_items": null,
      "align_self": null,
      "border": null,
      "bottom": null,
      "display": null,
      "flex": null,
      "flex_flow": null,
      "grid_area": null,
      "grid_auto_columns": null,
      "grid_auto_flow": null,
      "grid_auto_rows": null,
      "grid_column": null,
      "grid_gap": null,
      "grid_row": null,
      "grid_template_areas": null,
      "grid_template_columns": null,
      "grid_template_rows": null,
      "height": null,
      "justify_content": null,
      "justify_items": null,
      "left": null,
      "margin": null,
      "max_height": null,
      "max_width": null,
      "min_height": null,
      "min_width": null,
      "object_fit": null,
      "object_position": null,
      "order": null,
      "overflow": null,
      "overflow_x": null,
      "overflow_y": null,
      "padding": null,
      "right": null,
      "top": null,
      "visibility": null,
      "width": null
     }
    },
    "950c5a762f3d4bb3acbf0eb9bb21fa02": {
     "model_module": "@jupyter-widgets/controls",
     "model_module_version": "1.5.0",
     "model_name": "DescriptionStyleModel",
     "state": {
      "_model_module": "@jupyter-widgets/controls",
      "_model_module_version": "1.5.0",
      "_model_name": "DescriptionStyleModel",
      "_view_count": null,
      "_view_module": "@jupyter-widgets/base",
      "_view_module_version": "1.2.0",
      "_view_name": "StyleView",
      "description_width": ""
     }
    },
    "95b44691705a4572afad9bb5df35fda5": {
     "model_module": "@jupyter-widgets/controls",
     "model_module_version": "1.5.0",
     "model_name": "FloatProgressModel",
     "state": {
      "_dom_classes": [],
      "_model_module": "@jupyter-widgets/controls",
      "_model_module_version": "1.5.0",
      "_model_name": "FloatProgressModel",
      "_view_count": null,
      "_view_module": "@jupyter-widgets/controls",
      "_view_module_version": "1.5.0",
      "_view_name": "ProgressView",
      "bar_style": "success",
      "description": "",
      "description_tooltip": null,
      "layout": "IPY_MODEL_7e8d3d59f940407d956a477c4000044a",
      "max": 14876,
      "min": 0,
      "orientation": "horizontal",
      "style": "IPY_MODEL_65f2a32a636a4a89bc2395c7397ffd13",
      "value": 14876
     }
    },
    "95e4375699a1438fae3ae72ceaadef41": {
     "model_module": "@jupyter-widgets/controls",
     "model_module_version": "1.5.0",
     "model_name": "HTMLModel",
     "state": {
      "_dom_classes": [],
      "_model_module": "@jupyter-widgets/controls",
      "_model_module_version": "1.5.0",
      "_model_name": "HTMLModel",
      "_view_count": null,
      "_view_module": "@jupyter-widgets/controls",
      "_view_module_version": "1.5.0",
      "_view_name": "HTMLView",
      "description": "",
      "description_tooltip": null,
      "layout": "IPY_MODEL_d9cf0165537f458291b8a47b79e68973",
      "placeholder": "​",
      "style": "IPY_MODEL_ab314156047744f1a84b249fd66021b6",
      "value": "modeling_esm.py: 100%"
     }
    },
    "96986ee290394c0abdd529a28c98bdbb": {
     "model_module": "@jupyter-widgets/base",
     "model_module_version": "1.2.0",
     "model_name": "LayoutModel",
     "state": {
      "_model_module": "@jupyter-widgets/base",
      "_model_module_version": "1.2.0",
      "_model_name": "LayoutModel",
      "_view_count": null,
      "_view_module": "@jupyter-widgets/base",
      "_view_module_version": "1.2.0",
      "_view_name": "LayoutView",
      "align_content": null,
      "align_items": null,
      "align_self": null,
      "border": null,
      "bottom": null,
      "display": null,
      "flex": null,
      "flex_flow": null,
      "grid_area": null,
      "grid_auto_columns": null,
      "grid_auto_flow": null,
      "grid_auto_rows": null,
      "grid_column": null,
      "grid_gap": null,
      "grid_row": null,
      "grid_template_areas": null,
      "grid_template_columns": null,
      "grid_template_rows": null,
      "height": null,
      "justify_content": null,
      "justify_items": null,
      "left": null,
      "margin": null,
      "max_height": null,
      "max_width": null,
      "min_height": null,
      "min_width": null,
      "object_fit": null,
      "object_position": null,
      "order": null,
      "overflow": null,
      "overflow_x": null,
      "overflow_y": null,
      "padding": null,
      "right": null,
      "top": null,
      "visibility": null,
      "width": null
     }
    },
    "a3a8fbf267174c339da1fda8f2c5a749": {
     "model_module": "@jupyter-widgets/controls",
     "model_module_version": "1.5.0",
     "model_name": "HTMLModel",
     "state": {
      "_dom_classes": [],
      "_model_module": "@jupyter-widgets/controls",
      "_model_module_version": "1.5.0",
      "_model_name": "HTMLModel",
      "_view_count": null,
      "_view_module": "@jupyter-widgets/controls",
      "_view_module_version": "1.5.0",
      "_view_name": "HTMLView",
      "description": "",
      "description_tooltip": null,
      "layout": "IPY_MODEL_c09420b682124873bfa45c9f45f08e97",
      "placeholder": "​",
      "style": "IPY_MODEL_c9539e984cb743af912f4cc91734b89d",
      "value": "model.safetensors: 100%"
     }
    },
    "ab314156047744f1a84b249fd66021b6": {
     "model_module": "@jupyter-widgets/controls",
     "model_module_version": "1.5.0",
     "model_name": "DescriptionStyleModel",
     "state": {
      "_model_module": "@jupyter-widgets/controls",
      "_model_module_version": "1.5.0",
      "_model_name": "DescriptionStyleModel",
      "_view_count": null,
      "_view_module": "@jupyter-widgets/base",
      "_view_module_version": "1.2.0",
      "_view_name": "StyleView",
      "description_width": ""
     }
    },
    "aecd5db59cd045059d42b85fec4f04e2": {
     "model_module": "@jupyter-widgets/controls",
     "model_module_version": "1.5.0",
     "model_name": "ProgressStyleModel",
     "state": {
      "_model_module": "@jupyter-widgets/controls",
      "_model_module_version": "1.5.0",
      "_model_name": "ProgressStyleModel",
      "_view_count": null,
      "_view_module": "@jupyter-widgets/base",
      "_view_module_version": "1.2.0",
      "_view_name": "StyleView",
      "bar_color": null,
      "description_width": ""
     }
    },
    "b1a71816980b490c98a289b9e43d2670": {
     "model_module": "@jupyter-widgets/controls",
     "model_module_version": "1.5.0",
     "model_name": "HBoxModel",
     "state": {
      "_dom_classes": [],
      "_model_module": "@jupyter-widgets/controls",
      "_model_module_version": "1.5.0",
      "_model_name": "HBoxModel",
      "_view_count": null,
      "_view_module": "@jupyter-widgets/controls",
      "_view_module_version": "1.5.0",
      "_view_name": "HBoxView",
      "box_style": "",
      "children": [
       "IPY_MODEL_8ea076468e7a490b8d161ec9ffcfaf95",
       "IPY_MODEL_95b44691705a4572afad9bb5df35fda5",
       "IPY_MODEL_cf89779ad66e448ea761284e40d703af"
      ],
      "layout": "IPY_MODEL_51eb8cb64d66476490b6912211542119"
     }
    },
    "b740cd0b36294f3fb19262dccfdb0731": {
     "model_module": "@jupyter-widgets/base",
     "model_module_version": "1.2.0",
     "model_name": "LayoutModel",
     "state": {
      "_model_module": "@jupyter-widgets/base",
      "_model_module_version": "1.2.0",
      "_model_name": "LayoutModel",
      "_view_count": null,
      "_view_module": "@jupyter-widgets/base",
      "_view_module_version": "1.2.0",
      "_view_name": "LayoutView",
      "align_content": null,
      "align_items": null,
      "align_self": null,
      "border": null,
      "bottom": null,
      "display": null,
      "flex": null,
      "flex_flow": null,
      "grid_area": null,
      "grid_auto_columns": null,
      "grid_auto_flow": null,
      "grid_auto_rows": null,
      "grid_column": null,
      "grid_gap": null,
      "grid_row": null,
      "grid_template_areas": null,
      "grid_template_columns": null,
      "grid_template_rows": null,
      "height": null,
      "justify_content": null,
      "justify_items": null,
      "left": null,
      "margin": null,
      "max_height": null,
      "max_width": null,
      "min_height": null,
      "min_width": null,
      "object_fit": null,
      "object_position": null,
      "order": null,
      "overflow": null,
      "overflow_x": null,
      "overflow_y": null,
      "padding": null,
      "right": null,
      "top": null,
      "visibility": null,
      "width": null
     }
    },
    "b91632b2c48141fbab75b11b8cc1b9a2": {
     "model_module": "@jupyter-widgets/controls",
     "model_module_version": "1.5.0",
     "model_name": "DescriptionStyleModel",
     "state": {
      "_model_module": "@jupyter-widgets/controls",
      "_model_module_version": "1.5.0",
      "_model_name": "DescriptionStyleModel",
      "_view_count": null,
      "_view_module": "@jupyter-widgets/base",
      "_view_module_version": "1.2.0",
      "_view_name": "StyleView",
      "description_width": ""
     }
    },
    "b92c51be7383417fa55883b6f8cb8982": {
     "model_module": "@jupyter-widgets/base",
     "model_module_version": "1.2.0",
     "model_name": "LayoutModel",
     "state": {
      "_model_module": "@jupyter-widgets/base",
      "_model_module_version": "1.2.0",
      "_model_name": "LayoutModel",
      "_view_count": null,
      "_view_module": "@jupyter-widgets/base",
      "_view_module_version": "1.2.0",
      "_view_name": "LayoutView",
      "align_content": null,
      "align_items": null,
      "align_self": null,
      "border": null,
      "bottom": null,
      "display": null,
      "flex": null,
      "flex_flow": null,
      "grid_area": null,
      "grid_auto_columns": null,
      "grid_auto_flow": null,
      "grid_auto_rows": null,
      "grid_column": null,
      "grid_gap": null,
      "grid_row": null,
      "grid_template_areas": null,
      "grid_template_columns": null,
      "grid_template_rows": null,
      "height": null,
      "justify_content": null,
      "justify_items": null,
      "left": null,
      "margin": null,
      "max_height": null,
      "max_width": null,
      "min_height": null,
      "min_width": null,
      "object_fit": null,
      "object_position": null,
      "order": null,
      "overflow": null,
      "overflow_x": null,
      "overflow_y": null,
      "padding": null,
      "right": null,
      "top": null,
      "visibility": null,
      "width": null
     }
    },
    "b9a6b9b91e214f34b3b6b5c5d962bad0": {
     "model_module": "@jupyter-widgets/base",
     "model_module_version": "1.2.0",
     "model_name": "LayoutModel",
     "state": {
      "_model_module": "@jupyter-widgets/base",
      "_model_module_version": "1.2.0",
      "_model_name": "LayoutModel",
      "_view_count": null,
      "_view_module": "@jupyter-widgets/base",
      "_view_module_version": "1.2.0",
      "_view_name": "LayoutView",
      "align_content": null,
      "align_items": null,
      "align_self": null,
      "border": null,
      "bottom": null,
      "display": null,
      "flex": null,
      "flex_flow": null,
      "grid_area": null,
      "grid_auto_columns": null,
      "grid_auto_flow": null,
      "grid_auto_rows": null,
      "grid_column": null,
      "grid_gap": null,
      "grid_row": null,
      "grid_template_areas": null,
      "grid_template_columns": null,
      "grid_template_rows": null,
      "height": null,
      "justify_content": null,
      "justify_items": null,
      "left": null,
      "margin": null,
      "max_height": null,
      "max_width": null,
      "min_height": null,
      "min_width": null,
      "object_fit": null,
      "object_position": null,
      "order": null,
      "overflow": null,
      "overflow_x": null,
      "overflow_y": null,
      "padding": null,
      "right": null,
      "top": null,
      "visibility": null,
      "width": null
     }
    },
    "bd11150556fb4f319b9870d93a312e30": {
     "model_module": "@jupyter-widgets/base",
     "model_module_version": "1.2.0",
     "model_name": "LayoutModel",
     "state": {
      "_model_module": "@jupyter-widgets/base",
      "_model_module_version": "1.2.0",
      "_model_name": "LayoutModel",
      "_view_count": null,
      "_view_module": "@jupyter-widgets/base",
      "_view_module_version": "1.2.0",
      "_view_name": "LayoutView",
      "align_content": null,
      "align_items": null,
      "align_self": null,
      "border": null,
      "bottom": null,
      "display": null,
      "flex": null,
      "flex_flow": null,
      "grid_area": null,
      "grid_auto_columns": null,
      "grid_auto_flow": null,
      "grid_auto_rows": null,
      "grid_column": null,
      "grid_gap": null,
      "grid_row": null,
      "grid_template_areas": null,
      "grid_template_columns": null,
      "grid_template_rows": null,
      "height": null,
      "justify_content": null,
      "justify_items": null,
      "left": null,
      "margin": null,
      "max_height": null,
      "max_width": null,
      "min_height": null,
      "min_width": null,
      "object_fit": null,
      "object_position": null,
      "order": null,
      "overflow": null,
      "overflow_x": null,
      "overflow_y": null,
      "padding": null,
      "right": null,
      "top": null,
      "visibility": null,
      "width": null
     }
    },
    "c09420b682124873bfa45c9f45f08e97": {
     "model_module": "@jupyter-widgets/base",
     "model_module_version": "1.2.0",
     "model_name": "LayoutModel",
     "state": {
      "_model_module": "@jupyter-widgets/base",
      "_model_module_version": "1.2.0",
      "_model_name": "LayoutModel",
      "_view_count": null,
      "_view_module": "@jupyter-widgets/base",
      "_view_module_version": "1.2.0",
      "_view_name": "LayoutView",
      "align_content": null,
      "align_items": null,
      "align_self": null,
      "border": null,
      "bottom": null,
      "display": null,
      "flex": null,
      "flex_flow": null,
      "grid_area": null,
      "grid_auto_columns": null,
      "grid_auto_flow": null,
      "grid_auto_rows": null,
      "grid_column": null,
      "grid_gap": null,
      "grid_row": null,
      "grid_template_areas": null,
      "grid_template_columns": null,
      "grid_template_rows": null,
      "height": null,
      "justify_content": null,
      "justify_items": null,
      "left": null,
      "margin": null,
      "max_height": null,
      "max_width": null,
      "min_height": null,
      "min_width": null,
      "object_fit": null,
      "object_position": null,
      "order": null,
      "overflow": null,
      "overflow_x": null,
      "overflow_y": null,
      "padding": null,
      "right": null,
      "top": null,
      "visibility": null,
      "width": null
     }
    },
    "c1b75b44330347ad9dddebcd9aa70e96": {
     "model_module": "@jupyter-widgets/base",
     "model_module_version": "1.2.0",
     "model_name": "LayoutModel",
     "state": {
      "_model_module": "@jupyter-widgets/base",
      "_model_module_version": "1.2.0",
      "_model_name": "LayoutModel",
      "_view_count": null,
      "_view_module": "@jupyter-widgets/base",
      "_view_module_version": "1.2.0",
      "_view_name": "LayoutView",
      "align_content": null,
      "align_items": null,
      "align_self": null,
      "border": null,
      "bottom": null,
      "display": null,
      "flex": null,
      "flex_flow": null,
      "grid_area": null,
      "grid_auto_columns": null,
      "grid_auto_flow": null,
      "grid_auto_rows": null,
      "grid_column": null,
      "grid_gap": null,
      "grid_row": null,
      "grid_template_areas": null,
      "grid_template_columns": null,
      "grid_template_rows": null,
      "height": null,
      "justify_content": null,
      "justify_items": null,
      "left": null,
      "margin": null,
      "max_height": null,
      "max_width": null,
      "min_height": null,
      "min_width": null,
      "object_fit": null,
      "object_position": null,
      "order": null,
      "overflow": null,
      "overflow_x": null,
      "overflow_y": null,
      "padding": null,
      "right": null,
      "top": null,
      "visibility": null,
      "width": null
     }
    },
    "c9539e984cb743af912f4cc91734b89d": {
     "model_module": "@jupyter-widgets/controls",
     "model_module_version": "1.5.0",
     "model_name": "DescriptionStyleModel",
     "state": {
      "_model_module": "@jupyter-widgets/controls",
      "_model_module_version": "1.5.0",
      "_model_name": "DescriptionStyleModel",
      "_view_count": null,
      "_view_module": "@jupyter-widgets/base",
      "_view_module_version": "1.2.0",
      "_view_name": "StyleView",
      "description_width": ""
     }
    },
    "cf89779ad66e448ea761284e40d703af": {
     "model_module": "@jupyter-widgets/controls",
     "model_module_version": "1.5.0",
     "model_name": "HTMLModel",
     "state": {
      "_dom_classes": [],
      "_model_module": "@jupyter-widgets/controls",
      "_model_module_version": "1.5.0",
      "_model_name": "HTMLModel",
      "_view_count": null,
      "_view_module": "@jupyter-widgets/controls",
      "_view_module_version": "1.5.0",
      "_view_name": "HTMLView",
      "description": "",
      "description_tooltip": null,
      "layout": "IPY_MODEL_768c41ea0846447d8495d51e4e9ac721",
      "placeholder": "​",
      "style": "IPY_MODEL_5db4025320fd47edab4dff934de4f0b3",
      "value": " 14.9k/14.9k [00:00&lt;00:00, 1.30MB/s]"
     }
    },
    "d17436870a3c45088fe31db97f3df1df": {
     "model_module": "@jupyter-widgets/controls",
     "model_module_version": "1.5.0",
     "model_name": "DescriptionStyleModel",
     "state": {
      "_model_module": "@jupyter-widgets/controls",
      "_model_module_version": "1.5.0",
      "_model_name": "DescriptionStyleModel",
      "_view_count": null,
      "_view_module": "@jupyter-widgets/base",
      "_view_module_version": "1.2.0",
      "_view_name": "StyleView",
      "description_width": ""
     }
    },
    "d83af8399e944774b9378a968cbeebb8": {
     "model_module": "@jupyter-widgets/base",
     "model_module_version": "1.2.0",
     "model_name": "LayoutModel",
     "state": {
      "_model_module": "@jupyter-widgets/base",
      "_model_module_version": "1.2.0",
      "_model_name": "LayoutModel",
      "_view_count": null,
      "_view_module": "@jupyter-widgets/base",
      "_view_module_version": "1.2.0",
      "_view_name": "LayoutView",
      "align_content": null,
      "align_items": null,
      "align_self": null,
      "border": null,
      "bottom": null,
      "display": null,
      "flex": null,
      "flex_flow": null,
      "grid_area": null,
      "grid_auto_columns": null,
      "grid_auto_flow": null,
      "grid_auto_rows": null,
      "grid_column": null,
      "grid_gap": null,
      "grid_row": null,
      "grid_template_areas": null,
      "grid_template_columns": null,
      "grid_template_rows": null,
      "height": null,
      "justify_content": null,
      "justify_items": null,
      "left": null,
      "margin": null,
      "max_height": null,
      "max_width": null,
      "min_height": null,
      "min_width": null,
      "object_fit": null,
      "object_position": null,
      "order": null,
      "overflow": null,
      "overflow_x": null,
      "overflow_y": null,
      "padding": null,
      "right": null,
      "top": null,
      "visibility": null,
      "width": null
     }
    },
    "d8b5f59f214c4cfcae3bd3172f859d8d": {
     "model_module": "@jupyter-widgets/controls",
     "model_module_version": "1.5.0",
     "model_name": "ProgressStyleModel",
     "state": {
      "_model_module": "@jupyter-widgets/controls",
      "_model_module_version": "1.5.0",
      "_model_name": "ProgressStyleModel",
      "_view_count": null,
      "_view_module": "@jupyter-widgets/base",
      "_view_module_version": "1.2.0",
      "_view_name": "StyleView",
      "bar_color": null,
      "description_width": ""
     }
    },
    "d91787001d2747ba99ab40883cefd758": {
     "model_module": "@jupyter-widgets/base",
     "model_module_version": "1.2.0",
     "model_name": "LayoutModel",
     "state": {
      "_model_module": "@jupyter-widgets/base",
      "_model_module_version": "1.2.0",
      "_model_name": "LayoutModel",
      "_view_count": null,
      "_view_module": "@jupyter-widgets/base",
      "_view_module_version": "1.2.0",
      "_view_name": "LayoutView",
      "align_content": null,
      "align_items": null,
      "align_self": null,
      "border": null,
      "bottom": null,
      "display": null,
      "flex": null,
      "flex_flow": null,
      "grid_area": null,
      "grid_auto_columns": null,
      "grid_auto_flow": null,
      "grid_auto_rows": null,
      "grid_column": null,
      "grid_gap": null,
      "grid_row": null,
      "grid_template_areas": null,
      "grid_template_columns": null,
      "grid_template_rows": null,
      "height": null,
      "justify_content": null,
      "justify_items": null,
      "left": null,
      "margin": null,
      "max_height": null,
      "max_width": null,
      "min_height": null,
      "min_width": null,
      "object_fit": null,
      "object_position": null,
      "order": null,
      "overflow": null,
      "overflow_x": null,
      "overflow_y": null,
      "padding": null,
      "right": null,
      "top": null,
      "visibility": null,
      "width": null
     }
    },
    "d9cf0165537f458291b8a47b79e68973": {
     "model_module": "@jupyter-widgets/base",
     "model_module_version": "1.2.0",
     "model_name": "LayoutModel",
     "state": {
      "_model_module": "@jupyter-widgets/base",
      "_model_module_version": "1.2.0",
      "_model_name": "LayoutModel",
      "_view_count": null,
      "_view_module": "@jupyter-widgets/base",
      "_view_module_version": "1.2.0",
      "_view_name": "LayoutView",
      "align_content": null,
      "align_items": null,
      "align_self": null,
      "border": null,
      "bottom": null,
      "display": null,
      "flex": null,
      "flex_flow": null,
      "grid_area": null,
      "grid_auto_columns": null,
      "grid_auto_flow": null,
      "grid_auto_rows": null,
      "grid_column": null,
      "grid_gap": null,
      "grid_row": null,
      "grid_template_areas": null,
      "grid_template_columns": null,
      "grid_template_rows": null,
      "height": null,
      "justify_content": null,
      "justify_items": null,
      "left": null,
      "margin": null,
      "max_height": null,
      "max_width": null,
      "min_height": null,
      "min_width": null,
      "object_fit": null,
      "object_position": null,
      "order": null,
      "overflow": null,
      "overflow_x": null,
      "overflow_y": null,
      "padding": null,
      "right": null,
      "top": null,
      "visibility": null,
      "width": null
     }
    },
    "e1892ab6f23246dfbbc11afe676fcc27": {
     "model_module": "@jupyter-widgets/controls",
     "model_module_version": "1.5.0",
     "model_name": "HTMLModel",
     "state": {
      "_dom_classes": [],
      "_model_module": "@jupyter-widgets/controls",
      "_model_module_version": "1.5.0",
      "_model_name": "HTMLModel",
      "_view_count": null,
      "_view_module": "@jupyter-widgets/controls",
      "_view_module_version": "1.5.0",
      "_view_name": "HTMLView",
      "description": "",
      "description_tooltip": null,
      "layout": "IPY_MODEL_683017d06ecc4fc194608c7b8c2a997a",
      "placeholder": "​",
      "style": "IPY_MODEL_d17436870a3c45088fe31db97f3df1df",
      "value": "config.json: 100%"
     }
    },
    "e59d0cb38f6e4cc892f64b7e678049a7": {
     "model_module": "@jupyter-widgets/controls",
     "model_module_version": "1.5.0",
     "model_name": "DescriptionStyleModel",
     "state": {
      "_model_module": "@jupyter-widgets/controls",
      "_model_module_version": "1.5.0",
      "_model_name": "DescriptionStyleModel",
      "_view_count": null,
      "_view_module": "@jupyter-widgets/base",
      "_view_module_version": "1.2.0",
      "_view_name": "StyleView",
      "description_width": ""
     }
    },
    "e742edaf1cad49d2bb203dcd19c41545": {
     "model_module": "@jupyter-widgets/controls",
     "model_module_version": "1.5.0",
     "model_name": "ProgressStyleModel",
     "state": {
      "_model_module": "@jupyter-widgets/controls",
      "_model_module_version": "1.5.0",
      "_model_name": "ProgressStyleModel",
      "_view_count": null,
      "_view_module": "@jupyter-widgets/base",
      "_view_module_version": "1.2.0",
      "_view_name": "StyleView",
      "bar_color": null,
      "description_width": ""
     }
    },
    "e7a5c7e4b8b149859edc0ec8209435dc": {
     "model_module": "@jupyter-widgets/base",
     "model_module_version": "1.2.0",
     "model_name": "LayoutModel",
     "state": {
      "_model_module": "@jupyter-widgets/base",
      "_model_module_version": "1.2.0",
      "_model_name": "LayoutModel",
      "_view_count": null,
      "_view_module": "@jupyter-widgets/base",
      "_view_module_version": "1.2.0",
      "_view_name": "LayoutView",
      "align_content": null,
      "align_items": null,
      "align_self": null,
      "border": null,
      "bottom": null,
      "display": null,
      "flex": null,
      "flex_flow": null,
      "grid_area": null,
      "grid_auto_columns": null,
      "grid_auto_flow": null,
      "grid_auto_rows": null,
      "grid_column": null,
      "grid_gap": null,
      "grid_row": null,
      "grid_template_areas": null,
      "grid_template_columns": null,
      "grid_template_rows": null,
      "height": null,
      "justify_content": null,
      "justify_items": null,
      "left": null,
      "margin": null,
      "max_height": null,
      "max_width": null,
      "min_height": null,
      "min_width": null,
      "object_fit": null,
      "object_position": null,
      "order": null,
      "overflow": null,
      "overflow_x": null,
      "overflow_y": null,
      "padding": null,
      "right": null,
      "top": null,
      "visibility": null,
      "width": null
     }
    },
    "e8412d24e9b54c3a961e8ba9a0285eb1": {
     "model_module": "@jupyter-widgets/controls",
     "model_module_version": "1.5.0",
     "model_name": "FloatProgressModel",
     "state": {
      "_dom_classes": [],
      "_model_module": "@jupyter-widgets/controls",
      "_model_module_version": "1.5.0",
      "_model_name": "FloatProgressModel",
      "_view_count": null,
      "_view_module": "@jupyter-widgets/controls",
      "_view_module_version": "1.5.0",
      "_view_name": "ProgressView",
      "bar_style": "success",
      "description": "",
      "description_tooltip": null,
      "layout": "IPY_MODEL_b92c51be7383417fa55883b6f8cb8982",
      "max": 2353,
      "min": 0,
      "orientation": "horizontal",
      "style": "IPY_MODEL_e742edaf1cad49d2bb203dcd19c41545",
      "value": 2353
     }
    },
    "f7b73bdaa3c4415882805ef520187430": {
     "model_module": "@jupyter-widgets/controls",
     "model_module_version": "1.5.0",
     "model_name": "FloatProgressModel",
     "state": {
      "_dom_classes": [],
      "_model_module": "@jupyter-widgets/controls",
      "_model_module_version": "1.5.0",
      "_model_name": "FloatProgressModel",
      "_view_count": null,
      "_view_module": "@jupyter-widgets/controls",
      "_view_module_version": "1.5.0",
      "_view_name": "ProgressView",
      "bar_style": "success",
      "description": "",
      "description_tooltip": null,
      "layout": "IPY_MODEL_87efb85fb33e4f61af79dff8f4615453",
      "max": 101,
      "min": 0,
      "orientation": "horizontal",
      "style": "IPY_MODEL_d8b5f59f214c4cfcae3bd3172f859d8d",
      "value": 101
     }
    },
    "fbce326773024f79b201c2fd94032f5a": {
     "model_module": "@jupyter-widgets/controls",
     "model_module_version": "1.5.0",
     "model_name": "DescriptionStyleModel",
     "state": {
      "_model_module": "@jupyter-widgets/controls",
      "_model_module_version": "1.5.0",
      "_model_name": "DescriptionStyleModel",
      "_view_count": null,
      "_view_module": "@jupyter-widgets/base",
      "_view_module_version": "1.2.0",
      "_view_name": "StyleView",
      "description_width": ""
     }
    }
   }
  }
 },
 "nbformat": 4,
 "nbformat_minor": 0
}
